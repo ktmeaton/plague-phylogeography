{
 "cells": [
  {
   "cell_type": "markdown",
   "metadata": {},
   "source": [
    "# Tree Parse"
   ]
  },
  {
   "cell_type": "markdown",
   "metadata": {},
   "source": [
    "---\n",
    "## Objectives"
   ]
  },
  {
   "cell_type": "markdown",
   "metadata": {},
   "source": [
    "1. Convert newick tree to PhyloXML format.\n",
    "1. Convert tree to data frame.\n",
    "1. Add metadata to PhyloXML and data frame."
   ]
  },
  {
   "cell_type": "markdown",
   "metadata": {},
   "source": [
    "---\n",
    "## Setup"
   ]
  },
  {
   "cell_type": "markdown",
   "metadata": {},
   "source": [
    "### Module Imports"
   ]
  },
  {
   "cell_type": "code",
   "execution_count": 1,
   "metadata": {},
   "outputs": [],
   "source": [
    "import pandas as pd\n",
    "\n",
    "from Bio import Phylo\n",
    "\n",
    "import os\n",
    "import copy"
   ]
  },
  {
   "cell_type": "markdown",
   "metadata": {},
   "source": [
    "### Input File Paths"
   ]
  },
  {
   "cell_type": "code",
   "execution_count": 2,
   "metadata": {},
   "outputs": [],
   "source": [
    "tree_path = \"../../docs/results/latest/iqtree/iqtree-core_chromosome.filter5.treefile\"\n",
    "#tree_path = \"../../results/iqtree/all/iqtree-core_chromosome.filter50.treefile\"\n",
    "metadata_path = \"../../docs/results/latest/metadata/metadata.txt\"\n",
    "outdir = \"../../docs/results/latest/parse_tree\"\n",
    "\n",
    "# Create output directory if it doesn't exist\n",
    "if not os.path.exists(outdir):\n",
    "    os.mkdir(outdir)"
   ]
  },
  {
   "cell_type": "markdown",
   "metadata": {},
   "source": [
    "### Variables"
   ]
  },
  {
   "cell_type": "code",
   "execution_count": 3,
   "metadata": {},
   "outputs": [],
   "source": [
    "# Branch Support Thresholds (from IQTREE docs)\n",
    "ALRT_THRESH = 80\n",
    "UFBOOT_THRESH = 95\n",
    "\n",
    "BRANCH_LEN_SIG_DIG = 12\n",
    "\n",
    "NAME_COL = \"Sample\"\n",
    "NO_DATA_CHAR = \"NA\"\n",
    "\n",
    "LOW_COL = \"black\"\n",
    "HIGH_COL = \"red\"\n",
    "TERM_COL = \"grey\""
   ]
  },
  {
   "cell_type": "markdown",
   "metadata": {},
   "source": [
    "---\n",
    "## 1. Convert tree to PhyloXML format"
   ]
  },
  {
   "cell_type": "code",
   "execution_count": 4,
   "metadata": {},
   "outputs": [
    {
     "data": {
      "text/plain": [
       "1"
      ]
     },
     "execution_count": 4,
     "metadata": {},
     "output_type": "execute_result"
    }
   ],
   "source": [
    "tmp_xml = os.path.join(outdir, \"temp.xml\")\n",
    "Phylo.convert(tree_path, \"newick\", tmp_xml, \"phyloxml\")"
   ]
  },
  {
   "cell_type": "markdown",
   "metadata": {},
   "source": [
    "## 2. Convert tree to dataframe"
   ]
  },
  {
   "cell_type": "markdown",
   "metadata": {},
   "source": [
    "### Read in XML tree"
   ]
  },
  {
   "cell_type": "code",
   "execution_count": 5,
   "metadata": {},
   "outputs": [],
   "source": [
    "# Read in the new tree\n",
    "tree = Phylo.read(tmp_xml, \"phyloxml\")\n",
    "\n",
    "# Deepest nodes first\n",
    "tree.ladderize(reverse=True)"
   ]
  },
  {
   "cell_type": "markdown",
   "metadata": {},
   "source": [
    "### Fix node names and confidences"
   ]
  },
  {
   "cell_type": "code",
   "execution_count": 6,
   "metadata": {},
   "outputs": [],
   "source": [
    "# Counter for integer node names\n",
    "node_i = 0\n",
    "\n",
    "# Iterate through the nodes in the tree\n",
    "for c in tree.find_clades():\n",
    "    if not c.name: continue\n",
    "    name_split = c.name.split(\"/\")\n",
    "    # Check if the name has 'accidentally' become the confidence vals\n",
    "    alrt_val = NO_DATA_CHAR\n",
    "    ufboot_val = NO_DATA_CHAR\n",
    "    \n",
    "    if len(name_split) == 2:\n",
    "        # Name the internal node\n",
    "        c.name = \"NODE\" + str(node_i)    \n",
    "\n",
    "        # Assign confidence values\n",
    "        alrt_val = float(name_split[0])        \n",
    "        ufboot_val = float(name_split[1])\n",
    "        \n",
    "    else:\n",
    "        alrt_val = NO_DATA_CHAR\n",
    "        ufboot_val = NO_DATA_CHAR\n",
    "\n",
    "    alrt_conf = Phylo.PhyloXML.Confidence(alrt_val, type=\"alrt\")\n",
    "    ufboot_conf = Phylo.PhyloXML.Confidence(ufboot_val, type=\"ufboot\")\n",
    "    \n",
    "    c.confidences.append(alrt_conf)\n",
    "    c.confidences.append(ufboot_conf)\n",
    "        \n",
    "    # Increment node counter\n",
    "    node_i += 1"
   ]
  },
  {
   "cell_type": "markdown",
   "metadata": {},
   "source": [
    "### Initialize the tree dataframe"
   ]
  },
  {
   "cell_type": "code",
   "execution_count": 7,
   "metadata": {
    "scrolled": true
   },
   "outputs": [
    {
     "name": "stdout",
     "output_type": "stream",
     "text": [
      "               UFboot  aLRT Branch_Length Branch_Support_Color coord_x coord_y\n",
      "Name                                                                          \n",
      "NODE0             100   100             0                   NA      NA      NA\n",
      "NODE1             100  99.9    5.2248e-06                   NA      NA      NA\n",
      "NODE2             100   100   1.82301e-05                   NA      NA      NA\n",
      "NODE3             100   100    1.0679e-05                   NA      NA      NA\n",
      "NODE4             100  97.9     2.123e-06                   NA      NA      NA\n",
      "...               ...   ...           ...                  ...     ...     ...\n",
      "SAMEA104233049     NA    NA     1.871e-07                   NA      NA      NA\n",
      "SAMEA104233047     NA    NA     4.923e-07                   NA      NA      NA\n",
      "SAMEA104233050     NA    NA     1.006e-06                   NA      NA      NA\n",
      "SAMEA104233046     NA    NA    2.7607e-06                   NA      NA      NA\n",
      "SAMEA3541827       NA    NA    3.8915e-06                   NA      NA      NA\n",
      "\n",
      "[1019 rows x 6 columns]\n"
     ]
    }
   ],
   "source": [
    "# initialize empty dataframe\n",
    "tree_df = pd.DataFrame(columns = [\n",
    "    \"Name\",\n",
    "    \"UFboot\", \n",
    "    \"aLRT\", \n",
    "    \"Branch_Length\", \n",
    "    \"Branch_Support_Color\", \n",
    "    \"coord_x\", \n",
    "    \"coord_y\",]\n",
    ")\n",
    "\n",
    "for c in tree.find_clades():\n",
    "    if not c.name: continue\n",
    "    if not c.branch_length: c.branch_length = 0\n",
    "    \n",
    "    node_data = {\n",
    "        \"Name\" : c.name,\n",
    "        \"UFboot\" : [conf.value for conf in c.confidences if conf.type==\"ufboot\"][0],\n",
    "        \"aLRT\" :  [conf.value for conf in c.confidences if conf.type==\"alrt\"][0],\n",
    "        \"Branch_Support_Color\" :  NO_DATA_CHAR,\n",
    "        \"Branch_Length\" :  c.branch_length,\n",
    "        \"coord_x\" :  NO_DATA_CHAR,\n",
    "        \"coord_y\" :  NO_DATA_CHAR,\n",
    "    }\n",
    "    \n",
    "    tree_df = tree_df.append(node_data, ignore_index=True)\n",
    "\n",
    "# Set the index to the node name\n",
    "tree_df.set_index(\"Name\", inplace=True)\n",
    "\n",
    "print(tree_df)"
   ]
  },
  {
   "cell_type": "markdown",
   "metadata": {},
   "source": [
    "### Add plotting x and y coordinates of each node"
   ]
  },
  {
   "cell_type": "code",
   "execution_count": 8,
   "metadata": {},
   "outputs": [
    {
     "name": "stdout",
     "output_type": "stream",
     "text": [
      "               UFboot  aLRT Branch_Length Branch_Support_Color      coord_x  \\\n",
      "Name                                                                          \n",
      "NODE0             100   100             0                   NA            0   \n",
      "NODE1             100  99.9    5.2248e-06                   NA   5.2248e-06   \n",
      "NODE2             100   100   1.82301e-05                   NA  2.34549e-05   \n",
      "NODE3             100   100    1.0679e-05                   NA  3.41339e-05   \n",
      "NODE4             100  97.9     2.123e-06                   NA  3.62569e-05   \n",
      "...               ...   ...           ...                  ...          ...   \n",
      "SAMEA104233049     NA    NA     1.871e-07                   NA  3.70928e-05   \n",
      "SAMEA104233047     NA    NA     4.923e-07                   NA  2.50576e-05   \n",
      "SAMEA104233050     NA    NA     1.006e-06                   NA   1.5829e-05   \n",
      "SAMEA104233046     NA    NA    2.7607e-06                   NA  1.64692e-05   \n",
      "SAMEA3541827       NA    NA    3.8915e-06                   NA   3.8915e-06   \n",
      "\n",
      "                coord_y  \n",
      "Name                     \n",
      "NODE0           507.024  \n",
      "NODE1           491.048  \n",
      "NODE2           466.597  \n",
      "NODE3           431.816  \n",
      "NODE4           398.239  \n",
      "...                 ...  \n",
      "SAMEA104233049      519  \n",
      "SAMEA104233047      520  \n",
      "SAMEA104233050      521  \n",
      "SAMEA104233046      522  \n",
      "SAMEA3541827        523  \n",
      "\n",
      "[1019 rows x 6 columns]\n"
     ]
    }
   ],
   "source": [
    "# This code is from the biopython Phylo module\n",
    "\n",
    "def get_x_positions(tree):\n",
    "    \"\"\"Create a mapping of each clade to its horizontal position.\n",
    "    Dict of {clade: x-coord}\n",
    "    \"\"\"\n",
    "    depths = tree.depths()\n",
    "    # If there are no branch lengths, assume unit branch lengths\n",
    "    if not max(depths.values()):\n",
    "        depths = tree.depths(unit_branch_lengths=True)\n",
    "    return depths\n",
    "\n",
    "def get_y_positions(tree):\n",
    "    \"\"\"Create a mapping of each clade to its vertical position.\n",
    "    Dict of {clade: y-coord}.\n",
    "    Coordinates are negative, and integers for tips.\n",
    "    \"\"\"\n",
    "    maxheight = tree.count_terminals()\n",
    "    # Rows are defined by the tips\n",
    "    heights = {\n",
    "        tip: maxheight - i for i, tip in enumerate(reversed(tree.get_terminals()))\n",
    "    }\n",
    "\n",
    "    # Internal nodes: place at midpoint of children\n",
    "    def calc_row(clade):\n",
    "        for subclade in clade:\n",
    "            if subclade not in heights:\n",
    "                calc_row(subclade)\n",
    "        # Closure over heights\n",
    "        heights[clade] = (\n",
    "            heights[clade.clades[0]] + heights[clade.clades[-1]]\n",
    "        ) / 2.0\n",
    "\n",
    "    if tree.root.clades:\n",
    "        calc_row(tree.root)\n",
    "    return heights\n",
    "\n",
    "x_posns = get_x_positions(tree)\n",
    "y_posns = get_y_positions(tree)\n",
    "\n",
    "# Add x and y coordinates as other attributes\n",
    "for c in tree.find_clades():\n",
    "    if not c.name: continue\n",
    "    # x coordinates will be of branch length units\n",
    "    coord_x = [value for key,value in x_posns.items() if key.name == c.name][0]\n",
    "    # y coordinates will be arbitrary, based on number of tips\n",
    "    coord_y = [value for key,value in y_posns.items() if key.name == c.name][0]\n",
    "    # Add data to tree dataframe\n",
    "    tree_df.at[c.name, 'coord_x'] = coord_x\n",
    "    tree_df.at[c.name, 'coord_y'] = coord_y\n",
    "    \n",
    "    # Store them as other attributes\n",
    "    #other_coord_x = Phylo.PhyloXML.Other(tag=\"coord_x\", value=\"{:.10f}\".format(coord_x), namespace=\"coord\")\n",
    "    #other_coord_y = Phylo.PhyloXML.Other(tag=\"coord_y\", value=\"{:.10f}\".format(coord_y), namespace=\"coord\")   \n",
    "    # Add data to tree\n",
    "    #c.other.append(other_coord_x)\n",
    "    #c.other.append(other_coord_y)\n",
    "\n",
    "print(tree_df)"
   ]
  },
  {
   "cell_type": "markdown",
   "metadata": {},
   "source": [
    "### Add branch support color"
   ]
  },
  {
   "cell_type": "code",
   "execution_count": 9,
   "metadata": {},
   "outputs": [
    {
     "name": "stdout",
     "output_type": "stream",
     "text": [
      "Name\n",
      "NODE0              red\n",
      "NODE1              red\n",
      "NODE2              red\n",
      "NODE3              red\n",
      "NODE4              red\n",
      "                  ... \n",
      "SAMEA104233049    grey\n",
      "SAMEA104233047    grey\n",
      "SAMEA104233050    grey\n",
      "SAMEA104233046    grey\n",
      "SAMEA3541827      grey\n",
      "Name: Branch_Support_Color, Length: 1019, dtype: object\n"
     ]
    }
   ],
   "source": [
    "for c in tree.find_clades():   \n",
    "    if not c.name: continue\n",
    "    # Default Color\n",
    "    branch_color = LOW_COL\n",
    "    # Terminal branches will be grey\n",
    "    if c.is_terminal():\n",
    "        branch_color = TERM_COL\n",
    "    # High support branches\n",
    "    alrt_val = tree_df[\"aLRT\"][c.name]\n",
    "    ufboot_val = tree_df[\"UFboot\"][c.name]\n",
    "    if alrt_val != \"NA\" and ufboot_val != \"NA\":\n",
    "        if alrt_val >= ALRT_THRESH and ufboot_val >= UFBOOT_THRESH:\n",
    "            branch_color = HIGH_COL\n",
    "    tree_df.at[c.name, \"Branch_Support_Color\"] = branch_color            \n",
    "    # Store branch color as an other attribute\n",
    "    #other_branch_color = Phylo.PhyloXML.Other(tag=\"branch-support\", value=branch_color, namespace=\"color\")\n",
    "    #c.other.append(other_branch_color)\n",
    "\n",
    "print(tree_df[\"Branch_Support_Color\"])"
   ]
  },
  {
   "cell_type": "markdown",
   "metadata": {},
   "source": [
    "### Parse metadata into df"
   ]
  },
  {
   "cell_type": "code",
   "execution_count": 10,
   "metadata": {},
   "outputs": [
    {
     "name": "stdout",
     "output_type": "stream",
     "text": [
      "                                    Strain  Date DateBP  \\\n",
      "Sample                                                    \n",
      "GCA_009669545.1_ASM966954v1_genomic  42126  2006    -15   \n",
      "GCA_009669555.1_ASM966955v1_genomic  42123  2005    -16   \n",
      "GCA_009669565.1_ASM966956v1_genomic  42118  2005    -16   \n",
      "GCA_009669605.1_ASM966960v1_genomic  42117  2005    -16   \n",
      "GCA_009669625.1_ASM966962v1_genomic  42116  2005    -16   \n",
      "...                                    ...   ...    ...   \n",
      "IP283                                IP283  1994    -27   \n",
      "IP562                                IP562  1947    -74   \n",
      "IP542                                IP542  1952    -69   \n",
      "IP543                                IP543  1953    -68   \n",
      "IP557                                IP557  1963    -58   \n",
      "\n",
      "                                                              Country  \\\n",
      "Sample                                                                  \n",
      "GCA_009669545.1_ASM966954v1_genomic                             China   \n",
      "GCA_009669555.1_ASM966955v1_genomic                             China   \n",
      "GCA_009669565.1_ASM966956v1_genomic                             China   \n",
      "GCA_009669605.1_ASM966960v1_genomic                             China   \n",
      "GCA_009669625.1_ASM966962v1_genomic                             China   \n",
      "...                                                               ...   \n",
      "IP283                                                           India   \n",
      "IP562                                                            Iran   \n",
      "IP542                                                           Kenya   \n",
      "IP543                                Democratic Republic of the Congo   \n",
      "IP557                                                            Iran   \n",
      "\n",
      "                                      Province CountryLat CountryLon  \\\n",
      "Sample                                                                 \n",
      "GCA_009669545.1_ASM966954v1_genomic   Xinjiang    35.0001        105   \n",
      "GCA_009669555.1_ASM966955v1_genomic   Xinjiang    35.0001        105   \n",
      "GCA_009669565.1_ASM966956v1_genomic   Xinjiang    35.0001        105   \n",
      "GCA_009669605.1_ASM966960v1_genomic   Xinjiang    35.0001        105   \n",
      "GCA_009669625.1_ASM966962v1_genomic   Xinjiang    35.0001        105   \n",
      "...                                        ...        ...        ...   \n",
      "IP283                                  Gujarat    22.3511    78.6677   \n",
      "IP562                                Kurdistan    32.6475    54.5644   \n",
      "IP542                                       NA    1.44197    38.4314   \n",
      "IP543                                       NA   -2.98143    23.8223   \n",
      "IP557                                Kurdistan    32.6475    54.5644   \n",
      "\n",
      "                                    ProvinceLat ProvinceLon      Biovar  \\\n",
      "Sample                                                                    \n",
      "GCA_009669545.1_ASM966954v1_genomic     42.4805     85.4633     Antiqua   \n",
      "GCA_009669555.1_ASM966955v1_genomic     42.4805     85.4633     Antiqua   \n",
      "GCA_009669565.1_ASM966956v1_genomic     42.4805     85.4633     Antiqua   \n",
      "GCA_009669605.1_ASM966960v1_genomic     42.4805     85.4633     Antiqua   \n",
      "GCA_009669625.1_ASM966962v1_genomic     42.4805     85.4633     Antiqua   \n",
      "...                                         ...         ...         ...   \n",
      "IP283                                    22.385     71.7453  Orientalis   \n",
      "IP562                                   35.6728     47.0124  Medievalis   \n",
      "IP542                                        NA          NA     Antiqua   \n",
      "IP543                                        NA          NA     Antiqua   \n",
      "IP557                                   35.6728     47.0124  Medievalis   \n",
      "\n",
      "                                    Branch_Major Branch_Minor     BioSample  \n",
      "Sample                                                                       \n",
      "GCA_009669545.1_ASM966954v1_genomic        0.ANT       0.ANT1  SAMN07722925  \n",
      "GCA_009669555.1_ASM966955v1_genomic        0.ANT       0.ANT1  SAMN07722924  \n",
      "GCA_009669565.1_ASM966956v1_genomic        0.ANT       0.ANT1  SAMN07722923  \n",
      "GCA_009669605.1_ASM966960v1_genomic        0.ANT       0.ANT1  SAMN07722922  \n",
      "GCA_009669625.1_ASM966962v1_genomic        0.ANT       0.ANT1  SAMN07722921  \n",
      "...                                          ...          ...           ...  \n",
      "IP283                                      1.ORI       1.ORI3         IP283  \n",
      "IP562                                      2.MED       2.MED1         IP562  \n",
      "IP542                                      1.ANT       1.ANT1         IP542  \n",
      "IP543                                      1.ANT       1.ANT1         IP543  \n",
      "IP557                                      2.MED       2.MED1         IP557  \n",
      "\n",
      "[522 rows x 13 columns]\n"
     ]
    }
   ],
   "source": [
    "# Parse the metadata\n",
    "metadata_df = pd.read_csv(metadata_path, sep='\\t')\n",
    "\n",
    "# Fix the problem with multiple forms of NA in the table\n",
    "# Consolidate missing data to the NO_DATA_CHAR\n",
    "metadata_df.fillna(NO_DATA_CHAR, inplace=True)\n",
    "\n",
    "# Tell treetime which column is the taxon name\n",
    "#if NAME_COL in metadata_df.columns:\n",
    "#    taxon_name = NAME_COL\n",
    "\n",
    "# set the metadata index\n",
    "metadata_df.set_index(NAME_COL, inplace=True)\n",
    "print(metadata_df)"
   ]
  },
  {
   "cell_type": "markdown",
   "metadata": {},
   "source": [
    "### Add metadata to tree and tree dataframe"
   ]
  },
  {
   "cell_type": "code",
   "execution_count": 11,
   "metadata": {},
   "outputs": [
    {
     "name": "stdout",
     "output_type": "stream",
     "text": [
      "               UFboot  aLRT Branch_Length Branch_Support_Color      coord_x  \\\n",
      "Name                                                                          \n",
      "NODE0             100   100             0                  red            0   \n",
      "NODE1             100  99.9    5.2248e-06                  red   5.2248e-06   \n",
      "NODE2             100   100   1.82301e-05                  red  2.34549e-05   \n",
      "NODE3             100   100    1.0679e-05                  red  3.41339e-05   \n",
      "NODE4             100  97.9     2.123e-06                  red  3.62569e-05   \n",
      "...               ...   ...           ...                  ...          ...   \n",
      "SAMEA104233049     NA    NA     1.871e-07                 grey  3.70928e-05   \n",
      "SAMEA104233047     NA    NA     4.923e-07                 grey  2.50576e-05   \n",
      "SAMEA104233050     NA    NA     1.006e-06                 grey   1.5829e-05   \n",
      "SAMEA104233046     NA    NA    2.7607e-06                 grey  1.64692e-05   \n",
      "SAMEA3541827       NA    NA    3.8915e-06                 grey   3.8915e-06   \n",
      "\n",
      "                coord_y       Strain           Date         DateBP    Country  \\\n",
      "Name                                                                            \n",
      "NODE0           507.024           NA             NA             NA         NA   \n",
      "NODE1           491.048           NA             NA             NA         NA   \n",
      "NODE2           466.597           NA             NA             NA         NA   \n",
      "NODE3           431.816           NA             NA             NA         NA   \n",
      "NODE4           398.239           NA             NA             NA         NA   \n",
      "...                 ...          ...            ...            ...        ...   \n",
      "SAMEA104233049      519  1343UnTal85  [-2396:-2148]  [-4417:-4169]    Germany   \n",
      "SAMEA104233047      520     KunilaII  [-2574:-2340]  [-4595:-4361]    Estonia   \n",
      "SAMEA104233050      521        GEN72  [-2883:-2642]  [-4904:-4663]    Croatia   \n",
      "SAMEA104233046      522   Gyvakarai1  [-2621:-2472]  [-4642:-4493]  Lithuania   \n",
      "SAMEA3541827        523      RISE509  [-2876:-2677]  [-4897:-4698]     Russia   \n",
      "\n",
      "                             Province CountryLat CountryLon ProvinceLat  \\\n",
      "Name                                                                      \n",
      "NODE0                              NA         NA         NA          NA   \n",
      "NODE1                              NA         NA         NA          NA   \n",
      "NODE2                              NA         NA         NA          NA   \n",
      "NODE3                              NA         NA         NA          NA   \n",
      "NODE4                              NA         NA         NA          NA   \n",
      "...                               ...        ...        ...         ...   \n",
      "SAMEA104233049                Bavaria    51.0834    10.4234     48.9468   \n",
      "SAMEA104233047          Pärnu maakond    58.7524    25.3319     58.3195   \n",
      "SAMEA104233050  Osijek-Baranja County    45.5643    17.0119     45.5411   \n",
      "SAMEA104233046       Panevezys County      55.35      23.75     55.9156   \n",
      "SAMEA3541827         Krasnoyarsk Krai    64.6863    97.7453     63.3234   \n",
      "\n",
      "               ProvinceLon             Biovar Branch_Major Branch_Minor  \\\n",
      "Name                                                                      \n",
      "NODE0                   NA                 NA           NA           NA   \n",
      "NODE1                   NA                 NA           NA           NA   \n",
      "NODE2                   NA                 NA           NA           NA   \n",
      "NODE3                   NA                 NA           NA           NA   \n",
      "NODE4                   NA                 NA           NA           NA   \n",
      "...                    ...                ...          ...          ...   \n",
      "SAMEA104233049     11.4039  Bronze Age Plague   Bronze Age   Bronze Age   \n",
      "SAMEA104233047     24.3026  Bronze Age Plague   Bronze Age   Bronze Age   \n",
      "SAMEA104233050     18.4385  Bronze Age Plague   Bronze Age   Bronze Age   \n",
      "SAMEA104233046     25.0312  Bronze Age Plague   Bronze Age   Bronze Age   \n",
      "SAMEA3541827        97.098  Bronze Age Plague   Bronze Age   Bronze Age   \n",
      "\n",
      "                     BioSample  \n",
      "Name                            \n",
      "NODE0                       NA  \n",
      "NODE1                       NA  \n",
      "NODE2                       NA  \n",
      "NODE3                       NA  \n",
      "NODE4                       NA  \n",
      "...                        ...  \n",
      "SAMEA104233049  SAMEA104233049  \n",
      "SAMEA104233047  SAMEA104233047  \n",
      "SAMEA104233050  SAMEA104233050  \n",
      "SAMEA104233046  SAMEA104233046  \n",
      "SAMEA3541827      SAMEA3541827  \n",
      "\n",
      "[1019 rows x 19 columns]\n"
     ]
    }
   ],
   "source": [
    "# Iterate through the different metadata attributes\n",
    "for attr in metadata_df.columns:\n",
    "    # Initialize an empty column for the attribute\n",
    "    tree_df[attr] = [NO_DATA_CHAR for row in range(0,len(tree_df))]\n",
    "    # Iterate over the nodes in the tree\n",
    "    for c in tree.find_clades():\n",
    "        # Initialize to empty\n",
    "        attr_val = NO_DATA_CHAR\n",
    "        # If the node shows up in the metadata\n",
    "        if c.name in metadata_df.index:\n",
    "            tree_df.at[c.name, attr] = metadata_df[attr][c.name]\n",
    "            attr_val = metadata_df[attr][c.name]         \n",
    "        # Store the metadata as a clade attribute\n",
    "        #other_meta = Phylo.PhyloXML.Other(tag=attr, value=str(attr_val), namespace=\"meta\")   \n",
    "        #c.other.append(other_meta)\n",
    "print(tree_df)"
   ]
  },
  {
   "cell_type": "markdown",
   "metadata": {},
   "source": [
    "### Save tree and tree dataframe"
   ]
  },
  {
   "cell_type": "code",
   "execution_count": 12,
   "metadata": {},
   "outputs": [
    {
     "data": {
      "text/plain": [
       "1"
      ]
     },
     "execution_count": 12,
     "metadata": {},
     "output_type": "execute_result"
    }
   ],
   "source": [
    "out_path_df = os.path.join(outdir, \"parse_tree.tsv\" )\n",
    "tree_df.to_csv(out_path_df, sep=\"\\t\")\n",
    "\n",
    "out_path_xml = os.path.join(outdir, \"parse_tree.xml\" )\n",
    "out_path_nwk = os.path.join(outdir, \"parse_tree.nwk\" )\n",
    "out_path_nexus = os.path.join(outdir, \"parse_tree.nexus\" )\n",
    "Phylo.write(tree, out_path_xml, 'phyloxml')\n",
    "Phylo.write(tree, out_path_nwk, 'newick', format_branch_length='%1.{}f'.format(BRANCH_LEN_SIG_DIG))\n",
    "Phylo.write(tree, out_path_nexus, 'nexus', format_branch_length='%1.{}f'.format(BRANCH_LEN_SIG_DIG))"
   ]
  },
  {
   "cell_type": "markdown",
   "metadata": {},
   "source": [
    "---\n",
    "## Cleanup"
   ]
  },
  {
   "cell_type": "code",
   "execution_count": 13,
   "metadata": {},
   "outputs": [],
   "source": [
    "os.remove(tmp_xml)"
   ]
  },
  {
   "cell_type": "code",
   "execution_count": null,
   "metadata": {},
   "outputs": [],
   "source": []
  }
 ],
 "metadata": {
  "kernelspec": {
   "display_name": "Python 3",
   "language": "python",
   "name": "python3"
  },
  "language_info": {
   "codemirror_mode": {
    "name": "ipython",
    "version": 3
   },
   "file_extension": ".py",
   "mimetype": "text/x-python",
   "name": "python",
   "nbconvert_exporter": "python",
   "pygments_lexer": "ipython3",
   "version": "3.7.3"
  }
 },
 "nbformat": 4,
 "nbformat_minor": 4
}
