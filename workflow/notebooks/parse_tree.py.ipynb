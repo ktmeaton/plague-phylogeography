{
 "cells": [
  {
   "cell_type": "markdown",
   "metadata": {},
   "source": [
    "---\n",
    "# Objectives\n",
    "\n",
    "1. Convert newick tree to PhyloXML format.\n",
    "1. Fixes internal node names from an IQTREE tree. \n",
    "   - internal nodes by default get named the confidence (ex. \"99/100\")\n",
    "   - this notebook instead gives them the name NODEi where i is an integer starting from 0.\n",
    "   - NODE0 therefore becomes the root.\n",
    "1. Convert tree to data frame.\n",
    "1. Combine metadata with tree data frame.\n",
    "1. Export:\n",
    "   - Tree (newick, nexus, phyloxml)\n",
    "   - Tree Dataframe (tsv)\n",
    "   - Color mapping (tsv)\n",
    "   - Lat Lon Mapping (tsv)\n",
    "   - Augur JSON\n",
    "   - Auspice JSON"
   ]
  },
  {
   "cell_type": "markdown",
   "metadata": {},
   "source": [
    "---\n",
    "# Setup"
   ]
  },
  {
   "cell_type": "markdown",
   "metadata": {},
   "source": [
    "## Module Imports"
   ]
  },
  {
   "cell_type": "code",
   "execution_count": null,
   "metadata": {},
   "outputs": [],
   "source": [
    "# stats and plotting\n",
    "import pandas as pd\n",
    "from matplotlib import colors, gridspec\n",
    "import math\n",
    "\n",
    "# Phylogenetics\n",
    "from Bio import Phylo\n",
    "import treetime # Clock filter tips\n",
    "\n",
    "# System misc\n",
    "\n",
    "import time # Augur export\n",
    "import os\n",
    "import copy\n",
    "from augur import utils, export_v2\n",
    "import json\n",
    "\n",
    "# Logging to file\n",
    "import sys\n",
    "import io\n",
    "\n",
    "# Writing python objects to file\n",
    "import dill"
   ]
  },
  {
   "cell_type": "markdown",
   "metadata": {},
   "source": [
    "## Variables"
   ]
  },
  {
   "cell_type": "code",
   "execution_count": null,
   "metadata": {},
   "outputs": [],
   "source": [
    "from config import *\n",
    "\n",
    "# Custom script variables\n",
    "SCRIPT_NAME = \"parse_tree\"\n",
    "\n",
    "WILDCARDS = snakemake.wildcards\n",
    "# TESTING\n",
    "# WILDCARDS = [\"all\", \"chromosome\", \"5\"]\n",
    "READS_ORIGIN = WILDCARDS[0]\n",
    "LOCUS_NAME = WILDCARDS[1]\n",
    "MISSING_DATA = WILDCARDS[2]\n",
    "\n",
    "NAME_COL = \"Sample\""
   ]
  },
  {
   "cell_type": "markdown",
   "metadata": {},
   "source": [
    "## Input File Paths"
   ]
  },
  {
   "cell_type": "code",
   "execution_count": null,
   "metadata": {},
   "outputs": [],
   "source": [
    "project_dir = os.getcwd()\n",
    "# TESTING\n",
    "# project_dir = os.path.dirname(os.path.dirname(project_dir))\n",
    "config_dir = os.path.join(project_dir, \"config\")\n",
    "results_dir = os.path.join(project_dir, \"results\")\n",
    "outdir = os.path.join(results_dir, \n",
    "                      SCRIPT_NAME,\n",
    "                      READS_ORIGIN, \n",
    "                      LOCUS_NAME + \"_filter{}\".format(MISSING_DATA),\n",
    "                     )\n",
    "\n",
    "tree_path = os.path.join(\n",
    "    results_dir, \n",
    "    \"iqtree\", \n",
    "    READS_ORIGIN, \n",
    "    \"iqtree-core_{}.filter{}_post.cf.tree\".format(LOCUS_NAME, MISSING_DATA)\n",
    ")\n",
    "\n",
    "metadata_path = os.path.join(\n",
    "    results_dir,\n",
    "    \"metadata\",\n",
    "    READS_ORIGIN,\n",
    "    \"metadata.tsv\"\n",
    ")\n",
    "\n",
    "aln_path = os.path.join(\n",
    "    results_dir,\n",
    "    \"snippy_multi\",\n",
    "    READS_ORIGIN,\n",
    "    \"snippy-core_{}.snps.filter{}.aln\".format(LOCUS_NAME, MISSING_DATA)\n",
    ")\n",
    "\n",
    "auspice_config_path = os.path.join(config_dir, \"auspice_config.json\")\n",
    "auspice_remote_dir_path = os.path.join(project_dir, \"auspice/\")\n",
    "\n",
    "print(\"tree_path:\", tree_path)\n",
    "print(\"metadata_path:\", metadata_path)\n",
    "print(\"aln path:\", aln_path)\n",
    "print(\"auspice_config_path:\", auspice_config_path)\n",
    "print(\"auspice_remote_dir_path:\", auspice_remote_dir_path)\n",
    "print(\"outdir:\", outdir)\n",
    "# Create output directory if it doesn't exist\n",
    "if not os.path.exists(outdir):\n",
    "    os.mkdir(outdir)"
   ]
  },
  {
   "cell_type": "markdown",
   "metadata": {},
   "source": [
    "## Import Metadata Dataframe"
   ]
  },
  {
   "cell_type": "code",
   "execution_count": null,
   "metadata": {},
   "outputs": [],
   "source": [
    "# Parse the metadata\n",
    "metadata_df = pd.read_csv(metadata_path, sep='\\t')\n",
    "\n",
    "# Fix the problem with multiple forms of NA in the table\n",
    "# Consolidate missing data to the NO_DATA_CHAR\n",
    "metadata_df.fillna(NO_DATA_CHAR, inplace=True)\n",
    "\n",
    "# set the metadata index\n",
    "metadata_df.set_index(NAME_COL, inplace=True)\n",
    "\n",
    "metadata_df"
   ]
  },
  {
   "cell_type": "markdown",
   "metadata": {},
   "source": [
    "---\n",
    "# 1. Convert tree to PhyloXML format"
   ]
  },
  {
   "cell_type": "code",
   "execution_count": null,
   "metadata": {},
   "outputs": [],
   "source": [
    "tmp_xml = os.path.join(outdir, \"temp.xml\")\n",
    "Phylo.convert(tree_path, \"newick\", tmp_xml, \"phyloxml\")"
   ]
  },
  {
   "cell_type": "markdown",
   "metadata": {},
   "source": [
    "---\n",
    "# 2. Fix internal node names"
   ]
  },
  {
   "cell_type": "markdown",
   "metadata": {},
   "source": [
    "## Read in XML tree"
   ]
  },
  {
   "cell_type": "code",
   "execution_count": null,
   "metadata": {},
   "outputs": [],
   "source": [
    "# Read in the new tree\n",
    "tree = Phylo.read(tmp_xml, \"phyloxml\")\n",
    "\n",
    "# Deepest nodes first\n",
    "tree.ladderize(reverse=False)"
   ]
  },
  {
   "cell_type": "markdown",
   "metadata": {},
   "source": [
    "## Fix node names and confidences"
   ]
  },
  {
   "cell_type": "code",
   "execution_count": null,
   "metadata": {},
   "outputs": [],
   "source": [
    "# Counter for integer node names\n",
    "node_i = 0\n",
    "\n",
    "# Iterate through the nodes in the tree\n",
    "for c in tree.find_clades():\n",
    "    # Check if the name has 'accidentally' become the confidence vals\n",
    "    ufboot_val = NO_DATA_CHAR    \n",
    "    scf_val = NO_DATA_CHAR\n",
    "    # If it's a named node, parse it\n",
    "    if c.name:\n",
    "        name_split = c.name.split(\"/\")\n",
    "        \n",
    "        # Check if the name has 'accidentally' become the confidence vals\n",
    "        if len(name_split) > 1:\n",
    "            # Name the internal node\n",
    "            c.name = \"NODE\" + str(node_i)    \n",
    "\n",
    "            # Assign confidence values     \n",
    "            ufboot_val = float(name_split[0])\n",
    "            scf_val = float(name_split[1])\n",
    "    # If it's not a named node, give it a name\n",
    "    else:\n",
    "        c.name = \"NODE\" + str(node_i) \n",
    "        # The one and only confidence is \"unknown\" and if UFboot\n",
    "        ufboot_val = c.confidences[0].value\n",
    "        c.confidences = []\n",
    "        \n",
    "    \n",
    "    ufboot_conf = Phylo.PhyloXML.Confidence(ufboot_val, type=\"ufboot\")\n",
    "    scf_conf = Phylo.PhyloXML.Confidence(scf_val, type=\"scf\")\n",
    "    \n",
    "    c.confidences.append(ufboot_conf)\n",
    "    c.confidences.append(scf_conf)\n",
    "        \n",
    "    # Increment node counter if not a terminal\n",
    "    if not c.is_terminal():\n",
    "        node_i += 1"
   ]
  },
  {
   "cell_type": "markdown",
   "metadata": {},
   "source": [
    "---\n",
    "# 3. Convert tree to dataframe"
   ]
  },
  {
   "cell_type": "markdown",
   "metadata": {},
   "source": [
    "## Initialize the tree dataframe"
   ]
  },
  {
   "cell_type": "code",
   "execution_count": null,
   "metadata": {
    "scrolled": true
   },
   "outputs": [],
   "source": [
    "# initialize empty dataframe\n",
    "tree_df = pd.DataFrame(columns = [\n",
    "    \"Name\",\n",
    "    \"UFboot\", \n",
    "    \"sCF\", \n",
    "    \"Branch_Length\", \n",
    "    \"Branch_Support_Color\", \n",
    "    \"coord_x\", \n",
    "    \"coord_y\",]\n",
    ")\n",
    "\n",
    "for c in tree.find_clades():\n",
    "    if not c.branch_length: c.branch_length = 0.0\n",
    "    \n",
    "    node_data = {\n",
    "        \"Name\" : c.name,\n",
    "        \"UFboot\" : [conf.value for conf in c.confidences if conf.type==\"ufboot\"][0],\n",
    "        \"sCF\" :  [conf.value for conf in c.confidences if conf.type==\"scf\"][0],\n",
    "        \"Branch_Support_Color\" :  NO_DATA_CHAR,\n",
    "        \"Branch_Length\" :  c.branch_length,\n",
    "        \"coord_x\" :  NO_DATA_CHAR,\n",
    "        \"coord_y\" :  NO_DATA_CHAR,\n",
    "    }\n",
    "    \n",
    "    tree_df = tree_df.append(node_data, ignore_index=True)\n",
    "\n",
    "# Set the index to the node name\n",
    "tree_df.set_index(\"Name\", inplace=True)\n",
    "\n",
    "# Visualize data frame\n",
    "tree_df"
   ]
  },
  {
   "cell_type": "markdown",
   "metadata": {},
   "source": [
    "## Add plotting x and y coordinates of each node"
   ]
  },
  {
   "cell_type": "code",
   "execution_count": null,
   "metadata": {},
   "outputs": [],
   "source": [
    "x_posns = get_x_positions(tree)\n",
    "y_posns = get_y_positions(tree)\n",
    "\n",
    "# Add x and y coordinates as other attributes\n",
    "for c in tree.find_clades():\n",
    "    # x coordinates will be of branch length units\n",
    "    coord_x = [value for key,value in x_posns.items() if key.name == c.name][0]\n",
    "    # y coordinates will be arbitrary, based on number of tips\n",
    "    coord_y = [value for key,value in y_posns.items() if key.name == c.name][0]\n",
    "    # Add data to tree dataframe\n",
    "    tree_df.at[c.name, 'coord_x'] = coord_x\n",
    "    tree_df.at[c.name, 'coord_y'] = coord_y    \n",
    "\n",
    "# Visualize dataframe\n",
    "tree_df"
   ]
  },
  {
   "cell_type": "markdown",
   "metadata": {},
   "source": [
    "## Add branch support color"
   ]
  },
  {
   "cell_type": "code",
   "execution_count": null,
   "metadata": {},
   "outputs": [],
   "source": [
    "for c in tree.find_clades():   \n",
    "    # Default Color\n",
    "    branch_color = LOW_COL\n",
    "    # Terminal branches will be grey\n",
    "    if c.is_terminal():\n",
    "        branch_color = TERM_COL\n",
    "    # High support branches\n",
    "    ufboot_val = tree_df[\"UFboot\"][c.name]\n",
    "    scf_val = tree_df[\"sCF\"][c.name]\n",
    "    if scf_val != NO_DATA_CHAR and ufboot_val != NO_DATA_CHAR:\n",
    "        if scf_val >= SCF_THRESH and ufboot_val >= UFBOOT_THRESH:\n",
    "            branch_color = HIGH_COL\n",
    "    tree_df.at[c.name, \"Branch_Support_Color\"] = branch_color            \n",
    "\n",
    "tree_df"
   ]
  },
  {
   "cell_type": "markdown",
   "metadata": {},
   "source": [
    "---\n",
    "# 5. Combine metadata into tree dataframe"
   ]
  },
  {
   "cell_type": "markdown",
   "metadata": {},
   "source": [
    "## Parse metadata into df"
   ]
  },
  {
   "cell_type": "code",
   "execution_count": null,
   "metadata": {
    "scrolled": true
   },
   "outputs": [],
   "source": [
    "# Parse the metadata\n",
    "metadata_df = pd.read_csv(metadata_path, sep='\\t')\n",
    "\n",
    "# Fix the problem with multiple forms of NA in the table\n",
    "# Consolidate missing data to the NO_DATA_CHAR\n",
    "metadata_df.fillna(NO_DATA_CHAR, inplace=True)\n",
    "\n",
    "# set the metadata index\n",
    "metadata_df.set_index(NAME_COL, inplace=True)\n",
    "\n",
    "metadata_df"
   ]
  },
  {
   "cell_type": "markdown",
   "metadata": {},
   "source": [
    "## Add metadata to tree and tree dataframe"
   ]
  },
  {
   "cell_type": "code",
   "execution_count": null,
   "metadata": {},
   "outputs": [],
   "source": [
    "# Iterate through the different metadata attributes\n",
    "for attr in metadata_df.columns:\n",
    "    # Initialize an empty column for the attribute\n",
    "    tree_df[attr] = [NO_DATA_CHAR for row in range(0,len(tree_df))]\n",
    "    # Iterate over the nodes in the tree\n",
    "    for c in tree.find_clades():\n",
    "        # Initialize to empty\n",
    "        attr_val = NO_DATA_CHAR\n",
    "        # If the node shows up in the metadata\n",
    "        if c.name in metadata_df.index:\n",
    "            tree_df.at[c.name, attr] = metadata_df[attr][c.name]\n",
    "            attr_val = metadata_df[attr][c.name]         \n",
    "\n",
    "tree_df"
   ]
  },
  {
   "cell_type": "markdown",
   "metadata": {},
   "source": [
    "## Add Reference Metadata"
   ]
  },
  {
   "cell_type": "code",
   "execution_count": null,
   "metadata": {},
   "outputs": [],
   "source": [
    "for col in tree_df.columns:\n",
    "    if col in REF_META:\n",
    "        tree_df.at[\"Reference\", col] = REF_META[col]"
   ]
  },
  {
   "cell_type": "markdown",
   "metadata": {},
   "source": [
    "## Make NA values consistent"
   ]
  },
  {
   "cell_type": "code",
   "execution_count": null,
   "metadata": {},
   "outputs": [],
   "source": [
    "# Fix the problem with multiple forms of NA in the table\n",
    "# Consolidate missing data to the NO_DATA_CHAR\n",
    "tree_df.fillna(NO_DATA_CHAR, inplace=True)"
   ]
  },
  {
   "cell_type": "markdown",
   "metadata": {},
   "source": [
    "# ?. Add Metadata As Node Comments"
   ]
  },
  {
   "cell_type": "code",
   "execution_count": null,
   "metadata": {},
   "outputs": [],
   "source": [
    "for c in tree.find_clades():\n",
    "    c.comment = \"\"\n",
    "    for col in tree_df.columns:\n",
    "        col_val = tree_df[col][c.name]   \n",
    "        # Test for non ascii\n",
    "        if type(col_val) == str and not col_val.isascii():\n",
    "            col_val = col_val.encode(\"unicode_escape\")     \n",
    "        # Add comment\n",
    "        if not hasattr(c, \"comment\") or not c.comment:\n",
    "            c.comment = \"&{}={}\".format(col, col_val)\n",
    "        else:\n",
    "            c.comment += \",{}={}\".format(col, col_val)"
   ]
  },
  {
   "cell_type": "markdown",
   "metadata": {},
   "source": [
    "---\n",
    "# 6. Export"
   ]
  },
  {
   "cell_type": "markdown",
   "metadata": {},
   "source": [
    "## Objects"
   ]
  },
  {
   "cell_type": "markdown",
   "metadata": {},
   "source": [
    "## Save tree and tree dataframe"
   ]
  },
  {
   "cell_type": "code",
   "execution_count": null,
   "metadata": {},
   "outputs": [],
   "source": [
    "# Dataframe\n",
    "out_path_df = os.path.join(outdir, SCRIPT_NAME + \".tsv\" )\n",
    "out_path_pickle_df = os.path.join(outdir,  SCRIPT_NAME + \".df.obj\" )\n",
    "\n",
    "tree_df.to_csv(out_path_df, sep=\"\\t\")\n",
    "with open(out_path_pickle_df,\"wb\") as outfile:\n",
    "    dill.dump(tree_df, outfile)\n",
    "\n",
    "# Phyloxml\n",
    "out_path_xml = os.path.join(outdir,  SCRIPT_NAME + \".xml\" )\n",
    "Phylo.write(tree, out_path_xml, 'phyloxml')\n",
    "\n",
    "# Nexus\n",
    "out_path_nexus = os.path.join(outdir, SCRIPT_NAME + \".nexus\" )\n",
    "Phylo.write(tree, out_path_nexus, 'nexus', format_branch_length='%1.{}f'.format(BRANCH_LEN_SIG_DIG))\n",
    "\n",
    "# Dill object\n",
    "out_path_dill_tree = os.path.join(outdir,  SCRIPT_NAME + \".phylo.obj\" )\n",
    "with open(out_path_dill_tree,\"wb\") as outfile:\n",
    "    dill.dump(tree, outfile)\n",
    "    \n",
    "# Newick (remove comments)\n",
    "for c in tree.find_clades(): c.comment = None\n",
    "out_path_nwk = os.path.join(outdir, SCRIPT_NAME + \".nwk\" )\n",
    "Phylo.write(tree, out_path_nwk, 'newick', format_branch_length='%1.{}f'.format(BRANCH_LEN_SIG_DIG))"
   ]
  },
  {
   "cell_type": "markdown",
   "metadata": {},
   "source": [
    "## Save lat and lon\n",
    "\n",
    "Write an output tsv that is:  \n",
    "resolution   name   lat    lon"
   ]
  },
  {
   "cell_type": "code",
   "execution_count": null,
   "metadata": {},
   "outputs": [],
   "source": [
    "latlon_dict = {\"Country\": {}, \"Province\": {}}\n",
    "out_path_lat_lon = os.path.join(outdir, SCRIPT_NAME + \"_latlon.tsv\")\n",
    "\n",
    "# Columns in data frame will be ex: CountryLat, CountryLon\n",
    "for c in tree.find_clades():\n",
    "    # Iterate through each geographic level\n",
    "    for level in latlon_dict:\n",
    "        # Store the location name\n",
    "        loc = tree_df[level][c.name]\n",
    "        # If the node has location data and is new\n",
    "        if loc != NO_DATA_CHAR and loc not in latlon_dict[level]:\n",
    "            latlon_dict[level][loc] = {}\n",
    "            latlon_dict[level][loc][\"lat\"] = tree_df[level + \"Lat\"][c.name]\n",
    "            latlon_dict[level][loc][\"lon\"] = tree_df[level + \"Lon\"][c.name]\n",
    "\n",
    "with open(out_path_lat_lon, \"w\") as outfile:\n",
    "    for level in latlon_dict:\n",
    "        for loc in latlon_dict[level]:\n",
    "            outfile.write(level.lower() + \"\\t\"\n",
    "                         + loc + \"\\t\"\n",
    "                         + str(latlon_dict[level][loc][\"lat\"]) + \"\\t\"\n",
    "                         + str(latlon_dict[level][loc][\"lon\"]) + \"\\n\"\n",
    "                 )\n",
    "\n",
    "# For clarity with auspice        \n",
    "auspice_latlons_path = out_path_lat_lon         "
   ]
  },
  {
   "cell_type": "markdown",
   "metadata": {},
   "source": [
    "## Save colors\n",
    "\n",
    "Write an output tsv that is:\n",
    "attribute   attribute_val   hex_color"
   ]
  },
  {
   "cell_type": "code",
   "execution_count": null,
   "metadata": {},
   "outputs": [],
   "source": [
    "out_path_colors = os.path.join(outdir, SCRIPT_NAME + \"_colors.tsv\")\n",
    "file_colors = open(out_path_colors, \"w\")\n",
    "\n",
    "hex_dict = {}\n",
    "\n",
    "for attr in ATTRIBUTE_LIST:\n",
    "    # Create the color map\n",
    "    attr_key = attr.lower()\n",
    "    hex_dict[attr_key] = {}\n",
    "    for t in tree.get_terminals():\n",
    "        attr_val = tree_df[attr][t.name]\n",
    "        if attr_val not in hex_dict[attr_key] and attr_val != NO_DATA_CHAR:\n",
    "            hex_dict[attr_key][attr_val] = {}\n",
    "            \n",
    "    # Create the custom color map (pyplot)\n",
    "    cmap = plt.get_cmap(CONT_COLOR_PAL, len(hex_dict[attr_key]))\n",
    "    # Convert the color map to a list of RGB values\n",
    "    cmaplist = [cmap(i) for i in range(cmap.N)]\n",
    "    # Convert RGB values to hex colors\n",
    "    attr_hex = [colors.to_hex(col) for col in cmaplist]\n",
    "    \n",
    "    # Assign colors to value\n",
    "    for attr_val, attr_col in zip(hex_dict[attr_key], attr_hex):\n",
    "        hex_dict[attr_key][attr_val] = attr_col   \n",
    "\n",
    "for attr_key in hex_dict:\n",
    "    for attr_val in hex_dict[attr_key]:\n",
    "        file_colors.write(str(attr_key) + \"\\t\" + str(attr_val) + \"\\t\" + str(hex_dict[attr_key][attr_val]) + \"\\n\")\n",
    "\n",
    "file_colors.close()        \n",
    "\n",
    "# For clarity with auspice\n",
    "auspice_colors_path = out_path_colors"
   ]
  },
  {
   "cell_type": "markdown",
   "metadata": {},
   "source": [
    "## Augur JSON\n",
    "\n",
    "  - alignment (empty)\n",
    "  - input_tree (tree_path)\n",
    "  - nodes (node_dict)\n"
   ]
  },
  {
   "cell_type": "code",
   "execution_count": null,
   "metadata": {},
   "outputs": [],
   "source": [
    "augur_dict = augur_export(\n",
    "    tree_path=out_path_nwk, \n",
    "    aln_path=aln_path, \n",
    "    tree=tree, \n",
    "    tree_df=tree_df, \n",
    "    color_keyword_exclude=[\"color\", \"coord\", \"lat\", \"lon\"],\n",
    "    type_convert = {\n",
    "        \"Branch_Number\" : (lambda x : str(x))\n",
    "    },\n",
    ")\n",
    "\n",
    "out_path_augur_json = os.path.join(outdir, SCRIPT_NAME + \"_augur.json\" )\n",
    "utils.write_json(data=augur_dict, file_name=out_path_augur_json, indent=JSON_INDENT)\n",
    "\n",
    "print(augur_dict[\"nodes\"][\"Reference\"])"
   ]
  },
  {
   "cell_type": "markdown",
   "metadata": {},
   "source": [
    "## Auspice JSON\n",
    "\n",
    "Manual edits of https://github.com/nextstrain/augur/blob/master/augur/export_v2.py\n",
    "\n",
    "This can then be used for auspice via:\n",
    "\n",
    "```\n",
    "HOST=\"localhost\" auspice view --datasetDir .\n",
    "```"
   ]
  },
  {
   "cell_type": "code",
   "execution_count": null,
   "metadata": {},
   "outputs": [],
   "source": [
    "auspice_dict = auspice_export(\n",
    "    tree=tree, \n",
    "    augur_json_paths=[out_path_augur_json], \n",
    "    auspice_config_path=auspice_config_path, \n",
    "    auspice_colors_path=auspice_colors_path,\n",
    "    auspice_latlons_path=auspice_latlons_path, \n",
    "    )\n",
    "\n",
    "# Write outputs - For Local Rendering\n",
    "out_path_auspice_local_json = os.path.join(outdir, SCRIPT_NAME + \"_auspice.json\" )\n",
    "utils.write_json(data=auspice_dict, file_name=out_path_auspice_local_json, indent=JSON_INDENT, include_version=False)\n",
    "export_v2.validate_data_json(out_path_auspice_local_json)\n",
    "print(\"Validation successful for local JSON.\")\n",
    "\n",
    "# Write outputs - For Remote Rendering\n",
    "out_path_auspice_remote_json = os.path.join(auspice_remote_dir_path, AUSPICE_PREFIX + SCRIPT_NAME.replace(\"_\",\"-\") + \".json\" )\n",
    "utils.write_json(data=auspice_dict, file_name=out_path_auspice_remote_json, indent=JSON_INDENT, include_version=False)\n",
    "export_v2.validate_data_json(out_path_auspice_remote_json)\n",
    "print(\"Validation successful for remote JSON.\")"
   ]
  },
  {
   "cell_type": "markdown",
   "metadata": {},
   "source": [
    "---\n",
    "## Cleanup"
   ]
  },
  {
   "cell_type": "code",
   "execution_count": null,
   "metadata": {},
   "outputs": [],
   "source": [
    "os.remove(tmp_xml)"
   ]
  }
 ],
 "metadata": {
  "kernelspec": {
   "display_name": "Python 3",
   "language": "python",
   "name": "python3"
  },
  "language_info": {
   "codemirror_mode": {
    "name": "ipython",
    "version": 3
   },
   "file_extension": ".py",
   "mimetype": "text/x-python",
   "name": "python",
   "nbconvert_exporter": "python",
   "pygments_lexer": "ipython3",
   "version": "3.7.3"
  }
 },
 "nbformat": 4,
 "nbformat_minor": 4
}
