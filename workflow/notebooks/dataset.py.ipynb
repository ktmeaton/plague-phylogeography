{
 "cells": [
  {
   "cell_type": "code",
   "execution_count": 60,
   "id": "collectible-letter",
   "metadata": {},
   "outputs": [],
   "source": [
    "import os\n",
    "import sqlite3\n",
    "import random\n",
    "\n",
    "random.seed(1234)"
   ]
  },
  {
   "cell_type": "code",
   "execution_count": 69,
   "id": "preliminary-tobago",
   "metadata": {},
   "outputs": [
    {
     "name": "stdout",
     "output_type": "stream",
     "text": [
      "2.MED1 ('SAMN15064036', 'modern')\n",
      "0.ANT1 ('SAMN02403002', 'modern')\n",
      "4.ANT1 ('SAMN05225370', 'modern')\n",
      "0.PE2 ('SAMN02403080', 'modern')\n",
      "2.MED0 ('SAMN12714485', 'modern')\n",
      "1.PRE1 ('SAMEA3713715', 'ancient')\n",
      "1.PRE0 ('SAMEA5818806', 'ancient')\n",
      "0.PE5 ('SAMN08625964', 'modern')\n",
      "0.ANT4 ('SAMEA1061800', 'ancient')\n",
      "1.ORI1 ('SAMN02141500', 'modern')\n",
      "0.ANT3 ('SAMN02403038', 'modern')\n",
      "2.ANT3 ('SAMN02403082', 'modern')\n",
      "1.ANT1 ('SAMN03256395', 'modern')\n",
      "1.ORI3 ('SAMN02470616', 'modern')\n",
      "2.MED2 ('SAMN02404402', 'modern')\n",
      "0.ANT2 ('SAMN02404401', 'modern')\n",
      "1.ORI2 ('SAMN02403077', 'modern')\n",
      "1.IN3 ('SAMN02403107', 'modern')\n",
      "1.PRE2 ('SAMEA5054090', 'ancient')\n",
      "0.PRE1 ('SAMEA104233047', 'ancient')\n",
      "0.PE8 ('SAMEA104488961', 'ancient')\n",
      "1.PRE3 ('SAMEA3937654', 'ancient')\n",
      "3.ANT2 ('SAMN02403099', 'modern')\n",
      "0.PE4 ('SAMN05150105', 'modern')\n",
      "0.ANT5 ('SAMN05162891', 'modern')\n",
      "2.ANT1 ('SAMN13021974', 'modern')\n",
      "1.IN2 ('SAMN02403071', 'modern')\n",
      "2.MED3 ('SAMN16205172', 'modern')\n",
      "1.IN1 ('SAMN02403033', 'modern')\n",
      "2.ANT2 ('SAMN13021949', 'modern')\n",
      "3.ANT1 ('SAMN02403051', 'modern')\n",
      "0.PE7 ('SAMN02403008', 'modern')\n",
      "0.PE10 ('SAMN02403015', 'modern')\n",
      "0.PRE2 ('SAMEA3541827', 'ancient')\n"
     ]
    }
   ],
   "source": [
    "project_dir = os.path.dirname(os.path.dirname(os.getcwd()))\n",
    "database = os.path.join(project_dir, \"results\", \"sqlite_db\", \"yersinia_pestis_db.sqlite\")\n",
    "\n",
    "query = \"\"\"\n",
    "    SELECT\n",
    "      BioSampleAccession,\n",
    "      BioSampleBranch,\n",
    "      BioSampleComment\n",
    "    FROM\n",
    "      BioSample\n",
    "    LEFT Join\n",
    "      Assembly ON BioSampleAccession==AssemblyBioSampleAccession\n",
    "    WHERE\n",
    "      BioSampleComment LIKE '%KEEP%' AND BioSampleComment NOT LIKE \"%Local%\"\n",
    "    \"\"\"\n",
    "    \n",
    "conn = sqlite3.connect(database)\n",
    "cur = conn.cursor()\n",
    "result = cur.execute(query).fetchall()\n",
    "\n",
    "# Create a mapping of branches to samples\n",
    "branch_dict = {}\n",
    "for rec in result:\n",
    "    accession = rec[0]\n",
    "    branch = rec[1]\n",
    "    comment = rec[2]\n",
    "    origin = \"ancient\" if \"Ancient\" in comment else \"modern\"\n",
    "    # Strip sub branches that are letter designations\n",
    "    while branch[-1].isalpha():\n",
    "        branch = branch[:-1]\n",
    "    if branch not in branch_dict:\n",
    "        branch_dict[branch] = []        \n",
    "    branch_dict[branch].append((accession, origin))        \n",
    "\n",
    "random_samples = {}\n",
    "# Randomly sample\n",
    "for branch in branch_dict:\n",
    "    sample = random.choice(branch_dict[branch])\n",
    "    random_samples[branch] = sample\n",
    "\n",
    "# print out\n",
    "for branch in random_samples:\n",
    "    print(branch, random_samples[branch])"
   ]
  },
  {
   "cell_type": "code",
   "execution_count": null,
   "id": "abandoned-jackson",
   "metadata": {},
   "outputs": [],
   "source": []
  }
 ],
 "metadata": {
  "kernelspec": {
   "display_name": "Python 3",
   "language": "python",
   "name": "python3"
  },
  "language_info": {
   "codemirror_mode": {
    "name": "ipython",
    "version": 3
   },
   "file_extension": ".py",
   "mimetype": "text/x-python",
   "name": "python",
   "nbconvert_exporter": "python",
   "pygments_lexer": "ipython3",
   "version": "3.7.3"
  }
 },
 "nbformat": 4,
 "nbformat_minor": 5
}
