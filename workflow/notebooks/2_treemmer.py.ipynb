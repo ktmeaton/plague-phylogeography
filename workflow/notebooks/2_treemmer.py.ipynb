{
 "cells": [
  {
   "cell_type": "markdown",
   "id": "august-width",
   "metadata": {},
   "source": [
    "# Objectives\n",
    "\n",
    "1. Reduce tree with treemmer.\n",
    "1. Add treemmer info to dataframe.\n",
    "1. Plot reduction"
   ]
  },
  {
   "cell_type": "markdown",
   "id": "eight-evidence",
   "metadata": {},
   "source": [
    "---\n",
    "# Setup"
   ]
  },
  {
   "cell_type": "markdown",
   "id": "activated-culture",
   "metadata": {},
   "source": [
    "## Module Imports"
   ]
  },
  {
   "cell_type": "code",
   "execution_count": 1,
   "id": "appropriate-management",
   "metadata": {},
   "outputs": [],
   "source": [
    "import os\n",
    "import matplotlib.pyplot as plt\n",
    "from matplotlib import gridspec\n",
    "from Bio import Phylo"
   ]
  },
  {
   "cell_type": "markdown",
   "id": "nutritional-overall",
   "metadata": {},
   "source": [
    "## Input Paths"
   ]
  },
  {
   "cell_type": "code",
   "execution_count": 12,
   "id": "adequate-permit",
   "metadata": {},
   "outputs": [
    {
     "name": "stderr",
     "output_type": "stream",
     "text": [
      "DEPRECATED: `should_run_async` will not call `transform_cell` automatically in the future. Please pass the result to `transformed_cell` argument and any exception that happen during thetransform in `preprocessing_exc_tuple` in IPython 7.17 and above.\n",
      "\n"
     ]
    }
   ],
   "source": [
    "tree_path = \"../../docs/results/latest/parse_tree/parse_tree.nwk\"\n",
    "aln_path = \"../../docs/results/latest/snippy_multi/snippy-core_chromosome.snps.filter5.aln\"\n",
    "tree_df_path = \"../../docs/results/latest/parse_tree/parse_tree.tsv\"\n",
    "treemmer_path = \"../scripts/Treemmer.py\"\n",
    "\n",
    "auspice_config_path = \"../../config/auspice_config.json\" \n",
    "auspice_colors_path=\"../../docs/results/latest/parse_tree/parse_tree_colors.tsv\"\n",
    "auspice_latlons_path=\"../../docs/results/latest/parse_tree/parse_tree_latlon.tsv\"\n",
    "auspice_remote_dir_path = \"../../auspice/\"\n",
    "\n",
    "outdir = \"../../docs/results/latest/treemmer\"\n",
    "\n",
    "# Create output directory if it doesn't exist\n",
    "if not os.path.exists(outdir):\n",
    "    os.mkdir(outdir)"
   ]
  },
  {
   "cell_type": "markdown",
   "id": "racial-grade",
   "metadata": {},
   "source": [
    "## Variables"
   ]
  },
  {
   "cell_type": "code",
   "execution_count": 3,
   "id": "wanted-hartford",
   "metadata": {},
   "outputs": [],
   "source": [
    "from config import *\n",
    "\n",
    "TREEMMER_SIZES = [200]\n",
    "TREEMMER_SIZES = [str(n) for n in TREEMMER_SIZES]\n",
    "\n",
    "SCRIPT_NAME = \"treemmer\""
   ]
  },
  {
   "cell_type": "markdown",
   "id": "requested-right",
   "metadata": {},
   "source": [
    "## Import Tree and Dataframe"
   ]
  },
  {
   "cell_type": "code",
   "execution_count": 4,
   "id": "alert-programming",
   "metadata": {},
   "outputs": [],
   "source": [
    "tree_pre = Phylo.read(tree_path, \"newick\")\n",
    "tree_pre.ladderize(reverse=False)\n",
    "\n",
    "tree_df = pd.read_csv(tree_df_path, sep='\\t')\n",
    "# Fix the problem with multiple forms of NA in the table\n",
    "# Consolidate missing data to the NO_DATA_CHAR\n",
    "tree_df.fillna(NO_DATA_CHAR, inplace=True)\n",
    "tree_df.set_index(\"Name\", inplace=True)"
   ]
  },
  {
   "cell_type": "markdown",
   "id": "organic-final",
   "metadata": {},
   "source": [
    "# 1. Reduce tree with treemmer"
   ]
  },
  {
   "cell_type": "code",
   "execution_count": null,
   "id": "opening-discount",
   "metadata": {},
   "outputs": [],
   "source": []
  },
  {
   "cell_type": "code",
   "execution_count": 5,
   "id": "living-reasoning",
   "metadata": {
    "scrolled": true
   },
   "outputs": [
    {
     "data": {
      "text/plain": [
       "'# Remove old treemmer results\\nold_treemmer_files = os.popen(\"ls {}*\".format(os.path.join(outdir,\"treemmer\"))).read().strip().split(\"\\n\")\\nfor file in old_treemmer_files:\\n    if not file: continue\\n    print(\"Deleting old treemmer file:\", file)\\n    os.remove(file)\\n    \\n# Copy over the tree to the new directory\\nout_path_tree = os.path.join(outdir, \"treemmer.nwk\")\\nos.system(\"cp {old_tree} {new_tree}\".format(old_tree = tree_path, new_tree = out_path_tree))\\n\\n#x = os.popen(\"ls \" + outdir).read().strip().split(\"\\n\")\\n# Run treemmer\\n# os.popen(\"python3 {treemmer} {tree}\".format(treemmer=treemmer_path, tree=out_path_tree)).read()\\nos.system(\"python3 {treemmer} {tree} --stop_at_X_leaves {stop} --verbose 0 --plot_complete\".format(treemmer=treemmer_path, \\n                                                                                                    tree=out_path_tree,\\n                                                                                                    stop=\" \".join(TREEMMER_SIZES)\\n                                                                                                   )\\n          )'"
      ]
     },
     "execution_count": 5,
     "metadata": {},
     "output_type": "execute_result"
    }
   ],
   "source": [
    "\"\"\"# Remove old treemmer results\n",
    "old_treemmer_files = os.popen(\"ls {}*\".format(os.path.join(outdir,\"treemmer\"))).read().strip().split(\"\\n\")\n",
    "for file in old_treemmer_files:\n",
    "    if not file: continue\n",
    "    print(\"Deleting old treemmer file:\", file)\n",
    "    os.remove(file)\n",
    "    \n",
    "# Copy over the tree to the new directory\n",
    "out_path_tree = os.path.join(outdir, \"treemmer.nwk\")\n",
    "os.system(\"cp {old_tree} {new_tree}\".format(old_tree = tree_path, new_tree = out_path_tree))\n",
    "\n",
    "#x = os.popen(\"ls \" + outdir).read().strip().split(\"\\n\")\n",
    "# Run treemmer\n",
    "# os.popen(\"python3 {treemmer} {tree}\".format(treemmer=treemmer_path, tree=out_path_tree)).read()\n",
    "os.system(\"python3 {treemmer} {tree} --stop_at_X_leaves {stop} --verbose 0 --plot_complete\".format(treemmer=treemmer_path, \n",
    "                                                                                                    tree=out_path_tree,\n",
    "                                                                                                    stop=\" \".join(TREEMMER_SIZES)\n",
    "                                                                                                   )\n",
    "          )\"\"\""
   ]
  },
  {
   "cell_type": "markdown",
   "id": "mineral-lounge",
   "metadata": {},
   "source": [
    "# 2. Edit Tree and Dataframe"
   ]
  },
  {
   "cell_type": "code",
   "execution_count": 6,
   "id": "armed-petersburg",
   "metadata": {},
   "outputs": [
    {
     "data": {
      "image/png": "[encoded data removed]",
      "text/plain": [
       "<Figure size 432x288 with 1 Axes>"
      ]
     },
     "metadata": {
      "needs_background": "light"
     },
     "output_type": "display_data"
    }
   ],
   "source": [
    "tree = Phylo.read(tree_path, \"newick\")\n",
    "tree.ladderize(reverse=False)\n",
    "\n",
    "tree_df = pd.read_csv(tree_df_path, sep='\\t')\n",
    "# Fix the problem with multiple forms of NA in the table\n",
    "# Consolidate missing data to the NO_DATA_CHAR\n",
    "tree_df.fillna(NO_DATA_CHAR, inplace=True)\n",
    "tree_df.set_index(\"Name\", inplace=True)\n",
    "\n",
    "treemmer_path = os.path.join(outdir, \"treemmer_trimmed_tree_X_200.nwk\")\n",
    "treemmer_tree = Phylo.read(treemmer_path, \"newick\")\n",
    "treemmer_tips = [t.name for t in treemmer_tree.get_terminals()]\n",
    "\n",
    "for t in tree.get_terminals():\n",
    "    \n",
    "    if t.name not in treemmer_tips:\n",
    "        # Remove tip from tree\n",
    "        tree.prune(t)\n",
    "        \n",
    "        # Remove sample from dataframe\n",
    "        tree_df.drop(t.name, inplace=True)\n",
    "\n",
    "Phylo.draw(tree, \n",
    "        show_confidence=False, \n",
    "        label_func = lambda x: '',\n",
    "        do_show=False,\n",
    "        )"
   ]
  },
  {
   "cell_type": "markdown",
   "id": "behavioral-visiting",
   "metadata": {},
   "source": [
    "---\n",
    "# 3. Plot"
   ]
  },
  {
   "cell_type": "code",
   "execution_count": 7,
   "id": "affected-voltage",
   "metadata": {},
   "outputs": [
    {
     "data": {
      "text/plain": [
       "'size = \"200\"\\ntree_post_path = os.path.join(outdir, \"treemmer_trimmed_tree_X_{}.nwk\".format(size))\\ntree_post = Phylo.read(tree_post_path, \"newick\")\\ntree_post.ladderize(reverse=False)\\n\\n#tree_post_tips_path = \\n\\n# Setup the figure\\nfig = plt.figure(dpi=dpi,\\n                 figsize=(figsize[0] * 1, figsize[1] * 1),\\n                 )\\n\\n# Setup the grid\\ngs = gridspec.GridSpec(2, 2, figure=fig, wspace=0.1)\\nax1 = fig.add_subplot(gs[0, 0])\\nax2 = fig.add_subplot(gs[0, 1])\\n\\n\\n# -----------------------------------------------------\\n# Axis 1: Phylogeny Pre-Filter\\n\\nfor c in tree_pre.get_terminals():\\n    if c.name not in tree_dict[size][\"tips\"]:\\n        c.color = \"red\"\\n\\nPhylo.draw(tree_pre, \\n        show_confidence=False, \\n        label_func = lambda x: \\'\\',\\n        do_show=False,\\n        axes=ax1)\\n\\n# Labels\\nax1.set_xlabel(\"Branch Length\")\\nax1.set_yticks([])\\nax1.set_ylabel(\\'\\')\\nnum_tips = len(tree_pre.get_terminals())\\nax1.set_title(\"Phylogeny Pre Filter (N={})\".format(num_tips))\\n\\n\\nPhylo.draw(tree_post, \\n        show_confidence=False, \\n        label_func = lambda x: \\'\\',\\n        do_show=False,\\n        axes=ax2)\\n\\n# Labels\\nax2.set_xlabel(\"Branch Length\")\\nax2.set_yticks([])\\nax2.set_ylabel(\\'\\')\\nnum_tips = len(tree_post.get_terminals())\\nax2.set_title(\"Phylogeny Post Filter (N={})\".format(num_tips))'"
      ]
     },
     "execution_count": 7,
     "metadata": {},
     "output_type": "execute_result"
    }
   ],
   "source": [
    "\"\"\"size = \"200\"\n",
    "tree_post_path = os.path.join(outdir, \"treemmer_trimmed_tree_X_{}.nwk\".format(size))\n",
    "tree_post = Phylo.read(tree_post_path, \"newick\")\n",
    "tree_post.ladderize(reverse=False)\n",
    "\n",
    "#tree_post_tips_path = \n",
    "\n",
    "# Setup the figure\n",
    "fig = plt.figure(dpi=dpi,\n",
    "                 figsize=(figsize[0] * 1, figsize[1] * 1),\n",
    "                 )\n",
    "\n",
    "# Setup the grid\n",
    "gs = gridspec.GridSpec(2, 2, figure=fig, wspace=0.1)\n",
    "ax1 = fig.add_subplot(gs[0, 0])\n",
    "ax2 = fig.add_subplot(gs[0, 1])\n",
    "\n",
    "\n",
    "# -----------------------------------------------------\n",
    "# Axis 1: Phylogeny Pre-Filter\n",
    "\n",
    "for c in tree_pre.get_terminals():\n",
    "    if c.name not in tree_dict[size][\"tips\"]:\n",
    "        c.color = \"red\"\n",
    "\n",
    "Phylo.draw(tree_pre, \n",
    "        show_confidence=False, \n",
    "        label_func = lambda x: '',\n",
    "        do_show=False,\n",
    "        axes=ax1)\n",
    "\n",
    "# Labels\n",
    "ax1.set_xlabel(\"Branch Length\")\n",
    "ax1.set_yticks([])\n",
    "ax1.set_ylabel('')\n",
    "num_tips = len(tree_pre.get_terminals())\n",
    "ax1.set_title(\"Phylogeny Pre Filter (N={})\".format(num_tips))\n",
    "\n",
    "\n",
    "Phylo.draw(tree_post, \n",
    "        show_confidence=False, \n",
    "        label_func = lambda x: '',\n",
    "        do_show=False,\n",
    "        axes=ax2)\n",
    "\n",
    "# Labels\n",
    "ax2.set_xlabel(\"Branch Length\")\n",
    "ax2.set_yticks([])\n",
    "ax2.set_ylabel('')\n",
    "num_tips = len(tree_post.get_terminals())\n",
    "ax2.set_title(\"Phylogeny Post Filter (N={})\".format(num_tips))\"\"\""
   ]
  },
  {
   "cell_type": "markdown",
   "id": "timely-economy",
   "metadata": {},
   "source": [
    "---\n",
    "# 2. Add treemmer info to dataframe"
   ]
  },
  {
   "cell_type": "markdown",
   "id": "objective-poster",
   "metadata": {},
   "source": [
    "---\n",
    "# Export"
   ]
  },
  {
   "cell_type": "markdown",
   "id": "apart-scale",
   "metadata": {},
   "source": [
    "## Save Tree and Dataframe"
   ]
  },
  {
   "cell_type": "code",
   "execution_count": 8,
   "id": "daily-keeping",
   "metadata": {},
   "outputs": [
    {
     "data": {
      "text/plain": [
       "1"
      ]
     },
     "execution_count": 8,
     "metadata": {},
     "output_type": "execute_result"
    }
   ],
   "source": [
    "out_path_df = os.path.join(outdir, SCRIPT_NAME + \".tsv\" )\n",
    "tree_df.to_csv(out_path_df, sep=\"\\t\")\n",
    "\n",
    "out_path_xml = os.path.join(outdir,  SCRIPT_NAME + \".xml\" )\n",
    "out_path_nwk = os.path.join(outdir, SCRIPT_NAME + \".nwk\" )\n",
    "out_path_nexus = os.path.join(outdir, SCRIPT_NAME + \".nexus\" )\n",
    "\n",
    "Phylo.write(tree, out_path_xml, 'phyloxml')\n",
    "Phylo.write(tree, out_path_nwk, 'newick', format_branch_length='%1.{}f'.format(BRANCH_LEN_SIG_DIG))\n",
    "Phylo.write(tree, out_path_nexus, 'nexus', format_branch_length='%1.{}f'.format(BRANCH_LEN_SIG_DIG))"
   ]
  },
  {
   "cell_type": "markdown",
   "id": "suitable-edmonton",
   "metadata": {},
   "source": [
    "## Augur JSON"
   ]
  },
  {
   "cell_type": "code",
   "execution_count": 9,
   "id": "gross-norman",
   "metadata": {},
   "outputs": [],
   "source": [
    "augur_dict = augur_export(\n",
    "    tree_path=out_path_nwk, \n",
    "    aln_path=aln_path, \n",
    "    tree=tree, \n",
    "    tree_df=tree_df, \n",
    "    color_keyword_exclude=[\"color\", \"coord\"],\n",
    "    type_convert = {\n",
    "        \"Branch_Number\" : (lambda x : str(x))\n",
    "    },\n",
    ")\n",
    "\n",
    "out_path_augur_json = os.path.join(outdir, SCRIPT_NAME + \"_augur.json\" )\n",
    "utils.write_json(data=augur_dict, file_name=out_path_augur_json, indent=JSON_INDENT)"
   ]
  },
  {
   "cell_type": "markdown",
   "id": "sized-slave",
   "metadata": {},
   "source": [
    "## Auspice JSON"
   ]
  },
  {
   "cell_type": "code",
   "execution_count": 13,
   "id": "controversial-connectivity",
   "metadata": {},
   "outputs": [
    {
     "name": "stdout",
     "output_type": "stream",
     "text": [
      "Validating schema of '../../config/auspice_config.json'...\n",
      "Validation success.\n"
     ]
    },
    {
     "name": "stderr",
     "output_type": "stream",
     "text": [
      "WARNING: You asked for a color-by for trait 'mugration_biovar', but it has no values on the tree. It has been ignored.\n",
      "\n",
      "WARNING: You asked for a color-by for trait 'mugration_branch_major', but it has no values on the tree. It has been ignored.\n",
      "\n",
      "WARNING: You asked for a color-by for trait 'mugration_branch_minor', but it has no values on the tree. It has been ignored.\n",
      "\n",
      "WARNING: You asked for a color-by for trait 'mugration_country', but it has no values on the tree. It has been ignored.\n",
      "\n",
      "WARNING: You asked for a color-by for trait 'mugration_province', but it has no values on the tree. It has been ignored.\n",
      "\n",
      "WARNING: [config file] Trait 'branch_number' is missing type information. We've guessed 'categorical'.\n",
      "\n",
      "WARNING: These values for trait branch_major were not specified in your provided color scale: na. Auspice will create colors for them.\n",
      "\n",
      "WARNING: These values for trait branch_minor were not specified in your provided color scale: na. Auspice will create colors for them.\n",
      "\n",
      "WARNING: These values for trait country were not specified in your provided color scale: na. Auspice will create colors for them.\n",
      "\n",
      "WARNING: These values for trait province were not specified in your provided color scale: na. Auspice will create colors for them.\n",
      "\n",
      "WARNING: You've specified a color scale for branch_number but none of the values found on the tree had associated colors. Auspice will generate its own color scale for this trait.\n",
      "\n",
      "WARNING: country->NA did not have an associated lat/long value (matching performed in lower case). Auspice won't be able to display this location.\n",
      "\n",
      "WARNING: province->NA did not have an associated lat/long value (matching performed in lower case). Auspice won't be able to display this location.\n",
      "\n"
     ]
    },
    {
     "name": "stdout",
     "output_type": "stream",
     "text": [
      "Validating produced JSON\n",
      "Validating schema of '../../docs/results/latest/treemmer/treemmer_auspice.json'...\n",
      "Validating that the JSON is internally consistent...\n",
      "Validation of '../../docs/results/latest/treemmer/treemmer_auspice.json' succeeded.\n",
      "Validation successful for local JSON.\n",
      "Validating produced JSON\n",
      "Validating schema of '../../auspice/plague-phylogeography_treemmer.json'...\n",
      "Validating that the JSON is internally consistent...\n",
      "Validation of '../../auspice/plague-phylogeography_treemmer.json' succeeded.\n",
      "Validation successful for remote JSON.\n"
     ]
    }
   ],
   "source": [
    "auspice_dict = auspice_export(\n",
    "    tree=tree, \n",
    "    augur_json_paths=[out_path_augur_json], \n",
    "    auspice_config_path=auspice_config_path, \n",
    "    auspice_colors_path=auspice_colors_path,\n",
    "    auspice_latlons_path=auspice_latlons_path, \n",
    "    )\n",
    "\n",
    "# Write outputs - For Local Rendering\n",
    "out_path_auspice_local_json = os.path.join(outdir, SCRIPT_NAME + \"_auspice.json\" )\n",
    "utils.write_json(data=auspice_dict, file_name=out_path_auspice_local_json, indent=JSON_INDENT, include_version=False)\n",
    "export_v2.validate_data_json(out_path_auspice_local_json)\n",
    "print(\"Validation successful for local JSON.\")\n",
    "\n",
    "# Write outputs - For Remote Rendering\n",
    "out_path_auspice_remote_json = os.path.join(auspice_remote_dir_path, AUSPICE_PREFIX + SCRIPT_NAME.replace(\"_\",\"-\") + \".json\" )\n",
    "utils.write_json(data=auspice_dict, file_name=out_path_auspice_remote_json, indent=JSON_INDENT, include_version=False)\n",
    "export_v2.validate_data_json(out_path_auspice_remote_json)\n",
    "print(\"Validation successful for remote JSON.\")"
   ]
  },
  {
   "cell_type": "code",
   "execution_count": null,
   "id": "comparative-particular",
   "metadata": {},
   "outputs": [],
   "source": []
  }
 ],
 "metadata": {
  "kernelspec": {
   "display_name": "Python 3",
   "language": "python",
   "name": "python3"
  },
  "language_info": {
   "codemirror_mode": {
    "name": "ipython",
    "version": 3
   },
   "file_extension": ".py",
   "mimetype": "text/x-python",
   "name": "python",
   "nbconvert_exporter": "python",
   "pygments_lexer": "ipython3",
   "version": "3.7.3"
  }
 },
 "nbformat": 4,
 "nbformat_minor": 5
}
