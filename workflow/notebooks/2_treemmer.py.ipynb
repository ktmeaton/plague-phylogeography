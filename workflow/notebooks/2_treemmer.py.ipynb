{
 "cells": [
  {
   "cell_type": "markdown",
   "id": "august-width",
   "metadata": {},
   "source": [
    "# Objectives\n",
    "\n",
    "1. Run Treemmer (Complete)\n",
    "1. Plot Taxa vs. RTL\n",
    "1. Run Treemmer (Target)\n",
    "1. Prune Tree, Dataframe, Alignment\n",
    "1. Plot Tree Comparison"
   ]
  },
  {
   "cell_type": "markdown",
   "id": "eight-evidence",
   "metadata": {},
   "source": [
    "---\n",
    "# Setup"
   ]
  },
  {
   "cell_type": "markdown",
   "id": "activated-culture",
   "metadata": {},
   "source": [
    "## Module Imports"
   ]
  },
  {
   "cell_type": "code",
   "execution_count": null,
   "id": "appropriate-management",
   "metadata": {},
   "outputs": [],
   "source": [
    "import os\n",
    "import matplotlib.pyplot as plt\n",
    "from matplotlib import gridspec\n",
    "from Bio import Phylo, Align, AlignIO\n",
    "import seaborn as sns\n",
    "import copy"
   ]
  },
  {
   "cell_type": "markdown",
   "id": "nutritional-overall",
   "metadata": {},
   "source": [
    "## Input Paths"
   ]
  },
  {
   "cell_type": "code",
   "execution_count": null,
   "id": "adequate-permit",
   "metadata": {},
   "outputs": [],
   "source": [
    "tree_path = \"../../docs/results/latest/parse_tree/parse_tree.nwk\"\n",
    "aln_path = \"../../docs/results/latest/snippy_multi/snippy-core_chromosome.snps.filter5.aln\"\n",
    "tree_df_path = \"../../docs/results/latest/metadata/metadata.tsv\"\n",
    "treemmer_path = \"../scripts/Treemmer.py\"\n",
    "\n",
    "auspice_config_path = \"../../config/auspice_config.json\" \n",
    "auspice_colors_path=\"../../docs/results/latest/parse_tree/parse_tree_colors.tsv\"\n",
    "auspice_latlons_path=\"../../docs/results/latest/parse_tree/parse_tree_latlon.tsv\"\n",
    "auspice_remote_dir_path = \"../../auspice/\"\n",
    "\n",
    "outdir = \"../../docs/results/latest/treemmer\"\n",
    "\n",
    "# Create output directory if it doesn't exist\n",
    "if not os.path.exists(outdir):\n",
    "    os.mkdir(outdir)"
   ]
  },
  {
   "cell_type": "markdown",
   "id": "racial-grade",
   "metadata": {},
   "source": [
    "## Variables"
   ]
  },
  {
   "cell_type": "code",
   "execution_count": null,
   "id": "wanted-hartford",
   "metadata": {},
   "outputs": [],
   "source": [
    "from config import *\n",
    "\n",
    "SCRIPT_NAME = \"treemmer\""
   ]
  },
  {
   "cell_type": "markdown",
   "id": "requested-right",
   "metadata": {},
   "source": [
    "## Import Tree and Dataframe"
   ]
  },
  {
   "cell_type": "code",
   "execution_count": null,
   "id": "alert-programming",
   "metadata": {},
   "outputs": [],
   "source": [
    "tree_pre = Phylo.read(tree_path, \"newick\")\n",
    "tree_pre.ladderize(reverse=False)\n",
    "\n",
    "tree_df = pd.read_csv(tree_df_path, sep='\\t')\n",
    "# Fix the problem with multiple forms of NA in the table\n",
    "# Consolidate missing data to the NO_DATA_CHAR\n",
    "tree_df.fillna(NO_DATA_CHAR, inplace=True)\n",
    "tree_df.set_index(\"Sample\", inplace=True)"
   ]
  },
  {
   "cell_type": "markdown",
   "id": "organic-final",
   "metadata": {},
   "source": [
    "---\n",
    "# 1. Run Treemmer (Complete)"
   ]
  },
  {
   "cell_type": "code",
   "execution_count": null,
   "id": "living-reasoning",
   "metadata": {
    "scrolled": true
   },
   "outputs": [],
   "source": [
    "# Remove old treemmer results\n",
    "old_treemmer_files = os.popen(\"ls {}*\".format(os.path.join(outdir,\"treemmer\"))).read().strip().split(\"\\n\")\n",
    "for file in old_treemmer_files:\n",
    "    if not file: continue\n",
    "    print(\"Deleting old treemmer file:\", file)\n",
    "    os.remove(file)\n",
    "    \n",
    "# Copy over the tree to the new directory\n",
    "out_path_tree = os.path.join(outdir, \"treemmer.nwk\")\n",
    "os.system(\"cp {old_tree} {new_tree}\".format(old_tree = tree_path, new_tree = out_path_tree))\n",
    "\n",
    "# Run treemmer\n",
    "os.system(\"python3 {treemmer} {tree} --verbose 0 --plot_complete\".format(treemmer=treemmer_path, tree=out_path_tree))"
   ]
  },
  {
   "cell_type": "markdown",
   "id": "asian-upper",
   "metadata": {},
   "source": [
    "## Create a dataframe for the output"
   ]
  },
  {
   "cell_type": "code",
   "execution_count": null,
   "id": "another-pocket",
   "metadata": {},
   "outputs": [],
   "source": [
    "treemmer_df_path = os.path.join(outdir, \"treemmer_res_1_LD.txt\")\n",
    "treemmer_df = pd.read_csv(treemmer_df_path, sep='\\t', header=None)\n",
    "treemmer_df.columns = [\"rtl\", \"taxa\"]\n",
    "treemmer_df"
   ]
  },
  {
   "cell_type": "markdown",
   "id": "mounted-retrieval",
   "metadata": {},
   "source": [
    "---\n",
    "# 2. Plot Taxa vs. RTL"
   ]
  },
  {
   "cell_type": "code",
   "execution_count": null,
   "id": "younger-richards",
   "metadata": {},
   "outputs": [],
   "source": [
    "target_taxa = max(treemmer_df[\"taxa\"])\n",
    "target_iloc = 0\n",
    "\n",
    "# Identify the number of taxa\n",
    "for rec in treemmer_df.iterrows():\n",
    "    iloc = rec[0]\n",
    "    rtl = rec[1][\"rtl\"]\n",
    "    taxa = rec[1][\"taxa\"] \n",
    "    # Stop once threshold is passed\n",
    "    if rtl >= TARGET_RTL:\n",
    "        target_taxa = taxa   \n",
    "        target_iloc = iloc\n",
    "    else:\n",
    "        break\n",
    "        \n",
    "# Setup the figure        \n",
    "fig, ax1 = plt.subplots(1, dpi=dpi, figsize=figsize)\n",
    "\n",
    "# Plot Taxa vs. RTL\n",
    "sns.scatterplot(data=treemmer_df, \n",
    "                x=\"taxa\", \n",
    "                y=\"rtl\", \n",
    "                color=\"black\", \n",
    "                s=2, \n",
    "                edgecolor=\"black\",\n",
    "                ax=ax1)\n",
    "\n",
    "# Plot the candidate point\n",
    "sns.scatterplot(data=treemmer_df.iloc[[target_iloc]], \n",
    "                x=\"taxa\", \n",
    "                y=\"rtl\")\n",
    "\n",
    "ax1.set_xlabel(\"Number of Tips\")\n",
    "ax1.set_ylabel(\"Relative Tree Length (RTL)\")\n",
    "\n",
    "\n",
    "ax1.set_xticks([t for t in range(0,max(treemmer_df[\"taxa\"]),50)])\n",
    "ax1.set_yticks([t/10 for t in range(0,11,1)])\n",
    "\n",
    "x_buffer = max(treemmer_df[\"taxa\"]) * 0.01\n",
    "y_buffer = max(treemmer_df[\"rtl\"]) * 0.01\n",
    "ax1.set_xlim(max(treemmer_df[\"taxa\"]) + x_buffer, 0 - x_buffer)\n",
    "\n",
    "ax1.axhline(TARGET_RTL, linestyle=\"--\")\n",
    "ax1.axvline(target_taxa, linestyle=\"--\")\n",
    "\n",
    "# Annotation\n",
    "ax1.annotate(\"Taxa: {}  RTL: {}\".format(target_taxa, TARGET_RTL), \n",
    "             xy=(target_taxa / 1.01, TARGET_RTL * 1.01), \n",
    "             xycoords=\"data\",      \n",
    "             va=\"bottom\", \n",
    "             ha=\"left\",\n",
    "             xytext=(target_taxa / 1.10, TARGET_RTL * 1.05), \n",
    "             textcoords='data',     \n",
    "             arrowprops=dict(arrowstyle=\"->\", connectionstyle=\"arc3\"),             \n",
    "             bbox=dict(boxstyle=\"round\", fc=\"w\", lw=0.5))\n",
    "\n",
    "# Export\n",
    "out_path = os.path.join(outdir, SCRIPT_NAME + \"_rtl.\" + FMT)\n",
    "plt.savefig(out_path, dpi=dpi, bbox_inches = \"tight\")"
   ]
  },
  {
   "cell_type": "markdown",
   "id": "affecting-individual",
   "metadata": {},
   "source": [
    "---\n",
    "# 3. Run Treemmer (Target)"
   ]
  },
  {
   "cell_type": "code",
   "execution_count": null,
   "id": "accurate-drain",
   "metadata": {},
   "outputs": [],
   "source": [
    "os.system(\"python3 {treemmer} {tree} --stop_at_X_leaves {stop} --verbose 0\".format(treemmer=treemmer_path, \n",
    "                                                                                                    tree=out_path_tree,\n",
    "                                                                                                    stop=int(target_taxa))\n",
    "                                                                                                   )"
   ]
  },
  {
   "cell_type": "markdown",
   "id": "mineral-lounge",
   "metadata": {},
   "source": [
    "---\n",
    "# 4. Prune Tree, Dataframe, Alignment"
   ]
  },
  {
   "cell_type": "code",
   "execution_count": null,
   "id": "armed-petersburg",
   "metadata": {},
   "outputs": [],
   "source": [
    "tree = Phylo.read(tree_path, \"newick\")\n",
    "tree.ladderize(reverse=False)\n",
    "\n",
    "tree_df = pd.read_csv(tree_df_path, sep='\\t')\n",
    "# Fix the problem with multiple forms of NA in the table\n",
    "# Consolidate missing data to the NO_DATA_CHAR\n",
    "tree_df.fillna(NO_DATA_CHAR, inplace=True)\n",
    "tree_df.set_index(\"Name\", inplace=True)\n",
    "\n",
    "treemmer_path = os.path.join(outdir, \"treemmer_trimmed_tree_X_{}.nwk\".format(int(target_taxa)))\n",
    "treemmer_tree = Phylo.read(treemmer_path, \"newick\")\n",
    "treemmer_tree.ladderize(reverse=False)\n",
    "\n",
    "align = AlignIO.read(aln_path, format=\"fasta\")\n",
    "treemmer_seq = []\n",
    "\n",
    "# Remove internal nodes that could have become tips\n",
    "treemmer_tips = [t.name for t in treemmer_tree.get_terminals() if \"NODE\" not in t.name]\n",
    "\n",
    "# -----------------------------\n",
    "# Remove tips from tree, dataframe, and alignment\n",
    "for t in tree.get_terminals():\n",
    "    \n",
    "    if t.name not in treemmer_tips:\n",
    "        \n",
    "        # Remove tips from tree\n",
    "        tree.prune(t)\n",
    "        \n",
    "        # Remove tips from dataframe\n",
    "        tree_df.drop(t.name, inplace=True)\n",
    "        \n",
    "        # Remove tips from Alignment\n",
    "        for i in range(0, len(align._records)):\n",
    "            if align[i].id == t:\n",
    "                treemmer_seq.append(align[i])\n",
    "                break\n",
    "\n",
    "treemmer_align = Align.MultipleSeqAlignment(treemmer_seq)\n",
    "\n",
    "# -----------------------------\n",
    "# Draw tree\n",
    "Phylo.draw(tree, \n",
    "        show_confidence=False, \n",
    "        label_func = lambda x: '',\n",
    "        do_show=False,\n",
    "        )"
   ]
  },
  {
   "cell_type": "markdown",
   "id": "behavioral-visiting",
   "metadata": {},
   "source": [
    "---\n",
    "# 3. Plot"
   ]
  },
  {
   "cell_type": "code",
   "execution_count": null,
   "id": "affected-voltage",
   "metadata": {},
   "outputs": [],
   "source": [
    "\"\"\"size = \"200\"\n",
    "tree_post_path = os.path.join(outdir, \"treemmer_trimmed_tree_X_{}.nwk\".format(size))\n",
    "tree_post = Phylo.read(tree_post_path, \"newick\")\n",
    "tree_post.ladderize(reverse=False)\n",
    "\n",
    "#tree_post_tips_path = \n",
    "\n",
    "# Setup the figure\n",
    "fig = plt.figure(dpi=dpi,\n",
    "                 figsize=(figsize[0] * 1, figsize[1] * 1),\n",
    "                 )\n",
    "\n",
    "# Setup the grid\n",
    "gs = gridspec.GridSpec(2, 2, figure=fig, wspace=0.1)\n",
    "ax1 = fig.add_subplot(gs[0, 0])\n",
    "ax2 = fig.add_subplot(gs[0, 1])\n",
    "\n",
    "\n",
    "# -----------------------------------------------------\n",
    "# Axis 1: Phylogeny Pre-Filter\n",
    "\n",
    "for c in tree_pre.get_terminals():\n",
    "    if c.name not in tree_dict[size][\"tips\"]:\n",
    "        c.color = \"red\"\n",
    "\n",
    "Phylo.draw(tree_pre, \n",
    "        show_confidence=False, \n",
    "        label_func = lambda x: '',\n",
    "        do_show=False,\n",
    "        axes=ax1)\n",
    "\n",
    "# Labels\n",
    "ax1.set_xlabel(\"Branch Length\")\n",
    "ax1.set_yticks([])\n",
    "ax1.set_ylabel('')\n",
    "num_tips = len(tree_pre.get_terminals())\n",
    "ax1.set_title(\"Phylogeny Pre Filter (N={})\".format(num_tips))\n",
    "\n",
    "\n",
    "Phylo.draw(tree_post, \n",
    "        show_confidence=False, \n",
    "        label_func = lambda x: '',\n",
    "        do_show=False,\n",
    "        axes=ax2)\n",
    "\n",
    "# Labels\n",
    "ax2.set_xlabel(\"Branch Length\")\n",
    "ax2.set_yticks([])\n",
    "ax2.set_ylabel('')\n",
    "num_tips = len(tree_post.get_terminals())\n",
    "ax2.set_title(\"Phylogeny Post Filter (N={})\".format(num_tips))\"\"\""
   ]
  },
  {
   "cell_type": "markdown",
   "id": "timely-economy",
   "metadata": {},
   "source": [
    "---\n",
    "# 2. Add treemmer info to dataframe"
   ]
  },
  {
   "cell_type": "markdown",
   "id": "objective-poster",
   "metadata": {},
   "source": [
    "---\n",
    "# Export"
   ]
  },
  {
   "cell_type": "markdown",
   "id": "apart-scale",
   "metadata": {},
   "source": [
    "## Save Tree, Dataframe, and Alignment"
   ]
  },
  {
   "cell_type": "code",
   "execution_count": null,
   "id": "daily-keeping",
   "metadata": {},
   "outputs": [],
   "source": [
    "# Tree\n",
    "out_path_xml = os.path.join(outdir,  SCRIPT_NAME + \".xml\" )\n",
    "out_path_nwk = os.path.join(outdir, SCRIPT_NAME + \".nwk\" )\n",
    "out_path_nexus = os.path.join(outdir, SCRIPT_NAME + \".nexus\" )\n",
    "\n",
    "Phylo.write(tree, out_path_xml, 'phyloxml')\n",
    "Phylo.write(tree, out_path_nwk, 'newick', format_branch_length='%1.{}f'.format(BRANCH_LEN_SIG_DIG))\n",
    "Phylo.write(tree, out_path_nexus, 'nexus', format_branch_length='%1.{}f'.format(BRANCH_LEN_SIG_DIG))\n",
    "\n",
    "# Dataframe\n",
    "out_path_df = os.path.join(outdir, SCRIPT_NAME + \".tsv\" )\n",
    "tree_df.to_csv(out_path_df, sep=\"\\t\")\n",
    "\n",
    "# Alignment\n",
    "out_path = os.path.join(outdir, SCRIPT_NAME + \".fasta\")\n",
    "AlignIO.write(treemmer_align, outfile, \"fasta\")"
   ]
  },
  {
   "cell_type": "markdown",
   "id": "suitable-edmonton",
   "metadata": {},
   "source": [
    "## Augur JSON"
   ]
  },
  {
   "cell_type": "code",
   "execution_count": null,
   "id": "gross-norman",
   "metadata": {},
   "outputs": [],
   "source": [
    "augur_dict = augur_export(\n",
    "    tree_path=out_path_nwk, \n",
    "    aln_path=aln_path, \n",
    "    tree=tree, \n",
    "    tree_df=tree_df, \n",
    "    color_keyword_exclude=[\"color\", \"coord\"],\n",
    "    type_convert = {\n",
    "        \"Branch_Number\" : (lambda x : str(x))\n",
    "    },\n",
    ")\n",
    "\n",
    "out_path_augur_json = os.path.join(outdir, SCRIPT_NAME + \"_augur.json\" )\n",
    "utils.write_json(data=augur_dict, file_name=out_path_augur_json, indent=JSON_INDENT)"
   ]
  },
  {
   "cell_type": "markdown",
   "id": "sized-slave",
   "metadata": {},
   "source": [
    "## Auspice JSON"
   ]
  },
  {
   "cell_type": "code",
   "execution_count": null,
   "id": "controversial-connectivity",
   "metadata": {},
   "outputs": [],
   "source": [
    "auspice_dict = auspice_export(\n",
    "    tree=tree, \n",
    "    augur_json_paths=[out_path_augur_json], \n",
    "    auspice_config_path=auspice_config_path, \n",
    "    auspice_colors_path=auspice_colors_path,\n",
    "    auspice_latlons_path=auspice_latlons_path, \n",
    "    )\n",
    "\n",
    "# Write outputs - For Local Rendering\n",
    "out_path_auspice_local_json = os.path.join(outdir, SCRIPT_NAME + \"_auspice.json\" )\n",
    "utils.write_json(data=auspice_dict, file_name=out_path_auspice_local_json, indent=JSON_INDENT, include_version=False)\n",
    "export_v2.validate_data_json(out_path_auspice_local_json)\n",
    "print(\"Validation successful for local JSON.\")\n",
    "\n",
    "# Write outputs - For Remote Rendering\n",
    "out_path_auspice_remote_json = os.path.join(auspice_remote_dir_path, AUSPICE_PREFIX + SCRIPT_NAME.replace(\"_\",\"-\") + \".json\" )\n",
    "utils.write_json(data=auspice_dict, file_name=out_path_auspice_remote_json, indent=JSON_INDENT, include_version=False)\n",
    "export_v2.validate_data_json(out_path_auspice_remote_json)\n",
    "print(\"Validation successful for remote JSON.\")"
   ]
  },
  {
   "cell_type": "code",
   "execution_count": null,
   "id": "comparative-particular",
   "metadata": {},
   "outputs": [],
   "source": []
  }
 ],
 "metadata": {
  "kernelspec": {
   "display_name": "Python 3",
   "language": "python",
   "name": "python3"
  },
  "language_info": {
   "codemirror_mode": {
    "name": "ipython",
    "version": 3
   },
   "file_extension": ".py",
   "mimetype": "text/x-python",
   "name": "python",
   "nbconvert_exporter": "python",
   "pygments_lexer": "ipython3",
   "version": "3.7.3"
  }
 },
 "nbformat": 4,
 "nbformat_minor": 5
}
