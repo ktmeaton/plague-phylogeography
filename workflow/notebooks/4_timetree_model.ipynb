{
 "cells": [
  {
   "cell_type": "markdown",
   "id": "fallen-contrary",
   "metadata": {},
   "source": [
    "# Objectives\n",
    "\n",
    "1. Clock Filter Tips\n",
    "1. Clock Model\n",
    "1. Add clock stats to dataframe.\n",
    "\n",
    "Troubleshooting:\n",
    "  - Disappearing nodes?"
   ]
  },
  {
   "cell_type": "markdown",
   "id": "civic-peter",
   "metadata": {},
   "source": [
    "---\n",
    "# Setup"
   ]
  },
  {
   "cell_type": "markdown",
   "id": "vulnerable-bridal",
   "metadata": {},
   "source": [
    "## Import Modules"
   ]
  },
  {
   "cell_type": "code",
   "execution_count": 1,
   "id": "registered-nashville",
   "metadata": {},
   "outputs": [],
   "source": [
    "import os # Create directories and files\n",
    "import random # Set seed for stats\n",
    "import copy # copy objects to prevent permanent modification\n",
    "\n",
    "# Logging output to file\n",
    "import sys\n",
    "import io\n",
    "\n",
    "# Phylogenetics\n",
    "from Bio import Phylo # Tree operations\n",
    "from Bio import AlignIO # Add constant sites to alignment\n",
    "import treetime # Timetree operations\n",
    "\n",
    "# JSON\n",
    "import json"
   ]
  },
  {
   "cell_type": "markdown",
   "id": "structural-cemetery",
   "metadata": {},
   "source": [
    "## Input File Paths"
   ]
  },
  {
   "cell_type": "code",
   "execution_count": 2,
   "id": "every-zambia",
   "metadata": {},
   "outputs": [],
   "source": [
    "tree_path = \"../../docs/results/latest/parse_tree/parse_tree.nwk\"\n",
    "tree_df_path = \"../../docs/results/latest/mugration/mugration.tsv\"\n",
    "aln_path = \"../../docs/results/latest/snippy_multi/snippy-core_chromosome.snps.filter5.aln\"\n",
    "constant_sites_path = \"../../docs/results/latest/snippy_multi/snippy-core_chromosome.full.constant_sites.txt\"\n",
    "outdir = \"../../docs/results/latest/timetree/\"\n",
    "\n",
    "# Create output directory if it doesn't exist\n",
    "if not os.path.exists(outdir):\n",
    "    os.mkdir(outdir)"
   ]
  },
  {
   "cell_type": "markdown",
   "id": "structural-yacht",
   "metadata": {},
   "source": [
    "## Variables"
   ]
  },
  {
   "cell_type": "code",
   "execution_count": 3,
   "id": "efficient-feature",
   "metadata": {},
   "outputs": [],
   "source": [
    "from config import *\n",
    "\n",
    "NAME_COL = \"Name\"\n",
    "SCRIPT_NAME = \"timetree\"\n",
    "\n",
    "# Random\n",
    "random.seed(1152342, 2)\n",
    "np.random.seed(70262122)\n",
    "st0 = np.random.get_state()\n"
   ]
  },
  {
   "cell_type": "code",
   "execution_count": 4,
   "id": "direct-recruitment",
   "metadata": {},
   "outputs": [],
   "source": [
    "align = AlignIO.read(aln_path, format=\"fasta\")"
   ]
  },
  {
   "cell_type": "code",
   "execution_count": 5,
   "id": "traditional-client",
   "metadata": {},
   "outputs": [
    {
     "data": {
      "text/plain": [
       "'constant_sites_dict = {\"A\": 0, \"C\" : 0, \"G\" : 0, \"T\" : 0}\\n\\nwith open(constant_sites_path, \"r\") as infile:\\n    constant_sites_list = infile.read().strip().split(\",\")\\n    constant_sites_dict[\"A\"] = int(constant_sites_list[0])\\n    constant_sites_dict[\"C\"] = int(constant_sites_list[1])\\n    constant_sites_dict[\"G\"] = int(constant_sites_list[2])\\n    constant_sites_dict[\"T\"] = int(constant_sites_list[3])    \\n\\nprint(constant_sites_dict)\\ntotal_constant_sites = sum(constant_sites_dict.values())\\nprint(\"Constant Sites:\", total_constant_sites)\\n\\n# Add the constant sites to each sample\\n# Iterate through each samples sequence\\nfor rec in align:\\n    # Iterate through each nucleotide for constant sites\\n    for nucleotide,count in constant_sites_dict.items():\\n        rec.seq = rec.seq + (nucleotide * count)'"
      ]
     },
     "execution_count": 5,
     "metadata": {},
     "output_type": "execute_result"
    }
   ],
   "source": [
    "\"\"\"constant_sites_dict = {\"A\": 0, \"C\" : 0, \"G\" : 0, \"T\" : 0}\n",
    "\n",
    "with open(constant_sites_path, \"r\") as infile:\n",
    "    constant_sites_list = infile.read().strip().split(\",\")\n",
    "    constant_sites_dict[\"A\"] = int(constant_sites_list[0])\n",
    "    constant_sites_dict[\"C\"] = int(constant_sites_list[1])\n",
    "    constant_sites_dict[\"G\"] = int(constant_sites_list[2])\n",
    "    constant_sites_dict[\"T\"] = int(constant_sites_list[3])    \n",
    "\n",
    "print(constant_sites_dict)\n",
    "total_constant_sites = sum(constant_sites_dict.values())\n",
    "print(\"Constant Sites:\", total_constant_sites)\n",
    "\n",
    "# Add the constant sites to each sample\n",
    "# Iterate through each samples sequence\n",
    "for rec in align:\n",
    "    # Iterate through each nucleotide for constant sites\n",
    "    for nucleotide,count in constant_sites_dict.items():\n",
    "        rec.seq = rec.seq + (nucleotide * count)\"\"\""
   ]
  },
  {
   "cell_type": "markdown",
   "id": "surgical-trading",
   "metadata": {},
   "source": [
    "## Import Divergence Tree"
   ]
  },
  {
   "cell_type": "code",
   "execution_count": 6,
   "id": "funky-correction",
   "metadata": {},
   "outputs": [],
   "source": [
    "tree_div = Phylo.read(tree_path, \"newick\")\n",
    "tree_div.ladderize(reverse=False)"
   ]
  },
  {
   "cell_type": "markdown",
   "id": "stainless-blink",
   "metadata": {},
   "source": [
    "## Import Dataframe"
   ]
  },
  {
   "cell_type": "code",
   "execution_count": 7,
   "id": "modern-kruger",
   "metadata": {},
   "outputs": [],
   "source": [
    "tree_df = pd.read_csv(tree_df_path, sep='\\t')\n",
    "# Fix the problem with multiple forms of NA in the table\n",
    "# Consolidate missing data to the NO_DATA_CHAR\n",
    "tree_df.fillna(NO_DATA_CHAR, inplace=True)\n",
    "tree_df.set_index(NAME_COL, inplace=True)"
   ]
  },
  {
   "cell_type": "markdown",
   "id": "middle-appreciation",
   "metadata": {},
   "source": [
    "## Parse the Tip Dates"
   ]
  },
  {
   "cell_type": "code",
   "execution_count": 8,
   "id": "familiar-stake",
   "metadata": {},
   "outputs": [
    {
     "name": "stdout",
     "output_type": "stream",
     "text": [
      "\n",
      "Attempting to parse dates...\n",
      "\tUsing column 'Name' as name. This needs match the taxon names in the tree!!\n",
      "\tUsing column 'Date' as date.\n"
     ]
    }
   ],
   "source": [
    "# Use the utils function to parse the metadata dates\n",
    "dates_raw = treetime.utils.parse_dates(tree_df_path, \n",
    "                                   date_col=DATE_COL, \n",
    "                                   name_col = NAME_COL)\n",
    "\n",
    "# Remove nan elements (internal nodes)\n",
    "dates = {}\n",
    "for k,v in dates_raw.items():\n",
    "    if type(v) == list:\n",
    "        dates[k] = v\n",
    "    elif not pd.isnull(v):\n",
    "        dates[k] = v"
   ]
  },
  {
   "cell_type": "markdown",
   "id": "multiple-signature",
   "metadata": {},
   "source": [
    "---\n",
    "# 1. Clock Filter On Tips"
   ]
  },
  {
   "cell_type": "code",
   "execution_count": 10,
   "id": "passive-south",
   "metadata": {},
   "outputs": [
    {
     "name": "stdout",
     "output_type": "stream",
     "text": [
      "\n",
      "0.00\t-TreeAnc: set-up\n",
      "\n",
      "1.20\t-SequenceData: loaded alignment.\n",
      "1.21\t--SequenceData.aln: specified sequence length doesn't match alignment\n",
      "    \t  length. Treating difference as constant sites.\n",
      "\n",
      "1.21\t-SeqData: making compressed alignment...\n",
      "\n",
      "3.84\t-SequenceData: constructed compressed alignment...\n",
      "4.12\t--ClockTree: Setting precision to level 2\n",
      "\n",
      "4.19\t-ClockTree._assign_dates: assigned date contraints to 634 out of 634 tips.\n",
      "4.50\t--ClockTree.date2dist: Setting new molecular clock. rate=9.508e-09,\n",
      "    \t  R^2=0.2300\n",
      "4.52\t---TreeTime.ClockFilter: marking GCA_008630375.1_ASM863037v1_genomic as\n",
      "    \t   outlier, residual 3.979261 interquartile distances\n",
      "4.52\t---TreeTime.ClockFilter: marking GCA_008630375.2_ASM863037v2_genomic as\n",
      "    \t   outlier, residual 4.261789 interquartile distances\n",
      "4.52\t---TreeTime.ClockFilter: marking GCA_003086075.1_ASM308607v1_genomic as\n",
      "    \t   outlier, residual 3.010350 interquartile distances\n",
      "4.52\t---TreeTime.ClockFilter: marking GCA_001613865.1_ASM161386v1_genomic as\n",
      "    \t   outlier, residual 3.179381 interquartile distances\n",
      "Clock Model:  {'clock_rate': 9.508425021604998e-09, 'intercept': 5.3129278201524425e-05, 'chisq': 2.9124720841008797e-08, 'r_val': 0.47960937632821926, 'cov': None, 'sigma': 0, 'valid_confidence': False}\n"
     ]
    },
    {
     "name": "stderr",
     "output_type": "stream",
     "text": [
      "No handles with labels found to put in legend.\n"
     ]
    },
    {
     "name": "stdout",
     "output_type": "stream",
     "text": [
      "Collapsed node NODE309 in the tree.\n",
      "Collapsed node GCA_008630375.1_ASM863037v1_genomic in the tree.\n",
      "Collapsed node GCA_008630375.2_ASM863037v2_genomic in the tree.\n",
      "Collapsed node GCA_003086075.1_ASM308607v1_genomic in the tree.\n",
      "Collapsed node GCA_001613865.1_ASM161386v1_genomic in the tree.\n",
      "Dropped NODE309 from the dataframe.\n",
      "Dropped GCA_008630375.1_ASM863037v1_genomic from the dataframe.\n",
      "Dropped GCA_008630375.2_ASM863037v2_genomic from the dataframe.\n",
      "Dropped GCA_003086075.1_ASM308607v1_genomic from the dataframe.\n",
      "Dropped GCA_001613865.1_ASM161386v1_genomic from the dataframe.\n",
      "\n",
      "0.00\t-TreeAnc: set-up\n",
      "\n",
      "1.17\t-SequenceData: loaded alignment.\n",
      "1.17\t--SequenceData.aln: specified sequence length doesn't match alignment\n",
      "    \t  length. Treating difference as constant sites.\n",
      "\n",
      "1.17\t-SeqData: making compressed alignment...\n",
      "\n",
      "3.66\t-SequenceData: constructed compressed alignment...\n",
      "3.73\t---**WARNING: Number of tips in tree differs from number of sequences in\n",
      "    \t   alignment!**\n",
      "3.93\t--ClockTree: Setting precision to level 2\n",
      "\n",
      "4.00\t-ClockTree._assign_dates: assigned date contraints to 630 out of 630 tips.\n",
      "4.29\t--ClockTree.date2dist: Setting new molecular clock. rate=9.416e-09,\n",
      "    \t  R^2=0.2483\n",
      "Clock Model:  {'clock_rate': 9.416066712137288e-09, 'intercept': 5.304755152697907e-05, 'chisq': 2.582616029485927e-08, 'r_val': 0.49828866115420706, 'cov': None, 'sigma': 0, 'valid_confidence': False}\n"
     ]
    },
    {
     "data": {
      "image/png": "[encoded data removed]",
      "text/plain": [
       "<Figure size 1065.6x345.6 with 3 Axes>"
      ]
     },
     "metadata": {
      "needs_background": "light"
     },
     "output_type": "display_data"
    }
   ],
   "source": [
    "# Count the iterations needed\n",
    "iter = 0\n",
    "# A boolean to decide if we keep running the clock_filter\n",
    "has_bad_branches = True\n",
    "\n",
    "# Keep calculating and collapsing until no bad_branches\n",
    "while has_bad_branches:\n",
    "    \n",
    "    iter += 1\n",
    "    # Construct the treetime object\n",
    "    # Remember, including the alignment is crucial!\n",
    "    tt = treetime.TreeTime(dates=dates, \n",
    "                           aln=aln_path,                     \n",
    "                           tree=tree_path, \n",
    "                           verbose=4, \n",
    "                           fill_overhangs=False,\n",
    "                           seq_len=REF_LEN,                        \n",
    "                          )\n",
    "\n",
    "    # Remove outliers\n",
    "    tt.clock_filter(reroot=None, \n",
    "                    n_iqd=N_IQD, \n",
    "                    plot=False,\n",
    "                    )\n",
    "        \n",
    "    # Check rtt\n",
    "    print(\"Clock Model: \", tt.date2dist.__dict__)\n",
    "    has_bad_branches = True in [c.bad_branch for c in tt.tree.find_clades()]\n",
    "    \n",
    "    if has_bad_branches:\n",
    "        fig, (ax1, ax2, ax3) = plt.subplots(1, 3, figsize=(14.8,4.8))\n",
    "        \n",
    "        bad_clades = []\n",
    "\n",
    "        for c in tt.tree.find_clades():\n",
    "            if c.bad_branch:\n",
    "                bad_clades.append(c.name)\n",
    "                c.color = \"red\"\n",
    "        \n",
    "        # -----------------------------------------------------\n",
    "        # Axis 1: Root To Tip Regression\n",
    "        tt.plot_root_to_tip(add_internal=False, label=True, ax=ax1)\n",
    "        # Labels\n",
    "        ax1.set_xlabel(\"Date\")\n",
    "        ax1.set_ylabel(\"Root-to-Tip Distance\")\n",
    "        ax1.set_title(\"Root-to-Tip Regression on Date\")\n",
    "        \n",
    "        # -----------------------------------------------------\n",
    "        # Axis 2: Tree Pre-Clock Filter\n",
    "        Phylo.draw(tt.tree, \n",
    "            show_confidence=False, \n",
    "            #label_func = lambda x: x.name if x.name in bad_clades else None,\n",
    "            label_func = lambda x: '',\n",
    "            do_show=False,\n",
    "            axes=ax2)\n",
    "        \n",
    "        ax2.set_xlabel(\"Branch Length\")\n",
    "        ax2.set_yticks([])\n",
    "        ax2.set_ylabel('')\n",
    "        ax2.set_title(\"Phylogeny Pre-Clock Filter\")\n",
    "        \n",
    "        # Collapse\n",
    "        for b in bad_clades:\n",
    "            # Possibly already collapsed if redundancy\n",
    "            try:\n",
    "                b_node = tt.tree.common_ancestor([b])\n",
    "                for c in b_node.find_clades():\n",
    "                    print(\"Collapsed node {} in the tree.\".format(c))\n",
    "                    tt.tree.collapse(target=c.name)\n",
    "            except ValueError:\n",
    "                continue\n",
    "        \n",
    "        # Remove from dataframe\n",
    "        for b in bad_clades:\n",
    "            try:\n",
    "                tree_df.drop(index=b, inplace=True)\n",
    "                print(\"Dropped {} from the dataframe.\".format(b))\n",
    "            except KeyError:\n",
    "                continue\n",
    "\n",
    "        # -----------------------------------------------------\n",
    "        # Axis 3: Tree Post-Clock Filter\n",
    "        Phylo.draw(tt.tree, \n",
    "               show_confidence=False, \n",
    "               label_func = lambda x: x.name if x.name in bad_clades else None, \n",
    "               do_show=False,\n",
    "               axes=ax3,\n",
    "               )\n",
    "        \n",
    "        ax3.set_xlabel(\"Branch Length\")\n",
    "        ax3.set_yticks([])\n",
    "        ax3.set_ylabel('')\n",
    "        ax3.set_title(\"Phylogeny Post-Clock Filter\")\n",
    "        \n",
    "        \n",
    "\n",
    "        # Save new tree\n",
    "        tree_path = os.path.join(outdir, SCRIPT_NAME + \".nwk\" )\n",
    "        Phylo.write(tt.tree, tree_path, 'newick', format_branch_length='%1.{}f'.format(BRANCH_LEN_SIG_DIG))\n",
    "\n"
   ]
  },
  {
   "cell_type": "markdown",
   "id": "severe-english",
   "metadata": {},
   "source": [
    "---\n",
    "# 1. Clock Analysis"
   ]
  },
  {
   "cell_type": "code",
   "execution_count": null,
   "id": "oriental-celtic",
   "metadata": {},
   "outputs": [],
   "source": [
    "# Initialize stdout capture\n",
    "old_stdout = sys.stdout\n",
    "new_stdout = io.StringIO()\n",
    "sys.stdout = new_stdout\n",
    "\n",
    "# PARAM MIN: root='-4101-09-02'\n",
    "tt.run()\n",
    "\n",
    "#tt.run(root=\"SAMEA3541826\")\n",
    "\n",
    "# PARAM FULL: root=''\n",
    "\"\"\"tt.run(\n",
    "       Tc=\"skyline\", \n",
    "       max_iter=MAX_ITER,\n",
    "       relaxed_clock={\"slack\":5.0, \"coupling\": 0},\n",
    "       infer_gtr=True,\n",
    "       time_marginal=TIME_MARGINAL,\n",
    "       sequence_marginal=SEQ_MARGINAL,\n",
    "       verbose=4,\n",
    "       resolve_polytomies=False,\n",
    "       n_iqd=N_IQD,\n",
    "       # branch_length_mode = \"input\",\n",
    "       # root=None,\n",
    "       # use_covariation=False,\n",
    "       # vary_rate=False,\n",
    "       )\"\"\"\n",
    "\n",
    "# Save stdout to file\n",
    "output = new_stdout.getvalue()\n",
    "out_path = os.path.join(outdir, SCRIPT_NAME + \".log\") \n",
    "with open(out_path, \"w\") as file:\n",
    "    file.write(output)\n",
    "    \n",
    "# Restore stdout\n",
    "sys.stdout = old_stdout\n",
    "print(\"Standard output restored.\")"
   ]
  },
  {
   "cell_type": "code",
   "execution_count": null,
   "id": "equal-bradford",
   "metadata": {},
   "outputs": [],
   "source": [
    "# Quick check 1\n",
    "tt.tree.common_ancestor(\"NODE0\")"
   ]
  },
  {
   "cell_type": "code",
   "execution_count": null,
   "id": "athletic-rabbit",
   "metadata": {},
   "outputs": [],
   "source": [
    "# Quick check 2\n",
    "tt.clock_model"
   ]
  },
  {
   "cell_type": "code",
   "execution_count": null,
   "id": "bigger-mongolia",
   "metadata": {},
   "outputs": [],
   "source": [
    "# Quick check 3\n",
    "Phylo.draw(tt.tree, \n",
    "       show_confidence=False, \n",
    "       label_func = lambda x:'', \n",
    "       do_show=False)"
   ]
  },
  {
   "cell_type": "markdown",
   "id": "impossible-pattern",
   "metadata": {},
   "source": [
    "## Ladderize Tree"
   ]
  },
  {
   "cell_type": "code",
   "execution_count": null,
   "id": "cardiovascular-undergraduate",
   "metadata": {},
   "outputs": [],
   "source": [
    "tt.tree.ladderize(reverse=False)"
   ]
  },
  {
   "cell_type": "markdown",
   "id": "miniature-creek",
   "metadata": {},
   "source": [
    "---\n",
    "# 2. Add clock stats to data frame\n",
    "\n",
    "- Rates\n",
    "- Dates\n",
    "- RTT Regression\n",
    "- Skyline"
   ]
  },
  {
   "cell_type": "markdown",
   "id": "vietnamese-electricity",
   "metadata": {},
   "source": [
    "## Rates"
   ]
  },
  {
   "cell_type": "code",
   "execution_count": null,
   "id": "minor-lafayette",
   "metadata": {},
   "outputs": [],
   "source": [
    "tree_df[\"timetree_rate\"] = [NO_DATA_CHAR for row in range(0,len(tree_df))]  \n",
    "tree_df[\"timetree_rate_fold_change\"] = [NO_DATA_CHAR for row in range(0,len(tree_df))]  \n",
    "tree_df[\"timetree_mutation_length\"] = [NO_DATA_CHAR for row in range(0,len(tree_df))]  \n",
    "\n",
    "# The mean rate is the slope\n",
    "mean_rate = tt.clock_model[\"slope\"]\n",
    "\n",
    "for c in tt.tree.find_clades():\n",
    "    tree_df.at[c.name, \"timetree_mutation_length\"] = c.mutation_length\n",
    "    \n",
    "    # Relaxed Clock\n",
    "    if hasattr(c, \"branch_length_interpolator\") and c.branch_length_interpolator:\n",
    "        g = c.branch_length_interpolator.gamma\n",
    "        tree_df.at[c.name, \"timetree_rate_fold_change\"] = g\n",
    "        tree_df.at[c.name, \"timetree_rate\"] = mean_rate * g\n",
    "        \n",
    "    # Strict Clock\n",
    "    else:\n",
    "        tree_df.at[c.name, \"timetree_rate_fold_change\"] = 1\n",
    "        tree_df.at[c.name, \"timetree_rate\"] = mean_rate"
   ]
  },
  {
   "cell_type": "markdown",
   "id": "shared-psychology",
   "metadata": {},
   "source": [
    "## Dates"
   ]
  },
  {
   "cell_type": "code",
   "execution_count": null,
   "id": "forward-tomato",
   "metadata": {},
   "outputs": [],
   "source": [
    "# Create new columns\n",
    "tree_df[\"timetree_date\"] = [NO_DATA_CHAR for row in range(0,len(tree_df))]  \n",
    "tree_df[\"timetree_numdate\"] = [NO_DATA_CHAR for row in range(0,len(tree_df))]  \n",
    "\n",
    "# Optional confidence intervals if marginal prob was run\n",
    "tree_df[\"timetree_numdate_lower\"] = [NO_DATA_CHAR for row in range(0,len(tree_df))]  \n",
    "tree_df[\"timetree_numdate_upper\"] = [NO_DATA_CHAR for row in range(0,len(tree_df))]  \n",
    "\n",
    "# clock_length is the same as branch_length until running branch_length_to_years()\n",
    "tree_df[\"timetree_clock_length\"] = [NO_DATA_CHAR for row in range(0,len(tree_df))]  \n",
    "\n",
    "# Make a copy to change branch_length\n",
    "tt_copy = copy.deepcopy(tt)\n",
    "tt_copy.branch_length_to_years()\n",
    "\n",
    "for c in tt_copy.tree.find_clades():\n",
    "    # Marginal Probability\n",
    "    if hasattr(c, \"marginal_inverse_cdf\"):    \n",
    "        # Retrieve the region containing the confidence interval\n",
    "        conf = tt.get_max_posterior_region(c, fraction=CONFIDENCE) \n",
    "        \n",
    "        # Set as lower and upper bounds on date\n",
    "        tree_df.at[c.name, \"timetree_numdate_lower\"] = conf[0]\n",
    "        tree_df.at[c.name, \"timetree_numdate_upper\"] = conf[1]\n",
    "\n",
    "    tree_df.at[c.name, \"timetree_date\"] = c.date  \n",
    "    tree_df.at[c.name, \"timetree_numdate\"] = c.numdate\n",
    "    tree_df.at[c.name, \"timetree_clock_length\"] = c.branch_length"
   ]
  },
  {
   "cell_type": "code",
   "execution_count": null,
   "id": "nonprofit-criminal",
   "metadata": {},
   "outputs": [],
   "source": [
    "tree_df"
   ]
  },
  {
   "cell_type": "markdown",
   "id": "owned-illinois",
   "metadata": {},
   "source": [
    "## Regression"
   ]
  },
  {
   "cell_type": "code",
   "execution_count": null,
   "id": "burning-caution",
   "metadata": {},
   "outputs": [],
   "source": [
    "# make a copy of the tree\n",
    "tt_copy = copy.deepcopy(tt)\n",
    "tt_copy.branch_length_to_years()\n",
    "\n",
    "# Plotting the tree\n",
    "tree_df[\"timetree_coord_x\"] = [NO_DATA_CHAR for row in range(0,len(tree_df))]  \n",
    "tree_df[\"timetree_coord_y\"] = [NO_DATA_CHAR for row in range(0,len(tree_df))] \n",
    "\n",
    "# Plotting the regression\n",
    "tree_df[\"timetree_reg_x\"] = [NO_DATA_CHAR for row in range(0,len(tree_df))]  \n",
    "tree_df[\"timetree_reg_y\"] = [NO_DATA_CHAR for row in range(0,len(tree_df))]  \n",
    "tree_df[\"timetree_reg_bad\"] = [NO_DATA_CHAR for row in range(0,len(tree_df))]  \n",
    "\n",
    "x_posns = get_x_positions(tt_copy.tree)\n",
    "y_posns = get_y_positions(tt_copy.tree)\n",
    "tt_reg = tt_copy.setup_TreeRegression()\n",
    "\n",
    "# Add x and y coordinates\n",
    "for c in tt_copy.tree.find_clades():     \n",
    "        \n",
    "    # Tree Node Coordinates\n",
    "    coord_x = [value for key,value in x_posns.items() if key.name == c.name][0]\n",
    "    coord_y = [value for key,value in y_posns.items() if key.name == c.name][0]\n",
    "    tree_df.at[c.name, 'timetree_coord_x'] = coord_x\n",
    "    tree_df.at[c.name, 'timetree_coord_y'] = coord_y\n",
    "    \n",
    "    # Regression Node Coordinates\n",
    "    reg_y = c._v\n",
    "    if c.is_terminal():\n",
    "        reg_x = tt_reg.tip_value(c)\n",
    "    else:\n",
    "        reg_x = c.numdate\n",
    "    reg_bad = c.bad_branch  if hasattr(c, 'bad_branch') else False\n",
    "    tree_df.at[c.name, 'timetree_reg_x'] = reg_x\n",
    "    tree_df.at[c.name, 'timetree_reg_y'] = reg_y    \n",
    "    tree_df.at[c.name, 'timetree_reg_bad'] = reg_bad\n",
    "\n",
    "# Fix up new values that could be none\n",
    "tree_df.fillna(NO_DATA_CHAR, inplace=True)\n",
    "tree_df"
   ]
  },
  {
   "cell_type": "markdown",
   "id": "distributed-conservation",
   "metadata": {},
   "source": [
    "## Skyline"
   ]
  },
  {
   "cell_type": "code",
   "execution_count": null,
   "id": "varied-xerox",
   "metadata": {},
   "outputs": [],
   "source": [
    "if hasattr(tt, \"merger_model\"):\n",
    "    skyline, conf = tt.merger_model.skyline_inferred(gen=50, confidence=n_std)\n",
    "print(skyline)\n",
    "print(conf)"
   ]
  },
  {
   "cell_type": "markdown",
   "id": "northern-vanilla",
   "metadata": {},
   "source": [
    "---\n",
    "# Export"
   ]
  },
  {
   "cell_type": "markdown",
   "id": "balanced-bruce",
   "metadata": {},
   "source": [
    "## Dataframe"
   ]
  },
  {
   "cell_type": "code",
   "execution_count": null,
   "id": "quantitative-solomon",
   "metadata": {},
   "outputs": [],
   "source": [
    "# Save tree dataframe with clock info\n",
    "out_path_df = os.path.join(outdir, SCRIPT_NAME + \".tsv\" )\n",
    "tree_df.to_csv(out_path_df, sep=\"\\t\")\n",
    "\n",
    "# Save timetree trees\n",
    "out_path_xml = os.path.join(outdir, SCRIPT_NAME + \".xml\" )\n",
    "out_path_nwk = os.path.join(outdir, SCRIPT_NAME + \".nwk\" )\n",
    "out_path_nexus = os.path.join(outdir, SCRIPT_NAME + \".nexus\" )\n",
    "Phylo.write(tt.tree, out_path_xml, 'phyloxml')\n",
    "Phylo.write(tt.tree, out_path_nwk, 'newick', format_branch_length='%1.{}f'.format(BRANCH_LEN_SIG_DIG))\n",
    "Phylo.write(tt.tree, out_path_nexus, 'nexus', format_branch_length='%1.{}f'.format(BRANCH_LEN_SIG_DIG))"
   ]
  },
  {
   "cell_type": "markdown",
   "id": "organized-device",
   "metadata": {},
   "source": [
    "## JSON"
   ]
  },
  {
   "cell_type": "code",
   "execution_count": null,
   "id": "regular-contribution",
   "metadata": {},
   "outputs": [],
   "source": [
    "clock_model_dict = {}\n",
    "keys = [\"slope\", \"intercept\", \"chisq\", \"r_val\"]\n",
    "for k in keys:\n",
    "    clock_model_dict[k] = tt.clock_model[k]\n",
    "\n",
    "out_path_json = os.path.join(outdir, SCRIPT_NAME + \"_clock_model.json\" )\n",
    "with open(out_path_json, \"w\") as outfile:  \n",
    "    json.dump(clock_model_dict, outfile, indent=4, sort_keys=True)"
   ]
  },
  {
   "cell_type": "code",
   "execution_count": null,
   "id": "twenty-julian",
   "metadata": {},
   "outputs": [],
   "source": []
  },
  {
   "cell_type": "markdown",
   "id": "passive-dallas",
   "metadata": {},
   "source": [
    "## Skyline"
   ]
  },
  {
   "cell_type": "code",
   "execution_count": null,
   "id": "wound-continuity",
   "metadata": {},
   "outputs": [],
   "source": [
    "if hasattr(tt, \"merger_model\"):\n",
    "    out_path_skyline_pdf = os.path.join(outdir, SCRIPT_NAME + \"_skyline.\" + FMT )\n",
    "    out_path_skyline_txt = os.path.join(outdir, SCRIPT_NAME + \"_skyline.tsv\" )\n",
    "\n",
    "    treetime.wrappers.print_save_plot_skyline(tt, \n",
    "                                              plot=out_path_skyline_pdf, \n",
    "                                              save=out_path_skyline_txt,\n",
    "                                              screen=True,\n",
    "                                              n_std=2.0, )"
   ]
  }
 ],
 "metadata": {
  "kernelspec": {
   "display_name": "Python 3",
   "language": "python",
   "name": "python3"
  },
  "language_info": {
   "codemirror_mode": {
    "name": "ipython",
    "version": 3
   },
   "file_extension": ".py",
   "mimetype": "text/x-python",
   "name": "python",
   "nbconvert_exporter": "python",
   "pygments_lexer": "ipython3",
   "version": "3.7.3"
  }
 },
 "nbformat": 4,
 "nbformat_minor": 5
}
