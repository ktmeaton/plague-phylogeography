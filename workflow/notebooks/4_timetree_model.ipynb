{
 "cells": [
  {
   "cell_type": "markdown",
   "id": "fallen-contrary",
   "metadata": {},
   "source": [
    "# Objectives\n",
    "\n",
    "1. Clock Model\n",
    "1. Add clock stats to dataframe.\n",
    "\n",
    "Troubleshooting:\n",
    "  - Disappearing nodes?"
   ]
  },
  {
   "cell_type": "markdown",
   "id": "civic-peter",
   "metadata": {},
   "source": [
    "---\n",
    "# Setup"
   ]
  },
  {
   "cell_type": "markdown",
   "id": "vulnerable-bridal",
   "metadata": {},
   "source": [
    "## Import Modules"
   ]
  },
  {
   "cell_type": "code",
   "execution_count": 1,
   "id": "registered-nashville",
   "metadata": {},
   "outputs": [],
   "source": [
    "import os # Create directories and files\n",
    "import random # Set seed for stats\n",
    "import copy # copy objects to prevent permanent modification\n",
    "\n",
    "# Logging output to file\n",
    "import sys\n",
    "import io\n",
    "\n",
    "# Phylogenetics\n",
    "from Bio import Phylo # Tree operations\n",
    "from Bio import AlignIO # Add constant sites to alignment\n",
    "import treetime # Timetree operations\n",
    "\n",
    "# JSON\n",
    "import json"
   ]
  },
  {
   "cell_type": "markdown",
   "id": "structural-cemetery",
   "metadata": {},
   "source": [
    "## Input File Paths"
   ]
  },
  {
   "cell_type": "code",
   "execution_count": 2,
   "id": "every-zambia",
   "metadata": {},
   "outputs": [],
   "source": [
    "tree_path = \"../../docs/results/latest/parse_tree/parse_tree.nwk\"\n",
    "tree_df_path = \"../../docs/results/latest/mugration/mugration.tsv\"\n",
    "aln_path = \"../../docs/results/latest/snippy_multi/snippy-core_chromosome.snps.filter5.aln\"\n",
    "constant_sites_path = \"../../docs/results/latest/snippy_multi/snippy-core_chromosome.full.constant_sites.txt\"\n",
    "outdir = \"../../docs/results/latest/timetree/\"\n",
    "\n",
    "# Create output directory if it doesn't exist\n",
    "if not os.path.exists(outdir):\n",
    "    os.mkdir(outdir)"
   ]
  },
  {
   "cell_type": "markdown",
   "id": "structural-yacht",
   "metadata": {},
   "source": [
    "## Variables"
   ]
  },
  {
   "cell_type": "code",
   "execution_count": 3,
   "id": "efficient-feature",
   "metadata": {},
   "outputs": [],
   "source": [
    "from config import *\n",
    "\n",
    "NAME_COL = \"Name\"\n",
    "SCRIPT_NAME = \"timetree\"\n",
    "\n",
    "# Random\n",
    "random.seed(1152342, 2)\n",
    "np.random.seed(70262122)\n",
    "st0 = np.random.get_state()\n"
   ]
  },
  {
   "cell_type": "code",
   "execution_count": 4,
   "id": "direct-recruitment",
   "metadata": {},
   "outputs": [],
   "source": [
    "align = AlignIO.read(aln_path, format=\"fasta\")"
   ]
  },
  {
   "cell_type": "code",
   "execution_count": null,
   "id": "traditional-client",
   "metadata": {},
   "outputs": [],
   "source": [
    "\"\"\"constant_sites_dict = {\"A\": 0, \"C\" : 0, \"G\" : 0, \"T\" : 0}\n",
    "\n",
    "with open(constant_sites_path, \"r\") as infile:\n",
    "    constant_sites_list = infile.read().strip().split(\",\")\n",
    "    constant_sites_dict[\"A\"] = int(constant_sites_list[0])\n",
    "    constant_sites_dict[\"C\"] = int(constant_sites_list[1])\n",
    "    constant_sites_dict[\"G\"] = int(constant_sites_list[2])\n",
    "    constant_sites_dict[\"T\"] = int(constant_sites_list[3])    \n",
    "\n",
    "print(constant_sites_dict)\n",
    "total_constant_sites = sum(constant_sites_dict.values())\n",
    "print(\"Constant Sites:\", total_constant_sites)\n",
    "\n",
    "# Add the constant sites to each sample\n",
    "# Iterate through each samples sequence\n",
    "for rec in align:\n",
    "    # Iterate through each nucleotide for constant sites\n",
    "    for nucleotide,count in constant_sites_dict.items():\n",
    "        rec.seq = rec.seq + (nucleotide * count)\"\"\""
   ]
  },
  {
   "cell_type": "markdown",
   "id": "surgical-trading",
   "metadata": {},
   "source": [
    "## Import Divergence Tree"
   ]
  },
  {
   "cell_type": "code",
   "execution_count": 5,
   "id": "funky-correction",
   "metadata": {},
   "outputs": [],
   "source": [
    "tree_div = Phylo.read(tree_path, \"newick\")\n",
    "tree_div.ladderize(reverse=False)"
   ]
  },
  {
   "cell_type": "markdown",
   "id": "stainless-blink",
   "metadata": {},
   "source": [
    "## Import Dataframe"
   ]
  },
  {
   "cell_type": "code",
   "execution_count": 6,
   "id": "modern-kruger",
   "metadata": {},
   "outputs": [
    {
     "ename": "FileNotFoundError",
     "evalue": "[Errno 2] File ../../docs/results/latest/mugration/mugration.tsv does not exist: '../../docs/results/latest/mugration/mugration.tsv'",
     "output_type": "error",
     "traceback": [
      "\u001b[0;31m---------------------------------------------------------------------------\u001b[0m",
      "\u001b[0;31mFileNotFoundError\u001b[0m                         Traceback (most recent call last)",
      "\u001b[0;32m<ipython-input-6-9fd7439d08e2>\u001b[0m in \u001b[0;36m<module>\u001b[0;34m\u001b[0m\n\u001b[0;32m----> 1\u001b[0;31m \u001b[0mtree_df\u001b[0m \u001b[0;34m=\u001b[0m \u001b[0mpd\u001b[0m\u001b[0;34m.\u001b[0m\u001b[0mread_csv\u001b[0m\u001b[0;34m(\u001b[0m\u001b[0mtree_df_path\u001b[0m\u001b[0;34m,\u001b[0m \u001b[0msep\u001b[0m\u001b[0;34m=\u001b[0m\u001b[0;34m'\\t'\u001b[0m\u001b[0;34m)\u001b[0m\u001b[0;34m\u001b[0m\u001b[0;34m\u001b[0m\u001b[0m\n\u001b[0m\u001b[1;32m      2\u001b[0m \u001b[0;31m# Fix the problem with multiple forms of NA in the table\u001b[0m\u001b[0;34m\u001b[0m\u001b[0;34m\u001b[0m\u001b[0;34m\u001b[0m\u001b[0m\n\u001b[1;32m      3\u001b[0m \u001b[0;31m# Consolidate missing data to the NO_DATA_CHAR\u001b[0m\u001b[0;34m\u001b[0m\u001b[0;34m\u001b[0m\u001b[0;34m\u001b[0m\u001b[0m\n\u001b[1;32m      4\u001b[0m \u001b[0mtree_df\u001b[0m\u001b[0;34m.\u001b[0m\u001b[0mfillna\u001b[0m\u001b[0;34m(\u001b[0m\u001b[0mNO_DATA_CHAR\u001b[0m\u001b[0;34m,\u001b[0m \u001b[0minplace\u001b[0m\u001b[0;34m=\u001b[0m\u001b[0;32mTrue\u001b[0m\u001b[0;34m)\u001b[0m\u001b[0;34m\u001b[0m\u001b[0;34m\u001b[0m\u001b[0m\n\u001b[1;32m      5\u001b[0m \u001b[0mtree_df\u001b[0m\u001b[0;34m.\u001b[0m\u001b[0mset_index\u001b[0m\u001b[0;34m(\u001b[0m\u001b[0mNAME_COL\u001b[0m\u001b[0;34m,\u001b[0m \u001b[0minplace\u001b[0m\u001b[0;34m=\u001b[0m\u001b[0;32mTrue\u001b[0m\u001b[0;34m)\u001b[0m\u001b[0;34m\u001b[0m\u001b[0;34m\u001b[0m\u001b[0m\n",
      "\u001b[0;32m~/miniconda3/envs/plague-phylogeography/lib/python3.7/site-packages/pandas/io/parsers.py\u001b[0m in \u001b[0;36mparser_f\u001b[0;34m(filepath_or_buffer, sep, delimiter, header, names, index_col, usecols, squeeze, prefix, mangle_dupe_cols, dtype, engine, converters, true_values, false_values, skipinitialspace, skiprows, skipfooter, nrows, na_values, keep_default_na, na_filter, verbose, skip_blank_lines, parse_dates, infer_datetime_format, keep_date_col, date_parser, dayfirst, cache_dates, iterator, chunksize, compression, thousands, decimal, lineterminator, quotechar, quoting, doublequote, escapechar, comment, encoding, dialect, error_bad_lines, warn_bad_lines, delim_whitespace, low_memory, memory_map, float_precision)\u001b[0m\n\u001b[1;32m    674\u001b[0m         )\n\u001b[1;32m    675\u001b[0m \u001b[0;34m\u001b[0m\u001b[0m\n\u001b[0;32m--> 676\u001b[0;31m         \u001b[0;32mreturn\u001b[0m \u001b[0m_read\u001b[0m\u001b[0;34m(\u001b[0m\u001b[0mfilepath_or_buffer\u001b[0m\u001b[0;34m,\u001b[0m \u001b[0mkwds\u001b[0m\u001b[0;34m)\u001b[0m\u001b[0;34m\u001b[0m\u001b[0;34m\u001b[0m\u001b[0m\n\u001b[0m\u001b[1;32m    677\u001b[0m \u001b[0;34m\u001b[0m\u001b[0m\n\u001b[1;32m    678\u001b[0m     \u001b[0mparser_f\u001b[0m\u001b[0;34m.\u001b[0m\u001b[0m__name__\u001b[0m \u001b[0;34m=\u001b[0m \u001b[0mname\u001b[0m\u001b[0;34m\u001b[0m\u001b[0;34m\u001b[0m\u001b[0m\n",
      "\u001b[0;32m~/miniconda3/envs/plague-phylogeography/lib/python3.7/site-packages/pandas/io/parsers.py\u001b[0m in \u001b[0;36m_read\u001b[0;34m(filepath_or_buffer, kwds)\u001b[0m\n\u001b[1;32m    446\u001b[0m \u001b[0;34m\u001b[0m\u001b[0m\n\u001b[1;32m    447\u001b[0m     \u001b[0;31m# Create the parser.\u001b[0m\u001b[0;34m\u001b[0m\u001b[0;34m\u001b[0m\u001b[0;34m\u001b[0m\u001b[0m\n\u001b[0;32m--> 448\u001b[0;31m     \u001b[0mparser\u001b[0m \u001b[0;34m=\u001b[0m \u001b[0mTextFileReader\u001b[0m\u001b[0;34m(\u001b[0m\u001b[0mfp_or_buf\u001b[0m\u001b[0;34m,\u001b[0m \u001b[0;34m**\u001b[0m\u001b[0mkwds\u001b[0m\u001b[0;34m)\u001b[0m\u001b[0;34m\u001b[0m\u001b[0;34m\u001b[0m\u001b[0m\n\u001b[0m\u001b[1;32m    449\u001b[0m \u001b[0;34m\u001b[0m\u001b[0m\n\u001b[1;32m    450\u001b[0m     \u001b[0;32mif\u001b[0m \u001b[0mchunksize\u001b[0m \u001b[0;32mor\u001b[0m \u001b[0miterator\u001b[0m\u001b[0;34m:\u001b[0m\u001b[0;34m\u001b[0m\u001b[0;34m\u001b[0m\u001b[0m\n",
      "\u001b[0;32m~/miniconda3/envs/plague-phylogeography/lib/python3.7/site-packages/pandas/io/parsers.py\u001b[0m in \u001b[0;36m__init__\u001b[0;34m(self, f, engine, **kwds)\u001b[0m\n\u001b[1;32m    878\u001b[0m             \u001b[0mself\u001b[0m\u001b[0;34m.\u001b[0m\u001b[0moptions\u001b[0m\u001b[0;34m[\u001b[0m\u001b[0;34m\"has_index_names\"\u001b[0m\u001b[0;34m]\u001b[0m \u001b[0;34m=\u001b[0m \u001b[0mkwds\u001b[0m\u001b[0;34m[\u001b[0m\u001b[0;34m\"has_index_names\"\u001b[0m\u001b[0;34m]\u001b[0m\u001b[0;34m\u001b[0m\u001b[0;34m\u001b[0m\u001b[0m\n\u001b[1;32m    879\u001b[0m \u001b[0;34m\u001b[0m\u001b[0m\n\u001b[0;32m--> 880\u001b[0;31m         \u001b[0mself\u001b[0m\u001b[0;34m.\u001b[0m\u001b[0m_make_engine\u001b[0m\u001b[0;34m(\u001b[0m\u001b[0mself\u001b[0m\u001b[0;34m.\u001b[0m\u001b[0mengine\u001b[0m\u001b[0;34m)\u001b[0m\u001b[0;34m\u001b[0m\u001b[0;34m\u001b[0m\u001b[0m\n\u001b[0m\u001b[1;32m    881\u001b[0m \u001b[0;34m\u001b[0m\u001b[0m\n\u001b[1;32m    882\u001b[0m     \u001b[0;32mdef\u001b[0m \u001b[0mclose\u001b[0m\u001b[0;34m(\u001b[0m\u001b[0mself\u001b[0m\u001b[0;34m)\u001b[0m\u001b[0;34m:\u001b[0m\u001b[0;34m\u001b[0m\u001b[0;34m\u001b[0m\u001b[0m\n",
      "\u001b[0;32m~/miniconda3/envs/plague-phylogeography/lib/python3.7/site-packages/pandas/io/parsers.py\u001b[0m in \u001b[0;36m_make_engine\u001b[0;34m(self, engine)\u001b[0m\n\u001b[1;32m   1112\u001b[0m     \u001b[0;32mdef\u001b[0m \u001b[0m_make_engine\u001b[0m\u001b[0;34m(\u001b[0m\u001b[0mself\u001b[0m\u001b[0;34m,\u001b[0m \u001b[0mengine\u001b[0m\u001b[0;34m=\u001b[0m\u001b[0;34m\"c\"\u001b[0m\u001b[0;34m)\u001b[0m\u001b[0;34m:\u001b[0m\u001b[0;34m\u001b[0m\u001b[0;34m\u001b[0m\u001b[0m\n\u001b[1;32m   1113\u001b[0m         \u001b[0;32mif\u001b[0m \u001b[0mengine\u001b[0m \u001b[0;34m==\u001b[0m \u001b[0;34m\"c\"\u001b[0m\u001b[0;34m:\u001b[0m\u001b[0;34m\u001b[0m\u001b[0;34m\u001b[0m\u001b[0m\n\u001b[0;32m-> 1114\u001b[0;31m             \u001b[0mself\u001b[0m\u001b[0;34m.\u001b[0m\u001b[0m_engine\u001b[0m \u001b[0;34m=\u001b[0m \u001b[0mCParserWrapper\u001b[0m\u001b[0;34m(\u001b[0m\u001b[0mself\u001b[0m\u001b[0;34m.\u001b[0m\u001b[0mf\u001b[0m\u001b[0;34m,\u001b[0m \u001b[0;34m**\u001b[0m\u001b[0mself\u001b[0m\u001b[0;34m.\u001b[0m\u001b[0moptions\u001b[0m\u001b[0;34m)\u001b[0m\u001b[0;34m\u001b[0m\u001b[0;34m\u001b[0m\u001b[0m\n\u001b[0m\u001b[1;32m   1115\u001b[0m         \u001b[0;32melse\u001b[0m\u001b[0;34m:\u001b[0m\u001b[0;34m\u001b[0m\u001b[0;34m\u001b[0m\u001b[0m\n\u001b[1;32m   1116\u001b[0m             \u001b[0;32mif\u001b[0m \u001b[0mengine\u001b[0m \u001b[0;34m==\u001b[0m \u001b[0;34m\"python\"\u001b[0m\u001b[0;34m:\u001b[0m\u001b[0;34m\u001b[0m\u001b[0;34m\u001b[0m\u001b[0m\n",
      "\u001b[0;32m~/miniconda3/envs/plague-phylogeography/lib/python3.7/site-packages/pandas/io/parsers.py\u001b[0m in \u001b[0;36m__init__\u001b[0;34m(self, src, **kwds)\u001b[0m\n\u001b[1;32m   1889\u001b[0m         \u001b[0mkwds\u001b[0m\u001b[0;34m[\u001b[0m\u001b[0;34m\"usecols\"\u001b[0m\u001b[0;34m]\u001b[0m \u001b[0;34m=\u001b[0m \u001b[0mself\u001b[0m\u001b[0;34m.\u001b[0m\u001b[0musecols\u001b[0m\u001b[0;34m\u001b[0m\u001b[0;34m\u001b[0m\u001b[0m\n\u001b[1;32m   1890\u001b[0m \u001b[0;34m\u001b[0m\u001b[0m\n\u001b[0;32m-> 1891\u001b[0;31m         \u001b[0mself\u001b[0m\u001b[0;34m.\u001b[0m\u001b[0m_reader\u001b[0m \u001b[0;34m=\u001b[0m \u001b[0mparsers\u001b[0m\u001b[0;34m.\u001b[0m\u001b[0mTextReader\u001b[0m\u001b[0;34m(\u001b[0m\u001b[0msrc\u001b[0m\u001b[0;34m,\u001b[0m \u001b[0;34m**\u001b[0m\u001b[0mkwds\u001b[0m\u001b[0;34m)\u001b[0m\u001b[0;34m\u001b[0m\u001b[0;34m\u001b[0m\u001b[0m\n\u001b[0m\u001b[1;32m   1892\u001b[0m         \u001b[0mself\u001b[0m\u001b[0;34m.\u001b[0m\u001b[0munnamed_cols\u001b[0m \u001b[0;34m=\u001b[0m \u001b[0mself\u001b[0m\u001b[0;34m.\u001b[0m\u001b[0m_reader\u001b[0m\u001b[0;34m.\u001b[0m\u001b[0munnamed_cols\u001b[0m\u001b[0;34m\u001b[0m\u001b[0;34m\u001b[0m\u001b[0m\n\u001b[1;32m   1893\u001b[0m \u001b[0;34m\u001b[0m\u001b[0m\n",
      "\u001b[0;32mpandas/_libs/parsers.pyx\u001b[0m in \u001b[0;36mpandas._libs.parsers.TextReader.__cinit__\u001b[0;34m()\u001b[0m\n",
      "\u001b[0;32mpandas/_libs/parsers.pyx\u001b[0m in \u001b[0;36mpandas._libs.parsers.TextReader._setup_parser_source\u001b[0;34m()\u001b[0m\n",
      "\u001b[0;31mFileNotFoundError\u001b[0m: [Errno 2] File ../../docs/results/latest/mugration/mugration.tsv does not exist: '../../docs/results/latest/mugration/mugration.tsv'"
     ]
    }
   ],
   "source": [
    "tree_df = pd.read_csv(tree_df_path, sep='\\t')\n",
    "# Fix the problem with multiple forms of NA in the table\n",
    "# Consolidate missing data to the NO_DATA_CHAR\n",
    "tree_df.fillna(NO_DATA_CHAR, inplace=True)\n",
    "tree_df.set_index(NAME_COL, inplace=True)"
   ]
  },
  {
   "cell_type": "markdown",
   "id": "middle-appreciation",
   "metadata": {},
   "source": [
    "## Parse the Tip Dates"
   ]
  },
  {
   "cell_type": "code",
   "execution_count": null,
   "id": "familiar-stake",
   "metadata": {},
   "outputs": [],
   "source": [
    "# Use the utils function to parse the metadata dates\n",
    "dates_raw = treetime.utils.parse_dates(tree_df_path, \n",
    "                                   date_col=DATE_COL, \n",
    "                                   name_col = NAME_COL)\n",
    "\n",
    "# Remove nan elements (internal nodes)\n",
    "dates = {}\n",
    "for k,v in dates_raw.items():\n",
    "    if type(v) == list:\n",
    "        dates[k] = v\n",
    "    elif not pd.isnull(v):\n",
    "        dates[k] = v"
   ]
  },
  {
   "cell_type": "markdown",
   "id": "severe-english",
   "metadata": {},
   "source": [
    "---\n",
    "# 1. Clock Analysis"
   ]
  },
  {
   "cell_type": "code",
   "execution_count": null,
   "id": "oriental-celtic",
   "metadata": {},
   "outputs": [],
   "source": [
    "# Initialize stdout capture\n",
    "old_stdout = sys.stdout\n",
    "new_stdout = io.StringIO()\n",
    "sys.stdout = new_stdout\n",
    "\n",
    "# PARAM MIN: root='-4101-09-02'\n",
    "tt.run()\n",
    "\n",
    "#tt.run(root=\"SAMEA3541826\")\n",
    "\n",
    "# PARAM FULL: root=''\n",
    "\"\"\"tt.run(\n",
    "       Tc=\"skyline\", \n",
    "       max_iter=MAX_ITER,\n",
    "       relaxed_clock={\"slack\":5.0, \"coupling\": 0},\n",
    "       infer_gtr=True,\n",
    "       time_marginal=TIME_MARGINAL,\n",
    "       sequence_marginal=SEQ_MARGINAL,\n",
    "       verbose=4,\n",
    "       resolve_polytomies=False,\n",
    "       n_iqd=N_IQD,\n",
    "       # branch_length_mode = \"input\",\n",
    "       # root=None,\n",
    "       # use_covariation=False,\n",
    "       # vary_rate=False,\n",
    "       )\"\"\"\n",
    "\n",
    "# Save stdout to file\n",
    "output = new_stdout.getvalue()\n",
    "out_path = os.path.join(outdir, SCRIPT_NAME + \".log\") \n",
    "with open(out_path, \"w\") as file:\n",
    "    file.write(output)\n",
    "    \n",
    "# Restore stdout\n",
    "sys.stdout = old_stdout\n",
    "print(\"Standard output restored.\")"
   ]
  },
  {
   "cell_type": "code",
   "execution_count": null,
   "id": "equal-bradford",
   "metadata": {},
   "outputs": [],
   "source": [
    "# Quick check 1\n",
    "tt.tree.common_ancestor(\"NODE0\")"
   ]
  },
  {
   "cell_type": "code",
   "execution_count": null,
   "id": "athletic-rabbit",
   "metadata": {},
   "outputs": [],
   "source": [
    "# Quick check 2\n",
    "tt.clock_model"
   ]
  },
  {
   "cell_type": "code",
   "execution_count": null,
   "id": "bigger-mongolia",
   "metadata": {},
   "outputs": [],
   "source": [
    "# Quick check 3\n",
    "Phylo.draw(tt.tree, \n",
    "       show_confidence=False, \n",
    "       label_func = lambda x:'', \n",
    "       do_show=False)"
   ]
  },
  {
   "cell_type": "markdown",
   "id": "impossible-pattern",
   "metadata": {},
   "source": [
    "## Ladderize Tree"
   ]
  },
  {
   "cell_type": "code",
   "execution_count": null,
   "id": "cardiovascular-undergraduate",
   "metadata": {},
   "outputs": [],
   "source": [
    "tt.tree.ladderize(reverse=False)"
   ]
  },
  {
   "cell_type": "markdown",
   "id": "miniature-creek",
   "metadata": {},
   "source": [
    "---\n",
    "# 2. Add clock stats to data frame\n",
    "\n",
    "- Rates\n",
    "- Dates\n",
    "- RTT Regression\n",
    "- Skyline"
   ]
  },
  {
   "cell_type": "markdown",
   "id": "vietnamese-electricity",
   "metadata": {},
   "source": [
    "## Rates"
   ]
  },
  {
   "cell_type": "code",
   "execution_count": null,
   "id": "minor-lafayette",
   "metadata": {},
   "outputs": [],
   "source": [
    "tree_df[\"timetree_rate\"] = [NO_DATA_CHAR for row in range(0,len(tree_df))]  \n",
    "tree_df[\"timetree_rate_fold_change\"] = [NO_DATA_CHAR for row in range(0,len(tree_df))]  \n",
    "tree_df[\"timetree_mutation_length\"] = [NO_DATA_CHAR for row in range(0,len(tree_df))]  \n",
    "\n",
    "# The mean rate is the slope\n",
    "mean_rate = tt.clock_model[\"slope\"]\n",
    "\n",
    "for c in tt.tree.find_clades():\n",
    "    tree_df.at[c.name, \"timetree_mutation_length\"] = c.mutation_length\n",
    "    \n",
    "    # Relaxed Clock\n",
    "    if hasattr(c, \"branch_length_interpolator\") and c.branch_length_interpolator:\n",
    "        g = c.branch_length_interpolator.gamma\n",
    "        tree_df.at[c.name, \"timetree_rate_fold_change\"] = g\n",
    "        tree_df.at[c.name, \"timetree_rate\"] = mean_rate * g\n",
    "        \n",
    "    # Strict Clock\n",
    "    else:\n",
    "        tree_df.at[c.name, \"timetree_rate_fold_change\"] = 1\n",
    "        tree_df.at[c.name, \"timetree_rate\"] = mean_rate"
   ]
  },
  {
   "cell_type": "markdown",
   "id": "shared-psychology",
   "metadata": {},
   "source": [
    "## Dates"
   ]
  },
  {
   "cell_type": "code",
   "execution_count": null,
   "id": "forward-tomato",
   "metadata": {},
   "outputs": [],
   "source": [
    "# Create new columns\n",
    "tree_df[\"timetree_date\"] = [NO_DATA_CHAR for row in range(0,len(tree_df))]  \n",
    "tree_df[\"timetree_numdate\"] = [NO_DATA_CHAR for row in range(0,len(tree_df))]  \n",
    "\n",
    "# Optional confidence intervals if marginal prob was run\n",
    "tree_df[\"timetree_numdate_lower\"] = [NO_DATA_CHAR for row in range(0,len(tree_df))]  \n",
    "tree_df[\"timetree_numdate_upper\"] = [NO_DATA_CHAR for row in range(0,len(tree_df))]  \n",
    "\n",
    "# clock_length is the same as branch_length until running branch_length_to_years()\n",
    "tree_df[\"timetree_clock_length\"] = [NO_DATA_CHAR for row in range(0,len(tree_df))]  \n",
    "\n",
    "# Make a copy to change branch_length\n",
    "tt_copy = copy.deepcopy(tt)\n",
    "tt_copy.branch_length_to_years()\n",
    "\n",
    "for c in tt_copy.tree.find_clades():\n",
    "    # Marginal Probability\n",
    "    if hasattr(c, \"marginal_inverse_cdf\"):    \n",
    "        # Retrieve the region containing the confidence interval\n",
    "        conf = tt.get_max_posterior_region(c, fraction=CONFIDENCE) \n",
    "        \n",
    "        # Set as lower and upper bounds on date\n",
    "        tree_df.at[c.name, \"timetree_numdate_lower\"] = conf[0]\n",
    "        tree_df.at[c.name, \"timetree_numdate_upper\"] = conf[1]\n",
    "\n",
    "    tree_df.at[c.name, \"timetree_date\"] = c.date  \n",
    "    tree_df.at[c.name, \"timetree_numdate\"] = c.numdate\n",
    "    tree_df.at[c.name, \"timetree_clock_length\"] = c.branch_length"
   ]
  },
  {
   "cell_type": "code",
   "execution_count": null,
   "id": "nonprofit-criminal",
   "metadata": {},
   "outputs": [],
   "source": [
    "tree_df"
   ]
  },
  {
   "cell_type": "markdown",
   "id": "owned-illinois",
   "metadata": {},
   "source": [
    "## Regression"
   ]
  },
  {
   "cell_type": "code",
   "execution_count": null,
   "id": "burning-caution",
   "metadata": {},
   "outputs": [],
   "source": [
    "# make a copy of the tree\n",
    "tt_copy = copy.deepcopy(tt)\n",
    "tt_copy.branch_length_to_years()\n",
    "\n",
    "# Plotting the tree\n",
    "tree_df[\"timetree_coord_x\"] = [NO_DATA_CHAR for row in range(0,len(tree_df))]  \n",
    "tree_df[\"timetree_coord_y\"] = [NO_DATA_CHAR for row in range(0,len(tree_df))] \n",
    "\n",
    "# Plotting the regression\n",
    "tree_df[\"timetree_reg_x\"] = [NO_DATA_CHAR for row in range(0,len(tree_df))]  \n",
    "tree_df[\"timetree_reg_y\"] = [NO_DATA_CHAR for row in range(0,len(tree_df))]  \n",
    "tree_df[\"timetree_reg_bad\"] = [NO_DATA_CHAR for row in range(0,len(tree_df))]  \n",
    "\n",
    "x_posns = get_x_positions(tt_copy.tree)\n",
    "y_posns = get_y_positions(tt_copy.tree)\n",
    "tt_reg = tt_copy.setup_TreeRegression()\n",
    "\n",
    "# Add x and y coordinates\n",
    "for c in tt_copy.tree.find_clades():     \n",
    "        \n",
    "    # Tree Node Coordinates\n",
    "    coord_x = [value for key,value in x_posns.items() if key.name == c.name][0]\n",
    "    coord_y = [value for key,value in y_posns.items() if key.name == c.name][0]\n",
    "    tree_df.at[c.name, 'timetree_coord_x'] = coord_x\n",
    "    tree_df.at[c.name, 'timetree_coord_y'] = coord_y\n",
    "    \n",
    "    # Regression Node Coordinates\n",
    "    reg_y = c._v\n",
    "    if c.is_terminal():\n",
    "        reg_x = tt_reg.tip_value(c)\n",
    "    else:\n",
    "        reg_x = c.numdate\n",
    "    reg_bad = c.bad_branch  if hasattr(c, 'bad_branch') else False\n",
    "    tree_df.at[c.name, 'timetree_reg_x'] = reg_x\n",
    "    tree_df.at[c.name, 'timetree_reg_y'] = reg_y    \n",
    "    tree_df.at[c.name, 'timetree_reg_bad'] = reg_bad\n",
    "\n",
    "# Fix up new values that could be none\n",
    "tree_df.fillna(NO_DATA_CHAR, inplace=True)\n",
    "tree_df"
   ]
  },
  {
   "cell_type": "markdown",
   "id": "distributed-conservation",
   "metadata": {},
   "source": [
    "## Skyline"
   ]
  },
  {
   "cell_type": "code",
   "execution_count": null,
   "id": "varied-xerox",
   "metadata": {},
   "outputs": [],
   "source": [
    "if hasattr(tt, \"merger_model\"):\n",
    "    skyline, conf = tt.merger_model.skyline_inferred(gen=50, confidence=n_std)\n",
    "print(skyline)\n",
    "print(conf)"
   ]
  },
  {
   "cell_type": "markdown",
   "id": "northern-vanilla",
   "metadata": {},
   "source": [
    "---\n",
    "# Export"
   ]
  },
  {
   "cell_type": "markdown",
   "id": "balanced-bruce",
   "metadata": {},
   "source": [
    "## Dataframe"
   ]
  },
  {
   "cell_type": "code",
   "execution_count": null,
   "id": "quantitative-solomon",
   "metadata": {},
   "outputs": [],
   "source": [
    "# Save tree dataframe with clock info\n",
    "out_path_df = os.path.join(outdir, SCRIPT_NAME + \".tsv\" )\n",
    "tree_df.to_csv(out_path_df, sep=\"\\t\")\n",
    "\n",
    "# Save timetree trees\n",
    "out_path_xml = os.path.join(outdir, SCRIPT_NAME + \".xml\" )\n",
    "out_path_nwk = os.path.join(outdir, SCRIPT_NAME + \".nwk\" )\n",
    "out_path_nexus = os.path.join(outdir, SCRIPT_NAME + \".nexus\" )\n",
    "Phylo.write(tt.tree, out_path_xml, 'phyloxml')\n",
    "Phylo.write(tt.tree, out_path_nwk, 'newick', format_branch_length='%1.{}f'.format(BRANCH_LEN_SIG_DIG))\n",
    "Phylo.write(tt.tree, out_path_nexus, 'nexus', format_branch_length='%1.{}f'.format(BRANCH_LEN_SIG_DIG))"
   ]
  },
  {
   "cell_type": "markdown",
   "id": "organized-device",
   "metadata": {},
   "source": [
    "## JSON"
   ]
  },
  {
   "cell_type": "code",
   "execution_count": null,
   "id": "regular-contribution",
   "metadata": {},
   "outputs": [],
   "source": [
    "clock_model_dict = {}\n",
    "keys = [\"slope\", \"intercept\", \"chisq\", \"r_val\"]\n",
    "for k in keys:\n",
    "    clock_model_dict[k] = tt.clock_model[k]\n",
    "\n",
    "out_path_json = os.path.join(outdir, SCRIPT_NAME + \"_clock_model.json\" )\n",
    "with open(out_path_json, \"w\") as outfile:  \n",
    "    json.dump(clock_model_dict, outfile, indent=4, sort_keys=True)"
   ]
  },
  {
   "cell_type": "code",
   "execution_count": null,
   "id": "twenty-julian",
   "metadata": {},
   "outputs": [],
   "source": []
  },
  {
   "cell_type": "markdown",
   "id": "passive-dallas",
   "metadata": {},
   "source": [
    "## Skyline"
   ]
  },
  {
   "cell_type": "code",
   "execution_count": null,
   "id": "wound-continuity",
   "metadata": {},
   "outputs": [],
   "source": [
    "if hasattr(tt, \"merger_model\"):\n",
    "    out_path_skyline_pdf = os.path.join(outdir, SCRIPT_NAME + \"_skyline.\" + FMT )\n",
    "    out_path_skyline_txt = os.path.join(outdir, SCRIPT_NAME + \"_skyline.tsv\" )\n",
    "\n",
    "    treetime.wrappers.print_save_plot_skyline(tt, \n",
    "                                              plot=out_path_skyline_pdf, \n",
    "                                              save=out_path_skyline_txt,\n",
    "                                              screen=True,\n",
    "                                              n_std=2.0, )"
   ]
  }
 ],
 "metadata": {
  "kernelspec": {
   "display_name": "Python 3",
   "language": "python",
   "name": "python3"
  },
  "language_info": {
   "codemirror_mode": {
    "name": "ipython",
    "version": 3
   },
   "file_extension": ".py",
   "mimetype": "text/x-python",
   "name": "python",
   "nbconvert_exporter": "python",
   "pygments_lexer": "ipython3",
   "version": "3.7.3"
  }
 },
 "nbformat": 4,
 "nbformat_minor": 5
}
