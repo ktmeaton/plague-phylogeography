{
 "cells": [
  {
   "cell_type": "markdown",
   "id": "fallen-contrary",
   "metadata": {},
   "source": [
    "# Objectives\n",
    "\n",
    "1. Clock Model\n",
    "1. Add clock stats to dataframe.\n",
    "1. Export for Augur and Auspice"
   ]
  },
  {
   "cell_type": "markdown",
   "id": "civic-peter",
   "metadata": {},
   "source": [
    "---\n",
    "# Setup"
   ]
  },
  {
   "cell_type": "markdown",
   "id": "vulnerable-bridal",
   "metadata": {},
   "source": [
    "## Import Modules"
   ]
  },
  {
   "cell_type": "code",
   "execution_count": 1,
   "id": "registered-nashville",
   "metadata": {},
   "outputs": [],
   "source": [
    "import os # Create directories and files\n",
    "import random # Set seed for stats\n",
    "import copy # copy objects to prevent permanent modification\n",
    "\n",
    "# Logging output to file\n",
    "import sys\n",
    "import io\n",
    "\n",
    "# Phylogenetics\n",
    "from Bio import Phylo # Tree operations\n",
    "from Bio import AlignIO # Add constant sites to alignment\n",
    "import treetime # Timetree operations\n",
    "\n",
    "# JSON\n",
    "import json"
   ]
  },
  {
   "cell_type": "markdown",
   "id": "structural-cemetery",
   "metadata": {},
   "source": [
    "## Input File Paths"
   ]
  },
  {
   "cell_type": "code",
   "execution_count": 2,
   "id": "every-zambia",
   "metadata": {},
   "outputs": [],
   "source": [
    "tree_path = \"../../docs/results/latest/parse_tree/parse_tree.nwk\"\n",
    "tree_df_path = \"../../docs/results/latest/mugration/mugration.tsv\"\n",
    "aln_path = \"../../docs/results/latest/snippy_multi/snippy-core_chromosome.snps.filter5.aln\"\n",
    "constant_sites_path = \"../../docs/results/latest/snippy_multi/snippy-core_chromosome.full.constant_sites.txt\"\n",
    "\n",
    "auspice_latlon_path = \"../../docs/results/latest/parse_tree/parse_tree_latlon.tsv\"\n",
    "auspice_config_path = \"../../config/auspice_config.json\"\n",
    "auspice_colors_path = \"../../docs/results/latest/parse_tree/parse_tree_colors.tsv\"\n",
    "auspice_remote_dir_path = \"../../auspice/\"\n",
    "\n",
    "\n",
    "outdir = \"../../docs/results/latest/timetree/\"\n",
    "\n",
    "# Create output directory if it doesn't exist\n",
    "if not os.path.exists(outdir):\n",
    "    os.mkdir(outdir)"
   ]
  },
  {
   "cell_type": "markdown",
   "id": "structural-yacht",
   "metadata": {},
   "source": [
    "## Variables"
   ]
  },
  {
   "cell_type": "code",
   "execution_count": 3,
   "id": "efficient-feature",
   "metadata": {},
   "outputs": [],
   "source": [
    "from config import *\n",
    "\n",
    "NAME_COL = \"Name\"\n",
    "SCRIPT_NAME = \"timetree\"\n",
    "\n",
    "# Random\n",
    "random.seed(1152342, 2)\n",
    "np.random.seed(70262122)\n",
    "st0 = np.random.get_state()\n"
   ]
  },
  {
   "cell_type": "code",
   "execution_count": 4,
   "id": "direct-recruitment",
   "metadata": {},
   "outputs": [],
   "source": [
    "align = AlignIO.read(aln_path, format=\"fasta\")"
   ]
  },
  {
   "cell_type": "code",
   "execution_count": 5,
   "id": "traditional-client",
   "metadata": {},
   "outputs": [
    {
     "data": {
      "text/plain": [
       "'constant_sites_dict = {\"A\": 0, \"C\" : 0, \"G\" : 0, \"T\" : 0}\\n\\nwith open(constant_sites_path, \"r\") as infile:\\n    constant_sites_list = infile.read().strip().split(\",\")\\n    constant_sites_dict[\"A\"] = int(constant_sites_list[0])\\n    constant_sites_dict[\"C\"] = int(constant_sites_list[1])\\n    constant_sites_dict[\"G\"] = int(constant_sites_list[2])\\n    constant_sites_dict[\"T\"] = int(constant_sites_list[3])    \\n\\nprint(constant_sites_dict)\\ntotal_constant_sites = sum(constant_sites_dict.values())\\nprint(\"Constant Sites:\", total_constant_sites)\\n\\n# Add the constant sites to each sample\\n# Iterate through each samples sequence\\nfor rec in align:\\n    # Iterate through each nucleotide for constant sites\\n    for nucleotide,count in constant_sites_dict.items():\\n        rec.seq = rec.seq + (nucleotide * count)'"
      ]
     },
     "execution_count": 5,
     "metadata": {},
     "output_type": "execute_result"
    }
   ],
   "source": [
    "\"\"\"constant_sites_dict = {\"A\": 0, \"C\" : 0, \"G\" : 0, \"T\" : 0}\n",
    "\n",
    "with open(constant_sites_path, \"r\") as infile:\n",
    "    constant_sites_list = infile.read().strip().split(\",\")\n",
    "    constant_sites_dict[\"A\"] = int(constant_sites_list[0])\n",
    "    constant_sites_dict[\"C\"] = int(constant_sites_list[1])\n",
    "    constant_sites_dict[\"G\"] = int(constant_sites_list[2])\n",
    "    constant_sites_dict[\"T\"] = int(constant_sites_list[3])    \n",
    "\n",
    "print(constant_sites_dict)\n",
    "total_constant_sites = sum(constant_sites_dict.values())\n",
    "print(\"Constant Sites:\", total_constant_sites)\n",
    "\n",
    "# Add the constant sites to each sample\n",
    "# Iterate through each samples sequence\n",
    "for rec in align:\n",
    "    # Iterate through each nucleotide for constant sites\n",
    "    for nucleotide,count in constant_sites_dict.items():\n",
    "        rec.seq = rec.seq + (nucleotide * count)\"\"\""
   ]
  },
  {
   "cell_type": "markdown",
   "id": "surgical-trading",
   "metadata": {},
   "source": [
    "## Import Divergence Tree"
   ]
  },
  {
   "cell_type": "code",
   "execution_count": 6,
   "id": "funky-correction",
   "metadata": {},
   "outputs": [],
   "source": [
    "tree_div = Phylo.read(tree_path, \"newick\")\n",
    "tree_div.ladderize(reverse=False)"
   ]
  },
  {
   "cell_type": "markdown",
   "id": "stainless-blink",
   "metadata": {},
   "source": [
    "## Import Dataframe"
   ]
  },
  {
   "cell_type": "code",
   "execution_count": 7,
   "id": "modern-kruger",
   "metadata": {},
   "outputs": [],
   "source": [
    "tree_df = pd.read_csv(tree_df_path, sep='\\t')\n",
    "# Fix the problem with multiple forms of NA in the table\n",
    "# Consolidate missing data to the NO_DATA_CHAR\n",
    "tree_df.fillna(NO_DATA_CHAR, inplace=True)\n",
    "tree_df.set_index(NAME_COL, inplace=True)"
   ]
  },
  {
   "cell_type": "markdown",
   "id": "middle-appreciation",
   "metadata": {},
   "source": [
    "## Parse the Tip Dates"
   ]
  },
  {
   "cell_type": "code",
   "execution_count": 8,
   "id": "familiar-stake",
   "metadata": {},
   "outputs": [
    {
     "name": "stdout",
     "output_type": "stream",
     "text": [
      "\n",
      "Attempting to parse dates...\n",
      "\tUsing column 'Name' as name. This needs match the taxon names in the tree!!\n",
      "\tUsing column 'Date' as date.\n"
     ]
    }
   ],
   "source": [
    "# Use the utils function to parse the metadata dates\n",
    "dates_raw = treetime.utils.parse_dates(tree_df_path, \n",
    "                                   date_col=DATE_COL, \n",
    "                                   name_col = NAME_COL)\n",
    "\n",
    "# Remove nan elements (internal nodes)\n",
    "dates = {}\n",
    "for k,v in dates_raw.items():\n",
    "    if type(v) == list:\n",
    "        dates[k] = v\n",
    "    elif not pd.isnull(v):\n",
    "        dates[k] = v"
   ]
  },
  {
   "cell_type": "markdown",
   "id": "severe-english",
   "metadata": {},
   "source": [
    "---\n",
    "# 1. Clock Analysis"
   ]
  },
  {
   "cell_type": "markdown",
   "id": "focal-charge",
   "metadata": {},
   "source": [
    "## Initialize Timetree object"
   ]
  },
  {
   "cell_type": "code",
   "execution_count": 9,
   "id": "covered-nowhere",
   "metadata": {},
   "outputs": [
    {
     "name": "stdout",
     "output_type": "stream",
     "text": [
      "\n",
      "0.00\t-TreeAnc: set-up\n",
      "\n",
      "1.18\t-SequenceData: loaded alignment.\n",
      "1.18\t--SequenceData.aln: specified sequence length doesn't match alignment\n",
      "    \t  length. Treating difference as constant sites.\n",
      "\n",
      "1.18\t-SeqData: making compressed alignment...\n",
      "\n",
      "3.93\t-SequenceData: constructed compressed alignment...\n",
      "4.01\t---**WARNING: Number of tips in tree differs from number of sequences in\n",
      "    \t   alignment!**\n",
      "4.20\t--ClockTree: Setting precision to level 2\n",
      "\n",
      "4.29\t-ClockTree._assign_dates: assigned date contraints to 630 out of 630 tips.\n",
      "4.60\t--ClockTree.date2dist: Setting new molecular clock. rate=9.416e-09,\n",
      "    \t  R^2=0.2483\n",
      "Clock Model:  {'clock_rate': 9.416066712137288e-09, 'intercept': 5.304755152697907e-05, 'chisq': 2.582616029485927e-08, 'r_val': 0.49828866115420706, 'cov': None, 'sigma': 0, 'valid_confidence': False}\n"
     ]
    },
    {
     "data": {
      "image/png": "[encoded data removed]",
      "text/plain": [
       "<Figure size 432x288 with 1 Axes>"
      ]
     },
     "metadata": {
      "needs_background": "light"
     },
     "output_type": "display_data"
    }
   ],
   "source": [
    "tt = treetime.TreeTime(dates=dates, \n",
    "                           aln=aln_path,                     \n",
    "                           tree=tree_path, \n",
    "                           verbose=4, \n",
    "                           fill_overhangs=False,\n",
    "                           seq_len=REF_LEN,                        \n",
    "                          )\n",
    "\n",
    "# Confirm that outliers have already been removed\n",
    "tt.clock_filter(reroot=None, \n",
    "                n_iqd=N_IQD, \n",
    "                plot=True,\n",
    "                )\n",
    "\n",
    "# Check rtt\n",
    "print(\"Clock Model: \", tt.date2dist.__dict__)"
   ]
  },
  {
   "cell_type": "code",
   "execution_count": null,
   "id": "oriental-celtic",
   "metadata": {},
   "outputs": [],
   "source": [
    "# Initialize stdout capture\n",
    "old_stdout = sys.stdout\n",
    "new_stdout = io.StringIO()\n",
    "sys.stdout = new_stdout\n",
    "\n",
    "# PARAM MIN: root='-4101-09-02'\n",
    "#tt.run()\n",
    "\n",
    "#tt.run(root=\"SAMEA3541826\")\n",
    "\n",
    "# PARAM FULL: root=''\n",
    "tt.run(\n",
    "       Tc=\"skyline\", \n",
    "       max_iter=MAX_ITER,\n",
    "       relaxed_clock={\"slack\":5.0, \"coupling\": 0},\n",
    "       infer_gtr=True,\n",
    "       time_marginal=TIME_MARGINAL,\n",
    "       sequence_marginal=SEQ_MARGINAL,\n",
    "       verbose=4,\n",
    "       resolve_polytomies=False,\n",
    "       n_iqd=N_IQD,\n",
    "       # branch_length_mode = \"input\",\n",
    "       # root=None,\n",
    "       # use_covariation=False,\n",
    "       # vary_rate=False,\n",
    "       )\n",
    "\n",
    "# Save stdout to file\n",
    "output = new_stdout.getvalue()\n",
    "out_path = os.path.join(outdir, SCRIPT_NAME + \".log\") \n",
    "with open(out_path, \"w\") as file:\n",
    "    file.write(output)\n",
    "    \n",
    "# Restore stdout\n",
    "sys.stdout = old_stdout\n",
    "print(\"Standard output restored.\")"
   ]
  },
  {
   "cell_type": "code",
   "execution_count": null,
   "id": "equal-bradford",
   "metadata": {},
   "outputs": [],
   "source": [
    "# Quick check 1\n",
    "tt.tree.common_ancestor(\"NODE0\")"
   ]
  },
  {
   "cell_type": "code",
   "execution_count": null,
   "id": "athletic-rabbit",
   "metadata": {},
   "outputs": [],
   "source": [
    "# Quick check 2\n",
    "tt.clock_model"
   ]
  },
  {
   "cell_type": "code",
   "execution_count": null,
   "id": "bigger-mongolia",
   "metadata": {},
   "outputs": [],
   "source": [
    "# Quick check 3\n",
    "Phylo.draw(tt.tree, \n",
    "       show_confidence=False, \n",
    "       label_func = lambda x:'', \n",
    "       do_show=False)"
   ]
  },
  {
   "cell_type": "markdown",
   "id": "impossible-pattern",
   "metadata": {},
   "source": [
    "## Ladderize Tree"
   ]
  },
  {
   "cell_type": "code",
   "execution_count": null,
   "id": "cardiovascular-undergraduate",
   "metadata": {},
   "outputs": [],
   "source": [
    "tt.tree.ladderize(reverse=False)"
   ]
  },
  {
   "cell_type": "markdown",
   "id": "miniature-creek",
   "metadata": {},
   "source": [
    "---\n",
    "# 2. Add clock stats to data frame\n",
    "\n",
    "- Rates\n",
    "- Dates\n",
    "- RTT Regression\n",
    "- Skyline"
   ]
  },
  {
   "cell_type": "markdown",
   "id": "vietnamese-electricity",
   "metadata": {},
   "source": [
    "## Rates"
   ]
  },
  {
   "cell_type": "code",
   "execution_count": null,
   "id": "minor-lafayette",
   "metadata": {},
   "outputs": [],
   "source": [
    "tree_df[\"timetree_rate\"] = [NO_DATA_CHAR for row in range(0,len(tree_df))]  \n",
    "tree_df[\"timetree_rate_fold_change\"] = [NO_DATA_CHAR for row in range(0,len(tree_df))]  \n",
    "tree_df[\"timetree_mutation_length\"] = [NO_DATA_CHAR for row in range(0,len(tree_df))]  \n",
    "\n",
    "# The mean rate is the slope\n",
    "mean_rate = tt.clock_model[\"slope\"]\n",
    "\n",
    "for c in tt.tree.find_clades():\n",
    "    tree_df.at[c.name, \"timetree_mutation_length\"] = c.mutation_length\n",
    "    \n",
    "    # Relaxed Clock\n",
    "    if hasattr(c, \"branch_length_interpolator\") and c.branch_length_interpolator:\n",
    "        g = c.branch_length_interpolator.gamma\n",
    "        tree_df.at[c.name, \"timetree_rate_fold_change\"] = g\n",
    "        tree_df.at[c.name, \"timetree_rate\"] = mean_rate * g\n",
    "        \n",
    "    # Strict Clock\n",
    "    else:\n",
    "        tree_df.at[c.name, \"timetree_rate_fold_change\"] = 1\n",
    "        tree_df.at[c.name, \"timetree_rate\"] = mean_rate"
   ]
  },
  {
   "cell_type": "markdown",
   "id": "shared-psychology",
   "metadata": {},
   "source": [
    "## Dates"
   ]
  },
  {
   "cell_type": "code",
   "execution_count": null,
   "id": "forward-tomato",
   "metadata": {},
   "outputs": [],
   "source": [
    "# Create new columns\n",
    "tree_df[\"timetree_raw_date\"] = [NO_DATA_CHAR for row in range(0,len(tree_df))]  \n",
    "tree_df[\"timetree_num_date\"] = [NO_DATA_CHAR for row in range(0,len(tree_df))]  \n",
    "\n",
    "# Optional confidence intervals if marginal prob was run\n",
    "tree_df[\"timetree_num_date_confidence\"] = [[0,0] for row in range(0,len(tree_df))]  \n",
    "\n",
    "# clock_length is the same as branch_length until running branch_length_to_years()\n",
    "tree_df[\"timetree_clock_length\"] = [NO_DATA_CHAR for row in range(0,len(tree_df))]  \n",
    "\n",
    "# Make a copy to change branch_length\n",
    "tt_copy = copy.deepcopy(tt)\n",
    "tt_copy.branch_length_to_years()\n",
    "\n",
    "for c in tt_copy.tree.find_clades():\n",
    "    # Marginal Probability\n",
    "    if hasattr(c, \"marginal_inverse_cdf\"):    \n",
    "        # Retrieve the region containing the confidence interval\n",
    "        conf = tt.get_max_posterior_region(c, fraction=CONFIDENCE) \n",
    "        \n",
    "        # Set as lower and upper bounds on date\n",
    "        tree_df.at[c.name, \"timetree_numdate_lower\"] = conf[0]\n",
    "        tree_df.at[c.name, \"timetree_numdate_upper\"] = conf[1]\n",
    "\n",
    "    tree_df.at[c.name, \"timetree_raw_date\"] = c.date  \n",
    "    tree_df.at[c.name, \"timetree_num_date\"] = c.numdate\n",
    "    tree_df.at[c.name, \"timetree_clock_length\"] = c.branch_length"
   ]
  },
  {
   "cell_type": "code",
   "execution_count": null,
   "id": "nonprofit-criminal",
   "metadata": {},
   "outputs": [],
   "source": [
    "tree_df"
   ]
  },
  {
   "cell_type": "markdown",
   "id": "owned-illinois",
   "metadata": {},
   "source": [
    "## Regression"
   ]
  },
  {
   "cell_type": "code",
   "execution_count": null,
   "id": "burning-caution",
   "metadata": {},
   "outputs": [],
   "source": [
    "# make a copy of the tree\n",
    "tt_copy = copy.deepcopy(tt)\n",
    "tt_copy.branch_length_to_years()\n",
    "\n",
    "# Plotting the tree\n",
    "tree_df[\"timetree_coord_x\"] = [NO_DATA_CHAR for row in range(0,len(tree_df))]  \n",
    "tree_df[\"timetree_coord_y\"] = [NO_DATA_CHAR for row in range(0,len(tree_df))] \n",
    "\n",
    "# Plotting the regression\n",
    "tree_df[\"timetree_reg_x\"] = [NO_DATA_CHAR for row in range(0,len(tree_df))]  \n",
    "tree_df[\"timetree_reg_y\"] = [NO_DATA_CHAR for row in range(0,len(tree_df))]  \n",
    "tree_df[\"timetree_reg_bad\"] = [NO_DATA_CHAR for row in range(0,len(tree_df))]  \n",
    "\n",
    "x_posns = get_x_positions(tt_copy.tree)\n",
    "y_posns = get_y_positions(tt_copy.tree)\n",
    "tt_reg = tt_copy.setup_TreeRegression()\n",
    "\n",
    "# Add x and y coordinates\n",
    "for c in tt_copy.tree.find_clades():     \n",
    "        \n",
    "    # Tree Node Coordinates\n",
    "    coord_x = [value for key,value in x_posns.items() if key.name == c.name][0]\n",
    "    coord_y = [value for key,value in y_posns.items() if key.name == c.name][0]\n",
    "    tree_df.at[c.name, 'timetree_coord_x'] = coord_x\n",
    "    tree_df.at[c.name, 'timetree_coord_y'] = coord_y\n",
    "    \n",
    "    # Regression Node Coordinates\n",
    "    reg_y = c._v\n",
    "    if c.is_terminal():\n",
    "        reg_x = tt_reg.tip_value(c)\n",
    "    else:\n",
    "        reg_x = c.numdate\n",
    "    reg_bad = c.bad_branch  if hasattr(c, 'bad_branch') else False\n",
    "    tree_df.at[c.name, 'timetree_reg_x'] = reg_x\n",
    "    tree_df.at[c.name, 'timetree_reg_y'] = reg_y    \n",
    "    tree_df.at[c.name, 'timetree_reg_bad'] = reg_bad\n",
    "\n",
    "# Fix up new values that could be none\n",
    "tree_df.fillna(NO_DATA_CHAR, inplace=True)\n",
    "tree_df"
   ]
  },
  {
   "cell_type": "markdown",
   "id": "distributed-conservation",
   "metadata": {},
   "source": [
    "## Skyline"
   ]
  },
  {
   "cell_type": "code",
   "execution_count": null,
   "id": "varied-xerox",
   "metadata": {},
   "outputs": [],
   "source": [
    "if hasattr(tt, \"merger_model\"):\n",
    "    skyline, conf = tt.merger_model.skyline_inferred(gen=50, confidence=n_std)\n",
    "    print(skyline)\n",
    "    print(conf)"
   ]
  },
  {
   "cell_type": "markdown",
   "id": "northern-vanilla",
   "metadata": {},
   "source": [
    "---\n",
    "# 3. Export"
   ]
  },
  {
   "cell_type": "markdown",
   "id": "balanced-bruce",
   "metadata": {},
   "source": [
    "## Tree and Dataframe"
   ]
  },
  {
   "cell_type": "code",
   "execution_count": null,
   "id": "quantitative-solomon",
   "metadata": {},
   "outputs": [],
   "source": [
    "# Save tree dataframe with clock info\n",
    "out_path_df = os.path.join(outdir, SCRIPT_NAME + \".tsv\" )\n",
    "tree_df.to_csv(out_path_df, sep=\"\\t\")\n",
    "\n",
    "# Save timetree trees\n",
    "out_path_xml = os.path.join(outdir, SCRIPT_NAME + \".xml\" )\n",
    "out_path_nwk = os.path.join(outdir, SCRIPT_NAME + \".nwk\" )\n",
    "out_path_nexus = os.path.join(outdir, SCRIPT_NAME + \".nexus\" )\n",
    "Phylo.write(tt.tree, out_path_xml, 'phyloxml')\n",
    "Phylo.write(tt.tree, out_path_nwk, 'newick', format_branch_length='%1.{}f'.format(BRANCH_LEN_SIG_DIG))\n",
    "Phylo.write(tt.tree, out_path_nexus, 'nexus', format_branch_length='%1.{}f'.format(BRANCH_LEN_SIG_DIG))"
   ]
  },
  {
   "cell_type": "markdown",
   "id": "organized-device",
   "metadata": {},
   "source": [
    "## Clock Model JSON"
   ]
  },
  {
   "cell_type": "code",
   "execution_count": null,
   "id": "regular-contribution",
   "metadata": {},
   "outputs": [],
   "source": [
    "clock_model_dict = {}\n",
    "keys = [\"slope\", \"intercept\", \"chisq\", \"r_val\"]\n",
    "for k in keys:\n",
    "    clock_model_dict[k] = tt.clock_model[k]\n",
    "\n",
    "out_path_json = os.path.join(outdir, SCRIPT_NAME + \"_clock_model.json\" )\n",
    "with open(out_path_json, \"w\") as outfile:  \n",
    "    json.dump(clock_model_dict, outfile, indent=4, sort_keys=True)"
   ]
  },
  {
   "cell_type": "markdown",
   "id": "otherwise-software",
   "metadata": {},
   "source": [
    "## Augur JSON"
   ]
  },
  {
   "cell_type": "code",
   "execution_count": null,
   "id": "african-career",
   "metadata": {},
   "outputs": [],
   "source": [
    "\"\"\"\n",
    "# For reloading\n",
    "import importlib\n",
    "import sys\n",
    "importlib.reload(sys.modules['config'])\n",
    "from config import augur_export\n",
    "\"\"\"\n",
    "\n",
    "augur_dict = augur_export(\n",
    "    tree_path=tree_path, \n",
    "    aln_path=aln_path, \n",
    "    tree=tt.tree,     \n",
    "    #tree=tree_div, \n",
    "    tree_df=tree_df, \n",
    "    color_keyword_exclude=[\"color\", \"coord\", \"reg\", \"lat\", \"lon\"],\n",
    "    type_convert = {\n",
    "        \"Branch_Number\" : (lambda x : str(x))\n",
    "    },\n",
    ")\n",
    "\n",
    "print(augur_dict[\"nodes\"][\"Reference\"])"
   ]
  },
  {
   "cell_type": "markdown",
   "id": "super-violin",
   "metadata": {},
   "source": [
    "### Add clock model"
   ]
  },
  {
   "cell_type": "code",
   "execution_count": null,
   "id": "solid-specialist",
   "metadata": {},
   "outputs": [],
   "source": [
    "clock_model_dict = {\n",
    "    \"rate\" : tt.date2dist.clock_rate,\n",
    "    \"intercept\" : tt.date2dist.intercept,\n",
    "    \"rtt_Tmrca\" : -tt.date2dist.intercept/tt.date2dist.clock_rate,\n",
    "    \n",
    "}\n",
    "\n",
    "augur_dict[\"clock\"] = clock_model_dict"
   ]
  },
  {
   "cell_type": "markdown",
   "id": "suited-keyboard",
   "metadata": {},
   "source": [
    "### Add skyline"
   ]
  },
  {
   "cell_type": "code",
   "execution_count": null,
   "id": "spread-filename",
   "metadata": {},
   "outputs": [],
   "source": [
    "if hasattr(tt, \"merger_model\"):\n",
    "    skyline, conf = tt.merger_model.skyline_inferred(gen=args.gen_per_year, confidence=2)\n",
    "    augur_dict['skyline'] = [[float(x) for x in skyline.x], [float(y) for y in conf[0]],\n",
    "                           [float(y) for y in skyline.y], [float(y) for y in conf[1]]]"
   ]
  },
  {
   "cell_type": "code",
   "execution_count": null,
   "id": "amended-georgia",
   "metadata": {},
   "outputs": [],
   "source": [
    "print(augur_dict[\"nodes\"][\"Reference\"])\n",
    "\n",
    "out_path_augur_json = os.path.join(outdir, SCRIPT_NAME + \"_augur.json\" )\n",
    "utils.write_json(data=augur_dict, file_name=out_path_augur_json, indent=JSON_INDENT)"
   ]
  },
  {
   "cell_type": "markdown",
   "id": "advisory-prague",
   "metadata": {},
   "source": [
    "## Auspice JSON\n",
    "\n",
    "Manual edits of https://github.com/nextstrain/augur/blob/master/augur/export_v2.py\n",
    "\n",
    "This can then be used for auspice via:\n",
    "\n",
    "```\n",
    "HOST=\"localhost\" auspice view --datasetDir .\n",
    "```"
   ]
  },
  {
   "cell_type": "code",
   "execution_count": null,
   "id": "seeing-reception",
   "metadata": {},
   "outputs": [],
   "source": [
    "auspice_dict = auspice_export(\n",
    "    tree=tt.tree, \n",
    "    augur_json_paths=[out_path_augur_json], \n",
    "    auspice_config_path=auspice_config_path, \n",
    "    auspice_colors_path=auspice_colors_path,\n",
    "    auspice_latlons_path=auspice_latlon_path, \n",
    "    )\n",
    "\n",
    "# Write outputs - For Local Rendering\n",
    "out_path_auspice_local_json = os.path.join(outdir, SCRIPT_NAME + \"_auspice.json\" )\n",
    "utils.write_json(data=auspice_dict, file_name=out_path_auspice_local_json, indent=JSON_INDENT, include_version=False)\n",
    "export_v2.validate_data_json(out_path_auspice_local_json)\n",
    "print(\"Validation successful for local JSON.\")\n",
    "\n",
    "# Write outputs - For Remote Rendering\n",
    "out_path_auspice_remote_json = os.path.join(auspice_remote_dir_path, AUSPICE_PREFIX + SCRIPT_NAME.replace(\"_\",\"-\") + \".json\" )\n",
    "utils.write_json(data=auspice_dict, file_name=out_path_auspice_remote_json, indent=JSON_INDENT, include_version=False)\n",
    "export_v2.validate_data_json(out_path_auspice_remote_json)\n",
    "print(\"Validation successful for remote JSON.\")"
   ]
  },
  {
   "cell_type": "markdown",
   "id": "passive-dallas",
   "metadata": {},
   "source": [
    "## Skyline"
   ]
  },
  {
   "cell_type": "code",
   "execution_count": null,
   "id": "wound-continuity",
   "metadata": {},
   "outputs": [],
   "source": [
    "if hasattr(tt, \"merger_model\"):\n",
    "    out_path_skyline_pdf = os.path.join(outdir, SCRIPT_NAME + \"_skyline.\" + FMT )\n",
    "    out_path_skyline_txt = os.path.join(outdir, SCRIPT_NAME + \"_skyline.tsv\" )\n",
    "\n",
    "    treetime.wrappers.print_save_plot_skyline(tt, \n",
    "                                              plot=out_path_skyline_pdf, \n",
    "                                              save=out_path_skyline_txt,\n",
    "                                              screen=True,\n",
    "                                              n_std=2.0, )"
   ]
  },
  {
   "cell_type": "code",
   "execution_count": null,
   "id": "supposed-favor",
   "metadata": {},
   "outputs": [],
   "source": []
  }
 ],
 "metadata": {
  "kernelspec": {
   "display_name": "Python 3",
   "language": "python",
   "name": "python3"
  },
  "language_info": {
   "codemirror_mode": {
    "name": "ipython",
    "version": 3
   },
   "file_extension": ".py",
   "mimetype": "text/x-python",
   "name": "python",
   "nbconvert_exporter": "python",
   "pygments_lexer": "ipython3",
   "version": "3.7.3"
  }
 },
 "nbformat": 4,
 "nbformat_minor": 5
}
