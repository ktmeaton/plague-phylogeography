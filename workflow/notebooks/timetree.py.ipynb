{
 "cells": [
  {
   "cell_type": "markdown",
   "metadata": {},
   "source": [
    "---\n",
    "## Setup"
   ]
  },
  {
   "cell_type": "markdown",
   "metadata": {},
   "source": [
    "Import modules"
   ]
  },
  {
   "cell_type": "code",
   "execution_count": 1,
   "metadata": {},
   "outputs": [],
   "source": [
    "import os\n",
    "import sys\n",
    "import io\n",
    "import copy\n",
    "\n",
    "from Bio import Phylo\n",
    "import pandas as pd\n",
    "import treetime"
   ]
  },
  {
   "cell_type": "markdown",
   "metadata": {},
   "source": [
    "Input file paths"
   ]
  },
  {
   "cell_type": "code",
   "execution_count": 2,
   "metadata": {},
   "outputs": [],
   "source": [
    "# Use branch support tree since the node names are fixed\n",
    "tree_path = \"../../docs/results/latest/branch_support/branch_support.nwk\"\n",
    "aln_path = \"../../docs/results/latest/snippy_multi/snippy-core_chromosome.snps.filter5.aln\"\n",
    "tree_df_path = \"../../docs/results/latest/mugration/mugration.tsv\"\n",
    "outdir = \"../../docs/results/latest/timetree/\"\n",
    "\n",
    "# Create output directory if it doesn't exist\n",
    "if not os.path.exists(outdir):\n",
    "    os.mkdir(outdir)"
   ]
  },
  {
   "cell_type": "markdown",
   "metadata": {},
   "source": [
    "Variables"
   ]
  },
  {
   "cell_type": "code",
   "execution_count": 3,
   "metadata": {},
   "outputs": [],
   "source": [
    "# Data, columns, colors\n",
    "NO_DATA_CHAR = \"NA\"\n",
    "DATE_COL = \"Date\"\n",
    "TERM_COL = \"grey\"\n",
    "\n",
    "BRANCH_LEN_SIG_DIG = 12\n",
    "\n",
    "# Relaxed clock parameters\n",
    "# Slack around 1.0 correspond to weak priors, larger values constrain rate deviations more strongly.\n",
    "# I'm pretty sure we want a weak prior, since the distribution of rate deviation is lognormal\n",
    "slack = 1\n",
    "# Coupling 0 (–relax 1.0 0) corresponds to an un-correlated clock.\n",
    "coupling = 0\n",
    "confidence = 0.95\n",
    "# Offset for mutations: 0 will be 1-based\n",
    "offset = 0\n",
    "\n",
    "# Number of interquartile distances to identify outliers\n",
    "n_iqd = 3\n",
    "\n",
    "# Number of iterations \n",
    "max_iter = 3\n",
    "\n",
    "# Branch Length Optimization\n",
    "# For more divergent sequences, iterative optimization will underestimate the branch lengths\n",
    "# What is \"divergent\"? treetime data is a lot of epidemic viral phylo, so I think bacterial history is divergent\n",
    "# Shaw et al. (2019) finds that joint is inappropriate (because topology is fixed), classical marginal is fine?\n",
    "bl_mode = \"input\"\n",
    "ml_mode = \"marginal\" # Shaw et al. (2019) demonstrate joint is bad\n",
    "title = \"Uncorrelated Relaxed Clock\"\n",
    "file_prefix = \"uncorrelated-relaxed-clock\"\n",
    "\n",
    "#present = datetime.date.today().year\n",
    "\n",
    "#random.seed(131495)\n",
    "\n",
    "# FIRST! Try to estimate clock rate from data. See how it compares to literature.\n",
    "# For many bacterial data set were the temporal signal in the data is weak, \n",
    "# it is advisable to fix the rate of the molecular clock explicitly. \n",
    "# Divergence times, however, will depend on this choice\n",
    "# Cui 2013 (cites Morelli 2010) contrains the mean to 1e-8\n",
    "#clock_rate = 1e-8\n",
    "# Spyrou et al. 2019 observed a rate variation from 2.09E–7 to 4.95E–9\n",
    "# Mean substituion rate was 2.85E–8\n",
    "# clock_rate = 2e-8"
   ]
  },
  {
   "cell_type": "markdown",
   "metadata": {},
   "source": [
    "Read input tree and dataframe"
   ]
  },
  {
   "cell_type": "code",
   "execution_count": 4,
   "metadata": {},
   "outputs": [],
   "source": [
    "tree_div = Phylo.read(tree_path, \"newick\")\n",
    "tree_df = pd.read_csv(tree_df_path, sep='\\t')\n",
    "# Fix the problem with multiple forms of NA in the table\n",
    "# Consolidate missing data to the NO_DATA_CHAR\n",
    "tree_df.fillna(NO_DATA_CHAR, inplace=True)\n",
    "tree_df.set_index(\"Name\", inplace=True)"
   ]
  },
  {
   "cell_type": "code",
   "execution_count": 5,
   "metadata": {},
   "outputs": [
    {
     "data": {
      "text/plain": [
       "Clade(branch_length=0.0, name='NODE0')"
      ]
     },
     "execution_count": 5,
     "metadata": {},
     "output_type": "execute_result"
    }
   ],
   "source": [
    "tree_div.common_ancestor(\"NODE0\")"
   ]
  },
  {
   "cell_type": "code",
   "execution_count": 6,
   "metadata": {},
   "outputs": [
    {
     "data": {
      "text/plain": [
       "Clade(branch_length=1.0000000000000006e-12, name='NODE0')"
      ]
     },
     "execution_count": 6,
     "metadata": {},
     "output_type": "execute_result"
    },
    {
     "data": {
      "image/png": "[encoded data removed]",
      "text/plain": [
       "<Figure size 432x288 with 1 Axes>"
      ]
     },
     "metadata": {
      "needs_background": "light"
     },
     "output_type": "display_data"
    }
   ],
   "source": [
    "# Check to make sure tree looks good\n",
    "\n",
    "# Reset the root branch length from 0 to smallest branch len possible\n",
    "tree_div.root.branch_length = pow(0.1, BRANCH_LEN_SIG_DIG)\n",
    "\n",
    "# Deepest nodes at top\n",
    "tree_div.ladderize(reverse=False)\n",
    "Phylo.draw(tree_div,\n",
    "               show_confidence=False, \n",
    "               label_func = lambda x:'', \n",
    "               do_show=False)\n",
    "\n",
    "tree_div.common_ancestor(\"NODE0\")"
   ]
  },
  {
   "cell_type": "code",
   "execution_count": 7,
   "metadata": {},
   "outputs": [],
   "source": [
    "# Select tips\n",
    "dates_df = tree_df[tree_df[\"Branch_Support_Color\"] == \"grey\"]\n",
    "# Select only the date column\n",
    "dates_df = dates_df[[DATE_COL]].copy()\n",
    "\n",
    "# TEMPORARY\n",
    "dates_df.at[\"Reference\",DATE_COL] = 1992\n",
    "\n",
    "# Save tree dataframe to a tmp file\n",
    "tmp_tsv = os.path.join(outdir, \"tmp.tsv\" )\n",
    "dates_df.to_csv(tmp_tsv, sep=\"\\t\")"
   ]
  },
  {
   "cell_type": "markdown",
   "metadata": {},
   "source": [
    "Parse dates"
   ]
  },
  {
   "cell_type": "code",
   "execution_count": 8,
   "metadata": {},
   "outputs": [
    {
     "name": "stdout",
     "output_type": "stream",
     "text": [
      "\n",
      "Attempting to parse dates...\n",
      "\tUsing column 'Name' as name. This needs match the taxon names in the tree!!\n",
      "\tUsing column 'Date' as date.\n"
     ]
    }
   ],
   "source": [
    "dates = treetime.utils.parse_dates(tmp_tsv, date_col=DATE_COL)"
   ]
  },
  {
   "cell_type": "markdown",
   "metadata": {},
   "source": [
    "---\n",
    "## Timetree Analysis"
   ]
  },
  {
   "cell_type": "code",
   "execution_count": 9,
   "metadata": {
    "scrolled": true
   },
   "outputs": [
    {
     "name": "stdout",
     "output_type": "stream",
     "text": [
      "\n",
      "0.00\t-TreeAnc: set-up\n",
      "\n",
      "0.52\t-SequenceData: loaded alignment.\n",
      "\n",
      "0.52\t-SeqData: making compressed alignment...\n",
      "\n",
      "1.01\t-SequenceData: constructed compressed alignment...\n",
      "1.11\t--ClockTree: Setting precision to level 1\n",
      "\n",
      "1.14\t-ClockTree._assign_dates: assigned date contraints to 523 out of 523 tips.\n"
     ]
    }
   ],
   "source": [
    "# Basic initialize, fine tuning comes in next step\n",
    "tt_relaxed = treetime.TreeTime(tree = tree_div,\n",
    "                      aln = aln_path,\n",
    "                      verbose = 4,\n",
    "                      dates = dates,\n",
    "                      branch_length_mode = bl_mode,\n",
    "                      #one_mutation=0.00001,\n",
    "                      )\n",
    "\n",
    "# Fix the root lengths from arbitrary \n",
    "#tt_relaxed.tree.root.original_length = pow(0.1, BRANCH_LEN_SIG_DIG)\n",
    "# Set to 0 instead\n",
    "#tt_relaxed.tree.root.original_length = 0\n",
    "#tt_relaxed.tree.root.branch_length = tt_relaxed.tree.root.original_length\n",
    "#tt_relaxed.tree.root.mutation_length = tt_relaxed.tree.root.original_length\n",
    "\n",
    "# Rerooting will reset the fixed branch lengths"
   ]
  },
  {
   "cell_type": "markdown",
   "metadata": {},
   "source": [
    "## Troubleshooting"
   ]
  },
  {
   "cell_type": "code",
   "execution_count": 21,
   "metadata": {},
   "outputs": [
    {
     "name": "stdout",
     "output_type": "stream",
     "text": [
      "3810\n"
     ]
    },
    {
     "ename": "TypeError",
     "evalue": "'float' object is not callable",
     "output_type": "error",
     "traceback": [
      "\u001b[0;31m---------------------------------------------------------------------------\u001b[0m",
      "\u001b[0;31mTypeError\u001b[0m                                 Traceback (most recent call last)",
      "\u001b[0;32m<ipython-input-21-70e7ad850265>\u001b[0m in \u001b[0;36m<module>\u001b[0;34m\u001b[0m\n\u001b[1;32m      1\u001b[0m \u001b[0mprint\u001b[0m\u001b[0;34m(\u001b[0m\u001b[0mtt_relaxed\u001b[0m\u001b[0;34m.\u001b[0m\u001b[0mdata\u001b[0m\u001b[0;34m.\u001b[0m\u001b[0mfull_length\u001b[0m\u001b[0;34m)\u001b[0m\u001b[0;34m\u001b[0m\u001b[0;34m\u001b[0m\u001b[0m\n\u001b[0;32m----> 2\u001b[0;31m \u001b[0mprint\u001b[0m\u001b[0;34m(\u001b[0m\u001b[0mtt_relaxed\u001b[0m\u001b[0;34m.\u001b[0m\u001b[0mone_mutation\u001b[0m\u001b[0;34m(\u001b[0m\u001b[0;36m5.0\u001b[0m\u001b[0;34m)\u001b[0m\u001b[0;34m)\u001b[0m\u001b[0;34m\u001b[0m\u001b[0;34m\u001b[0m\u001b[0m\n\u001b[0m",
      "\u001b[0;31mTypeError\u001b[0m: 'float' object is not callable"
     ]
    }
   ],
   "source": [
    "print(tt_relaxed.data.full_length)\n",
    "print(tt_relaxed.one_mutation(5.0))"
   ]
  },
  {
   "cell_type": "code",
   "execution_count": null,
   "metadata": {},
   "outputs": [],
   "source": [
    "# Check to make sure tree root still looks good...\n",
    "\n",
    "# Deepest nodes at top\n",
    "tt_relaxed.tree.ladderize(reverse=False)\n",
    "\n",
    "Phylo.draw(tt_relaxed.tree,\n",
    "               show_confidence=False, \n",
    "               label_func = lambda x:'', \n",
    "               do_show=False)\n"
   ]
  },
  {
   "cell_type": "code",
   "execution_count": null,
   "metadata": {},
   "outputs": [],
   "source": [
    "for c in tt_relaxed.tree.find_clades():\n",
    "    print(c.name, \"\\t\", c.branch_length, \"\\t\", c.dist2root, \"\\t\", c.mutation_length, \"\\t\", c.original_length)"
   ]
  },
  {
   "cell_type": "code",
   "execution_count": null,
   "metadata": {},
   "outputs": [],
   "source": [
    "print(\"Running timetree analysis...\")\n",
    "# Initialize stdout capture\n",
    "\"\"\"old_stdout = sys.stdout\n",
    "new_stdout = io.StringIO()\n",
    "sys.stdout = new_stdout\"\"\"\n",
    "\n",
    "tt_relaxed.run(branch_length_mode = bl_mode,\n",
    "               n_iqd=n_iqd,\n",
    "               root=None,\n",
    "               infer_gtr=True,\n",
    "               resolve_polytomies=False,\n",
    "               relaxed_clock={\"slack\":slack, \"coupling\":coupling},\n",
    "               max_iter=max_iter,\n",
    "               Tc=\"skyline\",\n",
    "               use_covariation=False,\n",
    "               vary_rate=False,\n",
    "               time_marginal=\"assign\",\n",
    "               sequence_marginal=True,\n",
    "               verbose=4,\n",
    "               #clock_rate = clock_rate,\n",
    "              )\n",
    "\n",
    "# Save stdout to file\n",
    "\"\"\"output = new_stdout.getvalue()\n",
    "out_path = os.path.join(outdir, \"treetime.log\") \n",
    "with open(out_path, \"w\") as file:\n",
    "    file.write(output)\n",
    "# Restore stdout\n",
    "sys.stdout = old_stdout\"\"\"\n",
    "\n",
    "print(\"Finished timetree analysis.\")"
   ]
  },
  {
   "cell_type": "markdown",
   "metadata": {},
   "source": [
    "Make a copy for testing"
   ]
  },
  {
   "cell_type": "code",
   "execution_count": null,
   "metadata": {},
   "outputs": [],
   "source": [
    "tt_relaxed_copy = copy.deepcopy(tt_relaxed)"
   ]
  },
  {
   "cell_type": "markdown",
   "metadata": {},
   "source": [
    "Make sure tree is as expected"
   ]
  },
  {
   "cell_type": "code",
   "execution_count": null,
   "metadata": {},
   "outputs": [],
   "source": [
    "for c in tt_relaxed.tree.find_clades():\n",
    "    print(c.name, \"\\t\", c.branch_length, \"\\t\", c.dist2root, \"\\t\", c.mutation_length, \"\\t\", c.original_length)"
   ]
  },
  {
   "cell_type": "code",
   "execution_count": null,
   "metadata": {},
   "outputs": [],
   "source": [
    "# Check to make sure the root still looks good...\n",
    "\n",
    "# Deepest nodes at top\n",
    "tt_relaxed.tree.ladderize(reverse=False)\n",
    "\n",
    "Phylo.draw(tt_relaxed.tree,\n",
    "               show_confidence=False, \n",
    "               label_func = lambda x:'', \n",
    "               do_show=False)\n"
   ]
  },
  {
   "cell_type": "markdown",
   "metadata": {},
   "source": [
    "Add node comments"
   ]
  },
  {
   "cell_type": "code",
   "execution_count": null,
   "metadata": {},
   "outputs": [],
   "source": [
    "for c in tt_relaxed.tree.find_clades():\n",
    "    \"\"\"# Add mutations comment\n",
    "    if c.mutations:\n",
    "        mut_comment = 'mutations=\"' + ','.join([a+str(pos + offset)+d for (a,pos, d) in c.mutations\n",
    "                                                              if tt_relaxed.gtr.ambiguous not in [a,d]])+'\"'\n",
    "        if c.comment:\n",
    "            c.comment = \",\".join([c.comment, mut_comment])\n",
    "        else:\n",
    "            c.comment = \"&\" + mut_comment\n",
    "    # Add date comment\n",
    "    if c.numdate:\n",
    "        date_comment = 'date={:.2f}'.format(c.numdate)\n",
    "        if c.comment:\n",
    "            c.comment = \",\".join([c.comment, date_comment])\n",
    "        else:\n",
    "            c.comment = \"&\" + date_comment\"\"\"\n",
    "    \n",
    "    # Add this info to the dataframe somehow...\n",
    "    if c.name == \"NODE0\":\n",
    "        print(c.name, c.numdate)"
   ]
  },
  {
   "cell_type": "code",
   "execution_count": null,
   "metadata": {},
   "outputs": [],
   "source": [
    "Phylo.draw(tt_relaxed.tree,\n",
    "               show_confidence=False, \n",
    "               label_func = lambda x:'', \n",
    "               do_show=False)"
   ]
  },
  {
   "cell_type": "markdown",
   "metadata": {},
   "source": [
    "### Stats"
   ]
  },
  {
   "cell_type": "markdown",
   "metadata": {},
   "source": [
    "---\n",
    "## Cleanup"
   ]
  },
  {
   "cell_type": "code",
   "execution_count": null,
   "metadata": {},
   "outputs": [],
   "source": [
    "os.remove(tmp_tsv)"
   ]
  },
  {
   "cell_type": "code",
   "execution_count": null,
   "metadata": {},
   "outputs": [],
   "source": []
  }
 ],
 "metadata": {
  "kernelspec": {
   "display_name": "Python 3",
   "language": "python",
   "name": "python3"
  },
  "language_info": {
   "codemirror_mode": {
    "name": "ipython",
    "version": 3
   },
   "file_extension": ".py",
   "mimetype": "text/x-python",
   "name": "python",
   "nbconvert_exporter": "python",
   "pygments_lexer": "ipython3",
   "version": "3.7.3"
  }
 },
 "nbformat": 4,
 "nbformat_minor": 4
}
