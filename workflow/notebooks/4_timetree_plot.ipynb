{
 "cells": [
  {
   "cell_type": "markdown",
   "id": "alleged-timeline",
   "metadata": {},
   "source": [
    "# Objectives\n",
    "\n",
    "1. Plot the RTT Linear Regression\n",
    "1. Plot rate variation\n",
    "1. Plot timetree"
   ]
  },
  {
   "cell_type": "markdown",
   "id": "pediatric-throw",
   "metadata": {},
   "source": [
    "---\n",
    "# Setup"
   ]
  },
  {
   "cell_type": "markdown",
   "id": "enabling-establishment",
   "metadata": {},
   "source": [
    "## Import Modules"
   ]
  },
  {
   "cell_type": "code",
   "execution_count": 4,
   "id": "front-rachel",
   "metadata": {},
   "outputs": [],
   "source": [
    "import os\n",
    "\n",
    "import seaborn as sns\n",
    "import matplotlib.pyplot as plt\n",
    "\n",
    "import random\n",
    "import json # Read clock model data\n",
    "import scipy.stats # Regression line\n",
    "\n",
    "from Bio import Phylo"
   ]
  },
  {
   "cell_type": "markdown",
   "id": "flush-worthy",
   "metadata": {},
   "source": [
    "## Input File Paths"
   ]
  },
  {
   "cell_type": "code",
   "execution_count": null,
   "id": "suitable-algeria",
   "metadata": {},
   "outputs": [],
   "source": [
    "tree_tt_path = \"../../docs/results/latest/timetree/timetree.nwk\"\n",
    "tree_df_path = \"../../docs/results/latest/timetree/timetree.tsv\"\n",
    "clock_model_path = \"../../docs/results/latest/timetree/timetree_clock_model.json\"\n",
    "outdir = \"../../docs/results/latest/timetree/\"\n",
    "\n",
    "# Create output directory if it doesn't exist\n",
    "if not os.path.exists(outdir):\n",
    "    os.mkdir(outdir)"
   ]
  },
  {
   "cell_type": "markdown",
   "id": "perfect-checklist",
   "metadata": {},
   "source": [
    "## Variables"
   ]
  },
  {
   "cell_type": "code",
   "execution_count": null,
   "id": "beneficial-grade",
   "metadata": {},
   "outputs": [],
   "source": [
    "from config import *\n",
    "\n",
    "NAME_COL = \"Name\"\n",
    "SCRIPT_NAME = \"timetree\"\n",
    "\n",
    "# Random\n",
    "random.seed(1152342, 2)\n",
    "np.random.seed(70262122)\n",
    "st0 = np.random.get_state()\n",
    "\n",
    "\n",
    "plt.rc('lines', linewidth=2)\n",
    "plt.rc('legend', labelspacing=0.75)\n",
    "plt.rc('legend', frameon=False) # legend frame"
   ]
  },
  {
   "cell_type": "markdown",
   "id": "contemporary-spanking",
   "metadata": {},
   "source": [
    "## Import Dataframe"
   ]
  },
  {
   "cell_type": "code",
   "execution_count": null,
   "id": "turkish-tennessee",
   "metadata": {},
   "outputs": [],
   "source": [
    "tree_df = pd.read_csv(tree_df_path, sep='\\t')\n",
    "# Fix the problem with multiple forms of NA in the table\n",
    "# Consolidate missing data to the NO_DATA_CHAR\n",
    "tree_df.fillna(NO_DATA_CHAR, inplace=True)\n",
    "tree_df.set_index(NAME_COL, inplace=True)"
   ]
  },
  {
   "cell_type": "code",
   "execution_count": 2,
   "id": "relevant-apache",
   "metadata": {},
   "outputs": [],
   "source": [
    "## Import Trees"
   ]
  },
  {
   "cell_type": "code",
   "execution_count": 3,
   "id": "departmental-language",
   "metadata": {},
   "outputs": [
    {
     "ename": "NameError",
     "evalue": "name 'Phylo' is not defined",
     "output_type": "error",
     "traceback": [
      "\u001b[0;31m---------------------------------------------------------------------------\u001b[0m",
      "\u001b[0;31mNameError\u001b[0m                                 Traceback (most recent call last)",
      "\u001b[0;32m<ipython-input-3-ec58729884f9>\u001b[0m in \u001b[0;36m<module>\u001b[0;34m\u001b[0m\n\u001b[0;32m----> 1\u001b[0;31m \u001b[0mtree_tt\u001b[0m \u001b[0;34m=\u001b[0m \u001b[0mPhylo\u001b[0m\u001b[0;34m.\u001b[0m\u001b[0mread\u001b[0m\u001b[0;34m(\u001b[0m\u001b[0mtree_tt_path\u001b[0m\u001b[0;34m,\u001b[0m \u001b[0;34m\"newick\"\u001b[0m\u001b[0;34m)\u001b[0m\u001b[0;34m\u001b[0m\u001b[0;34m\u001b[0m\u001b[0m\n\u001b[0m\u001b[1;32m      2\u001b[0m \u001b[0mtree_tt\u001b[0m\u001b[0;34m.\u001b[0m\u001b[0mladderize\u001b[0m\u001b[0;34m(\u001b[0m\u001b[0mreverse\u001b[0m\u001b[0;34m=\u001b[0m\u001b[0;32mFalse\u001b[0m\u001b[0;34m)\u001b[0m\u001b[0;34m\u001b[0m\u001b[0;34m\u001b[0m\u001b[0m\n",
      "\u001b[0;31mNameError\u001b[0m: name 'Phylo' is not defined"
     ]
    }
   ],
   "source": [
    "tree_tt = Phylo.read(tree_tt_path, \"newick\")\n",
    "tree_tt.ladderize(reverse=False)"
   ]
  },
  {
   "cell_type": "markdown",
   "id": "traditional-paintball",
   "metadata": {},
   "source": [
    "---\n",
    "# 1. Plot RTT Regression"
   ]
  },
  {
   "cell_type": "code",
   "execution_count": null,
   "id": "invisible-stable",
   "metadata": {},
   "outputs": [],
   "source": [
    "with open(clock_model_path) as infile:\n",
    "    regression = json.load(infile)"
   ]
  },
  {
   "cell_type": "code",
   "execution_count": null,
   "id": "sorted-seventh",
   "metadata": {},
   "outputs": [],
   "source": [
    "# Setup axis\n",
    "fig, (ax1) = plt.subplots(1, dpi=dpi, figsize=figsize_mini)\n",
    "\n",
    "\n",
    "# Make separate datasets for tips and internal nodes\n",
    "tip_data = tree_df[(tree_df[\"timetree_reg_x\"] != NO_DATA_CHAR) &\n",
    "                   (tree_df[\"Branch_Support_Color\"] == TERM_COL) ]\n",
    "\n",
    "int_data = tree_df[(tree_df[\"timetree_reg_x\"] != NO_DATA_CHAR) & (tree_df[\"Branch_Support_Color\"] != TERM_COL)]\n",
    "\n",
    "# Time to most recent common ancestor (x-intercept)\n",
    "t_mrca = -regression['intercept']/regression['slope']\n",
    "\n",
    "# This does not filter for bad branches!\n",
    "time_span = np.max(tip_data[\"timetree_reg_x\"]) - np.min(tip_data[\"timetree_reg_x\"])\n",
    "x_vals = np.array([max(np.min(tip_data[\"timetree_reg_x\"]), t_mrca) - 0.1*time_span, \n",
    "                   np.max(tip_data[\"timetree_reg_x\"]+0.05*time_span)])\n",
    "\n",
    "res = scipy.stats.linregress(list(tip_data[\"timetree_reg_x\"]),list(tip_data[\"timetree_reg_y\"]))\n",
    "\n",
    "# When no confidence is enabled\n",
    "dev_rtt = None\n",
    "dev_slope = None\n",
    "\n",
    "# Plot internal nodes\n",
    "ax1.scatter(data=int_data, \n",
    "            x=\"timetree_reg_x\", \n",
    "            y=\"timetree_reg_y\",\n",
    "            label=\"Internal Nodes\",\n",
    "            color=DISC_CMAPLIST[2],\n",
    "            edgecolor=\"black\",\n",
    "            linewidth=0.5,\n",
    "            s=15,\n",
    "            alpha=0.75,\n",
    "            zorder=1,)\n",
    "# Plot tips\n",
    "ax1.scatter(data=tip_data, \n",
    "            x=\"timetree_reg_x\", \n",
    "            y=\"timetree_reg_y\",\n",
    "            label=\"Tips\",\n",
    "            color=DISC_CMAPLIST[1],\n",
    "            edgecolor=\"black\",\n",
    "            linewidth=0.5,\n",
    "            s=15,\n",
    "            alpha=0.75,\n",
    "            zorder=2,)\n",
    "\n",
    "# Regression line\n",
    "ax1.plot(x_vals, \n",
    "         regression['slope']*x_vals + regression['intercept'],\n",
    "         label = r\"$y=\\alpha + \\beta t$\"+\"\\n\"+\n",
    "                r\"$\\beta=$%1.2e\"%(regression[\"slope\"])\n",
    "                + (\"+/- %1.e\"%dev_slope if dev_slope else \"\") +\n",
    "                \"\\nR²={:.3f}\".format(res.rvalue**2) +\n",
    "                \"\\nRoot Date: %1.1f\"%(-regression['intercept']/regression['slope']) +\n",
    "                (\"+/- %1.2f\"%dev_rtt if dev_rtt else \"\"),\n",
    "         color=DISC_CMAPLIST[0],\n",
    "         zorder=3,\n",
    "        )\n",
    "\n",
    "# Labels\n",
    "ax1.set_xlabel(\"Date\")\n",
    "ax1.set_ylabel(\"Root-to-Tip Distance\")\n",
    "ax1.set_title(\"Root-to-Tip Regression on Date\")\n",
    "# Legend\n",
    "plt.legend(loc=2)\n",
    "\n",
    "# Save\n",
    "out_path = os.path.join(outdir, SCRIPT_NAME + \"_rtt.\" + FMT) \n",
    "plt.savefig(out_path, \n",
    "            dpi=dpi, \n",
    "            bbox_inches = \"tight\")"
   ]
  },
  {
   "cell_type": "markdown",
   "id": "expired-earthquake",
   "metadata": {},
   "source": [
    "---\n",
    "# 2. Plot Rate Variation"
   ]
  },
  {
   "cell_type": "code",
   "execution_count": null,
   "id": "abandoned-wages",
   "metadata": {},
   "outputs": [],
   "source": [
    "# Setup axis\n",
    "fig, ax1 = plt.subplots(1, dpi=dpi, figsize=figsize_mini)\n",
    "\n",
    "# Plot the histogram\n",
    "# troubleshoot the disappearing nodes!\n",
    "\n",
    "min_gamma = ['', 1]\n",
    "max_gamma = ['', 1]\n",
    "gamma_dict = {}\n",
    "    \n",
    "for rec in tip_data.iterrows():\n",
    "    sample = rec[0]\n",
    "    data = rec[1]\n",
    "    g = tip_data[\"timetree_rate_fold_change\"][sample]\n",
    "    if g <= min_gamma[1]:\n",
    "        min_gamma[0] = sample\n",
    "        min_gamma[1] = g\n",
    "    if g >= max_gamma[1]:\n",
    "        max_gamma[0] = sample\n",
    "        max_gamma[1] = g\n",
    "    gamma_dict[sample] = g\n",
    "\n",
    "sns.histplot(x = list(gamma_dict.values()), \n",
    "         ax=ax1,\n",
    "         alpha=0.75,\n",
    "         ) \n",
    "\n",
    "        \n",
    "ax1.set_xlabel(\"Rate Multiplier\")\n",
    "ax1.set_ylabel(\"Number of Branches\")\n",
    "ax1.set_xlim(0,max_gamma[1])\n",
    "ax1.set_title(\"Rate Variation Across Branches\")\n",
    "\n",
    "\"\"\"\n",
    "# Save\n",
    "out_path = os.path.join(outdir, SCRIPT_NAME + \"_rate_variation.\" + FMT) \n",
    "plt.savefig(out_path, \n",
    "        dpi=dpi, \n",
    "        bbox_inches = \"tight\")\"\"\""
   ]
  },
  {
   "cell_type": "markdown",
   "id": "specialized-symposium",
   "metadata": {},
   "source": [
    "---\n",
    "# 3. Plot Timetree"
   ]
  },
  {
   "cell_type": "code",
   "execution_count": null,
   "id": "blond-johns",
   "metadata": {},
   "outputs": [],
   "source": [
    "fig, (ax1) = plt.subplots(1, \n",
    "                         dpi=dpi, \n",
    "                         gridspec_kw={'wspace': 0.05}, \n",
    "                         figsize=figsize_alt,\n",
    "                         sharey=True,\n",
    "                         )\n",
    "\n",
    "plt.rc('lines', linewidth=0.5)\n",
    "\n",
    "# Create a dictionary to hold mapping of attribute : color\n",
    "# Will need this later for legend construction?\n",
    "mug_dict = {MUG_ATTR: {\"hex_color\": {}}}\n",
    "\n",
    "# Make copies for modification\n",
    "tree_div_copy = copy.deepcopy(tree_div)\n",
    "tt_copy = copy.deepcopy(tt)\n",
    "tt_copy.branch_length_to_years()\n",
    "\n",
    "for c in tree_div_copy.find_clades():\n",
    "    c.color = \"black\"\n",
    "# --------------------------------------------\n",
    "# Draw trees\n",
    "for t,ax in zip([tree_div_copy, tt_copy.tree], [ax1, ax2]):\n",
    "    # Color the tree by an attribute\n",
    "    hex_dict = color_tree(tree=t, \n",
    "                          df=tree_df, \n",
    "                          attribute=\"Mugration_\" + MUG_ATTR,\n",
    "                          attribute_confidence=\"Mugration_\" + MUG_ATTR + \"_Confidence\",\n",
    "                          threshold_confidence=MUG_CONF_THRESH,                          \n",
    "                          color_pal=CONT_COLOR_PAL)\n",
    "    # Add the Low confidence Element\n",
    "    hex_dict[\"Low Confidence\"] = \"grey\"\n",
    "    mug_dict[MUG_ATTR][\"hex_color\"] = hex_dict\n",
    "    Phylo.draw(t, \n",
    "           axes=ax, \n",
    "           show_confidence=False, \n",
    "           label_func = lambda x:'', \n",
    "           do_show=False)"
   ]
  }
 ],
 "metadata": {
  "kernelspec": {
   "display_name": "Python 3",
   "language": "python",
   "name": "python3"
  },
  "language_info": {
   "codemirror_mode": {
    "name": "ipython",
    "version": 3
   },
   "file_extension": ".py",
   "mimetype": "text/x-python",
   "name": "python",
   "nbconvert_exporter": "python",
   "pygments_lexer": "ipython3",
   "version": "3.7.3"
  }
 },
 "nbformat": 4,
 "nbformat_minor": 5
}
