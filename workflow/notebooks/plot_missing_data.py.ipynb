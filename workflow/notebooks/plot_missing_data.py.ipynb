{
 "cells": [
  {
   "cell_type": "markdown",
   "metadata": {},
   "source": [
    "# Plot Missing Data"
   ]
  },
  {
   "cell_type": "markdown",
   "metadata": {},
   "source": [
    "## Import Modules"
   ]
  },
  {
   "cell_type": "code",
   "execution_count": null,
   "metadata": {},
   "outputs": [],
   "source": [
    "import pandas as pd\n",
    "import plotly.graph_objects as go\n",
    "import os"
   ]
  },
  {
   "cell_type": "markdown",
   "metadata": {},
   "source": [
    "## Setup"
   ]
  },
  {
   "cell_type": "code",
   "execution_count": null,
   "metadata": {},
   "outputs": [],
   "source": [
    "# Identify reads_origins is filter snp logs path\n",
    "reads_origin_list = [\"assembly\", \"sra\", \"local\", \"all\"]\n",
    "\n",
    "for origin in reads_origin_list:\n",
    "  if origin in snakemake.input.filter_snp_log[0]:\n",
    "    reads_origin = origin\n",
    "    break\n",
    "\n",
    "# Identify plot_thresholds from filter snp logs path\n",
    "plot_thresholds = []\n",
    "for filterlog in snakemake.input.filter_snp_log:\n",
    "    threshold = [item.replace(\"filter\",\"\") for item in filterlog.split(\".\") if \"filter\" in item][0]\n",
    "    plot_thresholds.append(threshold)\n",
    "print(plot_thresholds)\n",
    "\n",
    "# Identify the locus from the last filter snp log\n",
    "target_locus = [item.replace(\"snippy-core_\",\"\").split(\".\")[0] for item in filterlog.split(\"/\") if \"snippy-core\" in item][0]\n",
    "print(\"Target Locus: \", target_locus)\n",
    "\n",
    "# Directories to search\n",
    "project_dir = os.getcwd()\n",
    "output_dir = os.path.join(project_dir, \"results\", \"snippy_multi\", reads_origin)\n",
    "logs_dir = os.path.join(project_dir, \"workflow\", \"logs\", \"snippy_multi\", reads_origin)\n",
    "\n",
    "# Initialize data dict\n",
    "data = {\n",
    "        \"missing_data\" : [],\n",
    "        \"singleton_variants\" : [],\n",
    "        \"parsimony_variants\" : [],\n",
    "        \"filtered_variants\" : [],\n",
    "       }\n",
    "num_samples = 0\n",
    "num_sites = 0"
   ]
  },
  {
   "cell_type": "markdown",
   "metadata": {},
   "source": [
    "## Parse Data - Snakemake"
   ]
  },
  {
   "cell_type": "code",
   "execution_count": null,
   "metadata": {},
   "outputs": [],
   "source": [
    "for threshold in plot_thresholds:\n",
    "    # search for all variants in filter_snp logs\n",
    "    filterlog_file = \"snippy-core_{}.snps.filter{}.log\".format(target_locus, threshold)\n",
    "\n",
    "    num_samples_term = \"Number of samples: \"\n",
    "    num_sites_term = \"Alignment length: \"\n",
    "    singleton_variants_term = \"Total singleton sites: \"\n",
    "    parsimony_variants_term = \"Parsimony informative sites: \"\n",
    "    filtered_variants_term = \"Sites passing missing data filter: \"\n",
    "\n",
    "    singleton_variants = 0\n",
    "    parsimon_variants = 0\n",
    "    filtered_variants = 0\n",
    "    for file in snakemake.input.filter_snp_log:\n",
    "        if filterlog_file in file:\n",
    "            data[\"missing_data\"].append(threshold)\n",
    "            with open(file, \"r\") as logfile:\n",
    "                for line in logfile:\n",
    "                    # Get number of samples\n",
    "                    if num_samples_term in line:\n",
    "                        num_samples = line.split(num_samples_term)[1]\n",
    "                    # Get all sites count\n",
    "                    if num_sites_term in line:\n",
    "                        num_sites = line.split(num_sites_term)[1]\n",
    "                    # Get singleton count\n",
    "                    if singleton_variants_term in line:\n",
    "                        singleton_variants = line.split(singleton_variants_term)[1]\n",
    "                        singleton_variants = singleton_variants.split(\" \")[0]\n",
    "                    # Get parsimony count\n",
    "                    if parsimony_variants_term in line:\n",
    "                        parsimony_variants = line.split(parsimony_variants_term)[1]\n",
    "                        parsimony_variants = parsimony_variants.split(\" \")[0]                        \n",
    "                    # Get filtered count\n",
    "                    if filtered_variants_term in line:\n",
    "                        filtered_variants = line.split(filtered_variants_term)[1]                    \n",
    "                        \n",
    "    # Add parsed data to dictionary\n",
    "    data[\"singleton_variants\"].append(singleton_variants)\n",
    "    data[\"parsimony_variants\"].append(parsimony_variants)\n",
    "    data[\"filtered_variants\"].append(filtered_variants)\n",
    "    \n",
    "print(data)\n",
    "print(\"num_samples: \", num_samples)\n",
    "print(\"num_sites: \", num_sites)"
   ]
  },
  {
   "cell_type": "markdown",
   "metadata": {},
   "source": [
    "## Figure"
   ]
  },
  {
   "cell_type": "markdown",
   "metadata": {},
   "source": [
    "### Initialize"
   ]
  },
  {
   "cell_type": "code",
   "execution_count": null,
   "metadata": {},
   "outputs": [],
   "source": [
    "fig = go.Figure()"
   ]
  },
  {
   "cell_type": "markdown",
   "metadata": {},
   "source": [
    "### Add Data - Singleton Variants"
   ]
  },
  {
   "cell_type": "code",
   "execution_count": null,
   "metadata": {},
   "outputs": [],
   "source": [
    "fig.add_trace(\n",
    "  go.Scatter(\n",
    "    x= data[\"missing_data\"],\n",
    "    y = data[\"singleton_variants\"],\n",
    "    mode='lines+markers',\n",
    "    name = \"Singleton Variants\",\n",
    "    marker=dict(\n",
    "      #color='LightSkyBlue',\n",
    "      size=20,\n",
    "      line=dict(\n",
    "        color='DarkSlateGrey',\n",
    "        width=2,\n",
    "      )\n",
    "    ),\n",
    "    line=dict(width=5),\n",
    "  )\n",
    ")"
   ]
  },
  {
   "cell_type": "markdown",
   "metadata": {},
   "source": [
    "### Add Data - Parsimony Informative Variants"
   ]
  },
  {
   "cell_type": "code",
   "execution_count": null,
   "metadata": {},
   "outputs": [],
   "source": [
    "fig.add_trace(\n",
    "  go.Scatter(\n",
    "    x= data[\"missing_data\"],\n",
    "    y = data[\"parsimony_variants\"],\n",
    "    mode='lines+markers',\n",
    "    name = \"Parsimony Informative Variants\",\n",
    "    marker=dict(\n",
    "      #color='LightSkyBlue',\n",
    "      size=20,\n",
    "      line=dict(\n",
    "        color='DarkSlateGrey',\n",
    "        width=2,\n",
    "      )\n",
    "    ),\n",
    "    line=dict(width=5),\n",
    "  )\n",
    ")"
   ]
  },
  {
   "cell_type": "markdown",
   "metadata": {},
   "source": [
    "### Add Data - Filtered Variants"
   ]
  },
  {
   "cell_type": "code",
   "execution_count": null,
   "metadata": {},
   "outputs": [],
   "source": [
    "fig.add_trace(\n",
    "  go.Scatter(\n",
    "    x= data[\"missing_data\"],\n",
    "    y = data[\"filtered_variants\"],\n",
    "    mode='lines+markers',\n",
    "    name = \"Filtered Variants\",\n",
    "    marker=dict(\n",
    "      size=20,\n",
    "      line=dict(\n",
    "        color='DarkSlateGrey',\n",
    "        width=2,\n",
    "      )\n",
    "    ),\n",
    "    line=dict(width=5),\n",
    "  )\n",
    ")"
   ]
  },
  {
   "cell_type": "markdown",
   "metadata": {},
   "source": [
    "### Customize Appearance"
   ]
  },
  {
   "cell_type": "code",
   "execution_count": null,
   "metadata": {},
   "outputs": [],
   "source": [
    "fig.update_layout(\n",
    "  template=\"simple_white\", \n",
    "  width=1080,\n",
    "  height=720,\n",
    "  title=(\"<b>Variants Across Missing Data Site Thresholds <br> (Samples: \" \n",
    "          + str(num_samples) \n",
    "          + \", Sites: \" \n",
    "          + str(num_sites) \n",
    "          + \") </b>\"),\n",
    "  title_x = 0.5,\n",
    "  xaxis = dict(\n",
    "      title = \"Missing Data Threshold Per Site (%)\",\n",
    "      tickvals = plot_thresholds,\n",
    "      ),\n",
    "  yaxis_title = \"Number of Variant Sites\",\n",
    ")\n"
   ]
  },
  {
   "cell_type": "markdown",
   "metadata": {},
   "source": [
    "## Display"
   ]
  },
  {
   "cell_type": "code",
   "execution_count": null,
   "metadata": {},
   "outputs": [],
   "source": [
    "fig.show()"
   ]
  },
  {
   "cell_type": "markdown",
   "metadata": {},
   "source": [
    "## Save"
   ]
  },
  {
   "cell_type": "code",
   "execution_count": null,
   "metadata": {},
   "outputs": [],
   "source": [
    "#output_plot = os.path.join(output_dir, \"missing_data.html\")\n",
    "output_plot = snakemake.output.plot\n",
    "fig.write_html(output_plot)"
   ]
  },
  {
   "cell_type": "code",
   "execution_count": null,
   "metadata": {},
   "outputs": [],
   "source": []
  }
 ],
 "metadata": {
  "kernelspec": {
   "display_name": "Python 3",
   "language": "python",
   "name": "python3"
  },
  "language_info": {
   "codemirror_mode": {
    "name": "ipython",
    "version": 3
   },
   "file_extension": ".py",
   "mimetype": "text/x-python",
   "name": "python",
   "nbconvert_exporter": "python",
   "pygments_lexer": "ipython3",
   "version": "3.8.6"
  }
 },
 "nbformat": 4,
 "nbformat_minor": 4
}
