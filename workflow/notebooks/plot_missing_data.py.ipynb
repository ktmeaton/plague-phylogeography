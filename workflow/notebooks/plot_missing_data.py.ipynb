{
 "cells": [
  {
   "cell_type": "markdown",
   "metadata": {},
   "source": [
    "# Plot Missing Data"
   ]
  },
  {
   "cell_type": "markdown",
   "metadata": {},
   "source": [
    "## Import Modules"
   ]
  },
  {
   "cell_type": "code",
   "execution_count": 3,
   "metadata": {},
   "outputs": [],
   "source": [
    "import pandas as pd\n",
    "import plotly.graph_objects as go"
   ]
  },
  {
   "cell_type": "markdown",
   "metadata": {},
   "source": [
    "## Setup Data"
   ]
  },
  {
   "cell_type": "code",
   "execution_count": 1,
   "metadata": {},
   "outputs": [],
   "source": [
    "data = {\n",
    "        \"missing_data\" : [0,1,2,3,4,5],\n",
    "        \"all_variants\" : [0,52,396,1786,3653,6166],\n",
    "        \"parsimony_variants\" : [0,26,162,716,1479,2460],\n",
    "       }"
   ]
  },
  {
   "cell_type": "markdown",
   "metadata": {},
   "source": [
    "## Figure"
   ]
  },
  {
   "cell_type": "markdown",
   "metadata": {},
   "source": [
    "### Initialize"
   ]
  },
  {
   "cell_type": "code",
   "execution_count": 4,
   "metadata": {},
   "outputs": [],
   "source": [
    "fig = go.Figure()"
   ]
  },
  {
   "cell_type": "markdown",
   "metadata": {},
   "source": [
    "### Add Data - All Variants"
   ]
  },
  {
   "cell_type": "code",
   "execution_count": null,
   "metadata": {},
   "outputs": [],
   "source": [
    "fig.add_trace(\n",
    "  go.Scatter(\n",
    "    x= data[\"missing_data\"],\n",
    "    y = data[\"all_variants\"],\n",
    "    mode='lines+markers',\n",
    "    name = \"All Variants\",\n",
    "    marker=dict(\n",
    "      #color='LightSkyBlue',\n",
    "      size=20,\n",
    "      line=dict(\n",
    "        color='DarkSlateGrey',\n",
    "        width=2,\n",
    "      )\n",
    "    ),\n",
    "    line=dict(width=5),\n",
    "  )\n",
    ")"
   ]
  },
  {
   "cell_type": "markdown",
   "metadata": {},
   "source": [
    "### Add Data - Parsimony Informative Variants"
   ]
  },
  {
   "cell_type": "code",
   "execution_count": null,
   "metadata": {},
   "outputs": [],
   "source": [
    "fig.add_trace(\n",
    "  go.Scatter(\n",
    "    x= data[\"missing_data\"],\n",
    "    y = data[\"parsimony_variants\"],\n",
    "    mode='lines+markers',\n",
    "    name = \"Parsimony Informative Variants\",\n",
    "    marker=dict(\n",
    "      #color='LightSkyBlue',\n",
    "      size=20,\n",
    "      line=dict(\n",
    "        color='DarkSlateGrey',\n",
    "        width=2,\n",
    "      )\n",
    "    ),\n",
    "    line=dict(width=5),\n",
    "  )\n",
    ")"
   ]
  },
  {
   "cell_type": "markdown",
   "metadata": {},
   "source": [
    "### Customize Appearance"
   ]
  },
  {
   "cell_type": "code",
   "execution_count": null,
   "metadata": {},
   "outputs": [],
   "source": [
    "fig.update_layout(\n",
    "  template=\"simple_white\", \n",
    "  width=1080,\n",
    "  height=720,\n",
    "  title=\"<b>Variant Sites Across Missing Data Site Thresholds</b>\",\n",
    "  title_x = 0.5,\n",
    "  xaxis = dict(\n",
    "      title = \"Missing Data Threshold Per Site (%)\",\n",
    "      tick0 = 0,\n",
    "      dtick = 1,\n",
    "      ),\n",
    "  yaxis_title = \"Number of Variant Sites\",\n",
    ")\n"
   ]
  },
  {
   "cell_type": "markdown",
   "metadata": {},
   "source": [
    "## Display"
   ]
  },
  {
   "cell_type": "code",
   "execution_count": null,
   "metadata": {},
   "outputs": [],
   "source": [
    "fig.show()"
   ]
  }
 ],
 "metadata": {
  "kernelspec": {
   "display_name": "Python 3",
   "language": "python",
   "name": "python3"
  },
  "language_info": {
   "codemirror_mode": {
    "name": "ipython",
    "version": 3
   },
   "file_extension": ".py",
   "mimetype": "text/x-python",
   "name": "python",
   "nbconvert_exporter": "python",
   "pygments_lexer": "ipython3",
   "version": "3.8.6"
  }
 },
 "nbformat": 4,
 "nbformat_minor": 4
}
