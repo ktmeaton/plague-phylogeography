{
 "cells": [
  {
   "cell_type": "code",
   "execution_count": 1,
   "id": "continent-remainder",
   "metadata": {
    "scrolled": true
   },
   "outputs": [
    {
     "name": "stdout",
     "output_type": "stream",
     "text": [
      "\n",
      "Attempting to parse dates...\n",
      "\n",
      "\tERROR: file ../../docs/results/latest/metadata/metadata.tsv does not exist, exiting...\n",
      "\n",
      "0.00\t-TreeAnc: set-up\n",
      "\n",
      "0.04\t-###TEST.TreeAnc.prepare_tree: BEGIN\n",
      "0.21\t--ClockTree: Setting precision to level 2\n"
     ]
    },
    {
     "ename": "MissingDataError",
     "evalue": "ERROR: ALMOST NO VALID DATE CONSTRAINTS",
     "output_type": "error",
     "traceback": [
      "\u001b[0;31m---------------------------------------------------------------------------\u001b[0m",
      "\u001b[0;31mMissingDataError\u001b[0m                          Traceback (most recent call last)",
      "\u001b[0;32m<ipython-input-1-dee07f6b8fdd>\u001b[0m in \u001b[0;36m<module>\u001b[0;34m\u001b[0m\n\u001b[1;32m     29\u001b[0m                            \u001b[0mseq_len\u001b[0m\u001b[0;34m=\u001b[0m\u001b[0mREF_LEN\u001b[0m\u001b[0;34m,\u001b[0m\u001b[0;34m\u001b[0m\u001b[0;34m\u001b[0m\u001b[0m\n\u001b[1;32m     30\u001b[0m                            \u001b[0mverbose\u001b[0m\u001b[0;34m=\u001b[0m\u001b[0;36m4\u001b[0m\u001b[0;34m,\u001b[0m\u001b[0;34m\u001b[0m\u001b[0;34m\u001b[0m\u001b[0m\n\u001b[0;32m---> 31\u001b[0;31m                            fill_overhangs=False)\n\u001b[0m\u001b[1;32m     32\u001b[0m \u001b[0;34m\u001b[0m\u001b[0m\n\u001b[1;32m     33\u001b[0m \u001b[0;31m# Remove outliers\u001b[0m\u001b[0;34m\u001b[0m\u001b[0;34m\u001b[0m\u001b[0;34m\u001b[0m\u001b[0m\n",
      "\u001b[0;32m~/miniconda3/envs/plague-phylogeography/lib/python3.7/site-packages/treetime/treetime.py\u001b[0m in \u001b[0;36m__init__\u001b[0;34m(self, *args, **kwargs)\u001b[0m\n\u001b[1;32m     32\u001b[0m \u001b[0;34m\u001b[0m\u001b[0m\n\u001b[1;32m     33\u001b[0m         \"\"\"\n\u001b[0;32m---> 34\u001b[0;31m         \u001b[0msuper\u001b[0m\u001b[0;34m(\u001b[0m\u001b[0mTreeTime\u001b[0m\u001b[0;34m,\u001b[0m \u001b[0mself\u001b[0m\u001b[0;34m)\u001b[0m\u001b[0;34m.\u001b[0m\u001b[0m__init__\u001b[0m\u001b[0;34m(\u001b[0m\u001b[0;34m*\u001b[0m\u001b[0margs\u001b[0m\u001b[0;34m,\u001b[0m \u001b[0;34m**\u001b[0m\u001b[0mkwargs\u001b[0m\u001b[0;34m)\u001b[0m\u001b[0;34m\u001b[0m\u001b[0;34m\u001b[0m\u001b[0m\n\u001b[0m\u001b[1;32m     35\u001b[0m \u001b[0;34m\u001b[0m\u001b[0m\n\u001b[1;32m     36\u001b[0m \u001b[0;34m\u001b[0m\u001b[0m\n",
      "\u001b[0;32m~/miniconda3/envs/plague-phylogeography/lib/python3.7/site-packages/treetime/clock_tree.py\u001b[0m in \u001b[0;36m__init__\u001b[0;34m(self, dates, debug, real_dates, precision, branch_length_mode, use_covariation, *args, **kwargs)\u001b[0m\n\u001b[1;32m     81\u001b[0m         \u001b[0mself\u001b[0m\u001b[0;34m.\u001b[0m\u001b[0muse_covariation\u001b[0m\u001b[0;34m=\u001b[0m\u001b[0muse_covariation\u001b[0m \u001b[0;31m# if false, covariation will be ignored in rate estimates.\u001b[0m\u001b[0;34m\u001b[0m\u001b[0;34m\u001b[0m\u001b[0m\n\u001b[1;32m     82\u001b[0m         \u001b[0mself\u001b[0m\u001b[0;34m.\u001b[0m\u001b[0m_set_precision\u001b[0m\u001b[0;34m(\u001b[0m\u001b[0mprecision\u001b[0m\u001b[0;34m)\u001b[0m\u001b[0;34m\u001b[0m\u001b[0;34m\u001b[0m\u001b[0m\n\u001b[0;32m---> 83\u001b[0;31m         \u001b[0mself\u001b[0m\u001b[0;34m.\u001b[0m\u001b[0m_assign_dates\u001b[0m\u001b[0;34m(\u001b[0m\u001b[0;34m)\u001b[0m\u001b[0;34m\u001b[0m\u001b[0;34m\u001b[0m\u001b[0m\n\u001b[0m\u001b[1;32m     84\u001b[0m \u001b[0;34m\u001b[0m\u001b[0m\n\u001b[1;32m     85\u001b[0m \u001b[0;34m\u001b[0m\u001b[0m\n",
      "\u001b[0;32m~/miniconda3/envs/plague-phylogeography/lib/python3.7/site-packages/treetime/clock_tree.py\u001b[0m in \u001b[0;36m_assign_dates\u001b[0;34m(self)\u001b[0m\n\u001b[1;32m    128\u001b[0m \u001b[0;34m\u001b[0m\u001b[0m\n\u001b[1;32m    129\u001b[0m         \u001b[0;32mif\u001b[0m \u001b[0mbad_branch_counter\u001b[0m\u001b[0;34m>\u001b[0m\u001b[0mself\u001b[0m\u001b[0;34m.\u001b[0m\u001b[0mtree\u001b[0m\u001b[0;34m.\u001b[0m\u001b[0mcount_terminals\u001b[0m\u001b[0;34m(\u001b[0m\u001b[0;34m)\u001b[0m\u001b[0;34m-\u001b[0m\u001b[0;36m3\u001b[0m\u001b[0;34m:\u001b[0m\u001b[0;34m\u001b[0m\u001b[0;34m\u001b[0m\u001b[0m\n\u001b[0;32m--> 130\u001b[0;31m             \u001b[0;32mraise\u001b[0m \u001b[0mMissingDataError\u001b[0m\u001b[0;34m(\u001b[0m\u001b[0;34m\"ERROR: ALMOST NO VALID DATE CONSTRAINTS\"\u001b[0m\u001b[0;34m)\u001b[0m\u001b[0;34m\u001b[0m\u001b[0;34m\u001b[0m\u001b[0m\n\u001b[0m\u001b[1;32m    131\u001b[0m \u001b[0;34m\u001b[0m\u001b[0m\n\u001b[1;32m    132\u001b[0m         \u001b[0mself\u001b[0m\u001b[0;34m.\u001b[0m\u001b[0mlogger\u001b[0m\u001b[0;34m(\u001b[0m\u001b[0;34m\"ClockTree._assign_dates: assigned date contraints to {} out of {} tips.\"\u001b[0m\u001b[0;34m.\u001b[0m\u001b[0mformat\u001b[0m\u001b[0;34m(\u001b[0m\u001b[0mself\u001b[0m\u001b[0;34m.\u001b[0m\u001b[0mtree\u001b[0m\u001b[0;34m.\u001b[0m\u001b[0mcount_terminals\u001b[0m\u001b[0;34m(\u001b[0m\u001b[0;34m)\u001b[0m\u001b[0;34m-\u001b[0m\u001b[0mbad_branch_counter\u001b[0m\u001b[0;34m,\u001b[0m \u001b[0mself\u001b[0m\u001b[0;34m.\u001b[0m\u001b[0mtree\u001b[0m\u001b[0;34m.\u001b[0m\u001b[0mcount_terminals\u001b[0m\u001b[0;34m(\u001b[0m\u001b[0;34m)\u001b[0m\u001b[0;34m)\u001b[0m\u001b[0;34m,\u001b[0m \u001b[0;36m1\u001b[0m\u001b[0;34m)\u001b[0m\u001b[0;34m\u001b[0m\u001b[0;34m\u001b[0m\u001b[0m\n",
      "\u001b[0;31mMissingDataError\u001b[0m: ERROR: ALMOST NO VALID DATE CONSTRAINTS"
     ]
    }
   ],
   "source": [
    "import treetime\n",
    "import matplotlib.pyplot as plt\n",
    "from Bio import Phylo\n",
    "import os\n",
    "\n",
    "tree_path = \"../../docs/results/latest/branch_support/branch_support.nwk\"\n",
    "metadata_path = \"../../docs/results/latest/metadata/metadata.tsv\"\n",
    "#metadata_path = \"test/test.metadata.tsv\"\n",
    "outdir = \"../../docs/results/latest/timetree/\"\n",
    "\n",
    "plt.rc('lines', linewidth=1)\n",
    "dpi = 400\n",
    "\n",
    "DATE_COL = \"Date\"\n",
    "NAME_COL = \"Sample\"\n",
    "REF_DATE = 1992.0\n",
    "REF_LEN = 4653728\n",
    "N_IQD=3\n",
    "\n",
    "# Create a basic TimeTree Object\n",
    "dates = treetime.utils.parse_dates(metadata_path, \n",
    "                                   date_col=DATE_COL, \n",
    "                                   name_col = NAME_COL)\n",
    "dates[\"Reference\"] = REF_DATE\n",
    "\n",
    "tt = treetime.TreeTime(dates=dates, \n",
    "                           tree=tree_path, \n",
    "                           #gtr=\"infer\", \n",
    "                           seq_len=REF_LEN,\n",
    "                           verbose=4, \n",
    "                           fill_overhangs=False)\n",
    "\n",
    "# Remove outliers\n",
    "tt.clock_filter(reroot=None, \n",
    "                n_iqd=N_IQD, \n",
    "                plot=False)\n",
    "\n",
    "# Root to tip regression\n",
    "fig, (ax1) = plt.subplots(1, dpi=400)\n",
    "tt.plot_root_to_tip(\n",
    "    ax=ax1,\n",
    "    )\n",
    "ax1.set_xlabel(\"Date\")\n",
    "ax1.set_ylabel(\"Root-to-Tip Distance\")\n",
    "\n",
    "out_path = os.path.join(outdir, \"timetree_rtt.jpg\") \n",
    "plt.savefig(out_path, \n",
    "            dpi=dpi, \n",
    "            bbox_inches = \"tight\")"
   ]
  },
  {
   "cell_type": "code",
   "execution_count": null,
   "id": "unlikely-favorite",
   "metadata": {},
   "outputs": [],
   "source": []
  }
 ],
 "metadata": {
  "kernelspec": {
   "display_name": "Python 3",
   "language": "python",
   "name": "python3"
  },
  "language_info": {
   "codemirror_mode": {
    "name": "ipython",
    "version": 3
   },
   "file_extension": ".py",
   "mimetype": "text/x-python",
   "name": "python",
   "nbconvert_exporter": "python",
   "pygments_lexer": "ipython3",
   "version": "3.7.3"
  }
 },
 "nbformat": 4,
 "nbformat_minor": 5
}
