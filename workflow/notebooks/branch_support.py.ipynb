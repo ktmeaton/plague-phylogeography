{
 "cells": [
  {
   "cell_type": "markdown",
   "metadata": {},
   "source": [
    "# Branch Support Plots"
   ]
  },
  {
   "cell_type": "markdown",
   "metadata": {},
   "source": [
    "---\n",
    "## Setup"
   ]
  },
  {
   "cell_type": "markdown",
   "metadata": {},
   "source": [
    "### Import modules"
   ]
  },
  {
   "cell_type": "code",
   "execution_count": 36,
   "metadata": {},
   "outputs": [],
   "source": [
    "import os\n",
    "from Bio import Phylo\n",
    "import matplotlib.pyplot as plt\n",
    "from matplotlib import gridspec, lines\n",
    "import seaborn as sns\n",
    "\n",
    "import pandas as pd"
   ]
  },
  {
   "cell_type": "markdown",
   "metadata": {},
   "source": [
    "### Input file paths"
   ]
  },
  {
   "cell_type": "code",
   "execution_count": 17,
   "metadata": {},
   "outputs": [],
   "source": [
    "tree_path = \"../../docs/results/latest/parse_tree/parse_tree.xml\"\n",
    "tree_df_path = \"../../docs/results/latest/parse_tree/parse_tree.tsv\"\n",
    "outdir = \"../../docs/results/latest/branch_support/\"\n",
    "\n",
    "# Create output directory if it doesn't exist\n",
    "if not os.path.exists(outdir):\n",
    "    os.mkdir(outdir)"
   ]
  },
  {
   "cell_type": "markdown",
   "metadata": {},
   "source": [
    "### Variables"
   ]
  },
  {
   "cell_type": "code",
   "execution_count": 34,
   "metadata": {},
   "outputs": [],
   "source": [
    "NO_DATA_CHAR = \"NA\"\n",
    "ALRT_THRESH = 80\n",
    "UFBOOT_THRESH = 95"
   ]
  },
  {
   "cell_type": "markdown",
   "metadata": {},
   "source": [
    "### Plotting Configuration"
   ]
  },
  {
   "cell_type": "code",
   "execution_count": 38,
   "metadata": {},
   "outputs": [],
   "source": [
    "# Colors\n",
    "HIGH_COL = \"red\"\n",
    "LOW_COL = \"black\"\n",
    "TERM_COL = \"grey\"\n",
    "THRESH_COL = \"blue\"\n",
    "COLOR_PAL = \"rainbow\"\n",
    "COLBAR_MAX_ROW = 10\n",
    "\n",
    "# Graphics\n",
    "figsize=(6.4,4.8)\n",
    "figsize_alt=(9.6,4.8)\n",
    "dpi=400\n",
    "\n",
    "# Font\n",
    "SM_FONT = 5\n",
    "MED_FONT = 8\n",
    "LG_FONT = 10\n",
    "\n",
    "plt.rc('font', size=SM_FONT)          # controls default text sizes\n",
    "plt.rc('figure', titlesize=LG_FONT)  # fontsize of the figure title\n",
    "#plt.rc('axes', labelsize=MED_FONT)    # fontsize of the x and y labels\n",
    "\n",
    "# Lines\n",
    "plt.rc('lines', linewidth=0.5)\n",
    "\n",
    "orig_rcParams = plt.rc"
   ]
  },
  {
   "cell_type": "markdown",
   "metadata": {},
   "source": [
    "### Read input tree"
   ]
  },
  {
   "cell_type": "code",
   "execution_count": 54,
   "metadata": {},
   "outputs": [],
   "source": [
    "# Note: reading phyloxml seems not to like the other attributes\n",
    "\n",
    "tree = Phylo.read(tree_path, \"phyloxml\")\n",
    "tree_df = pd.read_csv(tree_df_path, sep='\\t')\n",
    "# Fix the problem with multiple forms of NA in the table\n",
    "# Consolidate missing data to the NO_DATA_CHAR\n",
    "tree_df.fillna(NO_DATA_CHAR, inplace=True)\n",
    "tree_df.set_index(\"Name\", inplace=True)"
   ]
  },
  {
   "cell_type": "markdown",
   "metadata": {},
   "source": [
    "---\n",
    "## Plotting"
   ]
  },
  {
   "cell_type": "code",
   "execution_count": 55,
   "metadata": {},
   "outputs": [],
   "source": [
    "data = tree_df[(tree_df['aLRT'] != NO_DATA_CHAR) & (tree_df['UFboot'] != NO_DATA_CHAR) ]"
   ]
  },
  {
   "cell_type": "markdown",
   "metadata": {},
   "source": [
    "### Color branches according to branch support"
   ]
  },
  {
   "cell_type": "code",
   "execution_count": 58,
   "metadata": {},
   "outputs": [],
   "source": [
    "for c in tree.find_clades():\n",
    "    if not c.name: continue\n",
    "    c.color = tree_df[\"Branch_Support_Color\"][c.name]"
   ]
  },
  {
   "cell_type": "code",
   "execution_count": null,
   "metadata": {},
   "outputs": [
    {
     "data": {
      "text/plain": [
       "1"
      ]
     },
     "execution_count": 59,
     "metadata": {},
     "output_type": "execute_result"
    }
   ],
   "source": [
    "fig = plt.figure(constrained_layout=True, \n",
    "                 dpi=dpi,\n",
    "                 figsize=figsize)\n",
    "\n",
    "# Setup the grid\n",
    "gs = gridspec.GridSpec(2, 3, figure=fig)\n",
    "ax1 = fig.add_subplot(gs[0, 0])\n",
    "ax2 = fig.add_subplot(gs[1, 0])\n",
    "ax3 = fig.add_subplot(gs[0:, 1:3])\n",
    "\n",
    "# Local plot variables\n",
    "hist_bins = [x for x in range(0,101,2)]\n",
    "xticks_major = [x for x in range(0,101,10)]\n",
    "\n",
    "# Filter out NA values\n",
    "data = tree_df[(tree_df['aLRT'] != NO_DATA_CHAR) & (tree_df['UFboot'] != NO_DATA_CHAR) ]\n",
    "\n",
    "# -------------------------------\n",
    "# aLRT Axis\n",
    "sns.histplot(data, \n",
    "             x=\"aLRT\", \n",
    "             ax=ax1,\n",
    "             bins=hist_bins,\n",
    "             hue=\"Branch_Support_Color\",\n",
    "             palette=[HIGH_COL, LOW_COL],\n",
    "             legend=False,\n",
    "             alpha=1)\n",
    "ax1.axvline(x=ALRT_THRESH, color=THRESH_COL, linewidth=0.5, linestyle='--')\n",
    "ax1.set_xticks(xticks_major, minor=False)\n",
    "ax1.set_xticklabels(xticks_major)\n",
    "ax1.set_xlabel(\"Support Values (%)\")\n",
    "ax1.set_ylabel('Number of Branches')\n",
    "ax1.set_title('Approximate Likelihood Ratio Test (SH-aLRT)')\n",
    "\n",
    "# -------------------------------\n",
    "# UFboot Axis\n",
    "sns.histplot(data, \n",
    "             x=\"UFboot\", \n",
    "             ax=ax2,\n",
    "             bins=hist_bins,\n",
    "             hue=\"Branch_Support_Color\",\n",
    "             palette=[HIGH_COL, LOW_COL],\n",
    "             legend=False,\n",
    "             alpha=1)\n",
    "ax2.axvline(x=UFBOOT_THRESH, color=THRESH_COL, linewidth=0.5, linestyle='--')\n",
    "ax2.set_xticks(xticks_major, minor=False)\n",
    "ax2.set_xticklabels(xticks_major)\n",
    "ax2.set_ylabel('Number of Branches')\n",
    "ax2.set_xlabel(\"Support Values (%)\")\n",
    "ax2.set_title('Ultrafast Bootstrap (UFboot)')\n",
    "\n",
    "# -------------------------------\n",
    "# Phylogeny\n",
    "tree_div.ladderize(reverse=True)\n",
    "\n",
    "Phylo.draw(tree_div,\n",
    "           axes=ax3,\n",
    "           show_confidence=False, \n",
    "           label_func = lambda x:'', \n",
    "           do_show=False,\n",
    "          )\n",
    "\n",
    "ax3.set_xlabel('Branch Length')\n",
    "ax3.set_ylabel('Taxa')\n",
    "ax3.set_yticks([])\n",
    "ax3.set_yticklabels([])\n",
    "ax3.set_ylim(-20,len(tree_div.get_terminals())+20)\n",
    "ax3.set_title(\"Joint Branch Supports Across the Tree\")\n",
    "\n",
    "# -------------------------------\n",
    "# Figure title\n",
    "fig.suptitle(\"Maximum Likelihood Phylogeny Branch Supports\")\n",
    "\n",
    "# -------------------------------\n",
    "# Legend\n",
    "legend_lines = [lines.Line2D([0], [0], color=HIGH_COL, lw=4),\n",
    "                lines.Line2D([0], [0], color=LOW_COL, lw=4),\n",
    "                lines.Line2D([0], [0], color=TERM_COL, lw=4),\n",
    "                lines.Line2D([0], [0], color=THRESH_COL, lw=4, ls=\"--\"),\n",
    "               ]\n",
    "\n",
    "legend_labels = [\"Above Joint Threshold\",\n",
    "                 \"Below Joint Threshold\",\n",
    "                 \"Terminal Branch\",\n",
    "                 \"Threshold\"]\n",
    "\n",
    "fig.legend(legend_lines, \n",
    "           legend_labels,\n",
    "           ncol=len(legend_labels),\n",
    "           loc=\"center\", \n",
    "           bbox_to_anchor=(0.5, -0.05),\n",
    "           frameon=True,\n",
    "           borderpad=1.5,\n",
    "           edgecolor=\"black\")\n",
    "\n",
    "# -------------------------------\n",
    "# Caption\n",
    "num_terminal_nodes = len(tree_df[tree_df[\"Branch_Support_Color\"] == TERM_COL])\n",
    "num_internal_nodes = len(tree_df[tree_df[\"Branch_Support_Color\"] != TERM_COL])\n",
    "num_high_support = len(tree_df[tree_df[\"Branch_Support_Color\"] == HIGH_COL])\n",
    "num_low_support = len(tree_df[tree_df[\"Branch_Support_Color\"] == LOW_COL])\n",
    "perc_high_support = (num_high_support / num_internal_nodes) * 100\n",
    "\n",
    "caption_text = (\"Distribution of observed branch supports and disperal across the maximum likelihood phylogeny.\" \n",
    "                + \"\\n(\" \n",
    "                + \"Samples: {}\".format(num_terminal_nodes) \n",
    "                + \"; \"\n",
    "                + \"Non-Terminal Branches: {}\".format(num_internal_nodes)\n",
    "                + \"; \"\n",
    "                + \"High-Confidence Branches: {0} ({1:.0f}%)\".format(num_high_support, perc_high_support)\n",
    "                + \" )\"\n",
    "               )\n",
    "fig.text(0.5, -0.15, caption_text, ha='center')\n",
    "\n",
    "# -------------------------------\n",
    "# Save figure\n",
    "out_path = os.path.join(outdir, \"branch_support.jpg\") \n",
    "plt.savefig(out_path, dpi=dpi, bbox_inches = \"tight\")\n",
    "\n",
    "# Save Tree File\n",
    "out_path = os.path.join(outdir, \"branch_support.xml\" )\n",
    "Phylo.write(tree_div, \n",
    "            out_path,\n",
    "            \"phyloxml\")"
   ]
  },
  {
   "cell_type": "markdown",
   "metadata": {},
   "source": [
    "### Annotations (TBD)"
   ]
  },
  {
   "cell_type": "code",
   "execution_count": null,
   "metadata": {},
   "outputs": [],
   "source": [
    "\"\"\"\n",
    "# -------------------------------\n",
    "# Annotations\n",
    "first_pandemic_mrca = tree_div.common_ancestor(\"SAMEA4354665\", \"SAMEA1061800\").name # AE1175, DA101\n",
    "second_pandemic_mrca = tree_div.common_ancestor(\"SAMN00715800\",\"SAMEA3713715\", \"SAMEA5818822\").name # 8291, OBS137, STN008\n",
    "\n",
    "annot_dict = {\"First Pandemic\": {\"node\": first_pandemic_mrca},\n",
    "              \"Second Pandemic\": {\"node\": second_pandemic_mrca},\n",
    "             }\n",
    "\n",
    "for annot in annot_dict:\n",
    "    # Find clade that matches annotation\n",
    "    annot_clade = next(tree_div.find_clades(target=annot_dict[annot][\"node\"]))    \n",
    "    annot_x = tree_df[\"coord_x\"][annot_clade.name]\n",
    "    annot_y = tree_df[\"coord_y\"][annot_clade.name]\n",
    "    ax3.text(tree_df[\"coord_x\"][annot_clade.name] + x_offset,\n",
    "             tree_df[\"coord_y\"][annot_clade.name] + y_offset, \n",
    "             annot,)\n",
    "    ax3.annotate('Test annot', \n",
    "                xy=(annot_x, annot_y),  \n",
    "                xycoords='data',\n",
    "                xytext=(annot_x, 0+annot_y/tree_div.count_terminals()), \n",
    "                textcoords='axes fraction',\n",
    "                arrowprops=dict(facecolor='black', \n",
    "                shrink=0.05),\n",
    "                horizontalalignment='right', \n",
    "                verticalalignment='top',\n",
    "                )\n",
    "    \"\"\""
   ]
  }
 ],
 "metadata": {
  "kernelspec": {
   "display_name": "Python 3",
   "language": "python",
   "name": "python3"
  },
  "language_info": {
   "codemirror_mode": {
    "name": "ipython",
    "version": 3
   },
   "file_extension": ".py",
   "mimetype": "text/x-python",
   "name": "python",
   "nbconvert_exporter": "python",
   "pygments_lexer": "ipython3",
   "version": "3.7.3"
  }
 },
 "nbformat": 4,
 "nbformat_minor": 4
}
