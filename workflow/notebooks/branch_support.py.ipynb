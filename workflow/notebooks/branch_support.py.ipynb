{
 "cells": [
  {
   "cell_type": "markdown",
   "metadata": {},
   "source": [
    "# Branch Support Analysis"
   ]
  },
  {
   "cell_type": "markdown",
   "metadata": {},
   "source": [
    "---\n",
    "## Questions"
   ]
  },
  {
   "cell_type": "markdown",
   "metadata": {},
   "source": [
    "### 1. How much phylogenetic signal is present in the Yersinia pestis phylogeny?"
   ]
  },
  {
   "cell_type": "markdown",
   "metadata": {},
   "source": [
    "---\n",
    "## Setup"
   ]
  },
  {
   "cell_type": "markdown",
   "metadata": {},
   "source": [
    "### Module Imports"
   ]
  },
  {
   "cell_type": "code",
   "execution_count": 150,
   "metadata": {},
   "outputs": [],
   "source": [
    "import matplotlib.pyplot as plt\n",
    "from matplotlib import colors, lines, patches, gridspec, offsetbox\n",
    "import seaborn as sns\n",
    "\n",
    "import pandas as pd\n",
    "\n",
    "from Bio import Phylo\n",
    "\n",
    "import os\n",
    "import copy"
   ]
  },
  {
   "cell_type": "markdown",
   "metadata": {},
   "source": [
    "### Input File Paths"
   ]
  },
  {
   "cell_type": "code",
   "execution_count": 2,
   "metadata": {},
   "outputs": [],
   "source": [
    "tree_path = \"../../docs/results/latest/iqtree/iqtree-core_chromosome.filter5.treefile\"\n",
    "metadata_path = \"../../docs/results/latest/metadata/metadata.txt\"\n",
    "outdir = \"../../docs/results/latest/branch_support\"\n",
    "\n",
    "# Create output directory if it doesn't exist\n",
    "if not os.path.exists(outdir):\n",
    "    os.mkdir(outdir)"
   ]
  },
  {
   "cell_type": "markdown",
   "metadata": {},
   "source": [
    "### Variables"
   ]
  },
  {
   "cell_type": "code",
   "execution_count": 3,
   "metadata": {},
   "outputs": [],
   "source": [
    "# Branch Support Thresholds (from IQTREE docs)\n",
    "ALRT_THRESH = 80\n",
    "UFBOOT_THRESH = 95\n",
    "\n",
    "NO_DATA_CHAR = \"NA\""
   ]
  },
  {
   "cell_type": "markdown",
   "metadata": {},
   "source": [
    "### Plotting Configuration"
   ]
  },
  {
   "cell_type": "code",
   "execution_count": 4,
   "metadata": {},
   "outputs": [],
   "source": [
    "# Colors\n",
    "HIGH_COL = \"red\"\n",
    "LOW_COL = \"black\"\n",
    "TERM_COL = \"grey\"\n",
    "THRESH_COL = \"blue\"\n",
    "\n",
    "# Graphics\n",
    "figsize=(6.4,4.8)\n",
    "figsize_alt=(9.6,4.8)\n",
    "dpi=400\n",
    "\n",
    "# Font\n",
    "SM_FONT = 5\n",
    "MED_FONT = 8\n",
    "LG_FONT = 10\n",
    "\n",
    "plt.rc('font', size=SM_FONT)          # controls default text sizes\n",
    "plt.rc('figure', titlesize=LG_FONT)  # fontsize of the figure title\n",
    "#plt.rc('axes', labelsize=MED_FONT)    # fontsize of the x and y labels\n",
    "\n",
    "# Lines\n",
    "plt.rc('lines', linewidth=1)\n",
    "\n",
    "# Save the original parameters\n",
    "orig_rcParams = copy.deepcopy(plt.rcParams)"
   ]
  },
  {
   "cell_type": "markdown",
   "metadata": {},
   "source": [
    "---\n",
    "## Analysis"
   ]
  },
  {
   "cell_type": "markdown",
   "metadata": {},
   "source": [
    "### Convert newick tree to temporary XML"
   ]
  },
  {
   "cell_type": "code",
   "execution_count": 96,
   "metadata": {},
   "outputs": [
    {
     "data": {
      "text/plain": [
       "1"
      ]
     },
     "execution_count": 96,
     "metadata": {},
     "output_type": "execute_result"
    }
   ],
   "source": [
    "tmp_xml = os.path.join(outdir, \"temp.xml\")\n",
    "Phylo.convert(tree_path, \"newick\", tmp_xml, \"phyloxml\")"
   ]
  },
  {
   "cell_type": "markdown",
   "metadata": {},
   "source": [
    "### Create tree dataframe"
   ]
  },
  {
   "cell_type": "code",
   "execution_count": 128,
   "metadata": {},
   "outputs": [],
   "source": [
    "# Read in the new tree\n",
    "tree_div = Phylo.read(tmp_xml, \"phyloxml\")\n",
    "\n",
    "# Deepest nodes first\n",
    "tree_div.ladderize(reverse=True)\n",
    "\n",
    "# initialize empty dataframe\n",
    "tree_df = pd.DataFrame(columns = [\n",
    "    \"Name\",\n",
    "    \"UFboot\", \n",
    "    \"aLRT\", \n",
    "    \"Branch_Support_Color\", \n",
    "    \"Branch_Length\", \n",
    "    \"coord_x\", \n",
    "    \"coord_y\",]\n",
    ")"
   ]
  },
  {
   "cell_type": "markdown",
   "metadata": {},
   "source": [
    "### Get x and y coordinates of each node"
   ]
  },
  {
   "cell_type": "code",
   "execution_count": 129,
   "metadata": {},
   "outputs": [],
   "source": [
    "# This code is from the biopython Phylo module\n",
    "\n",
    "def get_x_positions(tree):\n",
    "    \"\"\"Create a mapping of each clade to its horizontal position.\n",
    "    Dict of {clade: x-coord}\n",
    "    \"\"\"\n",
    "    depths = tree.depths()\n",
    "    # If there are no branch lengths, assume unit branch lengths\n",
    "    if not max(depths.values()):\n",
    "        depths = tree.depths(unit_branch_lengths=True)\n",
    "    return depths\n",
    "\n",
    "def get_y_positions(tree):\n",
    "    \"\"\"Create a mapping of each clade to its vertical position.\n",
    "    Dict of {clade: y-coord}.\n",
    "    Coordinates are negative, and integers for tips.\n",
    "    \"\"\"\n",
    "    maxheight = tree.count_terminals()\n",
    "    # Rows are defined by the tips\n",
    "    heights = {\n",
    "        tip: maxheight - i for i, tip in enumerate(reversed(tree.get_terminals()))\n",
    "    }\n",
    "\n",
    "    # Internal nodes: place at midpoint of children\n",
    "    def calc_row(clade):\n",
    "        for subclade in clade:\n",
    "            if subclade not in heights:\n",
    "                calc_row(subclade)\n",
    "        # Closure over heights\n",
    "        heights[clade] = (\n",
    "            heights[clade.clades[0]] + heights[clade.clades[-1]]\n",
    "        ) / 2.0\n",
    "\n",
    "    if tree.root.clades:\n",
    "        calc_row(tree.root)\n",
    "    return heights\n",
    "\n",
    "x_posns = get_x_positions(tree_div)\n",
    "y_posns = get_y_positions(tree_div)"
   ]
  },
  {
   "cell_type": "code",
   "execution_count": 130,
   "metadata": {},
   "outputs": [
    {
     "name": "stdout",
     "output_type": "stream",
     "text": [
      "               UFboot  aLRT Branch_Support_Color Branch_Length      coord_x  \\\n",
      "Name                                                                          \n",
      "NODE0              97  80.4                  red          None            0   \n",
      "NODE1             100  98.9                  red    3.2547e-06   3.2547e-06   \n",
      "NODE2             100   100                  red   1.07393e-05   1.3994e-05   \n",
      "NODE3             100   100                  red    7.8928e-06  2.18868e-05   \n",
      "NODE4             100  95.3                  red    1.1722e-06   2.3059e-05   \n",
      "...               ...   ...                  ...           ...          ...   \n",
      "SAMEA104233049     NA    NA                 grey      6.59e-08  1.70642e-05   \n",
      "SAMEA104233047     NA    NA                 grey      2.34e-08  1.47605e-05   \n",
      "SAMEA104233050     NA    NA                 grey     9.827e-07   8.3649e-06   \n",
      "SAMEA104233046     NA    NA                 grey      2.34e-08   3.6107e-06   \n",
      "SAMEA3541827       NA    NA                 grey    3.2339e-06   3.2339e-06   \n",
      "\n",
      "                   coord_y  \n",
      "Name                        \n",
      "NODE0           507.062599  \n",
      "NODE1           491.125198  \n",
      "NODE2           466.750397  \n",
      "NODE3           432.627258  \n",
      "NODE4           399.804077  \n",
      "...                    ...  \n",
      "SAMEA104233049  519.000000  \n",
      "SAMEA104233047  520.000000  \n",
      "SAMEA104233050  521.000000  \n",
      "SAMEA104233046  522.000000  \n",
      "SAMEA3541827    523.000000  \n",
      "\n",
      "[1005 rows x 6 columns]\n"
     ]
    }
   ],
   "source": [
    "# Counters\n",
    "node_i = 0\n",
    "\n",
    "# Iterate through the nodes in the tree\n",
    "for c in tree_div.find_clades():\n",
    "    # ---------------------------------\n",
    "    # Fix  Names and Confidences\n",
    "    # ---------------------------------\n",
    "    if not c.name:\n",
    "        continue\n",
    "    name_split = c.name.split(\"/\")\n",
    "    # Check if the name has 'accidentally' become the confidence vals\n",
    "    alrt_val = NO_DATA_CHAR\n",
    "    ufboot_val = NO_DATA_CHAR\n",
    "    \n",
    "    if len(name_split) == 2:\n",
    "        # Name the internal node\n",
    "        c.name = \"NODE\" + str(node_i)    \n",
    "\n",
    "        # Assign confidence values\n",
    "        alrt_val = float(name_split[0])\n",
    "        alrt_conf = Phylo.PhyloXML.Confidence(alrt_val, type=\"alrt\")\n",
    "        \n",
    "        ufboot_val = float(name_split[1])\n",
    "        ufboot_conf = Phylo.PhyloXML.Confidence(ufboot_val, type=\"ufboot\")\n",
    "        \n",
    "        c.confidences.append(alrt_conf)\n",
    "        c.confidences.append(ufboot_conf)\n",
    "        \n",
    "    # ---------------------------------\n",
    "    # Branch Support Color\n",
    "    # ---------------------------------\n",
    "    \n",
    "    # Default Color\n",
    "    node_color = LOW_COL\n",
    "    # Terminal branches will be grey\n",
    "    if c.is_terminal():\n",
    "        node_color = TERM_COL\n",
    "    # High support branches\n",
    "    if alrt_val != \"NA\" and ufboot_val != \"NA\":\n",
    "        if alrt_val >= ALRT_THRESH and ufboot_val >= UFBOOT_THRESH:\n",
    "            node_color = HIGH_COL\n",
    "    # Add coord_x and coord_y for plotting and annotation            \n",
    "    c.color = node_color\n",
    "    c.coord_x = [value for key,value in x_posns.items() if key.name == c.name][0]\n",
    "    c.coord_y = [value for key,value in y_posns.items() if key.name == c.name][0]\n",
    "    \n",
    "    node_data = {\n",
    "        \"Name\" : c.name,\n",
    "        \"UFboot\" : ufboot_val,\n",
    "        \"aLRT\" : alrt_val,\n",
    "        \"Branch_Support_Color\" : node_color,\n",
    "        \"Branch_Length\" : c.branch_length,\n",
    "        \"coord_x\" : c.coord_x,\n",
    "        \"coord_y\" : c.coord_y,\n",
    "    }\n",
    "    tree_df = tree_df.append(node_data, ignore_index=True)\n",
    "    \n",
    "    # Increment node counter\n",
    "    node_i += 1\n",
    "\n",
    "tree_df.set_index(\"Name\", inplace=True)\n",
    "print(tree_df)"
   ]
  },
  {
   "cell_type": "markdown",
   "metadata": {},
   "source": [
    "### Parse metadata into df"
   ]
  },
  {
   "cell_type": "code",
   "execution_count": null,
   "metadata": {},
   "outputs": [],
   "source": [
    "# Parse the metadata\n",
    "metadata_df = pd.read_csv(metadata_path, sep='\\t')\n",
    "\n",
    "# Fix the problem with multiple forms of NA in the table\n",
    "# Consolidate missing data to the NO_DATA_CHAR\n",
    "metadata_df.fillna(NO_DATA_CHAR, inplace=True)\n",
    "\n",
    "# Tell treetime which column is the taxon name\n",
    "#if NAME_COL in metadata_df.columns:\n",
    "#    taxon_name = NAME_COL\n",
    "\n",
    "# set the metadata index\n",
    "metadata_df.set_index(NAME_COL, inplace=True)"
   ]
  },
  {
   "cell_type": "markdown",
   "metadata": {},
   "source": [
    "### Save tree dataframe"
   ]
  },
  {
   "cell_type": "code",
   "execution_count": 7,
   "metadata": {},
   "outputs": [],
   "source": [
    "out_path = os.path.join(outdir, \"branch-support.tsv\" )\n",
    "tree_df.to_csv(out_path, sep=\"\\t\")"
   ]
  },
  {
   "cell_type": "markdown",
   "metadata": {},
   "source": [
    "---\n",
    "## Plotting"
   ]
  },
  {
   "cell_type": "code",
   "execution_count": null,
   "metadata": {
    "scrolled": true
   },
   "outputs": [],
   "source": [
    "fig = plt.figure(constrained_layout=True, \n",
    "                 dpi=dpi,\n",
    "                 figsize=figsize)\n",
    "\n",
    "# Setup the grid\n",
    "gs = gridspec.GridSpec(2, 3, figure=fig)\n",
    "ax1 = fig.add_subplot(gs[0, 0])\n",
    "ax2 = fig.add_subplot(gs[1, 0])\n",
    "ax3 = fig.add_subplot(gs[0:, 1:3])\n",
    "\n",
    "# Local plot variables\n",
    "hist_bins = [x for x in range(0,101,2)]\n",
    "xticks_major = [x for x in range(0,101,10)]\n",
    "\n",
    "# Filter out NA values\n",
    "data = tree_df[(tree_df['aLRT'] != NO_DATA_CHAR) & (tree_df['UFboot'] != NO_DATA_CHAR) ]\n",
    "\n",
    "# -------------------------------\n",
    "# aLRT Axis\n",
    "sns.histplot(data, \n",
    "             x=\"aLRT\", \n",
    "             ax=ax1,\n",
    "             bins=hist_bins,\n",
    "             hue=\"Branch_Support_Color\",\n",
    "             palette=[LOW_COL, HIGH_COL],\n",
    "             legend=False,\n",
    "             alpha=1)\n",
    "ax1.axvline(x=ALRT_THRESH, color=THRESH_COL, linewidth=0.5, linestyle='--')\n",
    "ax1.set_xticks(xticks_major, minor=False)\n",
    "ax1.set_xticklabels(xticks_major)\n",
    "ax1.set_xlabel(\"Support Values (%)\")\n",
    "ax1.set_ylabel('Number of Branches')\n",
    "ax1.set_title('Approximate Likelihood Ratio Test (SH-aLRT)')\n",
    "\n",
    "# -------------------------------\n",
    "# UFboot Axis\n",
    "sns.histplot(data, \n",
    "             x=\"UFboot\", \n",
    "             ax=ax2,\n",
    "             bins=hist_bins,\n",
    "             hue=\"Branch_Support_Color\",\n",
    "             palette=[LOW_COL, HIGH_COL],\n",
    "             legend=False,\n",
    "             alpha=1)\n",
    "ax2.axvline(x=UFBOOT_THRESH, color=THRESH_COL, linewidth=0.5, linestyle='--')\n",
    "ax2.set_xticks(xticks_major, minor=False)\n",
    "ax2.set_xticklabels(xticks_major)\n",
    "ax2.set_ylabel('Number of Branches')\n",
    "ax2.set_xlabel(\"Support Values (%)\")\n",
    "ax2.set_title('Ultrafast Bootstrap (UFboot)')\n",
    "\n",
    "# -------------------------------\n",
    "# Phylogeny\n",
    "tree_div.ladderize(reverse=True)\n",
    "\n",
    "# Change plotting styles\n",
    "plt.rcParams[\"lines.linewidth\"] = 0.5\n",
    "\n",
    "Phylo.draw(tree_div,\n",
    "           axes=ax3,\n",
    "           show_confidence=False, \n",
    "           label_func = lambda x:'', \n",
    "           do_show=False,\n",
    "          )\n",
    "\n",
    "ax3.set_xlabel('Branch Length')\n",
    "ax3.set_ylabel('Taxa')\n",
    "ax3.set_yticks([])\n",
    "ax3.set_yticklabels([])\n",
    "ax3.set_ylim(-20,len(tree_div.get_terminals())+20)\n",
    "ax3.set_title(\"Joint Branch Supports Across the Tree\")\n",
    "\n",
    "\"\"\"\n",
    "# -------------------------------\n",
    "# Annotations\n",
    "first_pandemic_mrca = tree_div.common_ancestor(\"SAMEA4354665\", \"SAMEA1061800\").name # AE1175, DA101\n",
    "second_pandemic_mrca = tree_div.common_ancestor(\"SAMN00715800\",\"SAMEA3713715\", \"SAMEA5818822\").name # 8291, OBS137, STN008\n",
    "\n",
    "annot_dict = {\"First Pandemic\": {\"node\": first_pandemic_mrca},\n",
    "              \"Second Pandemic\": {\"node\": second_pandemic_mrca},\n",
    "             }\n",
    "\n",
    "for annot in annot_dict:\n",
    "    # Find clade that matches annotation\n",
    "    annot_clade = next(tree_div.find_clades(target=annot_dict[annot][\"node\"]))    \n",
    "    annot_x = tree_df[\"coord_x\"][annot_clade.name]\n",
    "    annot_y = tree_df[\"coord_y\"][annot_clade.name]\n",
    "    ax3.text(tree_df[\"coord_x\"][annot_clade.name] + x_offset,\n",
    "             tree_df[\"coord_y\"][annot_clade.name] + y_offset, \n",
    "             annot,)\n",
    "    ax3.annotate('Test annot', \n",
    "                xy=(annot_x, annot_y),  \n",
    "                xycoords='data',\n",
    "                xytext=(annot_x, 0+annot_y/tree_div.count_terminals()), \n",
    "                textcoords='axes fraction',\n",
    "                arrowprops=dict(facecolor='black', \n",
    "                shrink=0.05),\n",
    "                horizontalalignment='right', \n",
    "                verticalalignment='top',\n",
    "                )\n",
    "    \"\"\"\n",
    "# -------------------------------\n",
    "# Figure title\n",
    "fig.suptitle(\"Maximum Likelihood Phylogeny Branch Supports\")\n",
    "\n",
    "# -------------------------------\n",
    "# Legend\n",
    "legend_lines = [lines.Line2D([0], [0], color=HIGH_COL, lw=4),\n",
    "                lines.Line2D([0], [0], color=LOW_COL, lw=4),\n",
    "                lines.Line2D([0], [0], color=TERM_COL, lw=4),\n",
    "                lines.Line2D([0], [0], color=THRESH_COL, lw=4, ls=\"--\"),\n",
    "               ]\n",
    "\n",
    "legend_labels = [\"Above Joint Threshold\",\n",
    "                 \"Below Joint Threshold\",\n",
    "                 \"Terminal Branch\",\n",
    "                 \"Threshold\"]\n",
    "\n",
    "fig.legend(legend_lines, \n",
    "           legend_labels,\n",
    "           ncol=len(legend_labels),\n",
    "           loc=\"center\", \n",
    "           bbox_to_anchor=(0.5, -0.05),\n",
    "           frameon=True,\n",
    "           borderpad=1.5,\n",
    "           edgecolor=\"black\")\n",
    "\n",
    "# -------------------------------\n",
    "# Caption\n",
    "num_terminal_nodes = len(tree_df[tree_df[\"Branch_Support_Color\"] == TERM_COL])\n",
    "num_internal_nodes = len(tree_df[tree_df[\"Branch_Support_Color\"] != TERM_COL])\n",
    "num_high_support = len(tree_df[tree_df[\"Branch_Support_Color\"] == HIGH_COL])\n",
    "num_low_support = len(tree_df[tree_df[\"Branch_Support_Color\"] == LOW_COL])\n",
    "perc_high_support = (num_high_support / num_internal_nodes) * 100\n",
    "\n",
    "caption_text = (\"Distribution of observed branch supports and disperal across the maximum likelihood phylogeny.\" \n",
    "                + \"\\n(\" \n",
    "                + \"Samples: {}\".format(num_terminal_nodes) \n",
    "                + \"; \"\n",
    "                + \"Non-Terminal Branches: {}\".format(num_internal_nodes)\n",
    "                + \"; \"\n",
    "                + \"High-Confidence Branches: {0} ({1:.0f}%)\".format(num_high_support, perc_high_support)\n",
    "                + \" )\"\n",
    "               )\n",
    "fig.text(0.5, -0.15, caption_text, ha='center')\n",
    "\n",
    "# -------------------------------\n",
    "# Save figure\n",
    "out_path = os.path.join(outdir, \"branch-support.jpg\") \n",
    "plt.savefig(out_path, dpi=dpi, bbox_inches = \"tight\")\n",
    "\n",
    "# Save Tree File\n",
    "out_path = os.path.join(outdir, \"branch-support.xml\" )\n",
    "Phylo.write(tree_div, \n",
    "            out_path,\n",
    "            \"phyloxml\")\n",
    "\n",
    "# Reset global plot params\n",
    "plt.rcParams = orig_rcParams"
   ]
  },
  {
   "cell_type": "markdown",
   "metadata": {},
   "source": [
    "---\n",
    "## Cleanup"
   ]
  },
  {
   "cell_type": "code",
   "execution_count": 9,
   "metadata": {},
   "outputs": [],
   "source": [
    "os.remove(tmp_xml)"
   ]
  }
 ],
 "metadata": {
  "kernelspec": {
   "display_name": "Python 3",
   "language": "python",
   "name": "python3"
  },
  "language_info": {
   "codemirror_mode": {
    "name": "ipython",
    "version": 3
   },
   "file_extension": ".py",
   "mimetype": "text/x-python",
   "name": "python",
   "nbconvert_exporter": "python",
   "pygments_lexer": "ipython3",
   "version": "3.7.3"
  }
 },
 "nbformat": 4,
 "nbformat_minor": 4
}
