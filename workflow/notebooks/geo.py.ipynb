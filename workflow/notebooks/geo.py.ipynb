{
 "cells": [
  {
   "cell_type": "markdown",
   "id": "dominant-revolution",
   "metadata": {},
   "source": [
    "# Objectives\n",
    "\n",
    "1. Plot Subtrees: Phylo\n",
    "1. Plot Subtrees: Map"
   ]
  },
  {
   "cell_type": "markdown",
   "id": "acceptable-consensus",
   "metadata": {},
   "source": [
    "---\n",
    "# Setup"
   ]
  },
  {
   "cell_type": "markdown",
   "id": "incredible-canvas",
   "metadata": {},
   "source": [
    "## Imports"
   ]
  },
  {
   "cell_type": "code",
   "execution_count": 1,
   "id": "northern-colonial",
   "metadata": {},
   "outputs": [],
   "source": [
    "import os\n",
    "import dill\n",
    "from Bio import Phylo\n",
    "import copy\n",
    "\n",
    "import matplotlib.pyplot as plt\n",
    "import cartopy.crs as ccrs\n",
    "import cartopy.feature as cfeature\n",
    "from pyproj import Proj, transform\n",
    "import math"
   ]
  },
  {
   "cell_type": "markdown",
   "id": "incoming-stroke",
   "metadata": {},
   "source": [
    "## Variables"
   ]
  },
  {
   "cell_type": "code",
   "execution_count": 5,
   "id": "basic-enterprise",
   "metadata": {},
   "outputs": [],
   "source": [
    "from config import *\n",
    "\n",
    "# Custom script variables\n",
    "SCRIPT_NAME = \"geo\"\n",
    "PREV_DIR_NAME = \"mugration\"\n",
    "PREV_SCRIPT_NAME = \"mugration_model\"\n",
    "\n",
    "try:\n",
    "    WILDCARDS = snakemake.wildcards\n",
    "    project_dir = os.getcwd()\n",
    "except NameError:\n",
    "    WILDCARDS = [\"all\", \"chromosome\", \"5\"]\n",
    "    project_dir = os.path.dirname(os.path.dirname(os.getcwd()))\n",
    "    \n",
    "READS_ORIGIN = WILDCARDS[0]\n",
    "LOCUS_NAME = WILDCARDS[1]\n",
    "MISSING_DATA = WILDCARDS[2]\n",
    "\n",
    "NAME_COL = \"Name\"\n",
    "\n",
    "GEO_ATTR = \"Mugration_Province\"\n",
    "PLOT_ATTR = \"Mugration_Branch_Number\"\n",
    "COL_ATTR = \"Mugration_Branch_Major\""
   ]
  },
  {
   "cell_type": "markdown",
   "id": "major-opinion",
   "metadata": {},
   "source": [
    "## File Paths"
   ]
  },
  {
   "cell_type": "code",
   "execution_count": 6,
   "id": "reliable-shape",
   "metadata": {},
   "outputs": [
    {
     "name": "stdout",
     "output_type": "stream",
     "text": [
      "tree_dill:\t /mnt/c/Users/ktmea/Projects/plague-phylogeography/results/mugration/all/chromosome_filter5/mugration_model_timetree.treetime.obj\n",
      "tree_df_dill:\t /mnt/c/Users/ktmea/Projects/plague-phylogeography/results/mugration/all/chromosome_filter5/mugration_model.df.obj\n",
      "aln path:\t /mnt/c/Users/ktmea/Projects/plague-phylogeography/results/snippy_multi/all/snippy-core_chromosome.snps.filter5.aln\n",
      "auspice_latlon_path: /mnt/c/Users/ktmea/Projects/plague-phylogeography/results/parse_tree/all/chromosome_filter5/parse_tree_latlon.tsv\n",
      "auspice_colors_path: /mnt/c/Users/ktmea/Projects/plague-phylogeography/results/parse_tree/all/chromosome_filter5/parse_tree_colors.tsv\n",
      "auspice_config_path: /mnt/c/Users/ktmea/Projects/plague-phylogeography/results/config/auspice_config.json\n",
      "auspice_remote_dir_path: /mnt/c/Users/ktmea/Projects/plague-phylogeography/auspice/\n",
      "outdir: /mnt/c/Users/ktmea/Projects/plague-phylogeography/results/geo/all/chromosome_filter5\n"
     ]
    }
   ],
   "source": [
    "results_dir = os.path.join(project_dir, \"results\")\n",
    "config_dir = os.path.join(results_dir, \"config\")\n",
    "\n",
    "\n",
    "outdir       = os.path.join(results_dir, SCRIPT_NAME, READS_ORIGIN, LOCUS_NAME + \"_filter{}\".format(MISSING_DATA),)\n",
    "tree_dill    = os.path.join(results_dir, PREV_DIR_NAME, READS_ORIGIN, LOCUS_NAME + \"_filter{}\".format(MISSING_DATA),PREV_SCRIPT_NAME + \"_timetree.treetime.obj\")\n",
    "tree_df_dill = os.path.join(results_dir, PREV_DIR_NAME, READS_ORIGIN, LOCUS_NAME + \"_filter{}\".format(MISSING_DATA), PREV_SCRIPT_NAME + \".df.obj\")\n",
    "tree_df_path = os.path.join(results_dir, PREV_DIR_NAME, READS_ORIGIN, LOCUS_NAME + \"_filter{}\".format(MISSING_DATA), PREV_SCRIPT_NAME + \".tsv\")\n",
    "aln_path     = os.path.join(results_dir,\"snippy_multi\",READS_ORIGIN,\"snippy-core_{}.snps.filter{}.aln\".format(LOCUS_NAME, MISSING_DATA))\n",
    "\n",
    "# Auspice\n",
    "auspice_latlon_path = os.path.join(results_dir, \"parse_tree\", READS_ORIGIN, LOCUS_NAME + \"_filter{}\".format(MISSING_DATA), \"parse_tree\" + \"_latlon.tsv\")\n",
    "auspice_colors_path = os.path.join(results_dir, \"parse_tree\", READS_ORIGIN, LOCUS_NAME + \"_filter{}\".format(MISSING_DATA), \"parse_tree\" + \"_colors.tsv\")\n",
    "auspice_config_path = os.path.join(config_dir, \"auspice_config.json\")\n",
    "auspice_remote_dir_path = os.path.join(project_dir, \"auspice/\")\n",
    "\n",
    "print(\"tree_dill:\\t\", tree_dill)\n",
    "print(\"tree_df_dill:\\t\", tree_df_dill)\n",
    "print(\"aln path:\\t\", aln_path)\n",
    "print(\"auspice_latlon_path:\", auspice_latlon_path)\n",
    "print(\"auspice_colors_path:\", auspice_colors_path)\n",
    "print(\"auspice_config_path:\", auspice_config_path)\n",
    "print(\"auspice_remote_dir_path:\", auspice_remote_dir_path)\n",
    "print(\"outdir:\", outdir)\n",
    "\n",
    "# Create output directory if it doesn't exist\n",
    "while not os.path.exists(outdir):\n",
    "    os.makedirs(outdir)   \n",
    "    \n",
    "SCRIPT_NAME = \"geo\""
   ]
  },
  {
   "cell_type": "markdown",
   "id": "isolated-holiday",
   "metadata": {},
   "source": [
    "## Import Tree"
   ]
  },
  {
   "cell_type": "code",
   "execution_count": 7,
   "id": "equipped-arcade",
   "metadata": {},
   "outputs": [
    {
     "ename": "FileNotFoundError",
     "evalue": "[Errno 2] No such file or directory: '/mnt/c/Users/ktmea/Projects/plague-phylogeography/results/mugration/all/chromosome_filter5/mugration_model_timetree.treetime.obj'",
     "output_type": "error",
     "traceback": [
      "\u001b[0;31m---------------------------------------------------------------------------\u001b[0m",
      "\u001b[0;31mFileNotFoundError\u001b[0m                         Traceback (most recent call last)",
      "\u001b[0;32m<ipython-input-7-9065e34ff3b4>\u001b[0m in \u001b[0;36m<module>\u001b[0;34m\u001b[0m\n\u001b[0;32m----> 1\u001b[0;31m \u001b[0;32mwith\u001b[0m \u001b[0mopen\u001b[0m\u001b[0;34m(\u001b[0m\u001b[0mtree_dill\u001b[0m\u001b[0;34m,\u001b[0m \u001b[0;34m\"rb\"\u001b[0m\u001b[0;34m)\u001b[0m \u001b[0;32mas\u001b[0m \u001b[0minfile\u001b[0m\u001b[0;34m:\u001b[0m\u001b[0;34m\u001b[0m\u001b[0;34m\u001b[0m\u001b[0m\n\u001b[0m\u001b[1;32m      2\u001b[0m     \u001b[0mtt\u001b[0m \u001b[0;34m=\u001b[0m \u001b[0mdill\u001b[0m\u001b[0;34m.\u001b[0m\u001b[0mload\u001b[0m\u001b[0;34m(\u001b[0m\u001b[0minfile\u001b[0m\u001b[0;34m)\u001b[0m\u001b[0;34m\u001b[0m\u001b[0;34m\u001b[0m\u001b[0m\n\u001b[1;32m      3\u001b[0m \u001b[0mtt\u001b[0m\u001b[0;34m.\u001b[0m\u001b[0mtree\u001b[0m\u001b[0;34m.\u001b[0m\u001b[0mladderize\u001b[0m\u001b[0;34m(\u001b[0m\u001b[0mreverse\u001b[0m\u001b[0;34m=\u001b[0m\u001b[0;32mFalse\u001b[0m\u001b[0;34m)\u001b[0m\u001b[0;34m\u001b[0m\u001b[0;34m\u001b[0m\u001b[0m\n",
      "\u001b[0;31mFileNotFoundError\u001b[0m: [Errno 2] No such file or directory: '/mnt/c/Users/ktmea/Projects/plague-phylogeography/results/mugration/all/chromosome_filter5/mugration_model_timetree.treetime.obj'"
     ]
    }
   ],
   "source": [
    "with open(tree_dill, \"rb\") as infile:\n",
    "    tt = dill.load(infile)\n",
    "tt.tree.ladderize(reverse=False)"
   ]
  },
  {
   "cell_type": "markdown",
   "id": "guilty-daily",
   "metadata": {},
   "source": [
    "## Import Dataframe"
   ]
  },
  {
   "cell_type": "code",
   "execution_count": null,
   "id": "connected-dictionary",
   "metadata": {},
   "outputs": [],
   "source": [
    "with open(tree_df_dill, \"rb\") as infile:\n",
    "    tree_df = dill.load(infile)\n",
    "display(tree_df)"
   ]
  },
  {
   "cell_type": "code",
   "execution_count": null,
   "id": "casual-canyon",
   "metadata": {},
   "outputs": [],
   "source": [
    "# Remove Bad Samples\n",
    "\n",
    "# CDC : GCA_002529545.1_ASM252954v1_genomic\n",
    "# Drop CDC Sample: GCA_002529545.1_ASM252954v1_genomic\n",
    "if \"GCA_002529545.1_ASM252954v1_genomic\" in [t.name for t in tt.tree.get_terminals()]:\n",
    "    node = tt.tree.common_ancestor(\"GCA_002529545.1_ASM252954v1_genomic\")\n",
    "    parent = node.up\n",
    "    tt.tree.prune(node)\n",
    "    tree_df.drop(node.name, inplace=True)\n",
    "    tree_df.drop(parent.name, inplace=True)"
   ]
  },
  {
   "cell_type": "markdown",
   "id": "martial-smoke",
   "metadata": {},
   "source": [
    "## Convert Dataframe to Geopandas"
   ]
  },
  {
   "cell_type": "code",
   "execution_count": null,
   "id": "ancient-selection",
   "metadata": {},
   "outputs": [],
   "source": [
    "geometry = []\n",
    "for rec in tree_df.iterrows():\n",
    "    sample = rec[0]\n",
    "    geo_attr = \"Province\"\n",
    "    # 1) Is this a tip?\n",
    "    if rec[1][\"Branch_Support_Color\"] == TERM_COL:\n",
    "        # 2) Does this tip have province data?\n",
    "        if rec[1][\"Province\"] == NO_DATA_CHAR and rec[1][\"Country\"] != \"Russia\":\n",
    "            geo_attr = \"Country\"\n",
    "    x,y = tree_df[\"Mugration_\" + geo_attr + \"_Lon\"][sample], tree_df[\"Mugration_\" + geo_attr + \"_Lat\"][sample]\n",
    "    geometry.append(shapely.geometry.Point(x,y))\n",
    "    \n",
    "tree_gdf = geopandas.GeoDataFrame(tree_df, crs=CRS, geometry=geometry)\n",
    "display(tree_gdf)"
   ]
  },
  {
   "cell_type": "markdown",
   "id": "attached-stream",
   "metadata": {},
   "source": [
    "# Import Colors"
   ]
  },
  {
   "cell_type": "code",
   "execution_count": null,
   "id": "suited-toilet",
   "metadata": {},
   "outputs": [],
   "source": [
    "colors_df = pd.read_csv(auspice_colors_path, sep='\\t', header=None)\n",
    "colors_df.columns = [\"Attribute\", \"State\", \"Color\"]\n",
    "colors_df.fillna(NO_DATA_CHAR, inplace=True)\n",
    "display(colors_df)\n",
    "\n",
    "colors_dict = {}\n",
    "# Convert to dict\n",
    "\n",
    "for rec in colors_df.iterrows():\n",
    "    attr = rec[1][\"Attribute\"]\n",
    "    state = rec[1][\"State\"]\n",
    "    color = rec[1][\"Color\"]\n",
    "    if attr not in colors_dict:\n",
    "        colors_dict[attr] = {}\n",
    "    colors_dict[attr][state] = color"
   ]
  },
  {
   "cell_type": "markdown",
   "id": "modified-indianapolis",
   "metadata": {},
   "source": [
    "---\n",
    "# 1. Plot Subtrees: Phylogeny"
   ]
  },
  {
   "cell_type": "markdown",
   "id": "stock-alexandria",
   "metadata": {},
   "source": [
    "## Calculate Size by Location"
   ]
  },
  {
   "cell_type": "code",
   "execution_count": null,
   "id": "legitimate-scroll",
   "metadata": {},
   "outputs": [],
   "source": [
    "tip_gdf = tree_gdf[tree_gdf[\"Branch_Support_Color\"] == TERM_COL]\n",
    "\n",
    "# Sizes\n",
    "marker_scale = 2\n",
    "marker_size = 20\n",
    "geom_sizes = {}\n",
    "tt_copy = copy.deepcopy(tt)\n",
    "for t in tt_copy.tree.get_terminals():\n",
    "    geometry = str(tree_gdf[\"geometry\"][t.name])\n",
    "    if geometry not in geom_sizes:\n",
    "        geom_sizes[geometry] = 1\n",
    "    else:\n",
    "        geom_sizes[geometry] += 1"
   ]
  },
  {
   "cell_type": "markdown",
   "id": "developing-interference",
   "metadata": {},
   "source": [
    "## Construct"
   ]
  },
  {
   "cell_type": "code",
   "execution_count": null,
   "id": "virgin-criminal",
   "metadata": {},
   "outputs": [],
   "source": [
    "tt_copy = copy.deepcopy(tt)\n",
    "\n",
    "\n",
    "branch_dict = {\n",
    "    key : {\n",
    "        \"clade\" : None,\n",
    "        \"gdf\"   : None,\n",
    "    } \n",
    "    for key in colors_dict[\"branch_major\"].keys()}\n",
    "\n",
    "for branch in branch_dict:\n",
    "    #if branch != \"1.ANT\": continue\n",
    "    print(\"Working on branch:\", branch)\n",
    "    target_gdf = copy.deepcopy(tree_gdf)    \n",
    "    target_nodes = tree_gdf[tree_gdf[\"Mugration_Branch_Major\"] == branch]\n",
    "    # Add one level up to target nodes    \n",
    "    target_mrca = tt_copy.tree.common_ancestor(target_nodes.index).up\n",
    "    # If there's actually an upper node\n",
    "    if target_mrca:\n",
    "        mrca_rec = target_gdf[target_gdf.index.str.contains(target_mrca.name)]\n",
    "        target_nodes = target_nodes.append(mrca_rec)\n",
    "    # else reset to lower\n",
    "    else:\n",
    "        target_mrca = tt_copy.tree.common_ancestor(target_nodes.index)\n",
    "    target_clade = copy.deepcopy(target_mrca)\n",
    "\n",
    "    # Create a filtered df\n",
    "    for rec in tree_df.iterrows():\n",
    "        sample = rec[0]\n",
    "        if sample not in target_nodes.index:\n",
    "            target_gdf.drop(sample, inplace=True)\n",
    "    branch_dict[branch][\"gdf\"] = target_gdf\n",
    "\n",
    "    # Search for the nodes, finding tips to prune\n",
    "    for c in target_mrca.find_clades(order=\"postorder\"):\n",
    "        cur_term = [t.name for t in target_clade.get_terminals()]    \n",
    "        if c.name not in target_nodes.index:\n",
    "            if c.name in cur_term:\n",
    "                target_clade.collapse(target=c.name)\n",
    "                \n",
    "    # Color branches\n",
    "    for c in target_clade.find_clades():\n",
    "        state = tree_df[\"Mugration_Branch_Major\"][c.name]\n",
    "        color = colors_dict[\"branch_major\"][state]\n",
    "        c.color = color\n",
    "\n",
    "    # Assign the sub tree to the dict\n",
    "    branch_dict[branch][\"clade\"] = target_clade"
   ]
  },
  {
   "cell_type": "markdown",
   "id": "british-hampton",
   "metadata": {},
   "source": [
    "## Plot"
   ]
  },
  {
   "cell_type": "code",
   "execution_count": null,
   "id": "simplified-center",
   "metadata": {},
   "outputs": [],
   "source": [
    "for branch in branch_dict:\n",
    "    #if branch != \"0.ANT\" : continue\n",
    "    tree = branch_dict[branch][\"clade\"]\n",
    "    gdf = branch_dict[branch][\"gdf\"]\n",
    "    fig, ax1 = plt.subplots(1, dpi=dpi)\n",
    "    \n",
    "    if len(tree.get_terminals()) < 50:\n",
    "        plt.rc(\"lines\", linewidth=1)\n",
    "    else:\n",
    "        plt.rc(\"lines\", linewidth=0.5)\n",
    "        \n",
    "    Phylo.draw(tree,\n",
    "                 axes=ax1,\n",
    "                 show_confidence=False, \n",
    "                 #label_func = (lambda x: \"{} ({})\".format(\n",
    "                 #        tree_gdf[\"Strain\"][x.name] + \" \", \n",
    "                 #        tree_gdf[\"Country\"][x.name]) \n",
    "                 #    if x.is_terminal() else ''),\n",
    "                 label_func = lambda x: '',\n",
    "                 do_show=False,\n",
    "                )\n",
    "    \n",
    "    ax1.set_title(\"\")\n",
    "    ax1.set_ylabel(\"\")\n",
    "    ax1.set_yticks([])\n",
    "    ax1.set_xlabel(\"Year\")\n",
    "    # --------------------------------------------\n",
    "    # Ticks\n",
    "    ticks_dict = convert_timetree_ticks(tree=tree, step=500)\n",
    "    # Set the new tick locations and labels\n",
    "    # Leave out last one\n",
    "    ax1.set_xticks(ticks_dict[\"tick_locs\"][:])\n",
    "    ax1.set_xticklabels(ticks_dict[\"tick_labels\"][:])\n",
    "\n",
    "    # --------------------------------------------\n",
    "    # Lines\n",
    "    # Vertical lines for dates\n",
    "    for loc in ticks_dict[\"tick_locs\"][:]:\n",
    "        ax1.axvline(x=loc, color=\"darkgrey\", alpha=0.5)\n",
    "        \n",
    "    x_buffer = math.ceil((ticks_dict[\"tick_locs\"][-1] - ticks_dict[\"tick_locs\"][0]) * 0.07)\n",
    "    y_buffer = math.ceil(len(tree.get_terminals()) * 0.01)\n",
    "\n",
    "    ax1.set_xlim(0 - x_buffer,)    \n",
    "    ax1.set_ylim(len(tree.get_terminals()) + y_buffer, 0 - y_buffer)\n",
    "    ax1.set_yticks([])  \n",
    "    \n",
    "    # --------------------------------------------\n",
    "    # Frames\n",
    "    ax1.spines[\"right\"].set_visible(False)\n",
    "    ax1.spines[\"top\"].set_visible(False)\n",
    "    ax1.spines[\"left\"].set_visible(False)\n",
    "    \n",
    "    out_path = os.path.join(outdir, SCRIPT_NAME + \"_timetree_{}.{}\".format(branch, FMT)) \n",
    "    plt.savefig(out_path, dpi=dpi, bbox_inches = \"tight\")"
   ]
  },
  {
   "cell_type": "markdown",
   "id": "compressed-luxembourg",
   "metadata": {},
   "source": [
    "---\n",
    "# 2. Plot Subtrees: Map"
   ]
  },
  {
   "cell_type": "markdown",
   "id": "registered-drama",
   "metadata": {},
   "source": [
    "## Node Sizes by Location"
   ]
  },
  {
   "cell_type": "code",
   "execution_count": null,
   "id": "separated-depression",
   "metadata": {},
   "outputs": [],
   "source": [
    "sizes_dict = {}\n",
    "\n",
    "for rec in tree_gdf.iterrows():\n",
    "    sample = rec[0]\n",
    "    geom = str(rec[1][\"geometry\"])\n",
    "    if geom not in sizes_dict:\n",
    "        sizes_dict[geom] = 0\n",
    "    sizes_dict[geom] += 1"
   ]
  },
  {
   "cell_type": "markdown",
   "id": "included-bracket",
   "metadata": {},
   "source": [
    "## Map"
   ]
  },
  {
   "cell_type": "code",
   "execution_count": null,
   "id": "sweet-desire",
   "metadata": {},
   "outputs": [],
   "source": [
    "for branch in branch_dict:\n",
    "    print(\"Working on branch:\", branch)\n",
    "    #if branch != \"4.ANT\": continue\n",
    "    #if \"0\" not in branch: continue\n",
    "    fig, ax1 = plt.subplots(1, dpi=dpi, figsize=(6,3))\n",
    "    # --------------------------------------\n",
    "    # World Basemap\n",
    "    world_poly = world_polygons.plot(ax=ax1, \n",
    "                        zorder=1, \n",
    "                        alpha=0.5, \n",
    "                        color=\"grey\",\n",
    "                        edgecolor=\"black\", \n",
    "                        linewidth=0.25,\n",
    "                       )\n",
    "    \n",
    "    gdf = branch_dict[branch][\"gdf\"]\n",
    "    tree = branch_dict[branch][\"clade\"]\n",
    "    \n",
    "\n",
    "    # Store node connections\n",
    "    connect_list = []\n",
    "    \n",
    "    # If this subtree excludes the true root, manually add its connections\n",
    "    if not tree.root.up:\n",
    "        for c in tree.find_clades():\n",
    "            if c.up and c.up.name == tree.root.name:\n",
    "                connect_list.append([tree.root.name, c.name])\n",
    "    for t in tree.get_terminals():\n",
    "        # Check for an upper node\n",
    "        if tree.root.up:\n",
    "            path = tree.up.get_path(t)\n",
    "        else:\n",
    "            path = tree.get_path(t)\n",
    "            \n",
    "        for i in range(0, len(path) -1):\n",
    "            connection = [path[i].name, path[i+1].name]\n",
    "            # Don't store duplicate connections\n",
    "            if connection not in connect_list:\n",
    "                connect_list.append(connection)\n",
    "    \n",
    "    # Plot connections\n",
    "    for connection in connect_list:\n",
    "        origin = gdf[gdf.index.str.contains(connection[0])]\n",
    "        dest = gdf[gdf.index.str.contains(connection[1])]\n",
    "        origin_geom = origin[\"geometry\"][0]\n",
    "        dest_geom = dest[\"geometry\"][0]\n",
    "        dest_state = dest[\"Mugration_Branch_Major\"][0]\n",
    "        dest_color = colors_dict[\"branch_major\"][dest_state]\n",
    "        arrow_color = \"white\"\n",
    "        # Check if using province or country\n",
    "        geo_attr = \"Province\"\n",
    "        if dest[\"Branch_Support_Color\"][0] == TERM_COL:\n",
    "            if dest[\"Province\"][0] == NO_DATA_CHAR and dest[\"Country\"][0] != \"Russia\":\n",
    "                geo_attr = \"Country\"   \n",
    "        dest_confidence = dest[\"Mugration_\" + geo_attr + \"_Confidence\"][0]\n",
    "        if dest_confidence >= MUG_CONF_THRESH:\n",
    "            arrow_color = dest_color\n",
    "        # check if we're changing locations\n",
    "        if origin_geom != dest_geom:\n",
    "            # Plot the destination point\n",
    "            dest.plot(ax=ax1, \n",
    "                  color = dest_color,\n",
    "                  #markersize = sizes_dict[str(dest_geom)],\n",
    "                  markersize = 20,\n",
    "                  edgecolor = \"black\",\n",
    "                  linewidths=0.25,    \n",
    "                  zorder=2,\n",
    "                  )\n",
    "            # Plot the connection arrow\n",
    "            ax1.annotate('', xy=(dest_geom.x, dest_geom.y), xytext=(origin_geom.x, origin_geom.y),\n",
    "                xycoords='data',\n",
    "                size=10,\n",
    "                zorder=1,\n",
    "                label=\"test\",\n",
    "                arrowprops=dict(facecolor=arrow_color, \n",
    "                                ec = 'black', \n",
    "                                lw=0.25,\n",
    "                                arrowstyle=\"simple\",\n",
    "                                connectionstyle=\"arc3,rad=-0.3\"))\n",
    "\n",
    "    # Plot root location\n",
    "    root_gdf = gdf[gdf.index.str.contains(tree.root.name)]\n",
    "    state = root_gdf[\"Mugration_Branch_Major\"].values[0]\n",
    "    geom = root_gdf[\"geometry\"].values[0]\n",
    "    root_gdf.plot(ax=ax1, \n",
    "                  color = colors_dict[\"branch_major\"][state],\n",
    "                  #markersize = sizes_dict[str(geom)],\n",
    "                  markersize = marker_size * 4,\n",
    "                  marker = \"*\",\n",
    "                  edgecolor = \"black\",\n",
    "                  linewidths=0.25,  \n",
    "                  zorder=2,\n",
    "                  alpha=1,\n",
    "                  label=\"Clade Root\"\n",
    "                  )\n",
    "    \n",
    "    \n",
    "    ax1.scatter(x=1000,y=1000,ec=\"black\", fc=dest_color, marker=\"<\", lw=0.25, label=\"High Confidence\")\n",
    "    ax1.scatter(x=1000,y=1000,ec=\"black\", fc=\"white\", marker=\"<\", lw=0.25, label=\"Low Confidence\")\n",
    "\n",
    "    \n",
    "    # --------------------------------------\n",
    "    # Limits\n",
    "    \n",
    "    # Get xlim from data\n",
    "    x_min = 300\n",
    "    x_max = -300\n",
    "    y_min = 100\n",
    "    y_max = -100\n",
    "    range_x_min = 40\n",
    "    for geom in branch_dict[branch][\"gdf\"][\"geometry\"]:\n",
    "        if geom.x <= x_min:\n",
    "            x_min = geom.x\n",
    "        if geom.x > x_max:\n",
    "            x_max = geom.x\n",
    "        if geom.y <= y_min:\n",
    "            y_min = geom.y\n",
    "        if geom.y > y_max:\n",
    "            y_max = geom.y\n",
    "    \n",
    "    x_buffer = 10\n",
    "    y_buffer = 2\n",
    "    \n",
    "    # Manual adjustments\n",
    "    if branch == \"0.PRE\" or branch == \"1.ANT\" or branch == \"0.PE\" or branch == \"0.ANT\" or branch == \"1.IN\" or branch == \"1.ORI\":\n",
    "        y_buffer = 7\n",
    "    ax1.set_xlim(x_min - x_buffer, x_max + x_buffer)\n",
    "    ax1.set_ylim(y_min - y_buffer, y_max + y_buffer)\n",
    "\n",
    "    # --------------------------------------\n",
    "    # Labels\n",
    "    ax1.axis('off')\n",
    "    \n",
    "    #ax1.set_title(branch, fontsize=SM_FONT)    \n",
    "    # --------------------------------------\n",
    "    # Legend\n",
    "    legend = plt.legend(frameon=True, \n",
    "               edgecolor=\"black\", \n",
    "               borderpad=0.75, \n",
    "               bbox_to_anchor=(1.01, 1), \n",
    "               loc='upper left',\n",
    "               fontsize=4,)\n",
    "    legend.get_frame().set_linewidth(0.25)  \n",
    "    out_path = os.path.join(outdir, SCRIPT_NAME + \"_spreadmap_{}.{}\".format(branch, FMT)) \n",
    "    plt.savefig(out_path, dpi=dpi, bbox_inches = \"tight\")"
   ]
  },
  {
   "cell_type": "markdown",
   "id": "fleet-magnitude",
   "metadata": {},
   "source": [
    "---\n",
    "# Export"
   ]
  },
  {
   "cell_type": "markdown",
   "id": "european-origin",
   "metadata": {},
   "source": [
    "## Dataframe"
   ]
  },
  {
   "cell_type": "code",
   "execution_count": null,
   "id": "dated-logistics",
   "metadata": {},
   "outputs": [],
   "source": [
    "out_path_df = os.path.join(outdir, SCRIPT_NAME + \".tsv\" )\n",
    "out_path_pickle_df = os.path.join(outdir,  SCRIPT_NAME + \".df.obj\" )\n",
    "\n",
    "tree_df.to_csv(out_path_df, sep=\"\\t\")\n",
    "with open(out_path_pickle_df,\"wb\") as outfile:\n",
    "    dill.dump(tree_df, outfile)"
   ]
  }
 ],
 "metadata": {
  "kernelspec": {
   "display_name": "Python 3",
   "language": "python",
   "name": "python3"
  },
  "language_info": {
   "codemirror_mode": {
    "name": "ipython",
    "version": 3
   },
   "file_extension": ".py",
   "mimetype": "text/x-python",
   "name": "python",
   "nbconvert_exporter": "python",
   "pygments_lexer": "ipython3",
   "version": "3.7.3"
  }
 },
 "nbformat": 4,
 "nbformat_minor": 5
}
