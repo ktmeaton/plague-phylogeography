{
 "cells": [
  {
   "cell_type": "markdown",
   "metadata": {},
   "source": [
    "# CorrTest R Notebook"
   ]
  },
  {
   "cell_type": "markdown",
   "metadata": {},
   "source": [
    "Download the CorrTest github repository (https://github.com/cathyqqtao/CorrTest) to a separate directory.\n",
    "(ex. ~/Programs/CorrTest)"
   ]
  },
  {
   "cell_type": "markdown",
   "metadata": {},
   "source": [
    "## Install Packages"
   ]
  },
  {
   "cell_type": "code",
   "execution_count": 2,
   "metadata": {},
   "outputs": [],
   "source": [
    "#install.packages(\"ape\", \"~/miniconda3/envs/nextstrain-8.0.0/lib/R/library/\")\n",
    "#install.packages(\"phangorn\", \"~/miniconda3/envs/nextstrain-8.0.0/lib/R/library/\")\n",
    "#install.packages(\"stats\", \"~/miniconda3/envs/nextstrain-8.0.0/lib/R/library/\")\n",
    "#install.packages(\"R.utils\", \"~/miniconda3/envs/nextstrain-8.0.0/lib/R/library/\")\n",
    "\n",
    "if (!\"ape\" %in% rownames(installed.packages())){\n",
    "    install.packages(\"ape\", \"~/miniconda3/envs/nextstrain-8.0.0/lib/R/library/\")\n",
    "}\n",
    "if (!\"phangorn\" %in% rownames(installed.packages())){\n",
    "    install.packages(\"phangorn\", \"~/miniconda3/envs/nextstrain-8.0.0/lib/R/library/\")\n",
    "}\n",
    "if (!\"stats\" %in% rownames(installed.packages())){\n",
    "    install.packages(\"stats\", \"~/miniconda3/envs/nextstrain-8.0.0/lib/R/library/\")\n",
    "}\n",
    "if (!\"R.utils\" %in% rownames(installed.packages())){\n",
    "    install.packages(\"R.utils\", \"~/miniconda3/envs/nextstrain-8.0.0/lib/R/library/\")\n",
    "}"
   ]
  },
  {
   "cell_type": "markdown",
   "metadata": {},
   "source": [
    "## Load Packages"
   ]
  },
  {
   "cell_type": "code",
   "execution_count": 14,
   "metadata": {},
   "outputs": [],
   "source": [
    "library(ape)\n",
    "library(phangorn)\n",
    "library(stats)\n",
    "library(R.utils)\n",
    "\n",
    "# Load the CorrTest function\n",
    "corrtest_dir <- \"/mnt/c/Users/ktmea/Programs/CorrTest/\"\n",
    "source(paste(corrtest_dir, \"code/rate.CorrTest.R\", sep=\"\"))"
   ]
  },
  {
   "cell_type": "markdown",
   "metadata": {},
   "source": [
    "## Setup"
   ]
  },
  {
   "cell_type": "markdown",
   "metadata": {},
   "source": [
    "Change to the CorrTest directory."
   ]
  },
  {
   "cell_type": "code",
   "execution_count": 4,
   "metadata": {},
   "outputs": [
    {
     "data": {
      "text/html": [
       "'/mnt/c/Users/ktmea/Projects/plague-phylogeography/notebooks'"
      ],
      "text/latex": [
       "'/mnt/c/Users/ktmea/Projects/plague-phylogeography/notebooks'"
      ],
      "text/markdown": [
       "'/mnt/c/Users/ktmea/Projects/plague-phylogeography/notebooks'"
      ],
      "text/plain": [
       "[1] \"/mnt/c/Users/ktmea/Projects/plague-phylogeography/notebooks\""
      ]
     },
     "metadata": {},
     "output_type": "display_data"
    },
    {
     "data": {
      "text/html": [
       "'/mnt/c/Users/ktmea/Programs/CorrTest/example'"
      ],
      "text/latex": [
       "'/mnt/c/Users/ktmea/Programs/CorrTest/example'"
      ],
      "text/markdown": [
       "'/mnt/c/Users/ktmea/Programs/CorrTest/example'"
      ],
      "text/plain": [
       "[1] \"/mnt/c/Users/ktmea/Programs/CorrTest/example\""
      ]
     },
     "metadata": {},
     "output_type": "display_data"
    }
   ],
   "source": [
    "getwd()\n",
    "\n",
    "#setwd(\"~/Programs/CorrTest/example\", sep=\"\")\n",
    "setwd(\"/mnt/c/Users/ktmea/Programs/CorrTest/example\")\n",
    "\n",
    "getwd()"
   ]
  },
  {
   "cell_type": "markdown",
   "metadata": {},
   "source": [
    "## Run the Example"
   ]
  },
  {
   "cell_type": "code",
   "execution_count": 15,
   "metadata": {},
   "outputs": [],
   "source": [
    "t.ml = read.tree(\"dosReis_Mammals274_ML.nwk\")\n",
    "out.tip = c(\"Ornithorhynchus_anatinus\", \"Zaglossus_bruijni\", \"Tachyglossus_aculeatus\")\n",
    "\n",
    "rate.CorrTest(brlen_tree = t.ml, outgroup = out.tip, sister.resample = 0, outputFile = \"CorrTest.txt\")"
   ]
  },
  {
   "cell_type": "markdown",
   "metadata": {},
   "source": [
    "## Run the Data"
   ]
  },
  {
   "cell_type": "code",
   "execution_count": 21,
   "metadata": {},
   "outputs": [],
   "source": [
    "tree_path <- \"/mnt/c/Users/ktmea/Projects/plague-phylogeography/Assembly_Modern/iqtree/iqtree.core-filter0_bootstrap.treefile\"\n",
    "out_path <- \"/mnt/c/Users/ktmea/Projects/plague-phylogeography/Assembly_Modern/iqtree/iqtree.core-filter0_bootstrap.treefile\"\n",
    "#dir.create(file.path(\"/mnt/c/Users/ktmea/Projects/plague-phylogeography/Assembly_Modern\", \"corrtest\"))\n",
    "\n",
    "data_t_ml = read.tree(tree_path)\n",
    "out.tip = c(\"GCA_000323485.1_ASM32348v1_genomic\", \"GCA_000323845.1_ASM32384v1_genomic\")\n",
    "rate.CorrTest(brlen_tree = data_t_ml, outgroup = out.tip, sister.resample = 0, outputFile = \"/mnt/c/Users/ktmea/Projects/plague-phylogeography/Assembly_Modern/corrtest/iqtree.core-filter0_bootstrap_CorrTest.txt\")"
   ]
  },
  {
   "cell_type": "code",
   "execution_count": null,
   "metadata": {},
   "outputs": [],
   "source": []
  }
 ],
 "metadata": {
  "kernelspec": {
   "display_name": "R",
   "language": "R",
   "name": "ir"
  },
  "language_info": {
   "codemirror_mode": "r",
   "file_extension": ".r",
   "mimetype": "text/x-r-source",
   "name": "R",
   "pygments_lexer": "r",
   "version": "3.5.1"
  }
 },
 "nbformat": 4,
 "nbformat_minor": 4
}
