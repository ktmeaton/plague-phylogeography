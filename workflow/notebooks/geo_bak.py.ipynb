{
 "cells": [
  {
   "cell_type": "markdown",
   "metadata": {},
   "source": [
    "# Geo\n",
    "\n",
    "1. Plot global sample distribution (colored by study)."
   ]
  },
  {
   "cell_type": "markdown",
   "metadata": {},
   "source": [
    "## Import Modules"
   ]
  },
  {
   "cell_type": "code",
   "execution_count": null,
   "metadata": {},
   "outputs": [],
   "source": [
    "import requests\n",
    "import json\n",
    "from io import StringIO\n",
    "import os\n",
    "import pandas as pd\n",
    "import matplotlib\n",
    "import matplotlib.pyplot as plt\n",
    "import zipfile\n",
    "\n",
    "# Install these!\n",
    "import descartes\n",
    "import geopandas\n",
    "import contextily as ctx\n",
    "import fiona\n",
    "import shapely"
   ]
  },
  {
   "cell_type": "code",
   "execution_count": null,
   "metadata": {},
   "outputs": [],
   "source": [
    "tree_df_path = \"../../docs/results/latest/mugration/mugration.tsv\"\n",
    "outdir = \"../../docs/results/latest/geo\"\n",
    "\n",
    "# Create output directory if it doesn't exist\n",
    "if not os.path.exists(outdir):\n",
    "    os.mkdir(outdir)"
   ]
  },
  {
   "cell_type": "markdown",
   "metadata": {},
   "source": [
    "### Variables"
   ]
  },
  {
   "cell_type": "code",
   "execution_count": null,
   "metadata": {},
   "outputs": [],
   "source": [
    "NO_DATA_CHAR = \"NA\"\n",
    "GEO_ATTR = \"Province\"\n",
    "CRS=\"epsg:4326\"\n",
    "WEB_MERCATOR_CRS = \"epsg:3857\""
   ]
  },
  {
   "cell_type": "markdown",
   "metadata": {},
   "source": [
    "### Geo Config"
   ]
  },
  {
   "cell_type": "code",
   "execution_count": null,
   "metadata": {},
   "outputs": [],
   "source": [
    "# Order: bottom-left, bottom-right, top-right, top-left (sw, se, ne, nw)\n",
    "\n",
    "region_poly = {\n",
    "    \"Caucasus\" : {\"wsen\": [35.0000, 30.0009, 60.0000, 50.0000]},\n",
    "    #Caucasus\" : {\"wsen\": [40.058841, 40.202162, -75.042164, -74.924594]},\n",
    "    \"Europe\" : {\"wsen\" : [-10, 30, 35, 70]},\n",
    "    \"Asia\" : {\"wsen\" : [60, 0, 140, 70]},\n",
    "}\n",
    "\n",
    "df_columns = [\"Region\",\"Lon\", \"Lat\"]\n",
    "region_df = pd.DataFrame(columns=df_columns)\n",
    "\n",
    "for region in region_poly:\n",
    "    wsen = region_poly[region][\"wsen\"]\n",
    "    \n",
    "    # add to dataframe\n",
    "    df = pd.DataFrame([\n",
    "         [region, wsen[0], wsen[1]],\n",
    "         [region, wsen[2], wsen[1]],\n",
    "         [region, wsen[2], wsen[3]],\n",
    "         [region, wsen[0], wsen[3]],\n",
    "         ],\n",
    "         columns=df_columns\n",
    "    )\n",
    "    region_df = region_df.append(df, ignore_index = True)\n",
    "    \n",
    "    # Polygon should be: sw, se, ne, nw\n",
    "    region_poly[region][\"poly\"] = shapely.geometry.Polygon([\n",
    "        (wsen[0], wsen[1]), \n",
    "        (wsen[2], wsen[1]), \n",
    "        (wsen[2], wsen[3]), \n",
    "        (wsen[0], wsen[3]),\n",
    "    ])\n",
    "    region_poly[region][\"geoseries\"] = geopandas.GeoSeries(region_poly[region][\"poly\"])\n",
    "    region_poly[region][\"geoseries\"].crs = CRS\n",
    "    region_poly[region][\"xlim\"] = (wsen[0], wsen[2])\n",
    "    region_poly[region][\"ylim\"] = (wsen[1], wsen[3])\n",
    "\n",
    "region_gdf = geopandas.GeoDataFrame(\n",
    "    region_df, \n",
    "    geometry=geopandas.points_from_xy(region_df.Lon, region_df.Lat))\n",
    "region_gdf.set_crs(CRS, inplace=True)"
   ]
  },
  {
   "cell_type": "code",
   "execution_count": null,
   "metadata": {},
   "outputs": [],
   "source": [
    "region_gdf.to_crs(epsg=3857)"
   ]
  },
  {
   "cell_type": "markdown",
   "metadata": {},
   "source": [
    "### Global Plot Config"
   ]
  },
  {
   "cell_type": "code",
   "execution_count": null,
   "metadata": {},
   "outputs": [],
   "source": [
    "dpi=400\n",
    "\n",
    "DEF_COL_LIST = [\"#1f77b4\", \"#ff7f0e\", \"#2ca02c\"]\n",
    "\n",
    "# Font\n",
    "SM_FONT = 5\n",
    "MED_FONT = 8\n",
    "LG_FONT = 10\n",
    "\n",
    "plt.rc('font', size=SM_FONT)          # controls default text sizes\n",
    "plt.rc('figure', titlesize=LG_FONT)  # fontsize of the figure title\n",
    "#plt.rc('axes', labelsize=MED_FONT)    # fontsize of the x and y labels\n",
    "\n",
    "CMAP=\"tab10\"\n",
    "\n",
    "cmap = matplotlib.cm.get_cmap(CMAP)\n",
    "cmaplist = [cmap(i) for i in range(cmap.N)]\n",
    "print(cmaplist)"
   ]
  },
  {
   "cell_type": "markdown",
   "metadata": {},
   "source": [
    "### Contextily Basemaps"
   ]
  },
  {
   "cell_type": "code",
   "execution_count": null,
   "metadata": {},
   "outputs": [],
   "source": [
    "# Change the geoseries crs\n",
    "region_gdf.to_crs(epsg=3857, inplace=True)"
   ]
  },
  {
   "cell_type": "code",
   "execution_count": null,
   "metadata": {},
   "outputs": [],
   "source": [
    "w = 3896182.178\n",
    "s = 3503665.531\n",
    "n = 6679169.448\n",
    "e = 6446275.841\n",
    "\n",
    "print(region_df[region_df[\"Region\"] == \"Caucasus\"].geometry)\n",
    "\n",
    "ctx_img, ctx_ext = ctx.bounds2img(\n",
    "     w,\n",
    "     s,\n",
    "     e,\n",
    "     n,\n",
    "     ll=True,\n",
    "     source=ctx.providers.Stamen.Toner,\n",
    "     zoom=1,\n",
    "     #crs=CRS,\n",
    "    )\n",
    "print(ctx_img)\n",
    "plt.imshow(ctx_img, extent=ctx_ext)\n",
    "# Reset the geoseries crs"
   ]
  },
  {
   "cell_type": "code",
   "execution_count": null,
   "metadata": {},
   "outputs": [],
   "source": [
    "\"\"\"w, s, e, n = (-3.0816650390625,\n",
    "              53.268087670237485,\n",
    "             -2.7582550048828125,\n",
    "              53.486002749115556)\"\"\"\n",
    "\n",
    "w, s, e, n = (35,\n",
    "              30,\n",
    "             60,\n",
    "              50)\n",
    "ctx_img, ctx_ext = ctx.bounds2img(w,\n",
    "                                     s,\n",
    "                                     e,\n",
    "                                     n,\n",
    "                                     ll=True,\n",
    "                                     source=ctx.providers.Stamen.Toner,\n",
    "                                     zoom=1,\n",
    "                                     #crs=CRS,\n",
    "                                    )\n",
    "\n",
    "plt.imshow(ctx_img, extent=ctx_ext)\n",
    "\"\"\"out_path = os.path.join(outdir, \"liverpool.tif\")  \n",
    "_ = ctx.bounds2raster(w, s, e, n,\n",
    "                     ll=True,\n",
    "                     path=out_path,\n",
    "                     source=ctx.providers.CartoDB.Positron\n",
    "                    )\"\"\""
   ]
  },
  {
   "cell_type": "markdown",
   "metadata": {},
   "source": [
    "---\n",
    "## Import Dataframe"
   ]
  },
  {
   "cell_type": "markdown",
   "metadata": {},
   "source": [
    "Read in as pandas dataframe"
   ]
  },
  {
   "cell_type": "code",
   "execution_count": null,
   "metadata": {},
   "outputs": [],
   "source": [
    "tree_df = pd.read_csv(tree_df_path, sep='\\t')\n",
    "# Fix the problem with multiple forms of NA in the table\n",
    "# Consolidate missing data to the NO_DATA_CHAR\n",
    "tree_df.fillna(NO_DATA_CHAR, inplace=True)\n",
    "tree_df.set_index(\"Name\", inplace=True)"
   ]
  },
  {
   "cell_type": "markdown",
   "metadata": {},
   "source": [
    "Convert to geopandas dataframe"
   ]
  },
  {
   "cell_type": "code",
   "execution_count": null,
   "metadata": {},
   "outputs": [],
   "source": [
    "# Remove NO DATA Cells\n",
    "# RETHINK THIS WHEN INTERNAL NODES HAVE DATA!!\n",
    "df = tree_df[tree_df[GEO_ATTR + \"Lon\"] != NO_DATA_CHAR]\n",
    "geometry = [shapely.geometry.Point(xy) for xy in zip(df[GEO_ATTR + \"Lon\"], df[GEO_ATTR + \"Lat\"])]\n",
    "df = df.drop([GEO_ATTR + \"Lon\", GEO_ATTR + \"Lat\"], axis=1)\n",
    "#WGS84 = \"epsg:4326\"\n",
    "gdf_points = geopandas.GeoDataFrame(df, crs=CRS, geometry=geometry)"
   ]
  },
  {
   "cell_type": "markdown",
   "metadata": {},
   "source": [
    "## Import reference datasets"
   ]
  },
  {
   "cell_type": "markdown",
   "metadata": {},
   "source": [
    "Import the world dataset from geopandas"
   ]
  },
  {
   "cell_type": "code",
   "execution_count": null,
   "metadata": {},
   "outputs": [],
   "source": [
    "gdf_points_count = {}\n",
    "\n",
    "for geo in gdf_points[GEO_ATTR]:\n",
    "    if geo not in gdf_points_count:\n",
    "        gdf_points_count[geo] = 0\n",
    "    gdf_points_count[geo] += 1\n",
    "\n",
    "gdf_points_size = []\n",
    "\n",
    "for geo in gdf_points[GEO_ATTR]:\n",
    "    gdf_points_size.append(gdf_points_count[geo])"
   ]
  },
  {
   "cell_type": "markdown",
   "metadata": {},
   "source": [
    "## Global"
   ]
  },
  {
   "cell_type": "code",
   "execution_count": null,
   "metadata": {},
   "outputs": [],
   "source": [
    "world_polygons = geopandas.read_file(geopandas.datasets.get_path('naturalearth_lowres'))\n",
    "\n",
    "fig, ax1 = plt.subplots(1, dpi=dpi)\n",
    "\n",
    "# Basemap\n",
    "world_polygons.plot(ax=ax1, \n",
    "                    zorder=1, \n",
    "                    alpha=0.75, \n",
    "                    color=DEF_COL_LIST[0],\n",
    "                    edgecolor=\"white\", \n",
    "                    linewidth=0.25)\n",
    "\n",
    "# Points\n",
    "gdf_points.plot(ax=ax1, \n",
    "                zorder=2, \n",
    "                markersize=gdf_points_size, \n",
    "                color=DEF_COL_LIST[1],\n",
    "                edgecolor=\"black\",\n",
    "                linewidths=0.5,\n",
    "                )\n",
    "\n",
    "# Polygons\n",
    "for region in region_poly:\n",
    "    region_poly[region][\"geoseries\"].plot(color=\"none\", edgecolor=\"black\", ax=ax1)\n",
    "#caucasus_geoseries.plot(color=\"none\", edgecolor=\"black\", ax=ax1)\n",
    "#europe_geoseries.plot(color=\"none\", edgecolor=\"black\", ax=ax1)\n",
    "#asia_geoseries.plot(color=\"none\", edgecolor=\"black\", ax=ax1)\n",
    "\n",
    "ax1.set_ylim(-63,)\n",
    "#ax1.set_xticklabels([])\n",
    "#ax1.set_yticklabels([])\n",
    "ax1.set_title(\"Global sampling distribution\")\n",
    "\n",
    "#plt.axis('off')\n",
    "\n",
    "# Save\n",
    "out_path = os.path.join(outdir, \"world_sample_distribution.jpg\") \n",
    "plt.savefig(out_path, \n",
    "            dpi=dpi, \n",
    "            bbox_inches = \"tight\")"
   ]
  },
  {
   "cell_type": "markdown",
   "metadata": {},
   "source": [
    "## Caucasus"
   ]
  },
  {
   "cell_type": "code",
   "execution_count": null,
   "metadata": {},
   "outputs": [],
   "source": [
    "region_xlim = (35, 60)\n",
    "region_ylim = [30, 50]\n",
    "\n",
    "\"\"\"fig, ax1 = plt.subplots(1, \n",
    "                        dpi=dpi\n",
    "                       )\"\"\"\n",
    "\n",
    "ax1 = gdf_points.plot( \n",
    "                markersize=gdf_points_size, \n",
    "                color=DEF_COL_LIST[1],\n",
    "                edgecolor=\"black\",\n",
    "                linewidths=0.5,\n",
    "                )\n",
    "\n",
    "ctx.add_basemap(\n",
    "    ax1, \n",
    "    crs=gdf_points.crs.to_string(),\n",
    "    #source=ctx.providers.Stamen.TonerLite,\n",
    "    source=ctx.providers.CartoDB.Positron,\n",
    "    zoom=3,\n",
    ")\n",
    "\n",
    "ax1.set_xlim(region_poly[\"Caucasus\"][\"xlim\"])\n",
    "ax1.set_ylim(region_poly[\"Caucasus\"][\"ylim\"])\n",
    "ax1.set_title(\"Caucasus sampling distribution\")\n",
    "plt.axis('off')"
   ]
  },
  {
   "cell_type": "code",
   "execution_count": null,
   "metadata": {},
   "outputs": [],
   "source": [
    "region_xlim = (35, 60)\n",
    "region_ylim = [30, 50]\n",
    "\n",
    "fig, ax1 = plt.subplots(1, \n",
    "                        dpi=dpi\n",
    "                       )\n",
    "\n",
    "# Size the points\n",
    "gdf_points_count = {}\n",
    "gdf_points[GEO_ATTR]\n",
    "\n",
    "world_polygons.plot(ax=ax1, \n",
    "                    zorder=1, \n",
    "                    alpha=0.75, \n",
    "                    color=DEF_COL_LIST[0],\n",
    "                    edgecolor=\"white\", \n",
    "                    linewidth=0.25)\n",
    "gdf_points.plot(ax=ax1, \n",
    "                zorder=2, \n",
    "                markersize=gdf_points_size, \n",
    "                color=DEF_COL_LIST[1],\n",
    "                edgecolor=\"black\",\n",
    "                linewidths=0.5,\n",
    "                )\n",
    "\n",
    "ax1.set_xlim(region_xlim)\n",
    "ax1.set_ylim(region_ylim)\n",
    "ax1.set_title(\"Caucasus sampling distribution\")\n",
    "#plt.axis('off')\n"
   ]
  },
  {
   "cell_type": "code",
   "execution_count": null,
   "metadata": {},
   "outputs": [],
   "source": [
    "\"\"\"db = gdf_points[gdf_points[\"Country\"] == \"Armenia\"]\n",
    "ax = gdf_points.plot(color=\"red\", figsize=(9, 9))\n",
    "ctx.add_basemap(\n",
    "    ax, \n",
    "    crs=db.crs.to_string(),\n",
    "    source=ctx.providers.Stamen.TerrainBackground,\n",
    ")\"\"\""
   ]
  },
  {
   "cell_type": "markdown",
   "metadata": {},
   "source": [
    "### Europe"
   ]
  },
  {
   "cell_type": "markdown",
   "metadata": {},
   "source": [
    "---\n",
    "## OLD"
   ]
  },
  {
   "cell_type": "markdown",
   "metadata": {},
   "source": [
    "### GADM Country Datasets"
   ]
  },
  {
   "cell_type": "code",
   "execution_count": null,
   "metadata": {},
   "outputs": [],
   "source": [
    "country_codes = [\"ARM\", \"AZE\", \"GEO\"]\n",
    "\n",
    "country_codes\n",
    "\n",
    "fig, ax1 = plt.subplots(1, dpi=dpi)\n",
    "\n",
    "for code in country_codes:\n",
    "    zip_file_url = \"https://biogeo.ucdavis.edu/data/gadm3.6/gpkg/gadm36_{}_gpkg.zip\".format(code)    \n",
    "    zip_filename = os.path.basename(zip_file_url)\n",
    "    gpkg_filename = zip_filename.replace(\"_gpkg.zip\", \".gpkg\")\n",
    "    gpkg_path = os.path.join(outdir, gpkg_filename)\n",
    "    target_layer = os.path.splitext(gpkg_filename)[0] + \"_1\"\n",
    "    chunk_size = 128\n",
    "    result = requests.get(zip_file_url, stream=True)\n",
    "    out_path = os.path.join(outdir, os.path.basename(zip_file_url)) \n",
    "\n",
    "    with open(out_path, 'wb') as fd:\n",
    "        for chunk in result.iter_content(chunk_size=chunk_size):\n",
    "            fd.write(chunk)\n",
    "\n",
    "\n",
    "    with zipfile.ZipFile(out_path, 'r') as zipObj:\n",
    "        zipObj.extract(gpkg_filename, path=outdir)\n",
    "\n",
    "    for layername in fiona.listlayers(gpkg_path):\n",
    "        if layername ==  target_layer:\n",
    "            geopkg = geopandas.read_file(gpkg_path, layer=layername)\n",
    "            geopkg.plot(ax=ax1, \n",
    "                        zorder=1, \n",
    "                        alpha=0.50, \n",
    "                        color=cmaplist[country_codes.index(code)],\n",
    "                        edgecolor=\"black\", \n",
    "                        linewidth=0.25,\n",
    "                        )\n"
   ]
  },
  {
   "cell_type": "code",
   "execution_count": null,
   "metadata": {},
   "outputs": [],
   "source": [
    "rus_gdf = geopandas.read_file(os.path.join(outdir, \"gadm36_RUS.gpkg\"))\n",
    "for name in rus_gdf.NAME_2: print(name)"
   ]
  },
  {
   "cell_type": "code",
   "execution_count": null,
   "metadata": {},
   "outputs": [],
   "source": [
    "print(country_codes.index('ARM'))"
   ]
  },
  {
   "cell_type": "markdown",
   "metadata": {},
   "source": [
    "### Plot with the world basemap"
   ]
  },
  {
   "cell_type": "code",
   "execution_count": null,
   "metadata": {},
   "outputs": [],
   "source": [
    "world = geopandas.read_file(geopandas.datasets.get_path('naturalearth_lowres'))\n",
    "cities = geopandas.read_file(geopandas.datasets.get_path('naturalearth_cities'))\n",
    "\n",
    "fig, ax = plt.subplots()\n",
    "#world.plot(ax=ax, color='white', edgecolor='black')\n",
    "#cities.plot(ax=ax, marker='o', color='red', markersize=5)\n",
    "cities.plot(color='k', ax=ax, zorder=2)\n",
    "world.plot(ax=ax, zorder=1);\n",
    "\n",
    "ax.set_xlim(40, 55)\n",
    "ax.set_ylim(30, 50)"
   ]
  },
  {
   "cell_type": "markdown",
   "metadata": {},
   "source": [
    "## TEST"
   ]
  },
  {
   "cell_type": "markdown",
   "metadata": {},
   "source": [
    "# BACKUP"
   ]
  },
  {
   "cell_type": "markdown",
   "metadata": {},
   "source": [
    "### How much phylogeographic signal is present?"
   ]
  },
  {
   "cell_type": "code",
   "execution_count": null,
   "metadata": {},
   "outputs": [],
   "source": [
    "\"\"\"# Store terminals in two lists for comparison\n",
    "term_list = [t for t in tree_div.get_terminals()]\n",
    "term_list.reverse()\n",
    "\n",
    "dist_div_list = []\n",
    "dist_geo_list = []\n",
    "\n",
    "i = 0\n",
    "progress_log_breaks = [num for num in range(0,101)]\n",
    "i_progress = 0\n",
    "\n",
    "for t1 in term_list:\n",
    "    \n",
    "    t1_name = t1.name\n",
    "    t1_lat = tree_df[ATTRIBUTE_LAT][t1.name]\n",
    "    t1_lon = tree_df[ATTRIBUTE_LON][t1.name]\n",
    "    t1_latlon = (t1_lat, t1_lon)\n",
    "    \n",
    "    # Skip if natlon is nan\n",
    "    if t1_lat == \"NA\" or t1_lon == \"NA\":\n",
    "        continue\n",
    "        \n",
    "    # Iterate through terminals again for distance measures\n",
    "    for t2 in term_list:           \n",
    "        t2_name = t2.name     \n",
    "        # Skip if it's a self comparison\n",
    "        if t1_name == t2_name: continue\n",
    "            \n",
    "        t2_lat = tree_df[ATTRIBUTE_LAT][t2_name]\n",
    "        t2_lon = tree_df[ATTRIBUTE_LON][t2_name]\n",
    "        \n",
    "        # Skip if latlon is nan\n",
    "        if t2_lat == \"NA\" or t2_lon == \"NA\":\n",
    "            continue\n",
    "        t2_latlon = (t2_lat, t2_lon)\n",
    "       \n",
    "        # Calculate branch distance (divergence)\n",
    "        dist_div = tree_div.distance(t1_name, t2_name)  \n",
    "        # Calculate geographic distance (great circle)\n",
    "        dist_geo = getattr(great_circle(t1_latlon, t2_latlon), DIST_UNIT)\n",
    "        dist_div_list.append(dist_div)\n",
    "        dist_geo_list.append(dist_geo)\n",
    "    \n",
    "    # Counter for a progress log since this is slow\n",
    "    i+=1\n",
    "    progress = (i / len(term_list)) * 100\n",
    "    if progress >= progress_log_breaks[i_progress]:\n",
    "        print(\"{:0.0f}%\".format(progress))\n",
    "        i_progress += 1\n",
    "    #if i ==5:\n",
    "    #    break\"\"\""
   ]
  },
  {
   "cell_type": "code",
   "execution_count": null,
   "metadata": {},
   "outputs": [],
   "source": [
    "\"\"\"\n",
    "# Create a joint plot\n",
    "\n",
    "g = sns.JointGrid()\n",
    "g.fig.set_dpi(dpi)\n",
    "\n",
    "# Main Scatter\n",
    "#sns.regplot(\n",
    "sns.scatterplot(\n",
    "                x=dist_div_list,\n",
    "                y=dist_geo_list,  \n",
    "                s=1,\n",
    "                #scatter_kws = {\"s\": 0.5}, \n",
    "                ax=g.ax_joint,\n",
    "                #line_kws={\"color\": \"red\"}\n",
    "               )\n",
    "\n",
    "sns.kdeplot(x=dist_div_list, \n",
    "            linewidth=1,\n",
    "            fill=True,\n",
    "            ax=g.ax_marg_x,\n",
    "            #bw_method=0.03,\n",
    "           )\n",
    "\n",
    "sns.kdeplot(y=dist_geo_list, \n",
    "            linewidth=1,\n",
    "            fill=True,\n",
    "            ax=g.ax_marg_y,\n",
    "            bw_method=0.03,\n",
    "           )\n",
    "\n",
    "# Constrain view and limits\n",
    "g.ax_marg_y.set_ylim(0-500,int(max(dist_geo_list)) + 500)\n",
    "\n",
    "# Labels and Titles\n",
    "g.ax_joint.set_xlabel(\"Genetic Distance (Branch Length)\")\n",
    "g.ax_joint.set_ylabel(\"Geographic Distance (km)\")\n",
    "g.fig.suptitle(\"Phylogeographic Signal as Isolation by Distance\",\n",
    "                x=0.5,\n",
    "                y=1.05)\n",
    "\n",
    "# Caption\n",
    "caption_text = (\"Pairwise genetic distance (branch length) compared with pariwise geographic distance (greater circle).\" \n",
    "                + \"\\nGeographic Resolution: {}\".format(ATTRIBUTE)\n",
    "               )\n",
    "g.fig.text(0.4, -0.05, caption_text, ha='center')\n",
    "\n",
    "# Save\n",
    "out_path = os.path.join(outdir, \"treetime_{}_IBD.jpg\".format(ATTRIBUTE.lower())) \n",
    "plt.savefig(out_path, \n",
    "            dpi=dpi, \n",
    "            bbox_inches = \"tight\")\"\"\""
   ]
  }
 ],
 "metadata": {
  "kernelspec": {
   "display_name": "Python 3",
   "language": "python",
   "name": "python3"
  },
  "language_info": {
   "codemirror_mode": {
    "name": "ipython",
    "version": 3
   },
   "file_extension": ".py",
   "mimetype": "text/x-python",
   "name": "python",
   "nbconvert_exporter": "python",
   "pygments_lexer": "ipython3",
   "version": "3.7.3"
  }
 },
 "nbformat": 4,
 "nbformat_minor": 4
}
