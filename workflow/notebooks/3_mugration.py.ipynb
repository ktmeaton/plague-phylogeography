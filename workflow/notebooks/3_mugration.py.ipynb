{
 "cells": [
  {
   "cell_type": "markdown",
   "metadata": {},
   "source": [
    "# Objectives\n",
    "\n",
    "1. Run mugration analysis on select traits.\n",
    "1. Add mugration results to dataframe.\n",
    "1. Plot confidence boxplots.\n",
    "1. Plot colored trees.\n",
    "1. Export:\n",
    "   - Tree Dataframe (tsv)\n",
    "   - Augur JSON\n",
    "   - Auspice JSON"
   ]
  },
  {
   "cell_type": "markdown",
   "metadata": {},
   "source": [
    "---\n",
    "# Setup"
   ]
  },
  {
   "cell_type": "markdown",
   "metadata": {},
   "source": [
    "## Module Imports"
   ]
  },
  {
   "cell_type": "code",
   "execution_count": 1,
   "metadata": {},
   "outputs": [],
   "source": [
    "from Bio import Phylo\n",
    "from treetime.utils import parse_dates\n",
    "from treetime import wrappers\n",
    "\n",
    "import copy\n",
    "import os\n",
    "import sys\n",
    "import IPython\n",
    "import io\n",
    "\n",
    "import pandas as pd\n",
    "import numpy as np\n",
    "import math\n",
    "\n",
    "import matplotlib.pyplot as plt\n",
    "from matplotlib import colors, lines, patches, gridspec\n",
    "import seaborn as sns"
   ]
  },
  {
   "cell_type": "markdown",
   "metadata": {},
   "source": [
    "## Input File Paths"
   ]
  },
  {
   "cell_type": "code",
   "execution_count": 2,
   "metadata": {},
   "outputs": [],
   "source": [
    "#tree_path = \"../../docs/results/latest/parse_tree/parse_tree.xml\"\n",
    "tree_path = \"../../docs/results/latest/treemmer/treemmer.nwk\"\n",
    "tree_df_path = \"../../docs/results/latest/parse_tree/parse_tree.tsv\"\n",
    "aln_path = \"../../docs/results/latest/snippy_multi/snippy-core_chromosome.snps.filter5.aln\"\n",
    "latlon_path = \"../../docs/results/latest/parse_tree/parse_tree_latlon.tsv\"\n",
    "auspice_config_path = \"../../config/auspice.config\"\n",
    "auspice_colors_path = \"../../docs/results/latest/parse_tree/parse_tree_colors.tsv\"\n",
    "auspice_remote_dir_path = \"../../auspice/\"\n",
    "\n",
    "outdir = \"../../docs/results/latest/mugration/\"\n",
    "\n",
    "# Create output directory if it doesn't exist\n",
    "if not os.path.exists(outdir):\n",
    "    os.mkdir(outdir)"
   ]
  },
  {
   "cell_type": "markdown",
   "metadata": {},
   "source": [
    "## Variables"
   ]
  },
  {
   "cell_type": "code",
   "execution_count": 3,
   "metadata": {},
   "outputs": [],
   "source": [
    "from config import *\n",
    "\n",
    "NAME_COL = \"Sample\"\n",
    "SCRIPT_NAME = \"mugration\"\n",
    "\n",
    "plt.rc('legend', frameon=False) # legend frame"
   ]
  },
  {
   "cell_type": "markdown",
   "metadata": {},
   "source": [
    "## Read Input Tree and Dataframe"
   ]
  },
  {
   "cell_type": "code",
   "execution_count": 4,
   "metadata": {},
   "outputs": [
    {
     "ename": "ParseError",
     "evalue": "syntax error: line 1, column 0 (<string>)",
     "output_type": "error",
     "traceback": [
      "Traceback \u001b[0;36m(most recent call last)\u001b[0m:\n",
      "  File \u001b[1;32m\"/home/ktmeaton/miniconda3/envs/plague-phylogeography/lib/python3.7/site-packages/IPython/core/interactiveshell.py\"\u001b[0m, line \u001b[1;32m3418\u001b[0m, in \u001b[1;35mrun_code\u001b[0m\n    exec(code_obj, self.user_global_ns, self.user_ns)\n",
      "  File \u001b[1;32m\"<ipython-input-4-b982f29f7252>\"\u001b[0m, line \u001b[1;32m1\u001b[0m, in \u001b[1;35m<module>\u001b[0m\n    tree_div = Phylo.read(tree_path, \"phyloxml\")\n",
      "  File \u001b[1;32m\"/home/ktmeaton/miniconda3/envs/plague-phylogeography/lib/python3.7/site-packages/Bio/Phylo/_io.py\"\u001b[0m, line \u001b[1;32m62\u001b[0m, in \u001b[1;35mread\u001b[0m\n    tree = next(tree_gen)\n",
      "  File \u001b[1;32m\"/home/ktmeaton/miniconda3/envs/plague-phylogeography/lib/python3.7/site-packages/Bio/Phylo/_io.py\"\u001b[0m, line \u001b[1;32m50\u001b[0m, in \u001b[1;35mparse\u001b[0m\n    for tree in getattr(supported_formats[format], \"parse\")(fp, **kwargs):\n",
      "  File \u001b[1;32m\"/home/ktmeaton/miniconda3/envs/plague-phylogeography/lib/python3.7/site-packages/Bio/Phylo/PhyloXMLIO.py\"\u001b[0m, line \u001b[1;32m100\u001b[0m, in \u001b[1;35mparse\u001b[0m\n    return Parser(file).parse()\n",
      "  File \u001b[1;32m\"/home/ktmeaton/miniconda3/envs/plague-phylogeography/lib/python3.7/site-packages/Bio/Phylo/PhyloXMLIO.py\"\u001b[0m, line \u001b[1;32m305\u001b[0m, in \u001b[1;35m__init__\u001b[0m\n    event, root = next(context)\n",
      "  File \u001b[1;32m\"/home/ktmeaton/miniconda3/envs/plague-phylogeography/lib/python3.7/xml/etree/ElementTree.py\"\u001b[0m, line \u001b[1;32m1222\u001b[0m, in \u001b[1;35miterator\u001b[0m\n    yield from pullparser.read_events()\n",
      "  File \u001b[1;32m\"/home/ktmeaton/miniconda3/envs/plague-phylogeography/lib/python3.7/xml/etree/ElementTree.py\"\u001b[0m, line \u001b[1;32m1297\u001b[0m, in \u001b[1;35mread_events\u001b[0m\n    raise event\n",
      "\u001b[0;36m  File \u001b[0;32m\"/home/ktmeaton/miniconda3/envs/plague-phylogeography/lib/python3.7/xml/etree/ElementTree.py\"\u001b[0;36m, line \u001b[0;32m1269\u001b[0;36m, in \u001b[0;35mfeed\u001b[0;36m\u001b[0m\n\u001b[0;31m    self._parser.feed(data)\u001b[0m\n",
      "\u001b[0;36m  File \u001b[0;32m\"<string>\"\u001b[0;36m, line \u001b[0;32munknown\u001b[0m\n\u001b[0;31mParseError\u001b[0m\u001b[0;31m:\u001b[0m syntax error: line 1, column 0\n"
     ]
    }
   ],
   "source": [
    "tree_div = Phylo.read(tree_path, \"phyloxml\")\n",
    "tree_div.ladderize(reverse=False)\n",
    "\n",
    "tree_df = pd.read_csv(tree_df_path, sep='\\t')\n",
    "# Fix the problem with multiple forms of NA in the table\n",
    "# Consolidate missing data to the NO_DATA_CHAR\n",
    "tree_df.fillna(NO_DATA_CHAR, inplace=True)\n",
    "tree_df.set_index(\"Name\", inplace=True)"
   ]
  },
  {
   "cell_type": "markdown",
   "metadata": {},
   "source": [
    "## Import lat lon"
   ]
  },
  {
   "cell_type": "code",
   "execution_count": null,
   "metadata": {},
   "outputs": [],
   "source": [
    "latlon_df = pd.read_csv(latlon_path, sep='\\t', header=None)\n",
    "latlon_df.columns = [\"Geo\",\"Name\",\"Lat\",\"Lon\"]\n",
    "# Fix the problem with multiple forms of NA in the table\n",
    "# Consolidate missing data to the NO_DATA_CHAR\n",
    "latlon_df.fillna(NO_DATA_CHAR, inplace=True)\n",
    "latlon_df"
   ]
  },
  {
   "cell_type": "markdown",
   "metadata": {},
   "source": [
    "---\n",
    "# 1. Run mugration analysis"
   ]
  },
  {
   "cell_type": "code",
   "execution_count": null,
   "metadata": {},
   "outputs": [],
   "source": [
    "mug_dict = {}\n",
    "\n",
    "for attr in ATTRIBUTE_LIST:\n",
    "    mug_dict[attr] = {}\n",
    "    # Make a copy of the input tree\n",
    "    mug_dict[attr][\"tree_div\"] = copy.deepcopy(tree_div)\n",
    "    # Map the taxon name to the attribute for mugration analysis\n",
    "    #mug_dict[attr][\"leaf_to_attr\"] = {sample:str(data[attr]) for sample,data in tree_df.iterrows()\n",
    "    #                if data[attr]!=NO_DATA_CHAR and data[attr]}    \n",
    "    mug_dict[attr][\"leaf_to_attr\"] = {sample:str(data[attr]) for sample,data in tree_df.iterrows()\n",
    "                    if data[attr]!=NO_DATA_CHAR}     \n",
    "    # Make blank dicts for the mugration output\n",
    "    mug_dict[attr][\"tree_mug\"] = {}\n",
    "    mug_dict[attr][\"letter_to_state\"] = {}\n",
    "    mug_dict[attr][\"reverse_alphabet\"] = {}\n",
    "    mug_dict[attr][\"unique_states\"] = {}\n",
    "\n",
    "    \n",
    "# Perform necessary type conversions\n",
    "\n",
    "for sample,attr_val in mug_dict[\"Branch_Number\"][\"leaf_to_attr\"].items():\n",
    "    float_to_str = str(math.ceil(float(attr_val)))\n",
    "    mug_dict[\"Branch_Number\"][\"leaf_to_attr\"][sample] = float_to_str"
   ]
  },
  {
   "cell_type": "markdown",
   "metadata": {},
   "source": [
    "## Run mugration to capture log"
   ]
  },
  {
   "cell_type": "code",
   "execution_count": null,
   "metadata": {},
   "outputs": [],
   "source": [
    "for attr in ATTRIBUTE_LIST:\n",
    "    print(\"Running mugration for attribute: {}\".format(attr))\n",
    "    # Initialize stdout capture\n",
    "    old_stdout = sys.stdout\n",
    "    new_stdout = io.StringIO()\n",
    "    sys.stdout = new_stdout\n",
    "    \n",
    "    # Run mugration\n",
    "    mug, letter_to_state, reverse_alphabet = wrappers.reconstruct_discrete_traits(mug_dict[attr][\"tree_div\"], \n",
    "                                                                     traits=mug_dict[attr][\"leaf_to_attr\"], \n",
    "                                                                     missing_data=NO_DATA_CHAR,\n",
    "                                                                     #missing_data=\"nan\",\n",
    "                                                                     #pc=pc, \n",
    "                                                                     #sampling_bias_correction=sampling_bias_correction, \n",
    "                                                                     verbose=4, \n",
    "                                                                     #weights=params.weights\n",
    "                                                                    )\n",
    "    mug_dict[attr][\"tree_mug\"] = mug\n",
    "    mug_dict[attr][\"letter_to_state\"] = letter_to_state\n",
    "    mug_dict[attr][\"reverse alphabet\"] = reverse_alphabet\n",
    "    mug_dict[attr][\"unique_states\"] = sorted(letter_to_state.values())\n",
    "    \n",
    "    # Save stdout to file\n",
    "    output = new_stdout.getvalue()\n",
    "    out_path = os.path.join(outdir, SCRIPT_NAME + \"_{}.log\".format(attr.lower())) \n",
    "    with open(out_path, \"w\") as file:\n",
    "        file.write(output)\n",
    "    # Restore stdout\n",
    "    sys.stdout = old_stdout\n",
    "    print(\"Standard output restored, logging to file disabled.\")"
   ]
  },
  {
   "cell_type": "markdown",
   "metadata": {},
   "source": [
    "---\n",
    "# 2. Add mugration to dataframe"
   ]
  },
  {
   "cell_type": "code",
   "execution_count": null,
   "metadata": {},
   "outputs": [],
   "source": [
    "for attr in ATTRIBUTE_LIST:\n",
    "    # Initialize empty values for the new mugration attribute and its confidence\n",
    "    tree_df[\"Mugration_\" + attr] = [NO_DATA_CHAR for row in range(0,len(tree_df))]\n",
    "    tree_df[\"Mugration_\" + attr + \"_Confidence\"] = [NO_DATA_CHAR for row in range(0,len(tree_df))]    \n",
    "    \n",
    "    tree_mug = mug_dict[attr][\"tree_mug\"].tree\n",
    "    unique_states = mug_dict[attr][\"unique_states\"]\n",
    "    \n",
    "    # If this attribute is associated with lat,lon\n",
    "    if attr + \"Lat\" in tree_df.columns:\n",
    "        tree_df[\"Mugration_\" + attr + \"_Lat\"] = [NO_DATA_CHAR for row in range(0,len(tree_df))]\n",
    "        tree_df[\"Mugration_\" + attr + \"_Lon\"] = [NO_DATA_CHAR for row in range(0,len(tree_df))]       \n",
    "\n",
    "    # Iterate through the nodes in the tree\n",
    "    for c in tree_mug.find_clades():\n",
    "        # Store the name and confidence for the state with the most support\n",
    "        state_max_name = mug_dict[attr][\"letter_to_state\"][c.cseq[0]]\n",
    "        state_conf_list = c.marginal_profile[0]\n",
    "        state_max_conf = max(state_conf_list)\n",
    "        c.other = []\n",
    "\n",
    "        # Store all the states and confidence values\n",
    "        for state_name,state_conf in zip(unique_states, state_conf_list):\n",
    "            attr_other = Phylo.PhyloXML.Other(tag=state_name, value=\"{:0.4f}\".format(state_conf), namespace=attr)\n",
    "            c.other.append(attr_other)\n",
    "\n",
    "        # Store the Maximum assigned value\n",
    "        attr_other = Phylo.PhyloXML.Other(tag=state_max_name, value=\"{:0.4f}\".format(state_max_conf), namespace=attr + \"_assign\")\n",
    "        c.other.append(attr_other)\n",
    "    \n",
    "        if c.name in tree_df.index:\n",
    "            tree_df.at[c.name, \"Mugration_\" + attr] = state_max_name\n",
    "            tree_df.at[c.name, \"Mugration_\" + attr + \"_Confidence\"] = state_max_conf\n",
    "        \n",
    "        # Add mugration lat lon\n",
    "        if attr + \"Lat\" in tree_df.columns:\n",
    "            # Check for lat and lon\n",
    "            c_geo = tree_df[\"Mugration_\" + attr][c.name]\n",
    "            c_geo_match = latlon_df[(latlon_df[\"Geo\"] == attr.lower()) &\n",
    "                            (latlon_df[\"Name\"] == c_geo)\n",
    "                           ]\n",
    "            c_geo_lat = c_geo_match[\"Lat\"].values[0]\n",
    "            c_geo_lon = c_geo_match[\"Lon\"].values[0]\n",
    "            tree_df.at[c.name, \"Mugration_\" + attr + \"_Lat\"] = c_geo_lat\n",
    "            tree_df.at[c.name, \"Mugration_\" + attr + \"_Lon\"] = c_geo_lon\n",
    "            \n",
    "tree_df"
   ]
  },
  {
   "cell_type": "markdown",
   "metadata": {},
   "source": [
    "---\n",
    "# 3. Plot confidence boxplot"
   ]
  },
  {
   "cell_type": "code",
   "execution_count": null,
   "metadata": {
    "scrolled": true
   },
   "outputs": [],
   "source": [
    "for attr in ATTRIBUTE_LIST:\n",
    "    fig, (ax1, ax2) = plt.subplots(2, \n",
    "                               sharex=False, \n",
    "                               gridspec_kw={'hspace': 0},\n",
    "                               figsize=figsize, \n",
    "                               dpi=dpi,\n",
    "                               constrained_layout=True,\n",
    "                              )\n",
    "    \n",
    "    # --------------------------\n",
    "    # Axis 1 - Number of tips per state\n",
    "    # Exclude samples with no attribute recorded\n",
    "    data = tree_df[tree_df[attr] != NO_DATA_CHAR]\n",
    "    label_order = list(data[attr].value_counts().index)\n",
    "    label_order = [lab for lab in label_order if lab != \"nan\"] + [\"nan\"]\n",
    "    \n",
    "    sns.countplot(data=data, \n",
    "                  x=attr, \n",
    "                  #color=\"blue\", \n",
    "                  edgecolor=\"black\",\n",
    "                  ax=ax1, \n",
    "                  order=label_order\n",
    "                 )\n",
    "    plt.setp(ax1.get_xticklabels(), visible=False)\n",
    "    xticklabels = [item.get_text() for item in ax1.get_xticklabels()]\n",
    "    ax1.set_xticklabels(xticklabels, rotation = 90, ha=\"right\")\n",
    "    ax1.set_xlabel(\"\")\n",
    "    ax1.set_ylabel(\"Number of Samples (Tips)\")\n",
    "    ax1.set_xlim(-1,len(label_order)) \n",
    "    ax1.set_title(attr.replace(\"_\",\" \"))\n",
    "    \n",
    "    # --------------------------\n",
    "    # Axis 2 - Mugration Confidence\n",
    "    # Exclude nodes that are terminals (ie. branch support is grey)\n",
    "    data = tree_df[tree_df[\"Branch_Support_Color\"] != \"grey\"]\n",
    "    \n",
    "    # Fix typing\n",
    "    if attr == \"Branch_Number\":\n",
    "        label_order = [str(math.ceil(lab)) for lab in label_order if lab != \"nan\"] + [\"nan\"]\n",
    "\n",
    "    # Customize outlier style\n",
    "    flierprops = dict(marker='o', markerfacecolor='white', markersize=2,\n",
    "                      linestyle='none', markeredgecolor='black')\n",
    "    # Create a boxplot\n",
    "    sns.boxplot(data=data, \n",
    "                  x=\"Mugration_\" + attr, \n",
    "                  y=\"Mugration_\" + attr + \"_Confidence\",\n",
    "                  #color=\"blue\", \n",
    "                  ax=ax2, \n",
    "                  order=label_order,\n",
    "                  flierprops=flierprops)\n",
    "    #plt.setp(ax2.get_xticklabels(), visible=False)\n",
    "    xticklabels = [item.get_text() for item in ax2.get_xticklabels()]\n",
    "    ax2.set_xticklabels(xticklabels, rotation = 90, ha=\"center\")\n",
    "    #ax2.axhline(y=MUG_CONF_THRESH, color=THRESH_COL, linewidth=0.5, linestyle='--')\n",
    "    ax2.set_xlabel(\"\")\n",
    "    ax2.set_ylabel(\"Mugration Confidence (Internal Nodes)\")\n",
    "    ax2.set_xlim(-1,len(label_order))\n",
    "    ax2.set_ylim(0, 1.1)\n",
    "    \n",
    "    fig.suptitle(\"Sampling Distribution and Mugration Analysis Confidence\")\n",
    "    \n",
    "    out_path = os.path.join(outdir, SCRIPT_NAME + \"_boxplot_{}.{}\".format(attr.lower(), FMT)) \n",
    "    plt.savefig(out_path, \n",
    "            dpi=dpi, \n",
    "            bbox_inches = \"tight\")"
   ]
  },
  {
   "cell_type": "markdown",
   "metadata": {},
   "source": [
    "---\n",
    "# 4. Plot colored trees"
   ]
  },
  {
   "cell_type": "markdown",
   "metadata": {},
   "source": [
    "## Color branches on mug/div tree according to state"
   ]
  },
  {
   "cell_type": "code",
   "execution_count": null,
   "metadata": {},
   "outputs": [],
   "source": [
    "out_path_colors = os.path.join(outdir, SCRIPT_NAME + \"_colors.tsv\")\n",
    "file_colors = open(out_path_colors, \"w\")\n",
    "\n",
    "for attr in ATTRIBUTE_LIST:  \n",
    "    if attr != \"Branch_Major\" and attr != \"Branch_Number\":\n",
    "        continue\n",
    "    \n",
    "    # --------------------------------------------   \n",
    "    # Canvas\n",
    "    fig, ax1 = plt.subplots(1, dpi=dpi, figsize=figsize, constrained_layout=True,)\n",
    "\n",
    "    # --------------------------------------------\n",
    "    # Color Tree\n",
    "    hex_dict = color_tree(tree=tree_div, \n",
    "                          df=tree_df, \n",
    "                          attribute=\"Mugration_\" + attr,\n",
    "                          attribute_confidence=\"Mugration_\" + attr + \"_Confidence\",\n",
    "                          threshold_confidence=MUG_CONF_THRESH,                          \n",
    "                          color_pal=CONT_COLOR_PAL)\n",
    "    \n",
    "    # Add the hex color dict to the dict\n",
    "    mug_dict[attr][\"hex_color\"] = hex_dict  \n",
    "\n",
    "    # Write to color file\n",
    "    for state,color in hex_dict.items():\n",
    "        file_colors.write(attr.lower() + \"\\t\" + state + \"\\t\" + color + \"\\n\")    \n",
    "        \n",
    "    # Draw tree\n",
    "    Phylo.draw(tree_div,\n",
    "               axes=ax1, \n",
    "               show_confidence=False, \n",
    "               label_func = lambda x:'', \n",
    "               do_show=False)\n",
    "    # --------------------------------------------\n",
    "    # Draw tips\n",
    "    colors = [mug_dict[attr][\"hex_color\"][state] for state in tree_df[\"Mugration_\" + attr]]    \n",
    "    ax1.scatter(data=tree_df, \n",
    "                x=\"coord_x\", \n",
    "                y=\"coord_y\", \n",
    "                s=0.5, \n",
    "                c=colors,\n",
    "               )\n",
    "    # --------------------------------------------\n",
    "    # Ticks\n",
    "    x_buffer = max(tree_df[\"coord_x\"]) * 0.01\n",
    "    y_buffer = math.ceil(len(tree_div.get_terminals()) * 0.01)   \n",
    "    # --------------------------------------------\n",
    "    # Limits\n",
    "    ax1.set_xlim(0 - x_buffer, max(tree_df[\"coord_x\"]) + x_buffer)    \n",
    "    ax1.set_ylim(len(tree_div.get_terminals()) + y_buffer, 0 - y_buffer)\n",
    "    ax1.set_yticks([])    \n",
    "    # --------------------------------------------\n",
    "    # Labels\n",
    "    ax1.set_xlabel(\"Branch Length\")\n",
    "    ax1.set_ylabel(\"\")\n",
    "    fig.suptitle(\"{} Mugration\".format(attr.replace(\"_\",\" \")))    \n",
    "    # --------------------------------------------\n",
    "    # Legend\n",
    "    legend_elements = [patches.Patch(facecolor=value, edgecolor=value,) for value in mug_dict[attr][\"hex_color\"].values()]\n",
    "    legend_labels = list(mug_dict[attr][\"hex_color\"].keys())\n",
    "    ax1.legend(legend_elements, \n",
    "              legend_labels,\n",
    "              bbox_to_anchor=(1.0, 1.0), \n",
    "              loc='upper left',\n",
    "              frameon=False,\n",
    "             )\n",
    "    # --------------------------------------------\n",
    "    # Export\n",
    "    out_path = os.path.join(outdir, SCRIPT_NAME + \"_tree_{}.{}\".format(attr.lower(), FMT))  \n",
    "    plt.savefig(out_path, dpi=dpi, bbox_inches = \"tight\")\n",
    "\n",
    "file_colors.close()"
   ]
  },
  {
   "cell_type": "markdown",
   "metadata": {},
   "source": [
    "---\n",
    "# 5. Export"
   ]
  },
  {
   "cell_type": "markdown",
   "metadata": {},
   "source": [
    "### Tree Dataframe"
   ]
  },
  {
   "cell_type": "code",
   "execution_count": null,
   "metadata": {},
   "outputs": [],
   "source": [
    "# Save tree dataframe with mugration info\n",
    "out_path_df = os.path.join(outdir, SCRIPT_NAME + \".tsv\" )\n",
    "tree_df.to_csv(out_path_df, sep=\"\\t\")"
   ]
  },
  {
   "cell_type": "markdown",
   "metadata": {},
   "source": [
    "## Augur JSON\n",
    "\n",
    "  - alignment (empty)\n",
    "  - input_tree (tree_path)\n",
    "  - nodes (node_dict)\n",
    "  "
   ]
  },
  {
   "cell_type": "code",
   "execution_count": null,
   "metadata": {},
   "outputs": [],
   "source": [
    "node_data = test_augur_export(tree_path=tree_path, \n",
    "                         aln_path=aln_path, \n",
    "                         tree=tree_div, \n",
    "                         tree_df=tree_df, \n",
    "                         color_keyword_exclude=[\"color\", \"coord\"])\n",
    "\n",
    "out_path_augur_json = os.path.join(outdir, SCRIPT_NAME + \"_augur.json\" )\n",
    "utils.write_json(data=node_data, file_name=out_path_augur_json, indent=2)\n"
   ]
  },
  {
   "cell_type": "markdown",
   "metadata": {},
   "source": [
    "## Auspice JSON\n",
    "\n",
    "Manual edits of https://github.com/nextstrain/augur/blob/master/augur/export_v2.py\n",
    "\n",
    "This can then be used for auspice via:\n",
    "\n",
    "```\n",
    "HOST=\"localhost\" auspice view --datasetDir .\n",
    "```"
   ]
  },
  {
   "cell_type": "code",
   "execution_count": null,
   "metadata": {},
   "outputs": [],
   "source": [
    "data_json = test_auspice_export(tree=tree_div, \n",
    "                      augur_json_path=out_path_augur_json, \n",
    "                      auspice_config_path=auspice_config_path, \n",
    "                      auspice_colors_path=auspice_colors_path,\n",
    "                      auspice_latlons_path=latlon_path)\n",
    "\n",
    "print(data_json)\n",
    "# Write outputs - For Local Rendering\n",
    "out_path_auspice_local_json = os.path.join(outdir, SCRIPT_NAME + \"_auspice.json\" )\n",
    "utils.write_json(data=data_json, file_name=out_path_auspice_local_json, indent=JSON_INDENT, include_version=False)\n",
    "export_v2.validate_data_json(out_path_auspice_local_json)\n",
    "print(\"Validation successful for local JSON.\")\n",
    "\n",
    "# Write outputs - For Remote Rendering\n",
    "out_path_auspice_remote_json = os.path.join(auspice_remote_dir_path, AUSPICE_PREFIX + SCRIPT_NAME.replace(\"_\",\"-\") + \".json\" )\n",
    "utils.write_json(data=data_json, file_name=out_path_auspice_remote_json, indent=JSON_INDENT, include_version=False)\n",
    "export_v2.validate_data_json(out_path_auspice_remote_json)\n",
    "print(\"Validation successful for remote JSON.\")"
   ]
  },
  {
   "cell_type": "code",
   "execution_count": null,
   "metadata": {},
   "outputs": [],
   "source": []
  }
 ],
 "metadata": {
  "kernelspec": {
   "display_name": "Python 3",
   "language": "python",
   "name": "python3"
  },
  "language_info": {
   "codemirror_mode": {
    "name": "ipython",
    "version": 3
   },
   "file_extension": ".py",
   "mimetype": "text/x-python",
   "name": "python",
   "nbconvert_exporter": "python",
   "pygments_lexer": "ipython3",
   "version": "3.7.3"
  }
 },
 "nbformat": 4,
 "nbformat_minor": 4
}
