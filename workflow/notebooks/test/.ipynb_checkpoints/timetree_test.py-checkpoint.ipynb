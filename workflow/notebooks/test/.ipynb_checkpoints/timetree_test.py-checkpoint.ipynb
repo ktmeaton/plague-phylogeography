{
 "cells": [
  {
   "cell_type": "code",
   "execution_count": 2,
   "id": "identical-major",
   "metadata": {},
   "outputs": [
    {
     "name": "stdout",
     "output_type": "stream",
     "text": [
      "\n",
      "Attempting to parse dates...\n",
      "\tUsing column 'name' as name. This needs match the taxon names in the tree!!\n",
      "\tUsing column 'date' as date.\n",
      "\n",
      "0.00\t-TreeAnc: set-up\n",
      "\n",
      "0.01\t-###TEST.TreeAnc.prepare_tree: BEGIN\n"
     ]
    },
    {
     "ename": "MissingDataError",
     "evalue": "SequenceData: loading alignment failed... h3n2_na_20.fasta",
     "output_type": "error",
     "traceback": [
      "\u001b[0;31m---------------------------------------------------------------------------\u001b[0m",
      "\u001b[0;31mMissingDataError\u001b[0m                          Traceback (most recent call last)",
      "\u001b[0;32m<ipython-input-2-4ff0ea12ff33>\u001b[0m in \u001b[0;36m<module>\u001b[0;34m\u001b[0m\n\u001b[1;32m     31\u001b[0m     \u001b[0;31m# instantiate treetime\u001b[0m\u001b[0;34m\u001b[0m\u001b[0;34m\u001b[0m\u001b[0;34m\u001b[0m\u001b[0m\n\u001b[1;32m     32\u001b[0m     tt_relaxed = TreeTime(gtr='Jukes-Cantor', tree = base_name+'.nwk',\n\u001b[0;32m---> 33\u001b[0;31m                         aln = base_name+'.fasta', verbose = 4, dates = dates)\n\u001b[0m\u001b[1;32m     34\u001b[0m \u001b[0;34m\u001b[0m\u001b[0m\n\u001b[1;32m     35\u001b[0m     \u001b[0;31m# this example uses an autocorrelated molecular clock with normal prior and parent-child coupling\u001b[0m\u001b[0;34m\u001b[0m\u001b[0;34m\u001b[0m\u001b[0;34m\u001b[0m\u001b[0m\n",
      "\u001b[0;32m~/miniconda3/envs/plague-phylogeography/lib/python3.7/site-packages/treetime/treetime.py\u001b[0m in \u001b[0;36m__init__\u001b[0;34m(self, *args, **kwargs)\u001b[0m\n\u001b[1;32m     32\u001b[0m \u001b[0;34m\u001b[0m\u001b[0m\n\u001b[1;32m     33\u001b[0m         \"\"\"\n\u001b[0;32m---> 34\u001b[0;31m         \u001b[0msuper\u001b[0m\u001b[0;34m(\u001b[0m\u001b[0mTreeTime\u001b[0m\u001b[0;34m,\u001b[0m \u001b[0mself\u001b[0m\u001b[0;34m)\u001b[0m\u001b[0;34m.\u001b[0m\u001b[0m__init__\u001b[0m\u001b[0;34m(\u001b[0m\u001b[0;34m*\u001b[0m\u001b[0margs\u001b[0m\u001b[0;34m,\u001b[0m \u001b[0;34m**\u001b[0m\u001b[0mkwargs\u001b[0m\u001b[0;34m)\u001b[0m\u001b[0;34m\u001b[0m\u001b[0;34m\u001b[0m\u001b[0m\n\u001b[0m\u001b[1;32m     35\u001b[0m \u001b[0;34m\u001b[0m\u001b[0m\n\u001b[1;32m     36\u001b[0m \u001b[0;34m\u001b[0m\u001b[0m\n",
      "\u001b[0;32m~/miniconda3/envs/plague-phylogeography/lib/python3.7/site-packages/treetime/clock_tree.py\u001b[0m in \u001b[0;36m__init__\u001b[0;34m(self, dates, debug, real_dates, precision, branch_length_mode, use_covariation, *args, **kwargs)\u001b[0m\n\u001b[1;32m     65\u001b[0m \u001b[0;34m\u001b[0m\u001b[0m\n\u001b[1;32m     66\u001b[0m         \"\"\"\n\u001b[0;32m---> 67\u001b[0;31m         \u001b[0msuper\u001b[0m\u001b[0;34m(\u001b[0m\u001b[0mClockTree\u001b[0m\u001b[0;34m,\u001b[0m \u001b[0mself\u001b[0m\u001b[0;34m)\u001b[0m\u001b[0;34m.\u001b[0m\u001b[0m__init__\u001b[0m\u001b[0;34m(\u001b[0m\u001b[0;34m*\u001b[0m\u001b[0margs\u001b[0m\u001b[0;34m,\u001b[0m \u001b[0;34m**\u001b[0m\u001b[0mkwargs\u001b[0m\u001b[0;34m)\u001b[0m\u001b[0;34m\u001b[0m\u001b[0;34m\u001b[0m\u001b[0m\n\u001b[0m\u001b[1;32m     68\u001b[0m         \u001b[0;32mif\u001b[0m \u001b[0mdates\u001b[0m \u001b[0;32mis\u001b[0m \u001b[0;32mNone\u001b[0m\u001b[0;34m:\u001b[0m\u001b[0;34m\u001b[0m\u001b[0;34m\u001b[0m\u001b[0m\n\u001b[1;32m     69\u001b[0m             \u001b[0;32mraise\u001b[0m \u001b[0mValueError\u001b[0m\u001b[0;34m(\u001b[0m\u001b[0;34m\"ClockTree requires date constraints!\"\u001b[0m\u001b[0;34m)\u001b[0m\u001b[0;34m\u001b[0m\u001b[0;34m\u001b[0m\u001b[0m\n",
      "\u001b[0;32m~/miniconda3/envs/plague-phylogeography/lib/python3.7/site-packages/treetime/treeanc.py\u001b[0m in \u001b[0;36m__init__\u001b[0;34m(self, tree, aln, gtr, fill_overhangs, ref, verbose, ignore_gaps, convert_upper, seq_multiplicity, log, compress, seq_len, **kwargs)\u001b[0m\n\u001b[1;32m    154\u001b[0m         self.data = SequenceData(aln, ref=ref, logger=self.logger, compress=compress,\n\u001b[1;32m    155\u001b[0m                                 \u001b[0mconvert_upper\u001b[0m\u001b[0;34m=\u001b[0m\u001b[0mconvert_upper\u001b[0m\u001b[0;34m,\u001b[0m \u001b[0mfill_overhangs\u001b[0m\u001b[0;34m=\u001b[0m\u001b[0mfill_overhangs\u001b[0m\u001b[0;34m,\u001b[0m \u001b[0mambiguous\u001b[0m\u001b[0;34m=\u001b[0m\u001b[0mself\u001b[0m\u001b[0;34m.\u001b[0m\u001b[0mgtr\u001b[0m\u001b[0;34m.\u001b[0m\u001b[0mambiguous\u001b[0m\u001b[0;34m,\u001b[0m\u001b[0;34m\u001b[0m\u001b[0;34m\u001b[0m\u001b[0m\n\u001b[0;32m--> 156\u001b[0;31m                                  sequence_length=seq_len)\n\u001b[0m\u001b[1;32m    157\u001b[0m \u001b[0;34m\u001b[0m\u001b[0m\n\u001b[1;32m    158\u001b[0m         \u001b[0;32mif\u001b[0m \u001b[0mself\u001b[0m\u001b[0;34m.\u001b[0m\u001b[0mgtr\u001b[0m\u001b[0;34m.\u001b[0m\u001b[0mis_site_specific\u001b[0m \u001b[0;32mand\u001b[0m \u001b[0mself\u001b[0m\u001b[0;34m.\u001b[0m\u001b[0mdata\u001b[0m\u001b[0;34m.\u001b[0m\u001b[0mcompress\u001b[0m\u001b[0;34m:\u001b[0m\u001b[0;34m\u001b[0m\u001b[0;34m\u001b[0m\u001b[0m\n",
      "\u001b[0;32m~/miniconda3/envs/plague-phylogeography/lib/python3.7/site-packages/treetime/sequence_data.py\u001b[0m in \u001b[0;36m__init__\u001b[0;34m(self, aln, ref, logger, convert_upper, sequence_length, compress, word_length, sequence_type, fill_overhangs, seq_multiplicity, ambiguous, **kwargs)\u001b[0m\n\u001b[1;32m    109\u001b[0m \u001b[0;34m\u001b[0m\u001b[0m\n\u001b[1;32m    110\u001b[0m         \u001b[0mself\u001b[0m\u001b[0;34m.\u001b[0m\u001b[0mref\u001b[0m \u001b[0;34m=\u001b[0m \u001b[0mref\u001b[0m\u001b[0;34m\u001b[0m\u001b[0;34m\u001b[0m\u001b[0m\n\u001b[0;32m--> 111\u001b[0;31m         \u001b[0mself\u001b[0m\u001b[0;34m.\u001b[0m\u001b[0maln\u001b[0m \u001b[0;34m=\u001b[0m \u001b[0maln\u001b[0m\u001b[0;34m\u001b[0m\u001b[0;34m\u001b[0m\u001b[0m\n\u001b[0m\u001b[1;32m    112\u001b[0m \u001b[0;34m\u001b[0m\u001b[0m\n\u001b[1;32m    113\u001b[0m \u001b[0;34m\u001b[0m\u001b[0m\n",
      "\u001b[0;32m~/miniconda3/envs/plague-phylogeography/lib/python3.7/site-packages/treetime/sequence_data.py\u001b[0m in \u001b[0;36maln\u001b[0;34m(self, in_aln)\u001b[0m\n\u001b[1;32m    174\u001b[0m             \u001b[0mself\u001b[0m\u001b[0;34m.\u001b[0m\u001b[0m_aln\u001b[0m \u001b[0;34m=\u001b[0m \u001b[0min_aln\u001b[0m\u001b[0;34m\u001b[0m\u001b[0;34m\u001b[0m\u001b[0m\n\u001b[1;32m    175\u001b[0m         \u001b[0;32melse\u001b[0m\u001b[0;34m:\u001b[0m\u001b[0;34m\u001b[0m\u001b[0;34m\u001b[0m\u001b[0m\n\u001b[0;32m--> 176\u001b[0;31m             \u001b[0;32mraise\u001b[0m \u001b[0mMissingDataError\u001b[0m\u001b[0;34m(\u001b[0m\u001b[0;34m\"SequenceData: loading alignment failed... \"\u001b[0m \u001b[0;34m+\u001b[0m \u001b[0mstr\u001b[0m\u001b[0;34m(\u001b[0m\u001b[0min_aln\u001b[0m\u001b[0;34m)\u001b[0m\u001b[0;34m)\u001b[0m\u001b[0;34m\u001b[0m\u001b[0;34m\u001b[0m\u001b[0m\n\u001b[0m\u001b[1;32m    177\u001b[0m \u001b[0;34m\u001b[0m\u001b[0m\n\u001b[1;32m    178\u001b[0m         \u001b[0;32mif\u001b[0m \u001b[0mself\u001b[0m\u001b[0;34m.\u001b[0m\u001b[0mfull_length\u001b[0m\u001b[0;34m:\u001b[0m\u001b[0;34m\u001b[0m\u001b[0;34m\u001b[0m\u001b[0m\n",
      "\u001b[0;31mMissingDataError\u001b[0m: SequenceData: loading alignment failed... h3n2_na_20.fasta"
     ]
    }
   ],
   "source": [
    "\"\"\"\n",
    "This script illustrates the use of the relaxed clock model in TreeTime.\n",
    "TreeTime currently only supports a normally distributed clock model.\n",
    "\"\"\"\n",
    "\n",
    "from __future__ import print_function, division\n",
    "import sys\n",
    "import numpy as np\n",
    "from Bio import Phylo\n",
    "\n",
    "import matplotlib.pyplot as plt\n",
    "from matplotlib import cm\n",
    "try:\n",
    "    import seaborn as sns\n",
    "    sns.set_style('whitegrid')\n",
    "except:\n",
    "    print (\"Seaborn not found. Default style will be used for the plots\")\n",
    "\n",
    "from treetime import TreeTime\n",
    "from treetime.utils import parse_dates\n",
    "import treetime.config as ttconf\n",
    "\n",
    "\n",
    "if __name__ == '__main__':\n",
    "\n",
    "    # load data and parse dates\n",
    "    plt.ion()\n",
    "    base_name = 'h3n2_na_20'\n",
    "    dates = parse_dates(base_name+'.metadata.csv')\n",
    "\n",
    "    # instantiate treetime\n",
    "    tt_relaxed = TreeTime(gtr='Jukes-Cantor', tree = base_name+'.nwk',\n",
    "                        aln = base_name+'.fasta', verbose = 4, dates = dates)\n",
    "\n",
    "    # this example uses an autocorrelated molecular clock with normal prior and parent-child coupling\n",
    "    # the parameter slack penalizes rate deviations from the average rate\n",
    "    # couplings penalize rate changes between parent and child nodes.\n",
    "    tt_relaxed.run(root='best', relaxed_clock={\"slack\":5.0, \"coupling\":1.0}, max_iter=3,\n",
    "                   resolve_polytomies=True, Tc=0, time_marginal=False)\n",
    "\n",
    "\n",
    "\n",
    "    ##############\n",
    "    # PLOTTING\n",
    "    ##############\n",
    "\n",
    "    # draw trees inferred with the relaxed model\n",
    "    fig = plt.figure()\n",
    "    ax = plt.subplot(111)\n",
    "    vmin, vmax = 0.5, 1.5 # color branches according to the rate deviation\n",
    "    for n in tt_relaxed.tree.find_clades():\n",
    "        if n.up:\n",
    "            n.color = [int(x*255) for x in cm.cool((min(max(vmin, n.branch_length_interpolator.gamma),vmax)-vmin)/(vmax-vmin))[:3]]\n",
    "        else:\n",
    "            n.color = [200,200,200]\n",
    "\n",
    "    ax.set_title(\"relaxed clock\")\n",
    "    Phylo.draw(tt_relaxed.tree, axes=ax, show_confidence=False, label_func = lambda x:'')\n",
    "\n",
    "    # Scatter branch stretch against the rate multiplier of the branch.\n",
    "    # they are expected to have a positive correlation\n",
    "    # 1) collect the optimal branch lenght (called mutation_length),\n",
    "    #    the timetree branch length (clock_length) and the inferred rate multiplier gamma\n",
    "    branch_lengths = []\n",
    "    for n in tt_relaxed.tree.find_clades():\n",
    "        if n.up:\n",
    "            branch_lengths.append((n.mutation_length, n.clock_length, n.branch_length_interpolator.gamma))\n",
    "\n",
    "\n",
    "    # 2) plot the difference between optimal and timetree branch length vs the rate multiplier\n",
    "    plt.figure()\n",
    "    branch_lengths = np.array(branch_lengths)\n",
    "    plt.scatter(branch_lengths[:,0]-branch_lengths[:,1], branch_lengths[:,2])\n",
    "    plt.xlabel(\"stretch\")\n",
    "    plt.ylabel(\"rate multiplier\")"
   ]
  },
  {
   "cell_type": "code",
   "execution_count": null,
   "id": "prepared-alignment",
   "metadata": {},
   "outputs": [],
   "source": []
  }
 ],
 "metadata": {
  "kernelspec": {
   "display_name": "Python 3",
   "language": "python",
   "name": "python3"
  },
  "language_info": {
   "codemirror_mode": {
    "name": "ipython",
    "version": 3
   },
   "file_extension": ".py",
   "mimetype": "text/x-python",
   "name": "python",
   "nbconvert_exporter": "python",
   "pygments_lexer": "ipython3",
   "version": "3.7.3"
  }
 },
 "nbformat": 4,
 "nbformat_minor": 5
}
