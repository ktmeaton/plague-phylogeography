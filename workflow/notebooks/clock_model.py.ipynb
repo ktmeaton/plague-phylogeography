{
 "cells": [
  {
   "cell_type": "markdown",
   "id": "careful-broadcasting",
   "metadata": {},
   "source": [
    "# Objectives\n",
    "\n",
    "1. Estimate Clock Model\n",
    "1. Filter Outliers\n",
    "    - Plot Prune Compare: Divtree\n",
    "    - Plot Prune Compare: Timetree\n",
    "1. Add Clock Model to Dataframe\n",
    "\n",
    "NOTE: Filter outliers after clock model estimated?"
   ]
  },
  {
   "cell_type": "markdown",
   "id": "resistant-charlotte",
   "metadata": {},
   "source": [
    "---\n",
    "# Setup"
   ]
  },
  {
   "cell_type": "markdown",
   "id": "satisfied-front",
   "metadata": {},
   "source": [
    "## Modules"
   ]
  },
  {
   "cell_type": "code",
   "execution_count": 2,
   "id": "union-excellence",
   "metadata": {},
   "outputs": [],
   "source": [
    "# Bio\n",
    "import treetime\n",
    "from Bio import Phylo\n",
    "\n",
    "# Plotting\n",
    "import matplotlib.pyplot as plt\n",
    "from matplotlib import gridspec\n",
    "import seaborn as sns\n",
    "sns.set_style('whitegrid')\n",
    "\n",
    "# Stats\n",
    "import pandas as pd\n",
    "\n",
    "# System IO\n",
    "import dill\n",
    "import copy\n",
    "import os\n",
    "import io\n",
    "import sys"
   ]
  },
  {
   "cell_type": "markdown",
   "id": "weighted-punishment",
   "metadata": {},
   "source": [
    "## Variables"
   ]
  },
  {
   "cell_type": "code",
   "execution_count": 5,
   "id": "municipal-accordance",
   "metadata": {},
   "outputs": [],
   "source": [
    "from config import *\n",
    "\n",
    "# Custom script variables\n",
    "SCRIPT_NAME = \"clock\"\n",
    "PREV_DIR_NAME = \"parse_tree\"\n",
    "PREV_SCRIPT_NAME = \"parse_tree\"\n",
    "\n",
    "try:\n",
    "    WILDCARDS = snakemake.wildcards\n",
    "    project_dir = os.getcwd()\n",
    "except NameError:\n",
    "    WILDCARDS = [\"all\", \"chromosome\", \"50\"]\n",
    "    project_dir = os.path.dirname(os.path.dirname(os.getcwd()))\n",
    "READS_ORIGIN = WILDCARDS[0]\n",
    "LOCUS_NAME = WILDCARDS[1]\n",
    "MISSING_DATA = WILDCARDS[2]\n",
    "\n",
    "NAME_COL = \"Name\""
   ]
  },
  {
   "cell_type": "markdown",
   "id": "involved-korea",
   "metadata": {},
   "source": [
    "## Paths"
   ]
  },
  {
   "cell_type": "code",
   "execution_count": 6,
   "id": "adjustable-minister",
   "metadata": {},
   "outputs": [
    {
     "name": "stdout",
     "output_type": "stream",
     "text": [
      "tree_dill:\t /mnt/c/Users/ktmea/Projects/plague-phylogeography/workflow/notebooks/results/parse_tree/all/chromosome_filter50/parse_tree.phylo.obj\n",
      "tree_df_dill:\t /mnt/c/Users/ktmea/Projects/plague-phylogeography/workflow/notebooks/results/parse_tree/all/chromosome_filter50/parse_tree.df.obj\n",
      "aln path:\t /mnt/c/Users/ktmea/Projects/plague-phylogeography/workflow/notebooks/results/snippy_multi/all/snippy-core_chromosome.snps.filter50.aln\n",
      "auspice_latlon_path: /mnt/c/Users/ktmea/Projects/plague-phylogeography/workflow/notebooks/results/parse_tree/all/chromosome_filter50/parse_tree_latlon.tsv\n",
      "auspice_colors_path: /mnt/c/Users/ktmea/Projects/plague-phylogeography/workflow/notebooks/results/parse_tree/all/chromosome_filter50/parse_tree_colors.tsv\n",
      "auspice_config_path: /mnt/c/Users/ktmea/Projects/plague-phylogeography/workflow/notebooks/config/auspice_config.json\n",
      "auspice_remote_dir_path: /mnt/c/Users/ktmea/Projects/plague-phylogeography/workflow/notebooks/auspice/\n",
      "outdir: /mnt/c/Users/ktmea/Projects/plague-phylogeography/workflow/notebooks/results/clock/all/chromosome_filter50\n"
     ]
    }
   ],
   "source": [
    "config_dir = os.path.join(project_dir, \"config\")\n",
    "results_dir = os.path.join(project_dir, \"results\")\n",
    "\n",
    "\n",
    "outdir       = os.path.join(results_dir, SCRIPT_NAME, READS_ORIGIN, LOCUS_NAME + \"_filter{}\".format(MISSING_DATA),)\n",
    "tree_dill    = os.path.join(results_dir, PREV_DIR_NAME, READS_ORIGIN, LOCUS_NAME + \"_filter{}\".format(MISSING_DATA),PREV_SCRIPT_NAME + \".phylo.obj\")\n",
    "tree_df_dill = os.path.join(results_dir, PREV_DIR_NAME, READS_ORIGIN, LOCUS_NAME + \"_filter{}\".format(MISSING_DATA), PREV_SCRIPT_NAME + \".df.obj\")\n",
    "tree_df_path = os.path.join(results_dir, PREV_DIR_NAME, READS_ORIGIN, LOCUS_NAME + \"_filter{}\".format(MISSING_DATA), PREV_SCRIPT_NAME + \".tsv\")\n",
    "aln_path     = os.path.join(results_dir,\"snippy_multi\",READS_ORIGIN,\"snippy-core_{}.snps.filter{}.aln\".format(LOCUS_NAME, MISSING_DATA))\n",
    "\n",
    "# Auspice\n",
    "auspice_latlon_path = os.path.join(results_dir, \"parse_tree\", READS_ORIGIN, LOCUS_NAME + \"_filter{}\".format(MISSING_DATA), \"parse_tree\" + \"_latlon.tsv\")\n",
    "auspice_colors_path = os.path.join(results_dir, \"parse_tree\", READS_ORIGIN, LOCUS_NAME + \"_filter{}\".format(MISSING_DATA), \"parse_tree\" + \"_colors.tsv\")\n",
    "auspice_config_path = os.path.join(config_dir, \"auspice_config.json\")\n",
    "auspice_remote_dir_path = os.path.join(project_dir, \"auspice/\")\n",
    "\n",
    "print(\"tree_dill:\\t\", tree_dill)\n",
    "print(\"tree_df_dill:\\t\", tree_df_dill)\n",
    "print(\"aln path:\\t\", aln_path)\n",
    "print(\"auspice_latlon_path:\", auspice_latlon_path)\n",
    "print(\"auspice_colors_path:\", auspice_colors_path)\n",
    "print(\"auspice_config_path:\", auspice_config_path)\n",
    "print(\"auspice_remote_dir_path:\", auspice_remote_dir_path)\n",
    "print(\"outdir:\", outdir)\n",
    "\n",
    "# Create output directory if it doesn't exist\n",
    "while not os.path.exists(outdir):\n",
    "    os.makedirs(outdir)   \n",
    "    \n",
    "SCRIPT_NAME = \"clock_model\""
   ]
  },
  {
   "cell_type": "markdown",
   "id": "polished-conviction",
   "metadata": {},
   "source": [
    "## Import Tree"
   ]
  },
  {
   "cell_type": "code",
   "execution_count": null,
   "id": "colonial-symposium",
   "metadata": {},
   "outputs": [],
   "source": [
    "with open(tree_dill, \"rb\") as infile:\n",
    "    tree = dill.load(infile)\n",
    "tree.ladderize(reverse=False)"
   ]
  },
  {
   "cell_type": "markdown",
   "id": "tight-handy",
   "metadata": {},
   "source": [
    "## Import Dataframe"
   ]
  },
  {
   "cell_type": "code",
   "execution_count": null,
   "id": "approximate-waterproof",
   "metadata": {},
   "outputs": [],
   "source": [
    "with open(tree_df_dill, \"rb\") as infile:\n",
    "    tree_df = dill.load(infile)\n",
    "tree_df"
   ]
  },
  {
   "cell_type": "markdown",
   "id": "missing-delay",
   "metadata": {},
   "source": [
    "# 1. Filter Outlier Tips"
   ]
  },
  {
   "cell_type": "markdown",
   "id": "indonesian-religious",
   "metadata": {},
   "source": [
    "## Parse Tip Dates"
   ]
  },
  {
   "cell_type": "code",
   "execution_count": null,
   "id": "formal-timeline",
   "metadata": {},
   "outputs": [],
   "source": [
    "# Use the utils function to parse the metadata dates\n",
    "dates_raw = treetime.utils.parse_dates(tree_df_path, \n",
    "                                   date_col=DATE_COL, \n",
    "                                   name_col = NAME_COL)\n",
    "\n",
    "# Remove nan elements (internal nodes)\n",
    "dates = {}\n",
    "for k,v in dates_raw.items():\n",
    "    if type(v) == list:\n",
    "        dates[k] = v\n",
    "    elif not pd.isnull(v):\n",
    "        dates[k] = v\n",
    "        \n",
    "# Add Reference\n",
    "dates[\"Reference\"] = REF_DATE"
   ]
  },
  {
   "cell_type": "markdown",
   "id": "verbal-carroll",
   "metadata": {},
   "source": [
    "---\n",
    "# 1. Estimate Clock Model"
   ]
  },
  {
   "cell_type": "code",
   "execution_count": null,
   "id": "substantial-interface",
   "metadata": {},
   "outputs": [],
   "source": [
    "# Initialize stdout capture\n",
    "print(\"Estimating clock model...\")\n",
    "old_stdout = sys.stdout\n",
    "new_stdout = io.StringIO()\n",
    "sys.stdout = new_stdout\n",
    "\n",
    "# branch_length_mode:input --> tMRCA ~20,000 YBP\n",
    "\n",
    "tt = treetime.TreeTime(dates=dates, \n",
    "                       aln=aln_path,                     \n",
    "                       tree=tree, \n",
    "                       verbose=4, \n",
    "                       fill_overhangs=False,\n",
    "                       seq_len=REF_LEN,\n",
    "                      )\n",
    "\n",
    "# 11:26 AM -\n",
    "#tt.run(MAX_ITER=1)\n",
    "tt.run(\n",
    "    # Stable Parameters\n",
    "    max_iter=3,    \n",
    "    n_iqd=3,   \n",
    "    verbose=4,    \n",
    "    infer_gtr=True,  \n",
    "    use_covariation=False,     \n",
    "    root=tt.tree.root,       \n",
    "    resolve_polytomies=True,     \n",
    "    vary_rate=True,    \n",
    "    relaxed_clock={\"slack\" : 0.1, \"coupling\": 0},     \n",
    "    # Variable Parameters   \n",
    "    branch_length_mode = \"joint\", # joint or marginal      \n",
    "    time_marginal=True,   # True, False or \"assign\"  \n",
    "    Tc=\"skyline\",    \n",
    "    )\n",
    "\n",
    "tt.tree.ladderize(reverse=False)\n",
    "\n",
    "# Save stdout to file\n",
    "output = new_stdout.getvalue()\n",
    "out_path = os.path.join(outdir, SCRIPT_NAME + \"_estimate.log\") \n",
    "with open(out_path, \"w\") as file:\n",
    "    file.write(output)\n",
    "# Restore stdout\n",
    "sys.stdout = old_stdout\n",
    "print(\"Standard output restored, logging to file disabled.\")"
   ]
  },
  {
   "cell_type": "markdown",
   "id": "limited-stereo",
   "metadata": {},
   "source": [
    "## Quick Checks"
   ]
  },
  {
   "cell_type": "code",
   "execution_count": null,
   "id": "christian-collar",
   "metadata": {},
   "outputs": [],
   "source": [
    "# Common Ancestor\n",
    "tt.tree.common_ancestor(\"NODE0\")"
   ]
  },
  {
   "cell_type": "code",
   "execution_count": null,
   "id": "immediate-florida",
   "metadata": {},
   "outputs": [],
   "source": [
    "# RTT Regression\n",
    "tt.plot_root_to_tip(add_internal=True, label=True)\n",
    "\n",
    "# Save\n",
    "out_path = os.path.join(outdir, SCRIPT_NAME + \"_rtt-pre.\" + FMT) \n",
    "plt.savefig(out_path, \n",
    "            dpi=dpi, \n",
    "            bbox_inches = \"tight\")"
   ]
  },
  {
   "cell_type": "markdown",
   "id": "infinite-voluntary",
   "metadata": {},
   "source": [
    "# 2. Filter Outliers"
   ]
  },
  {
   "cell_type": "markdown",
   "id": "dominican-staff",
   "metadata": {},
   "source": [
    "## Prune 'Bad' Branches from Tree"
   ]
  },
  {
   "cell_type": "code",
   "execution_count": null,
   "id": "aware-priest",
   "metadata": {},
   "outputs": [],
   "source": [
    "tt_pre = copy.deepcopy(tt)\n",
    "tt_prune = copy.deepcopy(tt)\n",
    "\n",
    "# Color branches and set to divtree\n",
    "for n in tt_pre.tree.find_clades():\n",
    "    n.branch_length=n.mutation_length\n",
    "    if n.bad_branch:\n",
    "        n.color = \"red\"\n",
    "for n in tt_prune.tree.find_clades():\n",
    "    n.branch_length=n.mutation_length\n",
    "\n",
    "bad_nodes = [c for c in tt_prune.tree.find_clades() if c.bad_branch]\n",
    "\n",
    "while len(bad_nodes) > 0:\n",
    "    for node in bad_nodes:\n",
    "        if node.is_terminal():\n",
    "            print(\"PRUNING:\", node.name)\n",
    "            tt_prune.tree.prune(node)\n",
    "    bad_nodes = [c for c in tt_prune.tree.find_clades() if c.bad_branch]"
   ]
  },
  {
   "cell_type": "markdown",
   "id": "refined-packaging",
   "metadata": {},
   "source": [
    "## Plot Prune Comparison: Divtree"
   ]
  },
  {
   "cell_type": "code",
   "execution_count": null,
   "id": "intellectual-trademark",
   "metadata": {},
   "outputs": [],
   "source": [
    "sns.set_style(\"ticks\")\n",
    "fig, (ax1,ax2) = plt.subplots(2, sharex=True, dpi=dpi)\n",
    "\n",
    "Phylo.draw(tt_pre.tree,   show_confidence=False, label_func = lambda x: '', do_show=False, axes=ax1,)  \n",
    "Phylo.draw(tt_prune.tree, show_confidence=False, label_func = lambda x: '', do_show=False, axes=ax2,)\n",
    "\n",
    "ax1.set_title(\"Divergence Tree Pre-Pruning\")\n",
    "ax1.set_xlabel(\"\")\n",
    "ax1.set_ylabel(\"\")\n",
    "ax1.set_yticks([])\n",
    "ax1.spines[\"right\"].set_visible(False)\n",
    "ax1.spines[\"top\"].set_visible(False)\n",
    "ax1.spines[\"left\"].set_visible(False)\n",
    "\n",
    "ax2.set_title(\"Divergence Tree Post-Pruning\")\n",
    "ax2.set_xlabel(\"Branch Length\")\n",
    "ax2.set_ylabel(\"\")\n",
    "ax2.set_ylabel(\"\")\n",
    "ax2.set_yticks([])\n",
    "ax2.spines[\"right\"].set_visible(False)\n",
    "ax2.spines[\"top\"].set_visible(False)\n",
    "ax2.spines[\"left\"].set_visible(False)\n",
    "\n",
    "# Save\n",
    "out_path = os.path.join(outdir, SCRIPT_NAME + \"_divtree-prune.\" + FMT) \n",
    "plt.savefig(out_path, dpi=dpi, bbox_inches = \"tight\")"
   ]
  },
  {
   "cell_type": "markdown",
   "id": "olive-testimony",
   "metadata": {},
   "source": [
    "## Plot Prune Comparison: Timetree"
   ]
  },
  {
   "cell_type": "code",
   "execution_count": null,
   "id": "interstate-cartoon",
   "metadata": {},
   "outputs": [],
   "source": [
    "# Pre-pruning\n",
    "if hasattr(tt.tree.root, \"marginal_inverse_cdf\"):\n",
    "    fig, ax1 = treetime.treetime.plot_vs_years(tt_pre, label_func = lambda x:\"\", do_show=False, show_confidence=False, confidence=(1-CONFIDENCE, CONFIDENCE))\n",
    "else:\n",
    "    fig, ax1 = treetime.treetime.plot_vs_years(tt_pre, label_func = lambda x:\"\" ,do_show=False ,show_confidence=False)  \n",
    "\n",
    "ax1.set_title(\"Time Tree Pre-Pruning\")\n",
    "\n",
    "# Save\n",
    "out_path = os.path.join(outdir, SCRIPT_NAME + \"_timetree-prune-pre.\" + FMT) \n",
    "plt.savefig(out_path, dpi=dpi, bbox_inches = \"tight\")\n",
    "\n",
    "# Post-pruning    \n",
    "if hasattr(tt.tree.root, \"marginal_inverse_cdf\"):\n",
    "    fig, ax2 = treetime.treetime.plot_vs_years(tt_prune, label_func = lambda x:\"\", do_show=False, show_confidence=False, confidence=(1-CONFIDENCE, CONFIDENCE))\n",
    "else:\n",
    "    fig, ax2 = treetime.treetime.plot_vs_years(tt_prune, label_func = lambda x:\"\" ,do_show=False, show_confidence=False)  \n",
    "\n",
    "ax2.set_title(\"Time Tree Post-Pruning\")\n",
    "\n",
    "# Save\n",
    "out_path = os.path.join(outdir, SCRIPT_NAME + \"_timetree-prune-post.\" + FMT) \n",
    "plt.savefig(out_path, dpi=dpi, bbox_inches = \"tight\")"
   ]
  },
  {
   "cell_type": "markdown",
   "id": "meaningful-schedule",
   "metadata": {},
   "source": [
    "## Update tt variable"
   ]
  },
  {
   "cell_type": "code",
   "execution_count": null,
   "id": "eleven-complex",
   "metadata": {},
   "outputs": [],
   "source": [
    "tt = tt_prune"
   ]
  },
  {
   "cell_type": "markdown",
   "id": "neutral-reception",
   "metadata": {},
   "source": [
    "## Remove Collapsed Nodes from Dataframe"
   ]
  },
  {
   "cell_type": "code",
   "execution_count": null,
   "id": "otherwise-proposition",
   "metadata": {},
   "outputs": [],
   "source": [
    "tt_nodes = [c.name for c in tt.tree.find_clades()]\n",
    "for rec in tree_df.iterrows():\n",
    "    node = rec[0]\n",
    "    if node not in tt_nodes:\n",
    "        tree_df.drop(node, inplace=True)\n",
    "        \n",
    "tree_df"
   ]
  },
  {
   "cell_type": "markdown",
   "id": "shaped-monitor",
   "metadata": {},
   "source": [
    "---\n",
    "# 3. Add Clock Model to Dataframe\n",
    "\n",
    "- Rates\n",
    "- Dates\n",
    "- RTT Regression\n",
    "- Skyline\n",
    "- coord_x and coord_y"
   ]
  },
  {
   "cell_type": "markdown",
   "id": "departmental-things",
   "metadata": {},
   "source": [
    "## Rates"
   ]
  },
  {
   "cell_type": "code",
   "execution_count": null,
   "id": "wrapped-bunch",
   "metadata": {},
   "outputs": [],
   "source": [
    "tree_df[\"timetree_rate\"] = [NO_DATA_CHAR for row in range(0,len(tree_df))]  \n",
    "tree_df[\"timetree_rate_fold_change\"] = [NO_DATA_CHAR for row in range(0,len(tree_df))]  \n",
    "tree_df[\"timetree_mutation_length\"] = [NO_DATA_CHAR for row in range(0,len(tree_df))]  \n",
    "\n",
    "# The mean rate is the slope\n",
    "mean_rate = tt.clock_model[\"slope\"]\n",
    "\n",
    "for c in tt.tree.find_clades():\n",
    "    tree_df.at[c.name, \"timetree_mutation_length\"] = c.mutation_length\n",
    "    \n",
    "    # Relaxed Clock\n",
    "    if hasattr(c, \"branch_length_interpolator\") and c.branch_length_interpolator:\n",
    "        g = c.branch_length_interpolator.gamma\n",
    "        tree_df.at[c.name, \"timetree_rate_fold_change\"] = g\n",
    "        tree_df.at[c.name, \"timetree_rate\"] = mean_rate * g\n",
    "        \n",
    "    # Strict Clock\n",
    "    else:\n",
    "        tree_df.at[c.name, \"timetree_rate_fold_change\"] = 1\n",
    "        tree_df.at[c.name, \"timetree_rate\"] = mean_rate"
   ]
  },
  {
   "cell_type": "markdown",
   "id": "underlying-local",
   "metadata": {},
   "source": [
    "## Dates"
   ]
  },
  {
   "cell_type": "code",
   "execution_count": null,
   "id": "insured-reference",
   "metadata": {},
   "outputs": [],
   "source": [
    "# Create new columns\n",
    "tree_df[\"timetree_raw_date\"] = [NO_DATA_CHAR for row in range(0,len(tree_df))]  \n",
    "tree_df[\"timetree_num_date\"] = [NO_DATA_CHAR for row in range(0,len(tree_df))]  \n",
    "\n",
    "if hasattr(tt.tree.root, \"marginal_inverse_cdf\"):\n",
    "    tree_df[\"timetree_num_date_confidence\"] = [[NO_DATA_CHAR,NO_DATA_CHAR] for row in range(0,len(tree_df))]\n",
    "    tree_df[\"timetree_num_date_bar\"] = [[NO_DATA_CHAR,NO_DATA_CHAR] for row in range(0,len(tree_df))]\n",
    "    \n",
    "# clock_length is the same as branch_length until running branch_length_to_years()\n",
    "tree_df[\"timetree_clock_length\"] = [NO_DATA_CHAR for row in range(0,len(tree_df))]  \n",
    "\n",
    "# Make a copy to change branch_length\n",
    "tt_copy = copy.deepcopy(tt)\n",
    "tt_copy.branch_length_to_years()\n",
    "\n",
    "CONF_BAD_RANGE = 10000\n",
    "for c in tt_copy.tree.find_clades():\n",
    "    # Marginal Probability\n",
    "    if hasattr(c, \"marginal_inverse_cdf\"):   \n",
    "        # Retrieve the region containing the confidence interval\n",
    "        conf = tt.get_max_posterior_region(c, fraction=CONFIDENCE)\n",
    "        conf_range = abs(conf[1] - conf[0])\n",
    "        if conf_range > CONF_BAD_RANGE:\n",
    "            print(\"Bad lower date estimated for:\", c.name,\"\\t\", conf_range, \"\\tSetting to\", c.numdate)       \n",
    "            conf[0] = c.numdate\n",
    "            conf[1] = c.numdate\n",
    "        \n",
    "        # Set as lower and upper bounds on date\n",
    "        tree_df.at[c.name, \"timetree_num_date_confidence\"][0] = conf[0]\n",
    "        tree_df.at[c.name, \"timetree_num_date_confidence\"][1] = conf[1]\n",
    "        \n",
    "        # Convert to YBP present for drawing bars\n",
    "        tree_df.at[c.name, \"timetree_num_date_bar\"][0] = CURRENT_YEAR - conf[0]\n",
    "        tree_df.at[c.name, \"timetree_num_date_bar\"][1] = CURRENT_YEAR - conf[1]\n",
    "        \n",
    "    tree_df.at[c.name, \"timetree_raw_date\"] = c.date  \n",
    "    tree_df.at[c.name, \"timetree_num_date\"] = c.numdate\n",
    "    tree_df.at[c.name, \"timetree_clock_length\"] = c.branch_length"
   ]
  },
  {
   "cell_type": "markdown",
   "id": "right-teddy",
   "metadata": {},
   "source": [
    "## RTT"
   ]
  },
  {
   "cell_type": "code",
   "execution_count": null,
   "id": "broad-participant",
   "metadata": {},
   "outputs": [],
   "source": [
    "# make a copy of the tree\n",
    "tt_copy = copy.deepcopy(tt)\n",
    "tt_copy.branch_length_to_years()\n",
    "\n",
    "# Plotting the tree\n",
    "tree_df[\"timetree_coord_x\"] = [NO_DATA_CHAR for row in range(0,len(tree_df))]  \n",
    "tree_df[\"timetree_coord_y\"] = [NO_DATA_CHAR for row in range(0,len(tree_df))] \n",
    "\n",
    "# Plotting the regression\n",
    "tree_df[\"timetree_reg_x\"] = [NO_DATA_CHAR for row in range(0,len(tree_df))]  \n",
    "tree_df[\"timetree_reg_y\"] = [NO_DATA_CHAR for row in range(0,len(tree_df))]  \n",
    "tree_df[\"timetree_reg_bad\"] = [NO_DATA_CHAR for row in range(0,len(tree_df))]  \n",
    "\n",
    "x_posns = get_x_positions(tt_copy.tree)\n",
    "y_posns = get_y_positions(tt_copy.tree)\n",
    "tt_reg = tt_copy.setup_TreeRegression()\n",
    "\n",
    "# Add x and y coordinates\n",
    "for c in tt_copy.tree.find_clades():     \n",
    "        \n",
    "    # Tree Node Coordinates\n",
    "    coord_x = [value for key,value in x_posns.items() if key.name == c.name][0]\n",
    "    coord_y = [value for key,value in y_posns.items() if key.name == c.name][0]\n",
    "    tree_df.at[c.name, 'timetree_coord_x'] = coord_x\n",
    "    tree_df.at[c.name, 'timetree_coord_y'] = coord_y\n",
    "    \n",
    "    # Regression Node Coordinates\n",
    "    reg_y = c._v\n",
    "    if c.is_terminal():\n",
    "        reg_x = tt_reg.tip_value(c)\n",
    "    else:\n",
    "        reg_x = c.numdate\n",
    "    reg_bad = c.bad_branch  if hasattr(c, 'bad_branch') else False\n",
    "    tree_df.at[c.name, 'timetree_reg_x'] = reg_x\n",
    "    tree_df.at[c.name, 'timetree_reg_y'] = reg_y    \n",
    "    tree_df.at[c.name, 'timetree_reg_bad'] = reg_bad\n",
    "\n",
    "# Fix up new values that could be none\n",
    "tree_df.fillna(NO_DATA_CHAR, inplace=True)\n",
    "tree_df"
   ]
  },
  {
   "cell_type": "markdown",
   "id": "sitting-saying",
   "metadata": {},
   "source": [
    "## Divergence coord_x and coord_y"
   ]
  },
  {
   "cell_type": "code",
   "execution_count": null,
   "id": "honest-rendering",
   "metadata": {},
   "outputs": [],
   "source": [
    "tt_copy = copy.deepcopy(tt)\n",
    "for n in tt_copy.tree.find_clades():\n",
    "    n.branch_length=n.mutation_length\n",
    "    \n",
    "x_posns = get_x_positions(tt_copy.tree)\n",
    "y_posns = get_y_positions(tt_copy.tree)\n",
    "\n",
    "# Add x and y coordinates as other attributes\n",
    "for c in tt_copy.tree.find_clades():\n",
    "    # x coordinates will be of branch length units\n",
    "    coord_x = [value for key,value in x_posns.items() if key.name == c.name][0]\n",
    "    # y coordinates will be arbitrary, based on number of tips\n",
    "    coord_y = [value for key,value in y_posns.items() if key.name == c.name][0]\n",
    "    # Update coordinates in dataframe\n",
    "    tree_df.at[c.name, 'coord_x'] = coord_x\n",
    "    tree_df.at[c.name, 'coord_y'] = coord_y    \n",
    "\n",
    "# Visualize dataframe\n",
    "tree_df"
   ]
  },
  {
   "cell_type": "markdown",
   "id": "departmental-allen",
   "metadata": {},
   "source": [
    "## Skyline"
   ]
  },
  {
   "cell_type": "code",
   "execution_count": null,
   "id": "overhead-extent",
   "metadata": {},
   "outputs": [],
   "source": [
    "if hasattr(tt, \"merger_model\"):\n",
    "    #skyline, conf = tt.merger_model.skyline_inferred(gen=50, confidence=N_STD)\n",
    "    #print(skyline)\n",
    "    #print(conf)\n",
    "    out_path_skyline_pdf = os.path.join(outdir, SCRIPT_NAME + \"_skyline.\" + FMT )\n",
    "    out_path_skyline_txt = os.path.join(outdir, SCRIPT_NAME + \"_skyline.tsv\" )\n",
    "    treetime.wrappers.print_save_plot_skyline(tt, \n",
    "                                              plot=out_path_skyline_pdf, \n",
    "                                              save=out_path_skyline_txt,\n",
    "                                              screen=True,\n",
    "                                              n_std=2.0, )"
   ]
  },
  {
   "cell_type": "markdown",
   "id": "electoral-soccer",
   "metadata": {},
   "source": [
    "## Add Metadata as Comments"
   ]
  },
  {
   "cell_type": "code",
   "execution_count": null,
   "id": "scheduled-chambers",
   "metadata": {},
   "outputs": [],
   "source": [
    "metadata_to_comment(tt.tree, tree_df)"
   ]
  },
  {
   "cell_type": "markdown",
   "id": "middle-afternoon",
   "metadata": {},
   "source": [
    "---\n",
    "# Export"
   ]
  },
  {
   "cell_type": "markdown",
   "id": "thousand-austin",
   "metadata": {},
   "source": [
    "## Dataframe"
   ]
  },
  {
   "cell_type": "code",
   "execution_count": null,
   "id": "precious-webmaster",
   "metadata": {},
   "outputs": [],
   "source": [
    "# Dataframe\n",
    "out_path_df = os.path.join(outdir, SCRIPT_NAME + \".tsv\" )\n",
    "out_path_pickle_df = os.path.join(outdir,  SCRIPT_NAME + \".df.obj\" )\n",
    "\n",
    "tree_df.to_csv(out_path_df, sep=\"\\t\")\n",
    "with open(out_path_pickle_df,\"wb\") as outfile:\n",
    "    dill.dump(tree_df, outfile)"
   ]
  },
  {
   "cell_type": "markdown",
   "id": "liberal-observer",
   "metadata": {},
   "source": [
    "## Timetrees"
   ]
  },
  {
   "cell_type": "code",
   "execution_count": null,
   "id": "residential-faith",
   "metadata": {},
   "outputs": [],
   "source": [
    "tt_copy = copy.deepcopy(tt)\n",
    "\n",
    "# Nexus\n",
    "out_path_nexus = os.path.join(outdir, SCRIPT_NAME + \"_timetree.nexus\" )\n",
    "Phylo.write(tt_copy.tree, out_path_nexus, 'nexus', format_branch_length='%1.{}f'.format(BRANCH_LEN_SIG_DIG))\n",
    "\n",
    "# Dill object\n",
    "out_path_dill_tree = os.path.join(outdir,  SCRIPT_NAME + \"_timetree.treetime.obj\" )\n",
    "with open(out_path_dill_tree,\"wb\") as outfile:\n",
    "    dill.dump(tt_copy, outfile)\n",
    "    \n",
    "# Newick (remove comments)\n",
    "for c in tt_copy.tree.find_clades(): c.comment = None\n",
    "out_path_nwk = os.path.join(outdir, SCRIPT_NAME + \"_timetree.nwk\" )\n",
    "Phylo.write(tt_copy.tree, out_path_nwk, 'newick', format_branch_length='%1.{}f'.format(BRANCH_LEN_SIG_DIG))\n"
   ]
  },
  {
   "cell_type": "markdown",
   "id": "continuing-thong",
   "metadata": {},
   "source": [
    "## Divtrees"
   ]
  },
  {
   "cell_type": "code",
   "execution_count": null,
   "id": "foster-works",
   "metadata": {},
   "outputs": [],
   "source": [
    "tt_copy = copy.deepcopy(tt)\n",
    "# Convert to divtree\n",
    "for n in tt_copy.tree.find_clades():\n",
    "    n.branch_length=n.mutation_length\n",
    "\n",
    "# Nexus\n",
    "out_path_nexus = os.path.join(outdir, SCRIPT_NAME + \"_divtree.nexus\" )\n",
    "Phylo.write(tt_copy.tree, out_path_nexus, 'nexus', format_branch_length='%1.{}f'.format(BRANCH_LEN_SIG_DIG))\n",
    "\n",
    "# Dill object\n",
    "out_path_dill_tree = os.path.join(outdir,  SCRIPT_NAME + \"_divtree.treetime.obj\" )\n",
    "with open(out_path_dill_tree,\"wb\") as outfile:\n",
    "    dill.dump(tt_copy, outfile)\n",
    "    \n",
    "# Newick (remove comments)\n",
    "for c in tt_copy.tree.find_clades(): c.comment = None\n",
    "out_path_nwk = os.path.join(outdir, SCRIPT_NAME + \"_divtree.nwk\" )\n",
    "Phylo.write(tt_copy.tree, out_path_nwk, 'newick', format_branch_length='%1.{}f'.format(BRANCH_LEN_SIG_DIG))"
   ]
  },
  {
   "cell_type": "markdown",
   "id": "competent-sugar",
   "metadata": {},
   "source": [
    "## Augur JSON"
   ]
  },
  {
   "cell_type": "code",
   "execution_count": null,
   "id": "structural-amount",
   "metadata": {},
   "outputs": [],
   "source": [
    "augur_dict = augur_export(\n",
    "    tree_path=out_path_nwk, \n",
    "    aln_path=aln_path, \n",
    "    tree=tt.tree,     \n",
    "    #tree=tree_div, \n",
    "    tree_df=tree_df, \n",
    "    color_keyword_exclude=[\"color\", \"coord\", \"reg\", \"lat\", \"lon\"],\n",
    "    type_convert = {\n",
    "        \"Branch_Number\" : (lambda x : str(x))\n",
    "    },\n",
    ")\n",
    "\n",
    "print(augur_dict[\"nodes\"][\"Reference\"])\n",
    "\n",
    "if hasattr(tt, \"merger_model\"):\n",
    "    skyline, conf = tt.merger_model.skyline_inferred(gen=50, confidence=2)\n",
    "    augur_dict['skyline'] = [[float(x) for x in skyline.x], [float(y) for y in conf[0]],\n",
    "                           [float(y) for y in skyline.y], [float(y) for y in conf[1]]]\n",
    "\n",
    "out_path_augur_json = os.path.join(outdir, SCRIPT_NAME + \"_augur.json\" )\n",
    "utils.write_json(data=augur_dict, file_name=out_path_augur_json, indent=JSON_INDENT)"
   ]
  },
  {
   "cell_type": "markdown",
   "id": "experimental-ideal",
   "metadata": {},
   "source": [
    "## Auspice JSON"
   ]
  },
  {
   "cell_type": "code",
   "execution_count": null,
   "id": "recent-silicon",
   "metadata": {},
   "outputs": [],
   "source": [
    "auspice_dict = auspice_export(\n",
    "    tree=tt.tree, \n",
    "    augur_json_paths=[out_path_augur_json], \n",
    "    auspice_config_path=auspice_config_path, \n",
    "    auspice_colors_path=auspice_colors_path,\n",
    "    auspice_latlons_path=auspice_latlon_path, \n",
    "    )\n",
    "\n",
    "# Write outputs - For Local Rendering\n",
    "out_path_auspice_local_json = os.path.join(outdir, SCRIPT_NAME + \"_auspice.json\" )\n",
    "utils.write_json(data=auspice_dict, file_name=out_path_auspice_local_json, indent=JSON_INDENT, include_version=False)\n",
    "export_v2.validate_data_json(out_path_auspice_local_json)\n",
    "print(\"Validation successful for local JSON.\")\n",
    "\n",
    "# Write outputs - For Remote Rendering\n",
    "out_path_auspice_remote_json = os.path.join(auspice_remote_dir_path, AUSPICE_PREFIX + SCRIPT_NAME.replace(\"_\",\"-\") + \".json\" )\n",
    "utils.write_json(data=auspice_dict, file_name=out_path_auspice_remote_json, indent=JSON_INDENT, include_version=False)\n",
    "export_v2.validate_data_json(out_path_auspice_remote_json)\n",
    "print(\"Validation successful for remote JSON.\")"
   ]
  },
  {
   "cell_type": "code",
   "execution_count": null,
   "id": "figured-halifax",
   "metadata": {},
   "outputs": [],
   "source": []
  }
 ],
 "metadata": {
  "kernelspec": {
   "display_name": "Python 3",
   "language": "python",
   "name": "python3"
  },
  "language_info": {
   "codemirror_mode": {
    "name": "ipython",
    "version": 3
   },
   "file_extension": ".py",
   "mimetype": "text/x-python",
   "name": "python",
   "nbconvert_exporter": "python",
   "pygments_lexer": "ipython3",
   "version": "3.7.3"
  }
 },
 "nbformat": 4,
 "nbformat_minor": 5
}
