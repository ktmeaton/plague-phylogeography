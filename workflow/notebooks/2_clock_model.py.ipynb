{
 "cells": [
  {
   "cell_type": "markdown",
   "id": "growing-level",
   "metadata": {},
   "source": [
    "# Objectives\n",
    "\n",
    "1. Filter Outlier Tips\n",
    "1. Estimate a Clock Model"
   ]
  },
  {
   "cell_type": "markdown",
   "id": "senior-russell",
   "metadata": {},
   "source": [
    "# 1. Filter Outlier Tips"
   ]
  },
  {
   "cell_type": "markdown",
   "id": "unavailable-concentrate",
   "metadata": {},
   "source": [
    "## Parse Tip Dates"
   ]
  },
  {
   "cell_type": "code",
   "execution_count": null,
   "id": "appointed-singer",
   "metadata": {},
   "outputs": [],
   "source": [
    "# Use the utils function to parse the metadata dates\n",
    "dates_raw = treetime.utils.parse_dates(metadata_path, \n",
    "                                   date_col=DATE_COL, \n",
    "                                   name_col = NAME_COL)\n",
    "\n",
    "# Remove nan elements (internal nodes)\n",
    "dates = {}\n",
    "for k,v in dates_raw.items():\n",
    "    if type(v) == list:\n",
    "        dates[k] = v\n",
    "    elif not pd.isnull(v):\n",
    "        dates[k] = v\n",
    "        \n",
    "# Add Reference\n",
    "dates[\"Reference\"] = REF_DATE"
   ]
  }
 ],
 "metadata": {
  "kernelspec": {
   "display_name": "Python 3",
   "language": "python",
   "name": "python3"
  },
  "language_info": {
   "codemirror_mode": {
    "name": "ipython",
    "version": 3
   },
   "file_extension": ".py",
   "mimetype": "text/x-python",
   "name": "python",
   "nbconvert_exporter": "python",
   "pygments_lexer": "ipython3",
   "version": "3.7.3"
  }
 },
 "nbformat": 4,
 "nbformat_minor": 5
}
