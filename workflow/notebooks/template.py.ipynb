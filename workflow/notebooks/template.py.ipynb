{
 "cells": [
  {
   "cell_type": "markdown",
   "id": "dominant-revolution",
   "metadata": {},
   "source": [
    "# Objectives\n",
    "\n",
    "1. Objective 1\n",
    "1. Objective 2"
   ]
  },
  {
   "cell_type": "markdown",
   "id": "acceptable-consensus",
   "metadata": {},
   "source": [
    "---\n",
    "# Setup"
   ]
  },
  {
   "cell_type": "markdown",
   "id": "major-opinion",
   "metadata": {},
   "source": [
    "## File Paths"
   ]
  },
  {
   "cell_type": "code",
   "execution_count": null,
   "id": "reliable-shape",
   "metadata": {},
   "outputs": [],
   "source": [
    "outdir = \"../../results/template/\"\n",
    "\n",
    "# Create output directory if it doesn't exist\n",
    "if not os.path.exists(outdir):\n",
    "    os.mkdir(outdir)"
   ]
  },
  {
   "cell_type": "markdown",
   "id": "indirect-exception",
   "metadata": {},
   "source": [
    "## Variables"
   ]
  },
  {
   "cell_type": "code",
   "execution_count": null,
   "id": "objective-tragedy",
   "metadata": {},
   "outputs": [],
   "source": [
    "from config import *\n",
    "\n",
    "NAME_COL = \"Name\"\n",
    "SCRIPT_NAME = \"tempalte\""
   ]
  },
  {
   "cell_type": "markdown",
   "id": "isolated-holiday",
   "metadata": {},
   "source": [
    "## Import Tree"
   ]
  },
  {
   "cell_type": "markdown",
   "id": "guilty-daily",
   "metadata": {},
   "source": [
    "## Import Dataframe"
   ]
  },
  {
   "cell_type": "markdown",
   "id": "attached-stream",
   "metadata": {},
   "source": [
    "# Import Colors"
   ]
  },
  {
   "cell_type": "markdown",
   "id": "modified-indianapolis",
   "metadata": {},
   "source": [
    "---\n",
    "# 1. Objective 1"
   ]
  },
  {
   "cell_type": "markdown",
   "id": "alpine-track",
   "metadata": {},
   "source": [
    "---\n",
    "# 2. Objective 2"
   ]
  },
  {
   "cell_type": "markdown",
   "id": "fleet-magnitude",
   "metadata": {},
   "source": [
    "---\n",
    "# Export"
   ]
  },
  {
   "cell_type": "markdown",
   "id": "european-origin",
   "metadata": {},
   "source": [
    "## Dataframe"
   ]
  },
  {
   "cell_type": "code",
   "execution_count": null,
   "id": "dated-logistics",
   "metadata": {},
   "outputs": [],
   "source": [
    "out_path_df = os.path.join(outdir, SCRIPT_NAME + \".tsv\" )\n",
    "out_path_pickle_df = os.path.join(outdir,  SCRIPT_NAME + \".df.obj\" )\n",
    "\n",
    "tree_df.to_csv(out_path_df, sep=\"\\t\")\n",
    "with open(out_path_pickle_df,\"wb\") as outfile:\n",
    "    dill.dump(tree_df, outfile)"
   ]
  },
  {
   "cell_type": "markdown",
   "id": "taken-enhancement",
   "metadata": {},
   "source": [
    "## Timetrees"
   ]
  },
  {
   "cell_type": "code",
   "execution_count": null,
   "id": "excess-virginia",
   "metadata": {},
   "outputs": [],
   "source": [
    "# Phyloxml\n",
    "tt_copy = copy.deepcopy(tt)\n",
    "out_path_xml = os.path.join(outdir,  SCRIPT_NAME + \"_timetree.xml\" )\n",
    "Phylo.write(tt_copy.tree, out_path_xml, 'phyloxml')\n",
    "\n",
    "# Nexus\n",
    "out_path_nexus = os.path.join(outdir, SCRIPT_NAME + \"_timetree.nexus\" )\n",
    "Phylo.write(tt_copy.tree, out_path_nexus, 'nexus', format_branch_length='%1.{}f'.format(BRANCH_LEN_SIG_DIG))\n",
    "\n",
    "# Dill object\n",
    "out_path_dill_tree = os.path.join(outdir,  SCRIPT_NAME + \"_timetree.treetime.obj\" )\n",
    "with open(out_path_dill_tree,\"wb\") as outfile:\n",
    "    dill.dump(tt_copy, outfile)\n",
    "    \n",
    "# Newick (remove comments)\n",
    "for c in tt_copy.tree.find_clades(): c.comment = None\n",
    "out_path_nwk = os.path.join(outdir, SCRIPT_NAME + \"_timetree.nwk\" )\n",
    "Phylo.write(tt_copy.tree, out_path_nwk, 'newick', format_branch_length='%1.{}f'.format(BRANCH_LEN_SIG_DIG))"
   ]
  },
  {
   "cell_type": "markdown",
   "id": "billion-arcade",
   "metadata": {},
   "source": [
    "## Divtrees"
   ]
  },
  {
   "cell_type": "code",
   "execution_count": null,
   "id": "expected-ballet",
   "metadata": {},
   "outputs": [],
   "source": [
    "tt_copy = copy.deepcopy(tt)\n",
    "# Convert to divtree\n",
    "for n in tt_copy.tree.find_clades():\n",
    "    n.branch_length=n.mutation_length\n",
    "\n",
    "# Phyloxml\n",
    "out_path_xml = os.path.join(outdir,  SCRIPT_NAME + \"_divtree.xml\" )\n",
    "Phylo.write(tt_copy.tree, out_path_xml, 'phyloxml')\n",
    "\n",
    "# Nexus\n",
    "out_path_nexus = os.path.join(outdir, SCRIPT_NAME + \"_divtree.nexus\" )\n",
    "Phylo.write(tt_copy.tree, out_path_nexus, 'nexus', format_branch_length='%1.{}f'.format(BRANCH_LEN_SIG_DIG))\n",
    "\n",
    "# Dill object\n",
    "out_path_dill_tree = os.path.join(outdir,  SCRIPT_NAME + \"_divtree.treetime.obj\" )\n",
    "with open(out_path_dill_tree,\"wb\") as outfile:\n",
    "    dill.dump(tt_copy, outfile)\n",
    "    \n",
    "# Newick (remove comments)\n",
    "for c in tt_copy.tree.find_clades(): c.comment = None\n",
    "out_path_nwk = os.path.join(outdir, SCRIPT_NAME + \"_divtree.nwk\" )\n",
    "Phylo.write(tt_copy.tree, out_path_nwk, 'newick', format_branch_length='%1.{}f'.format(BRANCH_LEN_SIG_DIG))"
   ]
  },
  {
   "cell_type": "markdown",
   "id": "fundamental-trunk",
   "metadata": {},
   "source": [
    "## Augur JSON"
   ]
  },
  {
   "cell_type": "code",
   "execution_count": null,
   "id": "accompanied-battlefield",
   "metadata": {},
   "outputs": [],
   "source": [
    "augur_dict = augur_export(\n",
    "    tree_path=out_path_nwk, \n",
    "    aln_path=aln_path, \n",
    "    tree=tt_copy.tree, \n",
    "    tree_df=tree_df, \n",
    "    color_keyword_exclude=[\"color\", \"coord\", \"lat\", \"lon\"],\n",
    "    type_convert = {\n",
    "        \"Branch_Number\" : (lambda x : str(x))\n",
    "    },\n",
    ")\n",
    "\n",
    "print(augur_dict[\"nodes\"][\"NODE0\"])\n",
    "\n",
    "out_path_augur_json = os.path.join(outdir, SCRIPT_NAME + \"_augur.json\" )\n",
    "utils.write_json(data=augur_dict, file_name=out_path_augur_json, indent=JSON_INDENT)"
   ]
  },
  {
   "cell_type": "markdown",
   "id": "suspected-hurricane",
   "metadata": {},
   "source": [
    "## Auspice JSON"
   ]
  },
  {
   "cell_type": "code",
   "execution_count": null,
   "id": "earlier-startup",
   "metadata": {},
   "outputs": [],
   "source": [
    "auspice_dict = auspice_export(\n",
    "    tree=tt_copy.tree, \n",
    "    augur_json_paths=[out_path_augur_json], \n",
    "    auspice_config_path=auspice_config_path, \n",
    "    auspice_colors_path=auspice_colors_path,\n",
    "    auspice_latlons_path=auspice_latlon_path, \n",
    "    )\n",
    "\n",
    "# Write outputs - For Local Rendering\n",
    "out_path_auspice_local_json = os.path.join(outdir, SCRIPT_NAME + \"_auspice.json\" )\n",
    "utils.write_json(data=auspice_dict, file_name=out_path_auspice_local_json, indent=JSON_INDENT, include_version=False)\n",
    "export_v2.validate_data_json(out_path_auspice_local_json)\n",
    "print(\"Validation successful for local JSON.\")\n",
    "\n",
    "# Write outputs - For Remote Rendering\n",
    "out_path_auspice_remote_json = os.path.join(auspice_remote_dir_path, AUSPICE_PREFIX + SCRIPT_NAME.replace(\"_\",\"-\") + \".json\" )\n",
    "utils.write_json(data=auspice_dict, file_name=out_path_auspice_remote_json, indent=JSON_INDENT, include_version=False)\n",
    "export_v2.validate_data_json(out_path_auspice_remote_json)\n",
    "print(\"Validation successful for remote JSON.\")"
   ]
  }
 ],
 "metadata": {
  "kernelspec": {
   "display_name": "Python 3",
   "language": "python",
   "name": "python3"
  },
  "language_info": {
   "codemirror_mode": {
    "name": "ipython",
    "version": 3
   },
   "file_extension": ".py",
   "mimetype": "text/x-python",
   "name": "python",
   "nbconvert_exporter": "python",
   "pygments_lexer": "ipython3",
   "version": "3.7.3"
  }
 },
 "nbformat": 4,
 "nbformat_minor": 5
}
