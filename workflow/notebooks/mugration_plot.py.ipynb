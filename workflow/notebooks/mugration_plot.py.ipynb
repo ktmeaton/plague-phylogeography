{
 "cells": [
  {
   "cell_type": "markdown",
   "id": "dominant-revolution",
   "metadata": {},
   "source": [
    "# Objectives\n",
    "\n",
    "1. Plot timetree colored by branch major\n",
    "1. Objective 2"
   ]
  },
  {
   "cell_type": "markdown",
   "id": "acceptable-consensus",
   "metadata": {},
   "source": [
    "---\n",
    "# Setup"
   ]
  },
  {
   "cell_type": "markdown",
   "id": "muslim-talent",
   "metadata": {},
   "source": [
    "## Modules"
   ]
  },
  {
   "cell_type": "code",
   "execution_count": null,
   "id": "analyzed-child",
   "metadata": {},
   "outputs": [],
   "source": [
    "import os\n",
    "import dill\n",
    "import copy\n",
    "import math\n",
    "\n",
    "from matplotlib import lines"
   ]
  },
  {
   "cell_type": "markdown",
   "id": "indirect-exception",
   "metadata": {},
   "source": [
    "## Variables"
   ]
  },
  {
   "cell_type": "code",
   "execution_count": null,
   "id": "objective-tragedy",
   "metadata": {},
   "outputs": [],
   "source": [
    "from config import *\n",
    "\n",
    "# Custom script variables\n",
    "SCRIPT_NAME = \"mugration\"\n",
    "PREV_DIR_NAME = \"mugration\"\n",
    "PREV_SCRIPT_NAME = \"mugration_model\"\n",
    "\n",
    "try:\n",
    "    WILDCARDS = snakemake.wildcards\n",
    "    project_dir = os.getcwd()\n",
    "except NameError:\n",
    "    WILDCARDS = [\"all\", \"chromosome\", \"50\"]\n",
    "    project_dir = os.path.dirname(os.path.dirname(os.getcwd()))\n",
    "READS_ORIGIN = WILDCARDS[0]\n",
    "LOCUS_NAME = WILDCARDS[1]\n",
    "MISSING_DATA = WILDCARDS[2]\n",
    "\n",
    "NAME_COL = \"Name\"\n",
    "\n",
    "plt.rc('legend', frameon=False) # legend frame"
   ]
  },
  {
   "cell_type": "markdown",
   "id": "major-opinion",
   "metadata": {},
   "source": [
    "## File Paths"
   ]
  },
  {
   "cell_type": "code",
   "execution_count": null,
   "id": "reliable-shape",
   "metadata": {},
   "outputs": [],
   "source": [
    "config_dir = os.path.join(project_dir, \"config\")\n",
    "results_dir = os.path.join(project_dir, \"results\")\n",
    "\n",
    "\n",
    "outdir       = os.path.join(results_dir, SCRIPT_NAME, READS_ORIGIN, LOCUS_NAME + \"_filter{}\".format(MISSING_DATA),)\n",
    "tree_dill    = os.path.join(results_dir, PREV_DIR_NAME, READS_ORIGIN, LOCUS_NAME + \"_filter{}\".format(MISSING_DATA),PREV_SCRIPT_NAME + \"_timetree.treetime.obj\")\n",
    "tree_df_dill = os.path.join(results_dir, PREV_DIR_NAME, READS_ORIGIN, LOCUS_NAME + \"_filter{}\".format(MISSING_DATA), PREV_SCRIPT_NAME + \".df.obj\")\n",
    "tree_df_path = os.path.join(results_dir, PREV_DIR_NAME, READS_ORIGIN, LOCUS_NAME + \"_filter{}\".format(MISSING_DATA), PREV_SCRIPT_NAME + \".tsv\")\n",
    "aln_path     = os.path.join(results_dir,\"snippy_multi\",READS_ORIGIN,\"snippy-core_{}.snps.filter{}.aln\".format(LOCUS_NAME, MISSING_DATA))\n",
    "\n",
    "# Auspice\n",
    "auspice_latlon_path = os.path.join(results_dir, \"parse_tree\", READS_ORIGIN, LOCUS_NAME + \"_filter{}\".format(MISSING_DATA), \"parse_tree\" + \"_latlon.tsv\")\n",
    "auspice_colors_path = os.path.join(results_dir, \"parse_tree\", READS_ORIGIN, LOCUS_NAME + \"_filter{}\".format(MISSING_DATA), \"parse_tree\" + \"_colors.tsv\")\n",
    "auspice_config_path = os.path.join(config_dir, \"auspice_config.json\")\n",
    "auspice_remote_dir_path = os.path.join(project_dir, \"auspice/\")\n",
    "\n",
    "print(\"tree_dill:\\t\", tree_dill)\n",
    "print(\"tree_df_dill:\\t\", tree_df_dill)\n",
    "print(\"aln path:\\t\", aln_path)\n",
    "print(\"auspice_latlon_path:\", auspice_latlon_path)\n",
    "print(\"auspice_colors_path:\", auspice_colors_path)\n",
    "print(\"auspice_config_path:\", auspice_config_path)\n",
    "print(\"auspice_remote_dir_path:\", auspice_remote_dir_path)\n",
    "print(\"outdir:\", outdir)\n",
    "\n",
    "# Create output directory if it doesn't exist\n",
    "while not os.path.exists(outdir):\n",
    "    os.makedirs(outdir)   \n",
    "    \n",
    "SCRIPT_NAME = \"mugration_plot\""
   ]
  },
  {
   "cell_type": "markdown",
   "id": "isolated-holiday",
   "metadata": {},
   "source": [
    "## Import Tree"
   ]
  },
  {
   "cell_type": "code",
   "execution_count": null,
   "id": "outdoor-straight",
   "metadata": {},
   "outputs": [],
   "source": [
    "with open(tree_dill, \"rb\") as infile:\n",
    "    tt = dill.load(infile)\n",
    "tt.tree.ladderize(reverse=False)"
   ]
  },
  {
   "cell_type": "markdown",
   "id": "guilty-daily",
   "metadata": {},
   "source": [
    "## Import Dataframe"
   ]
  },
  {
   "cell_type": "code",
   "execution_count": null,
   "id": "distant-expansion",
   "metadata": {},
   "outputs": [],
   "source": [
    "with open(tree_df_dill, \"rb\") as infile:\n",
    "    tree_df = dill.load(infile)\n",
    "display(tree_df)"
   ]
  },
  {
   "cell_type": "markdown",
   "id": "attached-stream",
   "metadata": {},
   "source": [
    "# Import Colors"
   ]
  },
  {
   "cell_type": "code",
   "execution_count": null,
   "id": "legal-corps",
   "metadata": {},
   "outputs": [],
   "source": [
    "colors_df = pd.read_csv(auspice_colors_path, sep='\\t', header=None)\n",
    "colors_df.columns = [\"Attribute\", \"State\", \"Color\"]\n",
    "colors_df.fillna(NO_DATA_CHAR, inplace=True)\n",
    "display(colors_df)\n",
    "\n",
    "colors_dict = {}\n",
    "# Convert to dict\n",
    "\n",
    "for rec in colors_df.iterrows():\n",
    "    attr = rec[1][\"Attribute\"]\n",
    "    state = rec[1][\"State\"]\n",
    "    color = rec[1][\"Color\"]\n",
    "    if attr not in colors_dict:\n",
    "        colors_dict[attr] = {}\n",
    "    colors_dict[attr][state] = color"
   ]
  },
  {
   "cell_type": "markdown",
   "id": "modified-indianapolis",
   "metadata": {},
   "source": [
    "---\n",
    "# 1. Plot Timetree Colored by Branch Major"
   ]
  },
  {
   "cell_type": "code",
   "execution_count": null,
   "id": "nervous-merchant",
   "metadata": {},
   "outputs": [],
   "source": [
    "# Data\n",
    "tt_copy = copy.deepcopy(tt)\n",
    "tt_copy.branch_length_to_years()\n",
    "\n",
    "# reset color\n",
    "for c in tt_copy.tree.find_clades():\n",
    "    state = tree_df[\"Mugration_Branch_Major\"][c.name]\n",
    "    state_conf = tree_df[\"Mugration_Branch_Major_Confidence\"][c.name]\n",
    "    color = colors_dict[\"branch_major\"][state]\n",
    "    # Reset to grey low confidence\n",
    "    c.color = \"grey\"\n",
    "    if state_conf >= MUG_CONF_THRESH:\n",
    "        c.color = color\n",
    "\n",
    "fig, ax1 = plt.subplots(1, dpi=dpi)\n",
    "\n",
    "# --------------------------------------------\n",
    "# Phylogeny Tree\n",
    "plt.rc(\"lines\", linewidth=1)\n",
    "Phylo.draw(tt_copy.tree,\n",
    "           axes=ax1, \n",
    "           show_confidence=False, \n",
    "           label_func = lambda x:'', \n",
    "           do_show=False,\n",
    "           )\n",
    "\n",
    "# Confidence Bars\n",
    "x_min = 0\n",
    "if hasattr(tt_copy.tree.root, \"marginal_inverse_cdf\"):\n",
    "    # Need to invert the node bar units\n",
    "    present_date = abs(tt_copy.tree.root.numdate - CURRENT_YEAR)\n",
    "    for rec in tree_df.iterrows():\n",
    "        conf_bar = rec[1][\"timetree_num_date_bar\"]\n",
    "        bar_lower = present_date - conf_bar[0]\n",
    "        bar_upper = present_date - conf_bar[1]\n",
    "        y = rec[1][\"timetree_coord_y\"]\n",
    "        ax1.plot([bar_lower, bar_upper], \n",
    "                 [y,y],\n",
    "                 alpha=0.9, \n",
    "                 c=\"darkgrey\", \n",
    "                 linewidth=2,\n",
    "                 zorder=1\n",
    "                )\n",
    "        \n",
    "        # Possibly update axis x-limits\n",
    "        if bar_lower < x_min:\n",
    "            x_min = bar_lower\n",
    "\n",
    "# Scatter\n",
    "tip_data = tree_df[(tree_df[\"Branch_Support_Color\"] == TERM_COL)]\n",
    "            \n",
    "# --------------------------------------------\n",
    "# Heatmap - Attribute\n",
    "\n",
    "# Heatmap x coordinates will stay the same\n",
    "heatmap_x_buffer = max(tree_df[\"timetree_coord_x\"]) * 0.05\n",
    "heatmap_x1 = max(tree_df[\"timetree_coord_x\"]) + heatmap_x_buffer\n",
    "heatmap_x2 = heatmap_x1 + (0.5 * heatmap_x_buffer)\n",
    "\n",
    "for rec in tip_data.iterrows():\n",
    "    y = rec[1][\"timetree_coord_y\"]\n",
    "    state = rec[1][\"Mugration_Branch_Major\"]\n",
    "    color = colors_dict[\"branch_major\"][state]\n",
    "    ax1.plot([heatmap_x1, heatmap_x2], [y,y], alpha=1, c=color, linewidth=0.5)\n",
    "\n",
    "# Label\n",
    "#ax1.text(x=heatmap_x1, y=-5, s=\"Clade\", ha=\"left\", rotation=45)\n",
    "\n",
    "# --------------------------------------------\n",
    "# Ticks\n",
    "ticks_dict = convert_timetree_ticks(tree=tt_copy.tree, step=500)\n",
    "# Set the new tick locations and labels\n",
    "ax1.set_xticks(ticks_dict[\"tick_locs\"][:-1])\n",
    "ax1.set_xticklabels(ticks_dict[\"tick_labels\"][:-1])\n",
    "date_to_x = float(ticks_dict[\"tick_locs\"][-1]) - float(ticks_dict[\"tick_labels\"][-1])\n",
    "\n",
    "# --------------------------------------------\n",
    "# Lines\n",
    "# Vertical lines for dates\n",
    "for loc in ticks_dict[\"tick_locs\"][:-1]:\n",
    "    ax1.axvline(x=loc, color=\"darkgrey\", alpha=0.5)\n",
    "\n",
    "# --------------------------------------------\n",
    "# Limits\n",
    "\n",
    "x_buffer = math.ceil((ticks_dict[\"tick_locs\"][-1] - ticks_dict[\"tick_locs\"][0]) * 0.05)\n",
    "y_buffer = math.ceil(len(tt_copy.tree.get_terminals()) * 0.05)\n",
    "\n",
    "ax1.set_xlim(0 - x_buffer,)    \n",
    "ax1.set_ylim(len(tt_copy.tree.get_terminals()) + y_buffer, 0 - y_buffer)\n",
    "ax1.set_yticks([])    \n",
    "\n",
    "\n",
    "# --------------------------------------------\n",
    "# Labels\n",
    "ax1.set_xlabel(\"Year\")\n",
    "ax1.set_ylabel(\"\")\n",
    "\n",
    "# --------------------------------------------\n",
    "# Frames\n",
    "ax1.spines[\"right\"].set_visible(False)\n",
    "ax1.spines[\"top\"].set_visible(False)\n",
    "ax1.spines[\"left\"].set_visible(False)\n",
    "\n",
    "\n",
    "# -------------------------------\n",
    "# Legend\n",
    "\n",
    "legend_lines = ([lines.Line2D([0], [0], color=colors_dict[\"branch_major\"][state], lw=4) \n",
    "                for state in colors_dict[\"branch_major\"]] \n",
    "                + [lines.Line2D([0], [0], color=\"grey\", lw=4)])\n",
    "legend_labels = [state for state in colors_dict[\"branch_major\"]] + [\"Low Confidence\"]\n",
    "\n",
    "legend = fig.legend(legend_lines, \n",
    "           legend_labels,\n",
    "           #ncol=math.ceil(len(legend_labels) / 2),\n",
    "           ncol = len(legend_labels),\n",
    "           loc=\"center\", \n",
    "           bbox_to_anchor=(0.5, -0.01),\n",
    "           #bbox_to_anchor=(0.14,-0.13),\n",
    "           frameon=True,\n",
    "           borderpad=1.0,\n",
    "           edgecolor=\"black\",\n",
    "           title = \"Clade\",\n",
    "           title_fontsize=SM_FONT,\n",
    "           fontsize=4,\n",
    "          )\n",
    "\n",
    "# Save\n",
    "out_path = os.path.join(outdir, SCRIPT_NAME + \"_timetree-branch-major.\" + FMT) \n",
    "plt.savefig(out_path, dpi=dpi, bbox_inches = \"tight\")"
   ]
  }
 ],
 "metadata": {
  "kernelspec": {
   "display_name": "Python 3",
   "language": "python",
   "name": "python3"
  },
  "language_info": {
   "codemirror_mode": {
    "name": "ipython",
    "version": 3
   },
   "file_extension": ".py",
   "mimetype": "text/x-python",
   "name": "python",
   "nbconvert_exporter": "python",
   "pygments_lexer": "ipython3",
   "version": "3.7.3"
  }
 },
 "nbformat": 4,
 "nbformat_minor": 5
}
