{
 "cells": [
  {
   "cell_type": "code",
   "execution_count": 1,
   "id": "labeled-building",
   "metadata": {
    "tags": [
     "snakemake-job-properties"
    ]
   },
   "outputs": [],
   "source": [
    "\n",
    "######## snakemake preamble start (automatically inserted, do not edit) ########\n",
    "import sys; sys.path.extend(['/home/ktmeaton/miniconda3/envs/plague-phylogeography/lib/python3.7/site-packages', '/mnt/c/Users/ktmea/Projects/plague-phylogeography/workflow/notebooks']); import pickle; snakemake = pickle.loads(b'\\x80\\x03csnakemake.script\\nSnakemake\\nq\\x00)\\x81q\\x01}q\\x02(X\\x05\\x00\\x00\\x00inputq\\x03csnakemake.io\\nInputFiles\\nq\\x04)\\x81q\\x05Xp\\x00\\x00\\x00/mnt/c/Users/ktmea/Projects/plague-phylogeography/results/iqtree/all/iqtree-core_chromosome.filter5_post.cf.treeq\\x06a}q\\x07(X\\x06\\x00\\x00\\x00_namesq\\x08}q\\tX\\x12\\x00\\x00\\x00_allowed_overridesq\\n]q\\x0b(X\\x05\\x00\\x00\\x00indexq\\x0cX\\x04\\x00\\x00\\x00sortq\\reh\\x0ccfunctools\\npartial\\nq\\x0ecbuiltins\\ngetattr\\nq\\x0fcsnakemake.io\\nNamedlist\\nq\\x10X\\x0f\\x00\\x00\\x00_used_attributeq\\x11\\x86q\\x12Rq\\x13\\x85q\\x14Rq\\x15(h\\x13)}q\\x16X\\x05\\x00\\x00\\x00_nameq\\x17h\\x0csNtq\\x18bh\\rh\\x0eh\\x13\\x85q\\x19Rq\\x1a(h\\x13)}q\\x1bh\\x17h\\rsNtq\\x1cbubX\\x06\\x00\\x00\\x00outputq\\x1dcsnakemake.io\\nOutputFiles\\nq\\x1e)\\x81q\\x1fXj\\x00\\x00\\x00/mnt/c/Users/ktmea/Projects/plague-phylogeography/results/parse_tree/all/chromosome_filter5/parse_tree.tsvq a}q!(h\\x08}q\"h\\n]q#(h\\x0ch\\reh\\x0ch\\x0eh\\x13\\x85q$Rq%(h\\x13)}q&h\\x17h\\x0csNtq\\'bh\\rh\\x0eh\\x13\\x85q(Rq)(h\\x13)}q*h\\x17h\\rsNtq+bubX\\x06\\x00\\x00\\x00paramsq,csnakemake.io\\nParams\\nq-)\\x81q.}q/(h\\x08}q0h\\n]q1(h\\x0ch\\reh\\x0ch\\x0eh\\x13\\x85q2Rq3(h\\x13)}q4h\\x17h\\x0csNtq5bh\\rh\\x0eh\\x13\\x85q6Rq7(h\\x13)}q8h\\x17h\\rsNtq9bubX\\t\\x00\\x00\\x00wildcardsq:csnakemake.io\\nWildcards\\nq;)\\x81q<(X\\x03\\x00\\x00\\x00allq=X\\n\\x00\\x00\\x00chromosomeq>X\\x01\\x00\\x00\\x005q?e}q@(h\\x08}qA(X\\x0c\\x00\\x00\\x00reads_originqBK\\x00N\\x86qCX\\n\\x00\\x00\\x00locus_nameqDK\\x01N\\x86qEX\\x0c\\x00\\x00\\x00missing_dataqFK\\x02N\\x86qGuh\\n]qH(h\\x0ch\\reh\\x0ch\\x0eh\\x13\\x85qIRqJ(h\\x13)}qKh\\x17h\\x0csNtqLbh\\rh\\x0eh\\x13\\x85qMRqN(h\\x13)}qOh\\x17h\\rsNtqPbX\\x0c\\x00\\x00\\x00reads_originqQh=hDh>hFh?ubX\\x07\\x00\\x00\\x00threadsqRK\\x01X\\t\\x00\\x00\\x00resourcesqScsnakemake.io\\nResources\\nqT)\\x81qU(K\\x01K\\x01K\\x01M\\xb8\\x0bK<e}qV(h\\x08}qW(X\\x06\\x00\\x00\\x00_coresqXK\\x00N\\x86qYX\\x06\\x00\\x00\\x00_nodesqZK\\x01N\\x86q[X\\x04\\x00\\x00\\x00cpusq\\\\K\\x02N\\x86q]X\\x06\\x00\\x00\\x00mem_mbq^K\\x03N\\x86q_X\\x08\\x00\\x00\\x00time_minq`K\\x04N\\x86qauh\\n]qb(h\\x0ch\\reh\\x0ch\\x0eh\\x13\\x85qcRqd(h\\x13)}qeh\\x17h\\x0csNtqfbh\\rh\\x0eh\\x13\\x85qgRqh(h\\x13)}qih\\x17h\\rsNtqjbhXK\\x01hZK\\x01h\\\\K\\x01X\\x06\\x00\\x00\\x00mem_mbqkM\\xb8\\x0bh`K<ubX\\x03\\x00\\x00\\x00logqlcsnakemake.io\\nLog\\nqm)\\x81qnXt\\x00\\x00\\x00/mnt/c/Users/ktmea/Projects/plague-phylogeography/results/logs/parse_tree/all/chromosome_filter5/parse_tree.py.ipynbqoa}qp(h\\x08}qqX\\x08\\x00\\x00\\x00notebookqrK\\x00N\\x86qssh\\n]qt(h\\x0ch\\reh\\x0ch\\x0eh\\x13\\x85quRqv(h\\x13)}qwh\\x17h\\x0csNtqxbh\\rh\\x0eh\\x13\\x85qyRqz(h\\x13)}q{h\\x17h\\rsNtq|bhrhoubX\\x06\\x00\\x00\\x00configq}}q~(X\\t\\x00\\x00\\x00sqlite_dbq\\x7fX\\x19\\x00\\x00\\x00yersinia_pestis_db.sqliteq\\x80X\\x19\\x00\\x00\\x00sqlite_select_command_asmq\\x81X\\xc8\\x00\\x00\\x00SELECT AssemblyFTPGenbank FROM BioSample LEFT JOIN Assembly ON AssemblyBioSampleAccession = BioSampleAccession WHERE (BioSampleComment LIKE \\'%KEEP%Assembly%Modern%\\' AND length(AssemblyFTPGenbank) > 0)q\\x82X\\x19\\x00\\x00\\x00sqlite_select_command_sraq\\x83X\\xbe\\x00\\x00\\x00SELECT BioSampleAccession, SRARunAccession FROM BioSample LEFT JOIN SRA ON SRABioSampleAccession = BioSampleAccession WHERE (SRARunAccession = \\'SRR1048902\\' OR SRARunAccession = \\'SRR1048905\\')q\\x84X\\x19\\x00\\x00\\x00sqlite_select_command_refq\\x85X\\xaa\\x00\\x00\\x00SELECT AssemblyFTPGenbank FROM BioSample LEFT JOIN Assembly ON AssemblyBioSampleAccession = BioSampleAccession WHERE (BioSampleComment LIKE \\'%Assembly%Modern%Reference%\\')q\\x86X\\x15\\x00\\x00\\x00max_datasets_assemblyq\\x87K\\x03X\\x10\\x00\\x00\\x00max_datasets_sraq\\x88K\\x02X\\x0c\\x00\\x00\\x00reads_originq\\x89]q\\x8a(X\\x08\\x00\\x00\\x00assemblyq\\x8bX\\x03\\x00\\x00\\x00sraq\\x8ceX\\x18\\x00\\x00\\x00detect_repeats_thresholdq\\x8dKZX\\x15\\x00\\x00\\x00detect_repeats_lengthq\\x8eK2X\\x0f\\x00\\x00\\x00reference_locusq\\x8fX\\x08\\x00\\x00\\x00AL590842q\\x90X\\x14\\x00\\x00\\x00reference_locus_nameq\\x91X\\n\\x00\\x00\\x00chromosomeq\\x92X\\x15\\x00\\x00\\x00reference_locus_startq\\x93X\\x01\\x00\\x00\\x000q\\x94X\\x13\\x00\\x00\\x00reference_locus_endq\\x95X\\x07\\x00\\x00\\x004653728q\\x96X\\t\\x00\\x00\\x00eager_revq\\x97X\\x05\\x00\\x00\\x002.2.1q\\x98X\\x15\\x00\\x00\\x00eager_clip_readlengthq\\x99K#X\\r\\x00\\x00\\x00eager_bwaalnnq\\x9aG?\\x84z\\xe1G\\xae\\x14{X\\r\\x00\\x00\\x00eager_bwaalnlq\\x9bK\\x10X\\x0b\\x00\\x00\\x00eager_otherq\\x9cX\\x0c\\x00\\x00\\x00--mergedonlyq\\x9dX\\x08\\x00\\x00\\x00organismq\\x9eX\\x0f\\x00\\x00\\x00Yersinia pestisq\\x9fX\\x15\\x00\\x00\\x00eager_forward_adapterq\\xa0X@\\x00\\x00\\x00AGATCGGAAGAGCACACGTCTGAACTCCAGTCACNNNNNNATCTCGTATGCCGTCTTCTGCTTGq\\xa1X\\x15\\x00\\x00\\x00eager_reverse_adapterq\\xa2X:\\x00\\x00\\x00AGATCGGAAGAGCGTCGTGTAGGGAAAGAGTGTAGATCTCGGTGGTCGCCGTATCATTq\\xa3X\\x10\\x00\\x00\\x00snippy_ctg_depthq\\xa4K\\nX\\x10\\x00\\x00\\x00snippy_bam_depthq\\xa5K\\x03X\\x10\\x00\\x00\\x00snippy_base_qualq\\xa6K\\x14X\\x0f\\x00\\x00\\x00snippy_map_qualq\\xa7K\\x1eX\\x0f\\x00\\x00\\x00snippy_min_fracq\\xa8G?\\xec\\xcc\\xcc\\xcc\\xcc\\xcc\\xcdX\\x10\\x00\\x00\\x00snippy_mask_charq\\xa9X\\x01\\x00\\x00\\x00Xq\\xaaX\\x13\\x00\\x00\\x00snippy_missing_dataq\\xabK2X\\x12\\x00\\x00\\x00snippy_snp_densityq\\xacK\\nX\\x15\\x00\\x00\\x00snippy_keep_singletonq\\xadX\\x10\\x00\\x00\\x00--keep-singletonq\\xaeX\\x1e\\x00\\x00\\x00snippy_multi_plot_missing_dataq\\xaf]q\\xb0(K\\x00K\\x19K2KKKdeX\\x0c\\x00\\x00\\x00iqtree_modelq\\xb1X\\x06\\x00\\x00\\x00-m MFPq\\xb2X\\x0b\\x00\\x00\\x00iqtree_seedq\\xb3X\\x08\\x00\\x00\\x0047321424q\\xb4X\\x0f\\x00\\x00\\x00iqtree_outgroupq\\xb5X\\t\\x00\\x00\\x00Referenceq\\xb6X\\x0c\\x00\\x00\\x00iqtree_otherq\\xb7X\\r\\x00\\x00\\x00--ufboot 1000q\\xb8X\\x0b\\x00\\x00\\x00iqtree_runsq\\xb9K\\x01uX\\x04\\x00\\x00\\x00ruleq\\xbaX\\n\\x00\\x00\\x00parse_treeq\\xbbX\\x0f\\x00\\x00\\x00bench_iterationq\\xbcNX\\t\\x00\\x00\\x00scriptdirq\\xbdXD\\x00\\x00\\x00/mnt/c/Users/ktmea/Projects/plague-phylogeography/workflow/notebooksq\\xbeub.'); from snakemake.logging import logger; logger.printshellcmds = True; import os; os.chdir('/mnt/c/Users/ktmea/Projects/plague-phylogeography');\n",
    "######## snakemake preamble end #########\n"
   ]
  },
  {
   "cell_type": "code",
   "execution_count": 2,
   "id": "pending-parade",
   "metadata": {},
   "outputs": [],
   "source": [
    "import os"
   ]
  },
  {
   "cell_type": "markdown",
   "id": "expressed-mailing",
   "metadata": {},
   "source": [
    "## Variables"
   ]
  },
  {
   "cell_type": "code",
   "execution_count": 3,
   "id": "specific-sacrifice",
   "metadata": {},
   "outputs": [],
   "source": [
    "SCRIPT_NAME = \"parse_tree\"\n",
    "\n",
    "WILDCARDS = snakemake.wildcards\n",
    "\n",
    "# Testing\n",
    "# WILDCARDS = [\"all\", \"chromosome\", \"5\"]\n",
    "READS_ORIGIN = WILDCARDS[0]\n",
    "LOCUS_NAME = WILDCARDS[1]\n",
    "MISSING_DATA = WILDCARDS[2]"
   ]
  },
  {
   "cell_type": "markdown",
   "id": "hindu-consultation",
   "metadata": {},
   "source": [
    "## Paths"
   ]
  },
  {
   "cell_type": "code",
   "execution_count": 4,
   "id": "meaning-radar",
   "metadata": {},
   "outputs": [
    {
     "name": "stdout",
     "output_type": "stream",
     "text": [
      "/mnt/c/Users/ktmea/Projects/plague-phylogeography/results/iqtree/all/iqtree-core_chromosome.filter5_post.cf.tree\n",
      "/mnt/c/Users/ktmea/Projects/plague-phylogeography/results/parse_tree/all/chromosome_filter5\n"
     ]
    }
   ],
   "source": [
    "project_dir = os.getcwd()\n",
    "results_dir = os.path.join(project_dir, \"results\")\n",
    "outdir = os.path.join(results_dir, \n",
    "                      SCRIPT_NAME,\n",
    "                      READS_ORIGIN, \n",
    "                      LOCUS_NAME + \"_filter{}\".format(MISSING_DATA),\n",
    "                     )\n",
    "\n",
    "tree_path = os.path.join(\n",
    "    results_dir, \n",
    "    \"iqtree\", \n",
    "    READS_ORIGIN, \n",
    "    \"iqtree-core_{}.filter{}_post.cf.tree\".format(LOCUS_NAME, MISSING_DATA))\n",
    "metadata_path = os.path.join(\n",
    "    results_dir,\n",
    "    \"metadata\",\n",
    "    READS_ORIGIN,\n",
    "    \"metadata.tsv\"\n",
    "    )\n",
    "\n",
    "aln_path = os.path.join(\n",
    "    \"../../docs/results/latest/snippy_multi/snippy-core_chromosome.snps.filter5.aln\"\n",
    ")\n",
    "aln_path = \"../../docs/results/latest/snippy_multi/snippy-core_chromosome.snps.filter5.aln\"\n",
    "auspice_config_path = \"../../config/auspice_config.json\"\n",
    "auspice_remote_dir_path = \"../../auspice/\"\n",
    "\n",
    "print(tree_path)\n",
    "\n",
    "print(outdir)\n",
    "# Create output directory if it doesn't exist\n",
    "if not os.path.exists(outdir):\n",
    "    os.mkdir(outdir)"
   ]
  }
 ],
 "metadata": {
  "kernelspec": {
   "display_name": "Python 3",
   "language": "python",
   "name": "python3"
  },
  "language_info": {
   "codemirror_mode": {
    "name": "ipython",
    "version": 3
   },
   "file_extension": ".py",
   "mimetype": "text/x-python",
   "name": "python",
   "nbconvert_exporter": "python",
   "pygments_lexer": "ipython3",
   "version": "3.7.3"
  }
 },
 "nbformat": 4,
 "nbformat_minor": 5
}
