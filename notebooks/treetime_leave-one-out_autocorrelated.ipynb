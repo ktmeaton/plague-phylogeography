{
 "cells": [
  {
   "cell_type": "markdown",
   "metadata": {},
   "source": [
    "## Module Imports"
   ]
  },
  {
   "cell_type": "code",
   "execution_count": 1,
   "metadata": {},
   "outputs": [],
   "source": [
    "from treetime.utils import parse_dates\n",
    "from treetime import TreeTime\n",
    "from Bio import Phylo\n",
    "import random\n",
    "\n",
    "import matplotlib.pyplot as plt\n",
    "from matplotlib.patches import Rectangle\n",
    "from matplotlib import cm\n",
    "\n",
    "from datetime import datetime\n",
    "import pandas as pd"
   ]
  },
  {
   "cell_type": "markdown",
   "metadata": {},
   "source": [
    "## Setup input file paths"
   ]
  },
  {
   "cell_type": "code",
   "execution_count": 2,
   "metadata": {},
   "outputs": [],
   "source": [
    "meta_path = \"../Assembly_Modern/nextstrain/metadata_nextstrain_geocode_state.tsv\"\n",
    "tree_path = \"../Assembly_Modern/iqtree/iqtree.core-filter0_bootstrap.treefile\"\n",
    "aln_path = \"../Assembly_Modern/snippy_multi/snippy-core.full_CHROM.filter0.fasta\""
   ]
  },
  {
   "cell_type": "markdown",
   "metadata": {},
   "source": [
    "## Constants and Variables"
   ]
  },
  {
   "cell_type": "code",
   "execution_count": 3,
   "metadata": {},
   "outputs": [],
   "source": [
    "NUM_SAMPLE_REMOVE = 20\n",
    "NUM_ITER = 1\n",
    "NO_DATA_CHAR = \"?\"\n",
    "VAL_DATE_REMOVE = [1894.00, 2019.00]\n",
    "\n",
    "random.seed(1753143)"
   ]
  },
  {
   "cell_type": "markdown",
   "metadata": {},
   "source": [
    "## Parse the dates"
   ]
  },
  {
   "cell_type": "code",
   "execution_count": 4,
   "metadata": {},
   "outputs": [
    {
     "name": "stdout",
     "output_type": "stream",
     "text": [
      "\n",
      "Attempting to parse dates...\n",
      "\tUsing column 'strain' as name. This needs match the taxon names in the tree!!\n",
      "\tUsing column 'BioSampleCollectionDate' as date.\n"
     ]
    }
   ],
   "source": [
    "dates = parse_dates(date_file=meta_path, date_col=\"BioSampleCollectionDate\")"
   ]
  },
  {
   "cell_type": "markdown",
   "metadata": {},
   "source": [
    "## Parse the tree"
   ]
  },
  {
   "cell_type": "code",
   "execution_count": 5,
   "metadata": {},
   "outputs": [],
   "source": [
    "tree = Phylo.read(tree_path, \"newick\")\n",
    "tree_tip_names = [t.name for t in tree.get_terminals()]"
   ]
  },
  {
   "cell_type": "markdown",
   "metadata": {},
   "source": [
    "## Tip-Dating: Randomly select the tip samples"
   ]
  },
  {
   "cell_type": "code",
   "execution_count": 6,
   "metadata": {},
   "outputs": [],
   "source": [
    "dict_sample_remove = {}\n",
    "\n",
    "for i in range(0,NUM_SAMPLE_REMOVE):\n",
    "    \n",
    "    # Retrieve tip name and val (date)\n",
    "    tip = random.choice(list(dates.keys()))\n",
    "    tip_val = dates[tip]\n",
    "    \n",
    "    # Check that it is a float (and not a list range)\n",
    "    # And that it is actually in the input tree\n",
    "    while type(tip_val) != type(0.1) or tip not in tree_tip_names:\n",
    "        tip = random.choice(list(dates.keys()))\n",
    "        tip_val = dates[tip] \n",
    "        \n",
    "    dict_sample_remove[tip] = tip_val\n",
    "    \n",
    "    # Remove the metadata from the dates object\n",
    "    dates[tip] = VAL_DATE_REMOVE"
   ]
  },
  {
   "cell_type": "markdown",
   "metadata": {},
   "source": [
    "## Node-Dating: identify the internal nodes"
   ]
  },
  {
   "cell_type": "code",
   "execution_count": 7,
   "metadata": {},
   "outputs": [],
   "source": [
    "## Black Death Node\n",
    "\n",
    "## Root Node"
   ]
  },
  {
   "cell_type": "markdown",
   "metadata": {},
   "source": [
    "## Treetime relaxed clock analysis"
   ]
  },
  {
   "cell_type": "code",
   "execution_count": null,
   "metadata": {},
   "outputs": [
    {
     "name": "stdout",
     "output_type": "stream",
     "text": [
      "\n",
      "0.00\t-TreeAnc: set-up\n"
     ]
    }
   ],
   "source": [
    "tt_relaxed = TreeTime(tree = tree_path,\n",
    "                      aln = aln_path,\n",
    "                      verbose = 4,\n",
    "                      dates = dates)"
   ]
  },
  {
   "cell_type": "code",
   "execution_count": null,
   "metadata": {
    "scrolled": false
   },
   "outputs": [],
   "source": [
    "tt_relaxed.run(#branch_length_mode = \"input\", # Don't optimize branch lengths\n",
    "               branch_length_mode = \"joint\",\n",
    "               n_iqd=3,\n",
    "               root=None,\n",
    "               infer_gtr=True,\n",
    "               resolve_polytomies=False,\n",
    "               relaxed_clock={\"slack\":1.0, \"coupling\":0.5},\n",
    "               #relaxed_clock={\"slack\":1.0, \"coupling\":0.0},\n",
    "               # Slack: Maximum change in substitution rate between parent and child nodes\n",
    "               # Coupling: Maximum difference in substitution rates in sibling nodes\n",
    "               max_iter=3,\n",
    "               Tc=\"skyline\",\n",
    "               use_covariation=False, # covariation is only for strict molecular clock\n",
    "               time_marginal=True, # Enable final round for error bar estimation,\n",
    "               verbose=4,\n",
    "              )"
   ]
  },
  {
   "cell_type": "markdown",
   "metadata": {},
   "source": [
    "## Compare actual with estimated"
   ]
  },
  {
   "cell_type": "code",
   "execution_count": null,
   "metadata": {},
   "outputs": [],
   "source": [
    "dict_sample_estimate = {}\n",
    "list_ci_contain_sample_date = []\n",
    "\n",
    "# Get the terminal nodes from the estimated relaxed clock model\n",
    "for t in tt_relaxed.tree.get_terminals():\n",
    "    if t.name in dict_sample_remove:\n",
    "        conf = tt_relaxed.get_max_posterior_region(t, fraction=0.9)\n",
    "        lower_conf = conf[0]\n",
    "        upper_conf = conf[1]\n",
    "        sample_date = dict_sample_remove[t.name]\n",
    "        dict_sample_estimate[t.name] = {'sample_date': sample_date,\n",
    "                                        'estimate_date': t.numdate,\n",
    "                                        'lower_conf': lower_conf,\n",
    "                                        'upper_conf': upper_conf\n",
    "                                       }\n",
    "        \n",
    "        if lower_conf <= sample_date and upper_conf >= sample_date:\n",
    "            list_ci_contain_sample_date.append(t.name)\n",
    "        \n",
    "perc_ci_contain_sample_date = (len(list_ci_contain_sample_date) / len(dict_sample_estimate)) * 100\n",
    "  \n",
    "\n",
    "#for sample in dict_sample_estimate:\n",
    "#    print(sample)\n",
    "#    print(\"\\t\", dict_sample_estimate[sample]['sample_date'])\n",
    "#    print(\"\\t\", dict_sample_estimate[sample]['estimate_date'])\n",
    "#    print(\"\\t\", dict_sample_estimate[sample]['lower_conf'])\n",
    "#    print(\"\\t\", dict_sample_estimate[sample]['upper_conf'])\n"
   ]
  },
  {
   "cell_type": "markdown",
   "metadata": {},
   "source": [
    "## Visualize differences"
   ]
  },
  {
   "cell_type": "markdown",
   "metadata": {},
   "source": [
    "### Plot data"
   ]
  },
  {
   "cell_type": "code",
   "execution_count": null,
   "metadata": {},
   "outputs": [],
   "source": [
    "# Scatter plot of actual sampling dates\n",
    "\n",
    "list_sample_name = list(dict_sample_estimate.keys())\n",
    "list_sample_date = [dict_sample_estimate[sample]['sample_date'] for sample in dict_sample_estimate]\n",
    "list_estimate_date = [dict_sample_estimate[sample]['estimate_date'] for sample in dict_sample_estimate]\n",
    "list_lower_conf = [dict_sample_estimate[sample]['lower_conf'] for sample in dict_sample_estimate]\n",
    "list_upper_conf = [dict_sample_estimate[sample]['upper_conf'] for sample in dict_sample_estimate]\n",
    "\n",
    "# Lists for error bar calculations\n",
    "list_lower_diff = []\n",
    "list_upper_diff = []\n",
    "\n",
    "zip_estimate_lower = zip(list_estimate_date, list_lower_conf)\n",
    "for list1_i, list2_i in zip_estimate_lower:\n",
    "    list_lower_diff.append(list1_i-list2_i)\n",
    "    \n",
    "zip_estimate_upper = zip(list_upper_conf, list_estimate_date)\n",
    "for list1_i, list2_i in zip_estimate_upper:\n",
    "    list_upper_diff.append(list1_i-list2_i)\n",
    "\n",
    "    "
   ]
  },
  {
   "cell_type": "markdown",
   "metadata": {},
   "source": [
    "### Plotting"
   ]
  },
  {
   "cell_type": "code",
   "execution_count": null,
   "metadata": {},
   "outputs": [],
   "source": [
    "plt.figure(dpi=400)\n",
    "ax = plt.subplot()\n",
    "#print(fig)\n",
    "\n",
    "# 90% Confidence Interval\n",
    "plt.errorbar(\n",
    "    x=list_sample_name,\n",
    "    y=list_estimate_date,\n",
    "    yerr=[list_lower_diff, list_upper_diff],\n",
    "    linestyle='',\n",
    "    c=\"#e41a1c\",\n",
    "    label=\"90% Confidence Interval (Marginal)\",\n",
    ")\n",
    "\n",
    "# Sampling date scatter plot\n",
    "scatter_sample = plt.scatter(x=list_sample_name, y=list_sample_date, c=\"#377eb8\", label = \"Sampling Date\")\n",
    "\n",
    "# Estimated date scatter plot\n",
    "plt.scatter(x=list_sample_name, y=list_estimate_date, c=\"#e41a1c\", label = \"Estimated Date (Joint)\", )\n",
    "\n",
    "perc_string = \"{0:.0f}% of confidence intervals \\ncontain sampling date\".format(perc_ci_contain_sample_date)\n",
    "                                                                                \n",
    "# Add text\n",
    "plt.text(1.05, 0.5, \n",
    "         perc_string, \n",
    "         horizontalalignment='left', \n",
    "         verticalalignment='center', \n",
    "         transform=ax.transAxes)\n",
    "\n",
    "# Formatting\n",
    "plt.xticks(rotation=90)\n",
    "plt.grid(True)\n",
    "\n",
    "# Place a legend to the right of this smaller subplot.\n",
    "legend1 = plt.legend(handles=scatter_sample.legend_elements()[0],\n",
    "                     labels= [\"\"],\n",
    "                     bbox_to_anchor=(1.05, 1), loc='upper left', borderaxespad=0.)\n",
    "\n",
    "\n",
    "#plt.gca().add_artist(legend1)\n",
    "\n",
    "# Title\n",
    "plt.title(\"Autocorrelated Relaxed Clock\\n(slack=1.0; coupling=0.5\")\n",
    "plt.savefig('autocorrelated-relaxed-clock_leave-one-out.png', dpi=400, bbox_inches = \"tight\")"
   ]
  },
  {
   "cell_type": "markdown",
   "metadata": {},
   "source": [
    "## Plot Trees"
   ]
  },
  {
   "cell_type": "code",
   "execution_count": null,
   "metadata": {},
   "outputs": [],
   "source": [
    "vmin, vmax = 0.5, 1.5 # color branches according to the rate deviation\n",
    "\n",
    "for n in tt_relaxed.tree.find_clades():\n",
    "    if n.up:\n",
    "        n.color = [int(x*255) for x in cm.cool((min(max(vmin, n.branch_length_interpolator.gamma),vmax)-vmin)/(vmax-vmin))[:3]]\n",
    "    else:\n",
    "        n.color = [200,200,200]\n"
   ]
  },
  {
   "cell_type": "code",
   "execution_count": null,
   "metadata": {},
   "outputs": [],
   "source": [
    "# draw trees inferred with the relaxed model\n",
    "plt.figure(dpi=400)\n",
    "fig = plt.figure()\n",
    "ax = plt.subplot()\n",
    "\n",
    "# Remove the outgroup\n",
    "nodes_find_root = [\"GCA_000323845.1_ASM32384v1_genomic\",\"GCA_000323485.1_ASM32348v1_genomic\",\"GCA_001972405.1_ASM197240v1_genomic\"]\n",
    "\n",
    "subtree = tt_relaxed.tree.common_ancestor(nodes_find_root)\n",
    "for c in subtree.clades:\n",
    "    if not c.is_terminal():\n",
    "        subtree = c\n",
    "        break\n",
    "\n",
    "# Draw tree \n",
    "subtree.ladderize(reverse=True) # Flip upside down\n",
    "Phylo.draw(subtree, axes=ax, \n",
    "           show_confidence=False, \n",
    "           label_func = lambda x:'', \n",
    "           do_show=False)\n",
    "\n",
    "ax.set_title(\"Autocorrelated Relaxed Clock\\n(slack=1.0; coupling=0.05\")\n",
    "plt.savefig('autocorrelated-relaxed-clock_rate-variation.png', dpi=400, bbox_inches = \"tight\")"
   ]
  },
  {
   "cell_type": "code",
   "execution_count": null,
   "metadata": {},
   "outputs": [],
   "source": []
  }
 ],
 "metadata": {
  "kernelspec": {
   "display_name": "Python 3",
   "language": "python",
   "name": "python3"
  },
  "language_info": {
   "codemirror_mode": {
    "name": "ipython",
    "version": 3
   },
   "file_extension": ".py",
   "mimetype": "text/x-python",
   "name": "python",
   "nbconvert_exporter": "python",
   "pygments_lexer": "ipython3",
   "version": "3.6.10"
  }
 },
 "nbformat": 4,
 "nbformat_minor": 4
}
